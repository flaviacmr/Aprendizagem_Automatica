{
 "cells": [
  {
   "cell_type": "markdown",
   "metadata": {},
   "source": [
    "# Machine Learning / Aprendizagem Automática\n",
    "\n",
    "## Sara C. Madeira, 2018/19\n",
    "\n",
    "# ML Project  - Learning from Mental Health in Tech Surveys "
   ]
  },
  {
   "cell_type": "markdown",
   "metadata": {},
   "source": [
    "## Logistics\n",
    "\n",
    "**Students are encouraged to work in teams of 4 people**. \n",
    "\n",
    "Projects with smaller teams are allowed, but will not have better grades for this reason. \n",
    "\n",
    "The quality of the project will dictate its grade, not the number of people working.\n",
    "\n",
    "**The project's solution should be uploaded in Moodle before the end of January, 9th 2019 (last day before the exams season).** \n",
    "\n",
    "**Other deadline date might be considered provided the majority of the students agree with it.**\n",
    "\n",
    "Students should **upload a `.zip` file** containing all the files necessary for project evaluation. \n",
    "\n",
    "**It is mandatory to produce a Jupyter notebook containing code and text/images/tables/etc describing the solution and the results.**\n",
    "\n",
    "**Decisions should be fundamented and results should be critically discussed.**"
   ]
  },
  {
   "cell_type": "markdown",
   "metadata": {},
   "source": [
    "## Tools\n",
    "\n",
    "You should use [Python 3](https://www.python.org) and [Jupyter Notebook](http://jupyter.org), together with **[Scikit-learn](http://scikit-learn.org/stable/)**, **[Orange3](https://orange.biolab.si)**, or **both**.\n",
    "\n",
    "**[Orange3](https://orange.biolab.si)** can be used through its **[programmatic version](https://docs.orange.biolab.si/3/data-mining-library/)**, by importing and using its packages, or throught its **workflow version**. \n",
    "\n",
    "If you use workflows you have to deliver the workflow files and explain the options taken in each widget in your notebook."
   ]
  },
  {
   "cell_type": "markdown",
   "metadata": {},
   "source": [
    "## Dataset\n",
    "\n",
    "The dataset to be analysed is **`mental-heath-in-tech-2016.csv`**, made avaliable together with this project description. \n",
    "\n",
    "This dataset, downloaded from [Kaggle](https://www.kaggle.com), contains data from [OSMI Mental Health in Tech Survey](https://www.kaggle.com/osmi/mental-health-in-tech-survey), collected during a survey aiming at measuring **attitudes towards mental health and frequency of mental health disorders in the Tech workplace**, carried out in 2016.\n",
    "\n",
    "The **1433 surveys/instances** are described by **62 categorical/numerical features**, where the following questions were asked:\n",
    "\n",
    "* Q1 - \"Are you self-employed?\"\n",
    "* Q2 - \"How many employees does your company or organization have?\"\n",
    "* Q3 - \"Is your employer primarily a tech company/organization?\"\n",
    "* Q4 - \"Is your primary role within your company related to tech/IT?\"\n",
    "* Q5 - \"Does your employer provide mental health benefits as part of healthcare coverage?\"\n",
    "* Q6 - \"Do you know the options for mental health care available under your employer-provided coverage?\"\n",
    "* Q7 - \"Has your employer ever formally discussed mental health (for example, as part of a wellness campaign or other official communication)?\"\n",
    "* Q8 - \"Does your employer offer resources to learn more about mental health concerns and options for seeking help?\"\n",
    "* Q9 - \"Is your anonymity protected if you choose to take advantage of mental health or substance abuse treatment resources provided by your employer?\"\n",
    "* Q10 - \"If a mental health issue prompted you to request a medical leave from work, asking for that leave would be:...\"\n",
    "* Q11 - \"Do you think that discussing a mental health disorder with your employer would have negative consequences?\"\n",
    "* Q12 - \"Do you think that discussing a physical health issue with your employer would have negative consequences?\"\n",
    "* Q13 - \"Would you feel comfortable discussing a mental health disorder with your coworkers?\"\n",
    "* Q14 - \"Would you feel comfortable discussing a mental health disorder with your direct supervisor(s)?\"\n",
    "* Q15 - \"Do you feel that your employer takes mental health as seriously as physical health?\"\n",
    "* Q16 - \"Have you heard of or observed negative consequences for co-workers who have been open about mental health issues in your workplace?\"\n",
    "* Q17 - \"Do you have medical coverage (private insurance or state-provided) which includes treatment of  mental health issues?\"\n",
    "* Q18 - \"Do you know local or online resources to seek help for a mental health disorder?\"\n",
    "* Q19 - \"If you have been diagnosed or treated for a mental health disorder, do you ever reveal this to clients or business contacts?\"\n",
    "* Q20 - \"If you have revealed a mental health issue to a client or business contact, do you believe this has impacted you negatively?\"\n",
    "* Q21 - \"If you have been diagnosed or treated for a mental health disorder, do you ever reveal this to coworkers or employees?\"\n",
    "* Q22 - \"If you have revealed a mental health issue to a coworker or employee, do you believe this has impacted you negatively?\"\n",
    "* Q23 - \"Do you believe your productivity is ever affected by a mental health issue?\"\n",
    "* Q24 - \"If yes, what percentage of your work time (time performing primary or secondary job functions) is affected by a mental health issue?\",\"Do you have previous employers?\"\n",
    "* Q25 - \"Have your previous employers provided mental health benefits?\"\n",
    "* Q26 - \"Were you aware of the options for mental health care provided by your previous employers?\"\n",
    "* Q27 - \"Did your previous employers ever formally discuss mental health (as part of a wellness campaign or other offi8cial communication)?\"\n",
    "* Q29 - \"Did your previous employers provide resources to learn more about mental health issues and how to seek help?\"\n",
    "* Q30 - \"Was your anonymity protected if you chose to take advantage of mental health or substance abuse treatment resources with previous employers?\"\n",
    "* Q31 - \"Do you think that discussing a mental health disorder with previous employers would have negative consequences?\"\n",
    "* Q32 - \"Do you think that discussing a physical health issue with previous employers would have negative consequences?\"\n",
    "* Q33 - \"Would you have been willing to discuss a mental health issue with your previous co-workers?\"\n",
    "* Q34 - \"Would you have been willing to discuss a mental health issue with your direct supervisor(s)?\"\n",
    "* Q35 - \"Did you feel that your previous employers took mental health as seriously as physical health?\"\n",
    "* Q36 - \"Did you hear of or observe negative consequences for co-workers with mental health issues in your previous workplaces?\"\n",
    "* Q37 - \"Would you be willing to bring up a physical health issue with a potential employer in an interview?\"\n",
    "    * Q38 - \"Why or why not?\"\n",
    "* Q39 - \"Would you bring up a mental health issue with a potential employer in an interview?\" \n",
    "    * Q40 - \"Why or why not?\"\n",
    "* Q41 - \"Do you feel that being identified as a person with a mental health issue would hurt your career?\"\n",
    "* Q42 - \"Do you think that team members/co-workers would view you more negatively if they knew you suffered from a mental health issue?\"\n",
    "* Q43 - \"How willing would you be to share with friends and family that you have a mental illness?\"\n",
    "* Q44 - \"Have you observed or experienced an unsupportive or badly handled response to a mental health issue in your current or previous workplace?\"\n",
    "* Q45 - \"Have your observations of how another individual who discussed a mental health disorder made you less likely to reveal a mental health issue yourself in your current workplace?\"\n",
    "* Q46 - \"Do you have a family history of mental illness?\"\n",
    "* Q47 - \"Have you had a mental health disorder in the past?\"\n",
    "* **Q48 - \"Do you currently have a mental health disorder?\"**\n",
    "    * **Q49 - \"If yes, what condition(s) have you been diagnosed with?\"**\n",
    "    * **Q50 - \"If maybe, what condition(s) do you believe you have?\"**\n",
    "* Q51 - \"Have you been diagnosed with a mental health condition by a medical professional?\"\n",
    "    * Q52 - \"If so, what condition(s) were you diagnosed with?\"\n",
    "* Q53 - \"Have you ever sought treatment for a mental health issue from a mental health professional?\"\n",
    "* Q54 - \"If you have a mental health issue, do you feel that it interferes with your work when being treated effectively?\"\n",
    "* Q55 - \"If you have a mental health issue, do you feel that it interferes with your work when NOT being treated effectively?\"\n",
    "* Q56 - \"What is your age?\",\"What is your gender?\"\n",
    "* Q57 - \"What country do you live in?\"\n",
    "    * Q58 - \"What US state or territory do you live in?\"\n",
    "* Q59 - \"What country do you work in?\"\n",
    "    * Q60 - \"What US state or territory do you work in?\"\n",
    "* Q61 - \"Which of the following best describes your work position?\"\n",
    "* Q62 - \"Do you work remotely?\"\n",
    "\n",
    "**IMPORTANT NOTES:**\n",
    "\n",
    "   1. **Some questions might not be asked**. For example, Q49 and Q50 will only be asked if Q48 is \"yes\". \n",
    "   2. Data can contain **errors/typos**, whose correction might improve the analysis.\n",
    "   3. Data can contain **missing values**, that you might decide to fill.\n",
    "   4. **Not all features are necessarily important** for the analysis.\n",
    "   5. Depending on the analysis, **some features might have to be excluded**. An example is when we want to predict a certain feature and there are other features that only have values for certain values of the target."
   ]
  },
  {
   "cell_type": "markdown",
   "metadata": {},
   "source": [
    "## Task 0 (Know your Data) - Preliminary Data Analysis"
   ]
  },
  {
   "cell_type": "markdown",
   "metadata": {},
   "source": [
    "## Libraries"
   ]
  },
  {
   "cell_type": "code",
   "execution_count": 1,
   "metadata": {},
   "outputs": [],
   "source": [
    "import pandas as pd\n",
    "import numpy as np\n",
    "import re\n",
    "import pprint\n",
    "\n",
    "\n",
    "##Plots\n",
    "import matplotlib.pyplot as plt\n",
    "import seaborn as sns\n",
    "\n",
    "#cross-validation - Verifica\n",
    "from sklearn.model_selection import cross_validate\n",
    "from sklearn.model_selection import cross_val_score"
   ]
  },
  {
   "cell_type": "markdown",
   "metadata": {},
   "source": [
    "## 0.1. Loading Data"
   ]
  },
  {
   "cell_type": "code",
   "execution_count": 2,
   "metadata": {},
   "outputs": [],
   "source": [
    "df_mh = pd.read_csv('C:\\\\Users\\\\marta.s.rolho_sub\\\\Documents\\\\GitHub\\\\ProjectoAA\\\\AA_201819_Project\\\\AA_201819_Project\\\\mental-heath-in-tech-2016.csv')"
   ]
  },
  {
   "cell_type": "markdown",
   "metadata": {},
   "source": [
    "## 0.2. Understanding Data"
   ]
  },
  {
   "cell_type": "markdown",
   "metadata": {},
   "source": [
    "In this task you should understand better the features you have, the distribution of values, potential errors, etc and plan/describe what data preprocessing steps should be performed next."
   ]
  },
  {
   "cell_type": "markdown",
   "metadata": {},
   "source": [
    "### Data Analysis"
   ]
  },
  {
   "cell_type": "markdown",
   "metadata": {},
   "source": [
    "Analysing some rows of dataset."
   ]
  },
  {
   "cell_type": "code",
   "execution_count": 3,
   "metadata": {},
   "outputs": [
    {
     "name": "stdout",
     "output_type": "stream",
     "text": [
      "   Are you self-employed?  \\\n",
      "0                       0   \n",
      "1                       0   \n",
      "2                       0   \n",
      "3                       1   \n",
      "4                       0   \n",
      "5                       0   \n",
      "6                       0   \n",
      "7                       0   \n",
      "8                       0   \n",
      "9                       1   \n",
      "\n",
      "  How many employees does your company or organization have?  \\\n",
      "0                                             26-100           \n",
      "1                                               6-25           \n",
      "2                                               6-25           \n",
      "3                                                NaN           \n",
      "4                                               6-25           \n",
      "5                                     More than 1000           \n",
      "6                                             26-100           \n",
      "7                                     More than 1000           \n",
      "8                                             26-100           \n",
      "9                                                NaN           \n",
      "\n",
      "   Is your employer primarily a tech company/organization?  \\\n",
      "0                                                1.0         \n",
      "1                                                1.0         \n",
      "2                                                1.0         \n",
      "3                                                NaN         \n",
      "4                                                0.0         \n",
      "5                                                1.0         \n",
      "6                                                1.0         \n",
      "7                                                1.0         \n",
      "8                                                0.0         \n",
      "9                                                NaN         \n",
      "\n",
      "   Is your primary role within your company related to tech/IT?  \\\n",
      "0                                                NaN              \n",
      "1                                                NaN              \n",
      "2                                                NaN              \n",
      "3                                                NaN              \n",
      "4                                                1.0              \n",
      "5                                                NaN              \n",
      "6                                                NaN              \n",
      "7                                                NaN              \n",
      "8                                                1.0              \n",
      "9                                                NaN              \n",
      "\n",
      "  Does your employer provide mental health benefits as part of healthcare coverage?  \\\n",
      "0                    Not eligible for coverage / N/A                                  \n",
      "1                                                 No                                  \n",
      "2                                                 No                                  \n",
      "3                                                NaN                                  \n",
      "4                                                Yes                                  \n",
      "5                                                Yes                                  \n",
      "6                                       I don't know                                  \n",
      "7                                                Yes                                  \n",
      "8                                       I don't know                                  \n",
      "9                                                NaN                                  \n",
      "\n",
      "  Do you know the options for mental health care available under your employer-provided coverage?  \\\n",
      "0                                                NaN                                                \n",
      "1                                                Yes                                                \n",
      "2                                                NaN                                                \n",
      "3                                                NaN                                                \n",
      "4                                                Yes                                                \n",
      "5                                      I am not sure                                                \n",
      "6                                                 No                                                \n",
      "7                                                Yes                                                \n",
      "8                                                 No                                                \n",
      "9                                                NaN                                                \n",
      "\n",
      "  Has your employer ever formally discussed mental health (for example, as part of a wellness campaign or other official communication)?  \\\n",
      "0                                                 No                                                                                       \n",
      "1                                                Yes                                                                                       \n",
      "2                                                 No                                                                                       \n",
      "3                                                NaN                                                                                       \n",
      "4                                                 No                                                                                       \n",
      "5                                                 No                                                                                       \n",
      "6                                                 No                                                                                       \n",
      "7                                                 No                                                                                       \n",
      "8                                                 No                                                                                       \n",
      "9                                                NaN                                                                                       \n",
      "\n",
      "  Does your employer offer resources to learn more about mental health concerns and options for seeking help?  \\\n",
      "0                                                 No                                                            \n",
      "1                                                Yes                                                            \n",
      "2                                                 No                                                            \n",
      "3                                                NaN                                                            \n",
      "4                                                 No                                                            \n",
      "5                                                Yes                                                            \n",
      "6                                                 No                                                            \n",
      "7                                                Yes                                                            \n",
      "8                                                 No                                                            \n",
      "9                                                NaN                                                            \n",
      "\n",
      "  Is your anonymity protected if you choose to take advantage of mental health or substance abuse treatment resources provided by your employer?  \\\n",
      "0                                       I don't know                                                                                               \n",
      "1                                                Yes                                                                                               \n",
      "2                                       I don't know                                                                                               \n",
      "3                                                NaN                                                                                               \n",
      "4                                                 No                                                                                               \n",
      "5                                                Yes                                                                                               \n",
      "6                                       I don't know                                                                                               \n",
      "7                                                Yes                                                                                               \n",
      "8                                       I don't know                                                                                               \n",
      "9                                                NaN                                                                                               \n",
      "\n",
      "  If a mental health issue prompted you to request a medical leave from work, asking for that leave would be:  \\\n",
      "0                                          Very easy                                                            \n",
      "1                                      Somewhat easy                                                            \n",
      "2                         Neither easy nor difficult                                                            \n",
      "3                                                NaN                                                            \n",
      "4                         Neither easy nor difficult                                                            \n",
      "5                                      Somewhat easy                                                            \n",
      "6                                      Somewhat easy                                                            \n",
      "7                                          Very easy                                                            \n",
      "8                                     Very difficult                                                            \n",
      "9                                                NaN                                                            \n",
      "\n",
      "           ...           \\\n",
      "0          ...            \n",
      "1          ...            \n",
      "2          ...            \n",
      "3          ...            \n",
      "4          ...            \n",
      "5          ...            \n",
      "6          ...            \n",
      "7          ...            \n",
      "8          ...            \n",
      "9          ...            \n",
      "\n",
      "  If you have a mental health issue, do you feel that it interferes with your work when being treated effectively?  \\\n",
      "0                               Not applicable to me                                                                 \n",
      "1                                             Rarely                                                                 \n",
      "2                               Not applicable to me                                                                 \n",
      "3                                          Sometimes                                                                 \n",
      "4                                          Sometimes                                                                 \n",
      "5                               Not applicable to me                                                                 \n",
      "6                               Not applicable to me                                                                 \n",
      "7                                          Sometimes                                                                 \n",
      "8                                             Rarely                                                                 \n",
      "9                                             Rarely                                                                 \n",
      "\n",
      "  If you have a mental health issue, do you feel that it interferes with your work when NOT being treated effectively?  \\\n",
      "0                               Not applicable to me                                                                     \n",
      "1                                          Sometimes                                                                     \n",
      "2                               Not applicable to me                                                                     \n",
      "3                                          Sometimes                                                                     \n",
      "4                                          Sometimes                                                                     \n",
      "5                                              Often                                                                     \n",
      "6                               Not applicable to me                                                                     \n",
      "7                                              Often                                                                     \n",
      "8                                              Often                                                                     \n",
      "9                                              Often                                                                     \n",
      "\n",
      "  What is your age? What is your gender? What country do you live in?  \\\n",
      "0                39                 Male               United Kingdom   \n",
      "1                29                 male     United States of America   \n",
      "2                38                Male                United Kingdom   \n",
      "3                43                 male               United Kingdom   \n",
      "4                43               Female     United States of America   \n",
      "5                42                 Male               United Kingdom   \n",
      "6                30                    M     United States of America   \n",
      "7                37               female     United States of America   \n",
      "8                44               Female     United States of America   \n",
      "9                30                 Male     United States of America   \n",
      "\n",
      "  What US state or territory do you live in?  What country do you work in?  \\\n",
      "0                                        NaN                United Kingdom   \n",
      "1                                   Illinois      United States of America   \n",
      "2                                        NaN                United Kingdom   \n",
      "3                                        NaN                United Kingdom   \n",
      "4                                   Illinois      United States of America   \n",
      "5                                        NaN                United Kingdom   \n",
      "6                                  Tennessee      United States of America   \n",
      "7                                   Virginia      United States of America   \n",
      "8                                 California      United States of America   \n",
      "9                                   Kentucky      United States of America   \n",
      "\n",
      "  What US state or territory do you work in?  \\\n",
      "0                                        NaN   \n",
      "1                                   Illinois   \n",
      "2                                        NaN   \n",
      "3                                        NaN   \n",
      "4                                   Illinois   \n",
      "5                                        NaN   \n",
      "6                                  Tennessee   \n",
      "7                                   Virginia   \n",
      "8                                 California   \n",
      "9                                   Kentucky   \n",
      "\n",
      "  Which of the following best describes your work position?  \\\n",
      "0                                 Back-end Developer          \n",
      "1             Back-end Developer|Front-end Developer          \n",
      "2                                 Back-end Developer          \n",
      "3                               Supervisor/Team Lead          \n",
      "4  Executive Leadership|Supervisor/Team Lead|Dev ...          \n",
      "5  DevOps/SysAdmin|Support|Back-end Developer|Fro...          \n",
      "6                                 Back-end Developer          \n",
      "7         Dev Evangelist/Advocate|Back-end Developer          \n",
      "8         Support|Back-end Developer|One-person shop          \n",
      "9  One-person shop|Front-end Developer|Back-end D...          \n",
      "\n",
      "  Do you work remotely?  \n",
      "0             Sometimes  \n",
      "1                 Never  \n",
      "2                Always  \n",
      "3             Sometimes  \n",
      "4             Sometimes  \n",
      "5             Sometimes  \n",
      "6             Sometimes  \n",
      "7                Always  \n",
      "8             Sometimes  \n",
      "9                Always  \n",
      "\n",
      "[10 rows x 63 columns]\n"
     ]
    }
   ],
   "source": [
    "print(df_mh.head(10))"
   ]
  },
  {
   "cell_type": "markdown",
   "metadata": {},
   "source": [
    "#### Dataframe has 1433 rows (answers) and 63 columns (questions)"
   ]
  },
  {
   "cell_type": "code",
   "execution_count": 4,
   "metadata": {},
   "outputs": [
    {
     "data": {
      "text/plain": [
       "(1433, 63)"
      ]
     },
     "execution_count": 4,
     "metadata": {},
     "output_type": "execute_result"
    }
   ],
   "source": [
    "df_mh.shape"
   ]
  },
  {
   "cell_type": "markdown",
   "metadata": {},
   "source": [
    "Inspecting the dataframe columns and their corresponding data types."
   ]
  },
  {
   "cell_type": "code",
   "execution_count": 5,
   "metadata": {},
   "outputs": [
    {
     "name": "stdout",
     "output_type": "stream",
     "text": [
      "<class 'pandas.core.frame.DataFrame'>\n",
      "RangeIndex: 1433 entries, 0 to 1432\n",
      "Data columns (total 63 columns):\n",
      "Are you self-employed?                                                                                                                                                              1433 non-null int64\n",
      "How many employees does your company or organization have?                                                                                                                          1146 non-null object\n",
      "Is your employer primarily a tech company/organization?                                                                                                                             1146 non-null float64\n",
      "Is your primary role within your company related to tech/IT?                                                                                                                        263 non-null float64\n",
      "Does your employer provide mental health benefits as part of healthcare coverage?                                                                                                   1146 non-null object\n",
      "Do you know the options for mental health care available under your employer-provided coverage?                                                                                     1013 non-null object\n",
      "Has your employer ever formally discussed mental health (for example, as part of a wellness campaign or other official communication)?                                              1146 non-null object\n",
      "Does your employer offer resources to learn more about mental health concerns and options for seeking help?                                                                         1146 non-null object\n",
      "Is your anonymity protected if you choose to take advantage of mental health or substance abuse treatment resources provided by your employer?                                      1146 non-null object\n",
      "If a mental health issue prompted you to request a medical leave from work, asking for that leave would be:                                                                         1146 non-null object\n",
      "Do you think that discussing a mental health disorder with your employer would have negative consequences?                                                                          1146 non-null object\n",
      "Do you think that discussing a physical health issue with your employer would have negative consequences?                                                                           1146 non-null object\n",
      "Would you feel comfortable discussing a mental health disorder with your coworkers?                                                                                                 1146 non-null object\n",
      "Would you feel comfortable discussing a mental health disorder with your direct supervisor(s)?                                                                                      1146 non-null object\n",
      "Do you feel that your employer takes mental health as seriously as physical health?                                                                                                 1146 non-null object\n",
      "Have you heard of or observed negative consequences for co-workers who have been open about mental health issues in your workplace?                                                 1146 non-null object\n",
      "Do you have medical coverage (private insurance or state-provided) which includes treatment of  mental health issues?                                                               287 non-null float64\n",
      "Do you know local or online resources to seek help for a mental health disorder?                                                                                                    287 non-null object\n",
      "If you have been diagnosed or treated for a mental health disorder, do you ever reveal this to clients or business contacts?                                                        287 non-null object\n",
      "If you have revealed a mental health issue to a client or business contact, do you believe this has impacted you negatively?                                                        144 non-null object\n",
      "If you have been diagnosed or treated for a mental health disorder, do you ever reveal this to coworkers or employees?                                                              287 non-null object\n",
      "If you have revealed a mental health issue to a coworker or employee, do you believe this has impacted you negatively?                                                              287 non-null object\n",
      "Do you believe your productivity is ever affected by a mental health issue?                                                                                                         287 non-null object\n",
      "If yes, what percentage of your work time (time performing primary or secondary job functions) is affected by a mental health issue?                                                204 non-null object\n",
      "Do you have previous employers?                                                                                                                                                     1433 non-null int64\n",
      "Have your previous employers provided mental health benefits?                                                                                                                       1264 non-null object\n",
      "Were you aware of the options for mental health care provided by your previous employers?                                                                                           1264 non-null object\n",
      "Did your previous employers ever formally discuss mental health (as part of a wellness campaign or other official communication)?                                                   1264 non-null object\n",
      "Did your previous employers provide resources to learn more about mental health issues and how to seek help?                                                                        1264 non-null object\n",
      "Was your anonymity protected if you chose to take advantage of mental health or substance abuse treatment resources with previous employers?                                        1264 non-null object\n",
      "Do you think that discussing a mental health disorder with previous employers would have negative consequences?                                                                     1264 non-null object\n",
      "Do you think that discussing a physical health issue with previous employers would have negative consequences?                                                                      1264 non-null object\n",
      "Would you have been willing to discuss a mental health issue with your previous co-workers?                                                                                         1264 non-null object\n",
      "Would you have been willing to discuss a mental health issue with your direct supervisor(s)?                                                                                        1264 non-null object\n",
      "Did you feel that your previous employers took mental health as seriously as physical health?                                                                                       1264 non-null object\n",
      "Did you hear of or observe negative consequences for co-workers with mental health issues in your previous workplaces?                                                              1264 non-null object\n",
      "Would you be willing to bring up a physical health issue with a potential employer in an interview?                                                                                 1433 non-null object\n",
      "Why or why not?                                                                                                                                                                     1095 non-null object\n",
      "Would you bring up a mental health issue with a potential employer in an interview?                                                                                                 1433 non-null object\n",
      "Why or why not?.1                                                                                                                                                                   1126 non-null object\n",
      "Do you feel that being identified as a person with a mental health issue would hurt your career?                                                                                    1433 non-null object\n",
      "Do you think that team members/co-workers would view you more negatively if they knew you suffered from a mental health issue?                                                      1433 non-null object\n",
      "How willing would you be to share with friends and family that you have a mental illness?                                                                                           1433 non-null object\n",
      "Have you observed or experienced an unsupportive or badly handled response to a mental health issue in your current or previous workplace?                                          1344 non-null object\n",
      "Have your observations of how another individual who discussed a mental health disorder made you less likely to reveal a mental health issue yourself in your current workplace?    657 non-null object\n",
      "Do you have a family history of mental illness?                                                                                                                                     1433 non-null object\n",
      "Have you had a mental health disorder in the past?                                                                                                                                  1433 non-null object\n",
      "Do you currently have a mental health disorder?                                                                                                                                     1433 non-null object\n",
      "If yes, what condition(s) have you been diagnosed with?                                                                                                                             568 non-null object\n",
      "If maybe, what condition(s) do you believe you have?                                                                                                                                322 non-null object\n",
      "Have you been diagnosed with a mental health condition by a medical professional?                                                                                                   1433 non-null object\n",
      "If so, what condition(s) were you diagnosed with?                                                                                                                                   711 non-null object\n",
      "Have you ever sought treatment for a mental health issue from a mental health professional?                                                                                         1433 non-null int64\n",
      "If you have a mental health issue, do you feel that it interferes with your work when being treated effectively?                                                                    1433 non-null object\n",
      "If you have a mental health issue, do you feel that it interferes with your work when NOT being treated effectively?                                                                1433 non-null object\n",
      "What is your age?                                                                                                                                                                   1433 non-null int64\n",
      "What is your gender?                                                                                                                                                                1430 non-null object\n",
      "What country do you live in?                                                                                                                                                        1433 non-null object\n",
      "What US state or territory do you live in?                                                                                                                                          840 non-null object\n",
      "What country do you work in?                                                                                                                                                        1433 non-null object\n",
      "What US state or territory do you work in?                                                                                                                                          851 non-null object\n",
      "Which of the following best describes your work position?                                                                                                                           1433 non-null object\n",
      "Do you work remotely?                                                                                                                                                               1433 non-null object\n",
      "dtypes: float64(3), int64(4), object(56)\n",
      "memory usage: 705.4+ KB\n",
      "None\n"
     ]
    }
   ],
   "source": [
    "print(df_mh.info())"
   ]
  },
  {
   "cell_type": "markdown",
   "metadata": {},
   "source": [
    "## Analysis of Missing Values"
   ]
  },
  {
   "cell_type": "code",
   "execution_count": 6,
   "metadata": {},
   "outputs": [],
   "source": [
    "def missing_values_table(df):\n",
    "        mis_val = df.isnull().sum()\n",
    "        mis_val_percent = 100 * df.isnull().sum() / len(df)\n",
    "        mis_val_table = pd.concat([mis_val, mis_val_percent], axis=1)\n",
    "        mis_val_table_ren_columns = mis_val_table.rename(\n",
    "        columns = {0 : 'Missing Values', 1 : '% of Total Values'})\n",
    "        mis_val_table_ren_columns = mis_val_table_ren_columns[\n",
    "            mis_val_table_ren_columns.iloc[:,1] != 0].sort_values(\n",
    "        '% of Total Values', ascending=False).round(1)\n",
    "        print (\"Dataframe has \" + str(df.shape[1]) + \" columns.\\n\"      \n",
    "            \"There are \" + str(mis_val_table_ren_columns.shape[0]) +\n",
    "              \" columns that have missing values.\")\n",
    "        return mis_val_table_ren_columns"
   ]
  },
  {
   "cell_type": "code",
   "execution_count": 8,
   "metadata": {},
   "outputs": [
    {
     "ename": "KeyError",
     "evalue": "'MH_Present'",
     "output_type": "error",
     "traceback": [
      "\u001b[1;31m---------------------------------------------------------------------------\u001b[0m",
      "\u001b[1;31mKeyError\u001b[0m                                  Traceback (most recent call last)",
      "\u001b[1;32m~\\AppData\\Local\\Continuum\\anaconda3\\lib\\site-packages\\pandas\\core\\indexes\\base.py\u001b[0m in \u001b[0;36mget_loc\u001b[1;34m(self, key, method, tolerance)\u001b[0m\n\u001b[0;32m   3062\u001b[0m             \u001b[1;32mtry\u001b[0m\u001b[1;33m:\u001b[0m\u001b[1;33m\u001b[0m\u001b[0m\n\u001b[1;32m-> 3063\u001b[1;33m                 \u001b[1;32mreturn\u001b[0m \u001b[0mself\u001b[0m\u001b[1;33m.\u001b[0m\u001b[0m_engine\u001b[0m\u001b[1;33m.\u001b[0m\u001b[0mget_loc\u001b[0m\u001b[1;33m(\u001b[0m\u001b[0mkey\u001b[0m\u001b[1;33m)\u001b[0m\u001b[1;33m\u001b[0m\u001b[0m\n\u001b[0m\u001b[0;32m   3064\u001b[0m             \u001b[1;32mexcept\u001b[0m \u001b[0mKeyError\u001b[0m\u001b[1;33m:\u001b[0m\u001b[1;33m\u001b[0m\u001b[0m\n",
      "\u001b[1;32mpandas\\_libs\\index.pyx\u001b[0m in \u001b[0;36mpandas._libs.index.IndexEngine.get_loc\u001b[1;34m()\u001b[0m\n",
      "\u001b[1;32mpandas\\_libs\\index.pyx\u001b[0m in \u001b[0;36mpandas._libs.index.IndexEngine.get_loc\u001b[1;34m()\u001b[0m\n",
      "\u001b[1;32mpandas\\_libs\\hashtable_class_helper.pxi\u001b[0m in \u001b[0;36mpandas._libs.hashtable.PyObjectHashTable.get_item\u001b[1;34m()\u001b[0m\n",
      "\u001b[1;32mpandas\\_libs\\hashtable_class_helper.pxi\u001b[0m in \u001b[0;36mpandas._libs.hashtable.PyObjectHashTable.get_item\u001b[1;34m()\u001b[0m\n",
      "\u001b[1;31mKeyError\u001b[0m: 'MH_Present'",
      "\nDuring handling of the above exception, another exception occurred:\n",
      "\u001b[1;31mKeyError\u001b[0m                                  Traceback (most recent call last)",
      "\u001b[1;32m<ipython-input-8-a0b6eca8b131>\u001b[0m in \u001b[0;36m<module>\u001b[1;34m()\u001b[0m\n\u001b[1;32m----> 1\u001b[1;33m \u001b[0mdf_mh\u001b[0m\u001b[1;33m[\u001b[0m\u001b[1;34m'MH_Present'\u001b[0m\u001b[1;33m]\u001b[0m\u001b[1;33m.\u001b[0m\u001b[0mvalue_counts\u001b[0m\u001b[1;33m(\u001b[0m\u001b[1;33m)\u001b[0m\u001b[1;33m/\u001b[0m\u001b[0mlen\u001b[0m\u001b[1;33m(\u001b[0m\u001b[0mdf_mh\u001b[0m\u001b[1;33m[\u001b[0m\u001b[1;34m'MH_Present'\u001b[0m\u001b[1;33m]\u001b[0m\u001b[1;33m)\u001b[0m\u001b[1;33m*\u001b[0m\u001b[1;36m100\u001b[0m\u001b[1;33m\u001b[0m\u001b[0m\n\u001b[0m",
      "\u001b[1;32m~\\AppData\\Local\\Continuum\\anaconda3\\lib\\site-packages\\pandas\\core\\frame.py\u001b[0m in \u001b[0;36m__getitem__\u001b[1;34m(self, key)\u001b[0m\n\u001b[0;32m   2683\u001b[0m             \u001b[1;32mreturn\u001b[0m \u001b[0mself\u001b[0m\u001b[1;33m.\u001b[0m\u001b[0m_getitem_multilevel\u001b[0m\u001b[1;33m(\u001b[0m\u001b[0mkey\u001b[0m\u001b[1;33m)\u001b[0m\u001b[1;33m\u001b[0m\u001b[0m\n\u001b[0;32m   2684\u001b[0m         \u001b[1;32melse\u001b[0m\u001b[1;33m:\u001b[0m\u001b[1;33m\u001b[0m\u001b[0m\n\u001b[1;32m-> 2685\u001b[1;33m             \u001b[1;32mreturn\u001b[0m \u001b[0mself\u001b[0m\u001b[1;33m.\u001b[0m\u001b[0m_getitem_column\u001b[0m\u001b[1;33m(\u001b[0m\u001b[0mkey\u001b[0m\u001b[1;33m)\u001b[0m\u001b[1;33m\u001b[0m\u001b[0m\n\u001b[0m\u001b[0;32m   2686\u001b[0m \u001b[1;33m\u001b[0m\u001b[0m\n\u001b[0;32m   2687\u001b[0m     \u001b[1;32mdef\u001b[0m \u001b[0m_getitem_column\u001b[0m\u001b[1;33m(\u001b[0m\u001b[0mself\u001b[0m\u001b[1;33m,\u001b[0m \u001b[0mkey\u001b[0m\u001b[1;33m)\u001b[0m\u001b[1;33m:\u001b[0m\u001b[1;33m\u001b[0m\u001b[0m\n",
      "\u001b[1;32m~\\AppData\\Local\\Continuum\\anaconda3\\lib\\site-packages\\pandas\\core\\frame.py\u001b[0m in \u001b[0;36m_getitem_column\u001b[1;34m(self, key)\u001b[0m\n\u001b[0;32m   2690\u001b[0m         \u001b[1;31m# get column\u001b[0m\u001b[1;33m\u001b[0m\u001b[1;33m\u001b[0m\u001b[0m\n\u001b[0;32m   2691\u001b[0m         \u001b[1;32mif\u001b[0m \u001b[0mself\u001b[0m\u001b[1;33m.\u001b[0m\u001b[0mcolumns\u001b[0m\u001b[1;33m.\u001b[0m\u001b[0mis_unique\u001b[0m\u001b[1;33m:\u001b[0m\u001b[1;33m\u001b[0m\u001b[0m\n\u001b[1;32m-> 2692\u001b[1;33m             \u001b[1;32mreturn\u001b[0m \u001b[0mself\u001b[0m\u001b[1;33m.\u001b[0m\u001b[0m_get_item_cache\u001b[0m\u001b[1;33m(\u001b[0m\u001b[0mkey\u001b[0m\u001b[1;33m)\u001b[0m\u001b[1;33m\u001b[0m\u001b[0m\n\u001b[0m\u001b[0;32m   2693\u001b[0m \u001b[1;33m\u001b[0m\u001b[0m\n\u001b[0;32m   2694\u001b[0m         \u001b[1;31m# duplicate columns & possible reduce dimensionality\u001b[0m\u001b[1;33m\u001b[0m\u001b[1;33m\u001b[0m\u001b[0m\n",
      "\u001b[1;32m~\\AppData\\Local\\Continuum\\anaconda3\\lib\\site-packages\\pandas\\core\\generic.py\u001b[0m in \u001b[0;36m_get_item_cache\u001b[1;34m(self, item)\u001b[0m\n\u001b[0;32m   2484\u001b[0m         \u001b[0mres\u001b[0m \u001b[1;33m=\u001b[0m \u001b[0mcache\u001b[0m\u001b[1;33m.\u001b[0m\u001b[0mget\u001b[0m\u001b[1;33m(\u001b[0m\u001b[0mitem\u001b[0m\u001b[1;33m)\u001b[0m\u001b[1;33m\u001b[0m\u001b[0m\n\u001b[0;32m   2485\u001b[0m         \u001b[1;32mif\u001b[0m \u001b[0mres\u001b[0m \u001b[1;32mis\u001b[0m \u001b[1;32mNone\u001b[0m\u001b[1;33m:\u001b[0m\u001b[1;33m\u001b[0m\u001b[0m\n\u001b[1;32m-> 2486\u001b[1;33m             \u001b[0mvalues\u001b[0m \u001b[1;33m=\u001b[0m \u001b[0mself\u001b[0m\u001b[1;33m.\u001b[0m\u001b[0m_data\u001b[0m\u001b[1;33m.\u001b[0m\u001b[0mget\u001b[0m\u001b[1;33m(\u001b[0m\u001b[0mitem\u001b[0m\u001b[1;33m)\u001b[0m\u001b[1;33m\u001b[0m\u001b[0m\n\u001b[0m\u001b[0;32m   2487\u001b[0m             \u001b[0mres\u001b[0m \u001b[1;33m=\u001b[0m \u001b[0mself\u001b[0m\u001b[1;33m.\u001b[0m\u001b[0m_box_item_values\u001b[0m\u001b[1;33m(\u001b[0m\u001b[0mitem\u001b[0m\u001b[1;33m,\u001b[0m \u001b[0mvalues\u001b[0m\u001b[1;33m)\u001b[0m\u001b[1;33m\u001b[0m\u001b[0m\n\u001b[0;32m   2488\u001b[0m             \u001b[0mcache\u001b[0m\u001b[1;33m[\u001b[0m\u001b[0mitem\u001b[0m\u001b[1;33m]\u001b[0m \u001b[1;33m=\u001b[0m \u001b[0mres\u001b[0m\u001b[1;33m\u001b[0m\u001b[0m\n",
      "\u001b[1;32m~\\AppData\\Local\\Continuum\\anaconda3\\lib\\site-packages\\pandas\\core\\internals.py\u001b[0m in \u001b[0;36mget\u001b[1;34m(self, item, fastpath)\u001b[0m\n\u001b[0;32m   4113\u001b[0m \u001b[1;33m\u001b[0m\u001b[0m\n\u001b[0;32m   4114\u001b[0m             \u001b[1;32mif\u001b[0m \u001b[1;32mnot\u001b[0m \u001b[0misna\u001b[0m\u001b[1;33m(\u001b[0m\u001b[0mitem\u001b[0m\u001b[1;33m)\u001b[0m\u001b[1;33m:\u001b[0m\u001b[1;33m\u001b[0m\u001b[0m\n\u001b[1;32m-> 4115\u001b[1;33m                 \u001b[0mloc\u001b[0m \u001b[1;33m=\u001b[0m \u001b[0mself\u001b[0m\u001b[1;33m.\u001b[0m\u001b[0mitems\u001b[0m\u001b[1;33m.\u001b[0m\u001b[0mget_loc\u001b[0m\u001b[1;33m(\u001b[0m\u001b[0mitem\u001b[0m\u001b[1;33m)\u001b[0m\u001b[1;33m\u001b[0m\u001b[0m\n\u001b[0m\u001b[0;32m   4116\u001b[0m             \u001b[1;32melse\u001b[0m\u001b[1;33m:\u001b[0m\u001b[1;33m\u001b[0m\u001b[0m\n\u001b[0;32m   4117\u001b[0m                 \u001b[0mindexer\u001b[0m \u001b[1;33m=\u001b[0m \u001b[0mnp\u001b[0m\u001b[1;33m.\u001b[0m\u001b[0marange\u001b[0m\u001b[1;33m(\u001b[0m\u001b[0mlen\u001b[0m\u001b[1;33m(\u001b[0m\u001b[0mself\u001b[0m\u001b[1;33m.\u001b[0m\u001b[0mitems\u001b[0m\u001b[1;33m)\u001b[0m\u001b[1;33m)\u001b[0m\u001b[1;33m[\u001b[0m\u001b[0misna\u001b[0m\u001b[1;33m(\u001b[0m\u001b[0mself\u001b[0m\u001b[1;33m.\u001b[0m\u001b[0mitems\u001b[0m\u001b[1;33m)\u001b[0m\u001b[1;33m]\u001b[0m\u001b[1;33m\u001b[0m\u001b[0m\n",
      "\u001b[1;32m~\\AppData\\Local\\Continuum\\anaconda3\\lib\\site-packages\\pandas\\core\\indexes\\base.py\u001b[0m in \u001b[0;36mget_loc\u001b[1;34m(self, key, method, tolerance)\u001b[0m\n\u001b[0;32m   3063\u001b[0m                 \u001b[1;32mreturn\u001b[0m \u001b[0mself\u001b[0m\u001b[1;33m.\u001b[0m\u001b[0m_engine\u001b[0m\u001b[1;33m.\u001b[0m\u001b[0mget_loc\u001b[0m\u001b[1;33m(\u001b[0m\u001b[0mkey\u001b[0m\u001b[1;33m)\u001b[0m\u001b[1;33m\u001b[0m\u001b[0m\n\u001b[0;32m   3064\u001b[0m             \u001b[1;32mexcept\u001b[0m \u001b[0mKeyError\u001b[0m\u001b[1;33m:\u001b[0m\u001b[1;33m\u001b[0m\u001b[0m\n\u001b[1;32m-> 3065\u001b[1;33m                 \u001b[1;32mreturn\u001b[0m \u001b[0mself\u001b[0m\u001b[1;33m.\u001b[0m\u001b[0m_engine\u001b[0m\u001b[1;33m.\u001b[0m\u001b[0mget_loc\u001b[0m\u001b[1;33m(\u001b[0m\u001b[0mself\u001b[0m\u001b[1;33m.\u001b[0m\u001b[0m_maybe_cast_indexer\u001b[0m\u001b[1;33m(\u001b[0m\u001b[0mkey\u001b[0m\u001b[1;33m)\u001b[0m\u001b[1;33m)\u001b[0m\u001b[1;33m\u001b[0m\u001b[0m\n\u001b[0m\u001b[0;32m   3066\u001b[0m \u001b[1;33m\u001b[0m\u001b[0m\n\u001b[0;32m   3067\u001b[0m         \u001b[0mindexer\u001b[0m \u001b[1;33m=\u001b[0m \u001b[0mself\u001b[0m\u001b[1;33m.\u001b[0m\u001b[0mget_indexer\u001b[0m\u001b[1;33m(\u001b[0m\u001b[1;33m[\u001b[0m\u001b[0mkey\u001b[0m\u001b[1;33m]\u001b[0m\u001b[1;33m,\u001b[0m \u001b[0mmethod\u001b[0m\u001b[1;33m=\u001b[0m\u001b[0mmethod\u001b[0m\u001b[1;33m,\u001b[0m \u001b[0mtolerance\u001b[0m\u001b[1;33m=\u001b[0m\u001b[0mtolerance\u001b[0m\u001b[1;33m)\u001b[0m\u001b[1;33m\u001b[0m\u001b[0m\n",
      "\u001b[1;32mpandas\\_libs\\index.pyx\u001b[0m in \u001b[0;36mpandas._libs.index.IndexEngine.get_loc\u001b[1;34m()\u001b[0m\n",
      "\u001b[1;32mpandas\\_libs\\index.pyx\u001b[0m in \u001b[0;36mpandas._libs.index.IndexEngine.get_loc\u001b[1;34m()\u001b[0m\n",
      "\u001b[1;32mpandas\\_libs\\hashtable_class_helper.pxi\u001b[0m in \u001b[0;36mpandas._libs.hashtable.PyObjectHashTable.get_item\u001b[1;34m()\u001b[0m\n",
      "\u001b[1;32mpandas\\_libs\\hashtable_class_helper.pxi\u001b[0m in \u001b[0;36mpandas._libs.hashtable.PyObjectHashTable.get_item\u001b[1;34m()\u001b[0m\n",
      "\u001b[1;31mKeyError\u001b[0m: 'MH_Present'"
     ]
    }
   ],
   "source": [
    "df_mh['MH_Present'].value_counts()/len(df_mh['MH_Present'])*100"
   ]
  },
  {
   "cell_type": "code",
   "execution_count": 7,
   "metadata": {},
   "outputs": [
    {
     "name": "stdout",
     "output_type": "stream",
     "text": [
      "Dataframe has 63 columns.\n",
      "There are 44 columns that have missing values.\n"
     ]
    },
    {
     "data": {
      "text/html": [
       "<div>\n",
       "<style scoped>\n",
       "    .dataframe tbody tr th:only-of-type {\n",
       "        vertical-align: middle;\n",
       "    }\n",
       "\n",
       "    .dataframe tbody tr th {\n",
       "        vertical-align: top;\n",
       "    }\n",
       "\n",
       "    .dataframe thead th {\n",
       "        text-align: right;\n",
       "    }\n",
       "</style>\n",
       "<table border=\"1\" class=\"dataframe\">\n",
       "  <thead>\n",
       "    <tr style=\"text-align: right;\">\n",
       "      <th></th>\n",
       "      <th>Missing Values</th>\n",
       "      <th>% of Total Values</th>\n",
       "    </tr>\n",
       "  </thead>\n",
       "  <tbody>\n",
       "    <tr>\n",
       "      <th>If you have revealed a mental health issue to a client or business contact, do you believe this has impacted you negatively?</th>\n",
       "      <td>1289</td>\n",
       "      <td>90.0</td>\n",
       "    </tr>\n",
       "    <tr>\n",
       "      <th>If yes, what percentage of your work time (time performing primary or secondary job functions) is affected by a mental health issue?</th>\n",
       "      <td>1229</td>\n",
       "      <td>85.8</td>\n",
       "    </tr>\n",
       "    <tr>\n",
       "      <th>Is your primary role within your company related to tech/IT?</th>\n",
       "      <td>1170</td>\n",
       "      <td>81.6</td>\n",
       "    </tr>\n",
       "    <tr>\n",
       "      <th>Do you have medical coverage (private insurance or state-provided) which includes treatment of  mental health issues?</th>\n",
       "      <td>1146</td>\n",
       "      <td>80.0</td>\n",
       "    </tr>\n",
       "    <tr>\n",
       "      <th>Do you believe your productivity is ever affected by a mental health issue?</th>\n",
       "      <td>1146</td>\n",
       "      <td>80.0</td>\n",
       "    </tr>\n",
       "    <tr>\n",
       "      <th>If you have revealed a mental health issue to a coworker or employee, do you believe this has impacted you negatively?</th>\n",
       "      <td>1146</td>\n",
       "      <td>80.0</td>\n",
       "    </tr>\n",
       "    <tr>\n",
       "      <th>If you have been diagnosed or treated for a mental health disorder, do you ever reveal this to coworkers or employees?</th>\n",
       "      <td>1146</td>\n",
       "      <td>80.0</td>\n",
       "    </tr>\n",
       "    <tr>\n",
       "      <th>If you have been diagnosed or treated for a mental health disorder, do you ever reveal this to clients or business contacts?</th>\n",
       "      <td>1146</td>\n",
       "      <td>80.0</td>\n",
       "    </tr>\n",
       "    <tr>\n",
       "      <th>Do you know local or online resources to seek help for a mental health disorder?</th>\n",
       "      <td>1146</td>\n",
       "      <td>80.0</td>\n",
       "    </tr>\n",
       "    <tr>\n",
       "      <th>If maybe, what condition(s) do you believe you have?</th>\n",
       "      <td>1111</td>\n",
       "      <td>77.5</td>\n",
       "    </tr>\n",
       "    <tr>\n",
       "      <th>If yes, what condition(s) have you been diagnosed with?</th>\n",
       "      <td>865</td>\n",
       "      <td>60.4</td>\n",
       "    </tr>\n",
       "    <tr>\n",
       "      <th>Have your observations of how another individual who discussed a mental health disorder made you less likely to reveal a mental health issue yourself in your current workplace?</th>\n",
       "      <td>776</td>\n",
       "      <td>54.2</td>\n",
       "    </tr>\n",
       "    <tr>\n",
       "      <th>If so, what condition(s) were you diagnosed with?</th>\n",
       "      <td>722</td>\n",
       "      <td>50.4</td>\n",
       "    </tr>\n",
       "    <tr>\n",
       "      <th>What US state or territory do you live in?</th>\n",
       "      <td>593</td>\n",
       "      <td>41.4</td>\n",
       "    </tr>\n",
       "    <tr>\n",
       "      <th>What US state or territory do you work in?</th>\n",
       "      <td>582</td>\n",
       "      <td>40.6</td>\n",
       "    </tr>\n",
       "    <tr>\n",
       "      <th>Do you know the options for mental health care available under your employer-provided coverage?</th>\n",
       "      <td>420</td>\n",
       "      <td>29.3</td>\n",
       "    </tr>\n",
       "    <tr>\n",
       "      <th>Why or why not?</th>\n",
       "      <td>338</td>\n",
       "      <td>23.6</td>\n",
       "    </tr>\n",
       "    <tr>\n",
       "      <th>Why or why not?.1</th>\n",
       "      <td>307</td>\n",
       "      <td>21.4</td>\n",
       "    </tr>\n",
       "    <tr>\n",
       "      <th>Have you heard of or observed negative consequences for co-workers who have been open about mental health issues in your workplace?</th>\n",
       "      <td>287</td>\n",
       "      <td>20.0</td>\n",
       "    </tr>\n",
       "    <tr>\n",
       "      <th>Do you feel that your employer takes mental health as seriously as physical health?</th>\n",
       "      <td>287</td>\n",
       "      <td>20.0</td>\n",
       "    </tr>\n",
       "    <tr>\n",
       "      <th>Does your employer provide mental health benefits as part of healthcare coverage?</th>\n",
       "      <td>287</td>\n",
       "      <td>20.0</td>\n",
       "    </tr>\n",
       "    <tr>\n",
       "      <th>Has your employer ever formally discussed mental health (for example, as part of a wellness campaign or other official communication)?</th>\n",
       "      <td>287</td>\n",
       "      <td>20.0</td>\n",
       "    </tr>\n",
       "    <tr>\n",
       "      <th>Does your employer offer resources to learn more about mental health concerns and options for seeking help?</th>\n",
       "      <td>287</td>\n",
       "      <td>20.0</td>\n",
       "    </tr>\n",
       "    <tr>\n",
       "      <th>Is your anonymity protected if you choose to take advantage of mental health or substance abuse treatment resources provided by your employer?</th>\n",
       "      <td>287</td>\n",
       "      <td>20.0</td>\n",
       "    </tr>\n",
       "    <tr>\n",
       "      <th>How many employees does your company or organization have?</th>\n",
       "      <td>287</td>\n",
       "      <td>20.0</td>\n",
       "    </tr>\n",
       "    <tr>\n",
       "      <th>Would you feel comfortable discussing a mental health disorder with your direct supervisor(s)?</th>\n",
       "      <td>287</td>\n",
       "      <td>20.0</td>\n",
       "    </tr>\n",
       "    <tr>\n",
       "      <th>Would you feel comfortable discussing a mental health disorder with your coworkers?</th>\n",
       "      <td>287</td>\n",
       "      <td>20.0</td>\n",
       "    </tr>\n",
       "    <tr>\n",
       "      <th>Do you think that discussing a physical health issue with your employer would have negative consequences?</th>\n",
       "      <td>287</td>\n",
       "      <td>20.0</td>\n",
       "    </tr>\n",
       "    <tr>\n",
       "      <th>Do you think that discussing a mental health disorder with your employer would have negative consequences?</th>\n",
       "      <td>287</td>\n",
       "      <td>20.0</td>\n",
       "    </tr>\n",
       "    <tr>\n",
       "      <th>If a mental health issue prompted you to request a medical leave from work, asking for that leave would be:</th>\n",
       "      <td>287</td>\n",
       "      <td>20.0</td>\n",
       "    </tr>\n",
       "    <tr>\n",
       "      <th>Is your employer primarily a tech company/organization?</th>\n",
       "      <td>287</td>\n",
       "      <td>20.0</td>\n",
       "    </tr>\n",
       "    <tr>\n",
       "      <th>Did your previous employers ever formally discuss mental health (as part of a wellness campaign or other official communication)?</th>\n",
       "      <td>169</td>\n",
       "      <td>11.8</td>\n",
       "    </tr>\n",
       "    <tr>\n",
       "      <th>Did your previous employers provide resources to learn more about mental health issues and how to seek help?</th>\n",
       "      <td>169</td>\n",
       "      <td>11.8</td>\n",
       "    </tr>\n",
       "    <tr>\n",
       "      <th>Have your previous employers provided mental health benefits?</th>\n",
       "      <td>169</td>\n",
       "      <td>11.8</td>\n",
       "    </tr>\n",
       "    <tr>\n",
       "      <th>Did you hear of or observe negative consequences for co-workers with mental health issues in your previous workplaces?</th>\n",
       "      <td>169</td>\n",
       "      <td>11.8</td>\n",
       "    </tr>\n",
       "    <tr>\n",
       "      <th>Did you feel that your previous employers took mental health as seriously as physical health?</th>\n",
       "      <td>169</td>\n",
       "      <td>11.8</td>\n",
       "    </tr>\n",
       "    <tr>\n",
       "      <th>Would you have been willing to discuss a mental health issue with your direct supervisor(s)?</th>\n",
       "      <td>169</td>\n",
       "      <td>11.8</td>\n",
       "    </tr>\n",
       "    <tr>\n",
       "      <th>Would you have been willing to discuss a mental health issue with your previous co-workers?</th>\n",
       "      <td>169</td>\n",
       "      <td>11.8</td>\n",
       "    </tr>\n",
       "    <tr>\n",
       "      <th>Were you aware of the options for mental health care provided by your previous employers?</th>\n",
       "      <td>169</td>\n",
       "      <td>11.8</td>\n",
       "    </tr>\n",
       "    <tr>\n",
       "      <th>Do you think that discussing a mental health disorder with previous employers would have negative consequences?</th>\n",
       "      <td>169</td>\n",
       "      <td>11.8</td>\n",
       "    </tr>\n",
       "    <tr>\n",
       "      <th>Was your anonymity protected if you chose to take advantage of mental health or substance abuse treatment resources with previous employers?</th>\n",
       "      <td>169</td>\n",
       "      <td>11.8</td>\n",
       "    </tr>\n",
       "    <tr>\n",
       "      <th>Do you think that discussing a physical health issue with previous employers would have negative consequences?</th>\n",
       "      <td>169</td>\n",
       "      <td>11.8</td>\n",
       "    </tr>\n",
       "    <tr>\n",
       "      <th>Have you observed or experienced an unsupportive or badly handled response to a mental health issue in your current or previous workplace?</th>\n",
       "      <td>89</td>\n",
       "      <td>6.2</td>\n",
       "    </tr>\n",
       "    <tr>\n",
       "      <th>What is your gender?</th>\n",
       "      <td>3</td>\n",
       "      <td>0.2</td>\n",
       "    </tr>\n",
       "  </tbody>\n",
       "</table>\n",
       "</div>"
      ],
      "text/plain": [
       "                                                    Missing Values  \\\n",
       "If you have revealed a mental health issue to a...            1289   \n",
       "If yes, what percentage of your work time (time...            1229   \n",
       "Is your primary role within your company relate...            1170   \n",
       "Do you have medical coverage (private insurance...            1146   \n",
       "Do you believe your productivity is ever affect...            1146   \n",
       "If you have revealed a mental health issue to a...            1146   \n",
       "If you have been diagnosed or treated for a men...            1146   \n",
       "If you have been diagnosed or treated for a men...            1146   \n",
       "Do you know local or online resources to seek h...            1146   \n",
       "If maybe, what condition(s) do you believe you ...            1111   \n",
       "If yes, what condition(s) have you been diagnos...             865   \n",
       "Have your observations of how another individua...             776   \n",
       "If so, what condition(s) were you diagnosed with?              722   \n",
       "What US state or territory do you live in?                     593   \n",
       "What US state or territory do you work in?                     582   \n",
       "Do you know the options for mental health care ...             420   \n",
       "Why or why not?                                                338   \n",
       "Why or why not?.1                                              307   \n",
       "Have you heard of or observed negative conseque...             287   \n",
       "Do you feel that your employer takes mental hea...             287   \n",
       "Does your employer provide mental health benefi...             287   \n",
       "Has your employer ever formally discussed menta...             287   \n",
       "Does your employer offer resources to learn mor...             287   \n",
       "Is your anonymity protected if you choose to ta...             287   \n",
       "How many employees does your company or organiz...             287   \n",
       "Would you feel comfortable discussing a mental ...             287   \n",
       "Would you feel comfortable discussing a mental ...             287   \n",
       "Do you think that discussing a physical health ...             287   \n",
       "Do you think that discussing a mental health di...             287   \n",
       "If a mental health issue prompted you to reques...             287   \n",
       "Is your employer primarily a tech company/organ...             287   \n",
       "Did your previous employers ever formally discu...             169   \n",
       "Did your previous employers provide resources t...             169   \n",
       "Have your previous employers provided mental he...             169   \n",
       "Did you hear of or observe negative consequence...             169   \n",
       "Did you feel that your previous employers took ...             169   \n",
       "Would you have been willing to discuss a mental...             169   \n",
       "Would you have been willing to discuss a mental...             169   \n",
       "Were you aware of the options for mental health...             169   \n",
       "Do you think that discussing a mental health di...             169   \n",
       "Was your anonymity protected if you chose to ta...             169   \n",
       "Do you think that discussing a physical health ...             169   \n",
       "Have you observed or experienced an unsupportiv...              89   \n",
       "What is your gender?                                             3   \n",
       "\n",
       "                                                    % of Total Values  \n",
       "If you have revealed a mental health issue to a...               90.0  \n",
       "If yes, what percentage of your work time (time...               85.8  \n",
       "Is your primary role within your company relate...               81.6  \n",
       "Do you have medical coverage (private insurance...               80.0  \n",
       "Do you believe your productivity is ever affect...               80.0  \n",
       "If you have revealed a mental health issue to a...               80.0  \n",
       "If you have been diagnosed or treated for a men...               80.0  \n",
       "If you have been diagnosed or treated for a men...               80.0  \n",
       "Do you know local or online resources to seek h...               80.0  \n",
       "If maybe, what condition(s) do you believe you ...               77.5  \n",
       "If yes, what condition(s) have you been diagnos...               60.4  \n",
       "Have your observations of how another individua...               54.2  \n",
       "If so, what condition(s) were you diagnosed with?                50.4  \n",
       "What US state or territory do you live in?                       41.4  \n",
       "What US state or territory do you work in?                       40.6  \n",
       "Do you know the options for mental health care ...               29.3  \n",
       "Why or why not?                                                  23.6  \n",
       "Why or why not?.1                                                21.4  \n",
       "Have you heard of or observed negative conseque...               20.0  \n",
       "Do you feel that your employer takes mental hea...               20.0  \n",
       "Does your employer provide mental health benefi...               20.0  \n",
       "Has your employer ever formally discussed menta...               20.0  \n",
       "Does your employer offer resources to learn mor...               20.0  \n",
       "Is your anonymity protected if you choose to ta...               20.0  \n",
       "How many employees does your company or organiz...               20.0  \n",
       "Would you feel comfortable discussing a mental ...               20.0  \n",
       "Would you feel comfortable discussing a mental ...               20.0  \n",
       "Do you think that discussing a physical health ...               20.0  \n",
       "Do you think that discussing a mental health di...               20.0  \n",
       "If a mental health issue prompted you to reques...               20.0  \n",
       "Is your employer primarily a tech company/organ...               20.0  \n",
       "Did your previous employers ever formally discu...               11.8  \n",
       "Did your previous employers provide resources t...               11.8  \n",
       "Have your previous employers provided mental he...               11.8  \n",
       "Did you hear of or observe negative consequence...               11.8  \n",
       "Did you feel that your previous employers took ...               11.8  \n",
       "Would you have been willing to discuss a mental...               11.8  \n",
       "Would you have been willing to discuss a mental...               11.8  \n",
       "Were you aware of the options for mental health...               11.8  \n",
       "Do you think that discussing a mental health di...               11.8  \n",
       "Was your anonymity protected if you chose to ta...               11.8  \n",
       "Do you think that discussing a physical health ...               11.8  \n",
       "Have you observed or experienced an unsupportiv...                6.2  \n",
       "What is your gender?                                              0.2  "
      ]
     },
     "execution_count": 7,
     "metadata": {},
     "output_type": "execute_result"
    }
   ],
   "source": [
    "missing_values_table(df_mh)"
   ]
  },
  {
   "cell_type": "markdown",
   "metadata": {},
   "source": [
    "## Task 1 (Supervised Learning) - Predicting if a person has a mental health disorder "
   ]
  },
  {
   "cell_type": "markdown",
   "metadata": {},
   "source": [
    "In this task you should **learn classifiers to predict if a person currently has a mental health disorder**:\n",
    "\n",
    "* Choose one classifier in each category: Tree models, Rule models, Linear models, Distance-based models, and Probabilistic models.\n",
    "* Use a train/test scheme or cross-valiation.\n",
    "* Describe the parameters used.\n",
    "* Evaluate the results using an evaluation measure and confusion matrices.\n",
    "* Choose the best classifier and fundament you choice."
   ]
  },
  {
   "cell_type": "markdown",
   "metadata": {},
   "source": [
    "## Parameters"
   ]
  },
  {
   "cell_type": "code",
   "execution_count": null,
   "metadata": {},
   "outputs": [],
   "source": [
    "#Reduce feature age: 14<age<100\n",
    "age_minimum_threshold = 14\n",
    "age_maximum_threshold = 100\n",
    "\n",
    "# Percentage of data used for testing\n",
    "test_size = 0.30"
   ]
  },
  {
   "cell_type": "markdown",
   "metadata": {},
   "source": [
    "## 1.1. Preprocessing Data for Classification"
   ]
  },
  {
   "cell_type": "markdown",
   "metadata": {},
   "source": [
    "### 1.1.1 Rename columns"
   ]
  },
  {
   "cell_type": "markdown",
   "metadata": {},
   "source": [
    "In order to facilitate the understanding of the features used throughout the analysis and for a quick analysis, we rename the columns."
   ]
  },
  {
   "cell_type": "code",
   "execution_count": null,
   "metadata": {},
   "outputs": [],
   "source": [
    "new_names =  {'Are you self-employed?': 'Self-Employed',\n",
    "'How many employees does your company or organization have?': 'Num_Employees',\n",
    "'Is your employer primarily a tech company/organization?': 'Type_Company',\n",
    "'Is your primary role within your company related to tech/IT?':'1stRole_IT',\n",
    "'Does your employer provide mental health benefits as part of healthcare coverage?': 'Health_Benefits',  \n",
    "'Do you know the options for mental health care available under your employer-provided coverage?': 'Health_Care_Options_MH', \n",
    "'Has your employer ever formally discussed mental health (for example, as part of a wellness campaign or other official communication)?': 'Employeer_Discuss_MH',\n",
    "'Does your employer offer resources to learn more about mental health concerns and options for seeking help?': 'MH_Resources_Seeking_Help',\n",
    "'Is your anonymity protected if you choose to take advantage of mental health or substance abuse treatment resources provided by your employer?': 'Q9',\n",
    "\"If a mental health issue prompted you to request a medical leave from work, asking for that leave would be:\":'Q10',\n",
    "\"Do you think that discussing a mental health disorder with your employer would have negative consequences?\": 'Q11',\n",
    "\"Do you think that discussing a physical health issue with your employer would have negative consequences?\": 'Q12',\n",
    "\"Would you feel comfortable discussing a mental health disorder with your coworkers?\": 'Q13',\n",
    "\"Would you feel comfortable discussing a mental health disorder with your direct supervisor(s)?\": 'Q14',\n",
    "\"Do you feel that your employer takes mental health as seriously as physical health?\": 'Employer_Considerated_MH_PH',\n",
    "\"Have you heard of or observed negative consequences for co-workers who have been open about mental health issues in your workplace?\": 'Consequence_in_Work_MH',\n",
    "\"Do you have medical coverage (private insurance or state-provided) which includes treatment of  mental health issues?\":'Q17',\n",
    "\"Do you know local or online resources to seek help for a mental health disorder?\":'Q18',\n",
    "\"If you have been diagnosed or treated for a mental health disorder, do you ever reveal this to clients or business contacts?\":'Reveal_MH_to_BusinessContacts',\n",
    "\"If you have revealed a mental health issue to a client or business contact, do you believe this has impacted you negatively?\":'Q20',\n",
    "\"If you have been diagnosed or treated for a mental health disorder, do you ever reveal this to coworkers or employees?\":'Q21',\n",
    "\"If you have revealed a mental health issue to a coworker or employee, do you believe this has impacted you negatively?\":'Q22',\n",
    "\"Do you believe your productivity is ever affected by a mental health issue?\":'Productivity_Affected_MH',\n",
    "\"If yes, what percentage of your work time (time performing primary or secondary job functions) is affected by a mental health issue?\": 'Q24',\n",
    "\"Do you have previous employers?\": 'Q25',\n",
    "\"Have your previous employers provided mental health benefits?\": 'Q26',\n",
    "\"Were you aware of the options for mental health care provided by your previous employers?\":'Q27',\n",
    "\"Did your previous employers ever formally discuss mental health (as part of a wellness campaign or other official communication)\": 'Q28',\n",
    "\"Did your previous employers provide resources to learn more about mental health issues and how to seek help?\": 'Q29',\n",
    "\"Was your anonymity protected if you chose to take advantage of mental health or substance abuse treatment resources with previous employers?\": 'Q30',\n",
    "\"Do you think that discussing a mental health disorder with previous employers would have negative consequences?\":'Q31',\n",
    "\"Do you think that discussing a physical health issue with previous employers would have negative consequences?\": 'Q32',\n",
    "\"Would you have been willing to discuss a mental health issue with your previous co-workers?\":'Q33',\n",
    "\"Would you have been willing to discuss a mental health issue with your direct supervisor(s)?\":'Q34',              \n",
    "\"Did you feel that your previous employers took mental health as seriously as physical health?\":'Q35',\n",
    "\"Did you hear of or observe negative consequences for co-workers with mental health issues in your previous workplaces?\":'Q36',\n",
    "\"Would you be willing to bring up a physical health issue with a potential employer in an interview?\":'Q37',\n",
    "\"Why or why not?\":'Q38',\n",
    "\"Would you bring up a mental health issue with a potential employer in an interview?\":'Q39',\n",
    "\"Why or why not?\": 'Q40',\n",
    "\"Do you feel that being identified as a person with a mental health issue would hurt your career?\":'MH_HurtCarrer',\n",
    "\"Do you think that team members/co-workers would view you more negatively if they knew you suffered from a mental health issue?\":'Team_ViewNegatively_MH',\n",
    "\"How willing would you be to share with friends and family that you have a mental illness?\":'Share_MH_FriendsAndFamily',\n",
    "\"Have you observed or experienced an unsupportive or badly handled response to a mental health issue in your current or previous workplace?\":'Q44',\n",
    "\"Have your observations of how another individual who discussed a mental health disorder made you less likely to reveal a mental health issue yourself in your current workplace?\":'Q45',\n",
    "\"Do you have a family history of mental illness?\":'Family_MentalIllness',\n",
    "\"Have you had a mental health disorder in the past?\":'MH_Past',\n",
    "\"Do you currently have a mental health disorder?\":'MH_Present',\n",
    "\"If yes, what condition(s) have you been diagnosed with?\":'MH_Present_Conditions',\n",
    "\"If maybe, what condition(s) do you believe you have?\":'MH_Maybe_Present_Conditions',\n",
    "\"Have you been diagnosed with a mental health condition by a medical professional?\":'MH_Diagnosed_MedicalProf',\n",
    "\"If so, what condition(s) were you diagnosed with?\":'MH_Conditions_MedicalProf',\n",
    "\"Have you ever sought treatment for a mental health issue from a mental health professional?\":'SoughTreatment_MH_Prof',\n",
    "\"If you have a mental health issue, do you feel that it interferes with your work when being treated effectively?\":'Q54',\n",
    "\"If you have a mental health issue, do you feel that it interferes with your work when NOT being treated effectively?\":'Q55',\n",
    "\"What is your age?\": 'Age',\n",
    "\"What is your gender?\":'Gender',\n",
    "\"What country do you live in?\":'Country_Live',\n",
    "\"What US state or territory do you live in?\":'State_Live',\n",
    "\"What country do you work in?\":'Country_Work',\n",
    "\"What US state or territory do you work in?\":'State_Work',\n",
    "\"Which of the following best describes your work position?\":'Work_Position',\n",
    "\"Do you work remotely?\":'Remote_Worker'\n",
    " }"
   ]
  },
  {
   "cell_type": "code",
   "execution_count": null,
   "metadata": {},
   "outputs": [],
   "source": [
    "df_mh.columns = ['Self-Employed', 'Num_Employees', 'Type_Company', '1stRole_IT', 'Health_Benefits', 'Health_Care_Options_MH',\n",
    "                   'Employeer_Discuss_MH', 'MH_Resources_Seeking_Help', 'Q9', 'Q10', 'Q11', 'Q12', 'Q13', 'Q14',\n",
    "                   'Employer_Considered_MH_PH', 'Consequence_in_Work_MH', 'Q17', 'Q18', 'Reveal_MH_to_BusinessContacts',\n",
    "                   'Q20', 'Q21', 'Q22', 'Productivity_Affected_MH', 'Q24', 'Q25', 'Q26', 'Q27', 'Q28', 'Q29', 'Q30', 'Q31',\n",
    "                   'Q32', 'Q33', 'Q34', 'Q35', 'Q36', 'Q37', 'Q38', 'Q39', 'Q40', 'MH_HurtCarrer', 'Team_ViewNegatively_MH', \n",
    "                   'Share_MH_FriendsAndFamily', 'Q44', 'Q45', 'Family_MentalIllness', 'MH_Past', 'MH_Present', \n",
    "                   'MH_Present_Conditions', 'MH_Maybe_Present_Conditions', 'MH_Diagnosed_MedicalProf', \n",
    "                   'MH_Conditions_MedicalProf', 'SoughTreatment_MH_Prof', 'Q54', 'Q55', 'Age', 'Gender', \n",
    "                   'Country_Live', 'State_Live', 'Country_Work', 'State_Work', 'Work_Position', 'Remote_Worker']"
   ]
  },
  {
   "cell_type": "code",
   "execution_count": null,
   "metadata": {},
   "outputs": [],
   "source": [
    "#Function for plots of frequency distribution\n",
    "def plot_count(column, name):\n",
    "    act_mf_disorder_count = df_mh[column].value_counts()\n",
    "    sns.set(style=\"darkgrid\")\n",
    "    sns.barplot(act_mf_disorder_count.index, act_mf_disorder_count.values, alpha=0.9)\n",
    "    plt.title('Frequency Distribution of ' + name)\n",
    "    plt.ylabel('Number of Occurrences', fontsize=12)\n",
    "    plt.xlabel(name, fontsize=12)\n",
    "    plt.show()"
   ]
  },
  {
   "cell_type": "markdown",
   "metadata": {},
   "source": [
    "Analysing the main question: \"Do you currently have a mental health disorder?\":'MH_Present'"
   ]
  },
  {
   "cell_type": "code",
   "execution_count": null,
   "metadata": {},
   "outputs": [],
   "source": [
    "plot_count(column='MH_Present', name='MH')"
   ]
  },
  {
   "cell_type": "code",
   "execution_count": null,
   "metadata": {},
   "outputs": [],
   "source": [
    "print(df_mh['MH_Present'].value_counts())"
   ]
  },
  {
   "cell_type": "markdown",
   "metadata": {},
   "source": [
    "568 persons in our dataset answer that they have a mental health disorder, 530 persons answer that they do not have mental disorder and 321 maybe. We will considering this information as labels for classification. We will not discard maybe because we have a considering number of answers and could be revelant. Namely, in a real setting, it is important to understand earlier if a person is developing a mental health disorders, in order to treat her."
   ]
  },
  {
   "cell_type": "markdown",
   "metadata": {},
   "source": [
    "### 1.1.2 Cleaning"
   ]
  },
  {
   "cell_type": "markdown",
   "metadata": {},
   "source": [
    "#### Cleaning Gender"
   ]
  },
  {
   "cell_type": "code",
   "execution_count": null,
   "metadata": {},
   "outputs": [],
   "source": [
    "#Clean function: 1st: Delete non-alphabetic characters\n",
    "#                2nd: Replace uppercase by lower case\n",
    "#                3rd: clean empty spaces"
   ]
  },
  {
   "cell_type": "code",
   "execution_count": null,
   "metadata": {},
   "outputs": [],
   "source": [
    "#Clean function\n",
    "def clean(x):\n",
    "    \n",
    "    result = re.sub(r'[^a-zA-Z]', \"\", str(x))\n",
    "    return str(result).lower().strip()"
   ]
  },
  {
   "cell_type": "markdown",
   "metadata": {},
   "source": [
    "In order to simplify the type of gender we decide split gender in : female, male and Non-Binary (all of the kind of gender different of female or male)"
   ]
  },
  {
   "cell_type": "code",
   "execution_count": null,
   "metadata": {},
   "outputs": [],
   "source": [
    "df_mh['Gender'].value_counts()"
   ]
  },
  {
   "cell_type": "code",
   "execution_count": null,
   "metadata": {},
   "outputs": [],
   "source": [
    "df_mh['Gender']=df_mh['Gender'].apply(clean).replace(['male'], 'Male')"
   ]
  },
  {
   "cell_type": "code",
   "execution_count": null,
   "metadata": {},
   "outputs": [],
   "source": [
    "df_mh['Gender']=df_mh['Gender'].apply(clean).replace(['m','male','man', 'cis male', 'cis man', 'nan', 'male cis', 'male (cis)', 'cismale', 'malecis','malr', 'cisdude', 'dude', 'cisman', 'imamanwhydidntyoumakethisadropdownquestionyoushouldofaskedsexandiwouldofansweredyespleaseseriouslyhowmuchtextcanthistake', 'sexismale'], 'Male')\n",
    "df_mh['Gender']=df_mh['Gender'].replace(['f', 'female', 'I identify as female.','woman', 'Woman', 'cisfemale', 'fem', 'ciswoman', 'iidentifyasfemale', 'cisgenderfemale', 'femalewoman', 'fm', 'femaleassignedatbirth', 'genderfluidbornfemale', 'femalebodiednofeelingsaboutgender', 'femalepropsformakingthisafreeformfieldthough' ], 'Female')\n",
    "df_mh['Gender']=df_mh['Gender'].replace(['genderqueer','non-binary', 'agender', 'nonbinary', 'transitionedmf', 'genderqueerwoman', 'other', 'genderfluxdemigirl', 'malegenderqueer', 'queer', 'transgenderwoman', 'fluid', 'androgynous', 'genderfluid', 'femaleormultigenderfemme', 'maletransftm'], 'Non-Binary')"
   ]
  },
  {
   "cell_type": "markdown",
   "metadata": {},
   "source": [
    "Plot of Frequency distribution of genders"
   ]
  },
  {
   "cell_type": "code",
   "execution_count": null,
   "metadata": {},
   "outputs": [],
   "source": [
    "fig = plt.figure(figsize=(10, 8))\n",
    "act_mf_disorder_count = df_mh['Gender'].value_counts()\n",
    "sns.set(style=\"darkgrid\")\n",
    "sns.barplot(act_mf_disorder_count.index, act_mf_disorder_count.values, alpha=0.9)\n",
    "plt.title('Frequency Distribution of Genders')\n",
    "plt.ylabel('Number of Occurrences', fontsize=12)\n",
    "plt.xlabel('Genders', fontsize=12)\n",
    "plt.xticks(rotation=90)\n",
    "plt.show()"
   ]
  },
  {
   "cell_type": "code",
   "execution_count": null,
   "metadata": {},
   "outputs": [],
   "source": [
    "#Drop because are not valid answer\n",
    "#human                    2\n",
    "#noneofyourbusiness       1\n",
    "#unicorn                  1\n",
    "#othertransfeminine       1\n",
    "#nbmasculine              1\n",
    "#afab                     1\n",
    "#enby                     1\n",
    "#malefemaleroughly        1\n",
    "#bigender                 1\n",
    "#mtf                      1\n",
    "#mail                     1"
   ]
  },
  {
   "cell_type": "code",
   "execution_count": null,
   "metadata": {},
   "outputs": [],
   "source": [
    "df_mh = df_mh[df_mh.Gender.isin(['Male','Female','Non-Binary'])]"
   ]
  },
  {
   "cell_type": "code",
   "execution_count": null,
   "metadata": {},
   "outputs": [],
   "source": [
    "plot_count(column='Gender', name='Genders')"
   ]
  },
  {
   "cell_type": "markdown",
   "metadata": {},
   "source": [
    "### Cleaning age"
   ]
  },
  {
   "cell_type": "markdown",
   "metadata": {},
   "source": [
    "Column Age has some values that has not meaning in this context. Max age: 323 years old and Min age: 3 years old"
   ]
  },
  {
   "cell_type": "code",
   "execution_count": null,
   "metadata": {},
   "outputs": [],
   "source": [
    "df_mh['Age'].describe()"
   ]
  },
  {
   "cell_type": "code",
   "execution_count": null,
   "metadata": {},
   "outputs": [],
   "source": [
    "# Filtering age by applying the age threshold\n",
    "df_mh = df_mh[df_mh['Age'] > age_minimum_threshold]\n",
    "df_mh = df_mh[df_mh['Age'] < age_maximum_threshold]"
   ]
  },
  {
   "cell_type": "code",
   "execution_count": null,
   "metadata": {},
   "outputs": [],
   "source": [
    "df_mh['Age'].describe()"
   ]
  },
  {
   "cell_type": "markdown",
   "metadata": {},
   "source": [
    "### Cleaning Work_Position \n",
    "###### There are a lot of different categories for work position, because of that we decided to split between tecnhical and no-technical categories"
   ]
  },
  {
   "cell_type": "markdown",
   "metadata": {},
   "source": [
    "Non-techical work positions in our work are positions of management, human resources and sales. If they have some task classified as technical and non-techical so in this case will be \"both\"."
   ]
  },
  {
   "cell_type": "code",
   "execution_count": null,
   "metadata": {},
   "outputs": [],
   "source": [
    "#df_mh['Work_Position'].value_counts()"
   ]
  },
  {
   "cell_type": "code",
   "execution_count": null,
   "metadata": {},
   "outputs": [],
   "source": [
    "def findRoleType(workString):\n",
    "    #helper that finds the role type of an individual based on the string of\n",
    "    #job descriptions provided\n",
    "    roleDict = {\"technical\":[\"Front-end Developer\",\"Back-end Developer\",\n",
    "                            \"DevOps/SysAdmin\",\"Designer\", \"Support\", \"Supervisor/Team Lead|Back-end Developer\", \n",
    "                            \"Front-end Developer|Designer\", \"DevOps/SysAdmin|Back-end Developer|Front-end Developer\", \n",
    "                            \"DevOps/SysAdmin|Back-end Developer|Front-end Developer\",\n",
    "                            \"Front-end Developer|Back-end Developer|DevOps/SysAdmin\",\n",
    "                            \"Supervisor/Team Lead|DevOps/SysAdmin|Back-end Developer\",                                                                                       \n",
    "                            \"Supervisor/Team Lead|DevOps/SysAdmin|Back-end Developer|Front-end Developer\",                                                                  \n",
    "                            \"DevOps/SysAdmin|Support|Back-end Developer|Front-end Developer\",                                                                              \n",
    "                            \"Back-end Developer|One-person shop\",                                                                                                           \n",
    "                            \"Support|Back-end Developer\",                                                                                                                    \n",
    "                            \"Supervisor/Team Lead|Front-end Developer\",                                                                                                      \n",
    "                            \"Front-end Developer|Back-end Developer|Supervisor/Team Lead\",                                                                                  \n",
    "                            \"DevOps/SysAdmin|Support\",                                                                                                                  \n",
    "                            \"Front-end Developer|Back-end Developer|DevOps/SysAdmin|Supervisor/Team Lead\",                                                                \n",
    "                            \"One-person shop|Front-end Developer|Back-end Developer\",                                                                                        \n",
    "                            \"DevOps/SysAdmin|Back-end Developer|Front-end Developer|Designer\", \"Front-end Developer|Back-end Developer|Support|DevOps/SysAdmin\"],\n",
    "            \"non-technical\":[\"HR\",\"Support\",\"Sales\",\"Dev Evangelist/Advocate\",\n",
    "                             \"Other\",\"Excecutive Leadership\",\n",
    "                             \"Supervisor/Team Lead\",\"One-person shop\", \n",
    "                             \"Supervisor/Team Lead\", \"One-person shop|Designer|Sales|Support|Supervisor/Team Lead\"]}\n",
    "    #run through role dictionary\n",
    "    for technicalRole in roleDict[\"technical\"]:\n",
    "        #search to find it in job descriptions\n",
    "        if (technicalRole in workString):\n",
    "            #now see if they take on an additional non-technical role\n",
    "            for nonTechnicalRole in roleDict[\"non-technical\"]:\n",
    "                if (nonTechnicalRole in workString): #they do both\n",
    "                    return \"both\"\n",
    "            #if we got to this point, they are just technical\n",
    "            return \"technical\"\n",
    "    #if we got here, they are non-technical\n",
    "    return \"non-technical\"\n"
   ]
  },
  {
   "cell_type": "code",
   "execution_count": null,
   "metadata": {},
   "outputs": [],
   "source": [
    "# Add \"Work_Role_Position\" accordind to function findRoleTyoe \n",
    "\n",
    "def buildRoleType(dataFrame, column):\n",
    "    #helper to build the role type variable\n",
    "    dataFrame[\"Work_Role_Position\"] = dataFrame[\n",
    "        column].apply(findRoleType)\n",
    "    return dataFrame"
   ]
  },
  {
   "cell_type": "code",
   "execution_count": null,
   "metadata": {},
   "outputs": [],
   "source": [
    "#Apply function buildRoleType and replacing collumn \"Work_Position\" by \"Work_Role_Position\"\n",
    "buildRoleType(df_mh, column='Work_Position')\n",
    "df_mh = df_mh.drop(columns=['Work_Position'])"
   ]
  },
  {
   "cell_type": "code",
   "execution_count": null,
   "metadata": {},
   "outputs": [],
   "source": [
    "df_mh['Work_Role_Position'].value_counts()"
   ]
  },
  {
   "cell_type": "markdown",
   "metadata": {},
   "source": [
    "### MH_Conditions_MedicalProf"
   ]
  },
  {
   "cell_type": "markdown",
   "metadata": {},
   "source": [
    "We considering that could be important the condition(s) diagnosed. This column has rows with medical conditions described in different ways. We have grouped these cases under the respective conditions and medical conditions with few frequencies (count <3) we have eliminated. \n",
    "In addition multiple conditions were given by the same person, the information being divided by | and in these cases we separate the responses individually."
   ]
  },
  {
   "cell_type": "code",
   "execution_count": null,
   "metadata": {},
   "outputs": [],
   "source": [
    "# Code to obtain list of others:\n",
    "# df_mh_conditions_MedicalProf_binarized = df_mh['MH_Conditions_MedicalProf'].str.join(sep='*').str.get_dummies(sep='*')\n",
    "# df_count = df_mh_conditions_MedicalProf_binarized.sum(axis=0)\n",
    "# [df_count.index[v] for v in  range(len(df_mh_conditions_MedicalProf_binarized.sum(axis=0))) if df_count.values[v] > 3]\n",
    "\n",
    "list_of_others= ['Anxiety Disorder (Generalized, Social, Phobia, etc)',\n",
    " 'Attention Deficit',\n",
    " 'Autism',\n",
    " 'Dissociative Disorder',\n",
    " 'Eating Disorder (Anorexia, Bulimia, etc)',\n",
    " 'Mood Disorder (Depression, Bipolar Disorder, etc)',\n",
    " 'Obsessive-Compulsive Disorder',\n",
    " 'Personality Disorder (Borderline, Antisocial, Paranoid, etc)',\n",
    " 'Post-traumatic Stress Disorder',\n",
    " 'Psychotic Disorder (Schizophrenia, Schizoaffective, etc)',\n",
    " 'Stress Response Syndromes',\n",
    " 'Substance Use Disorder',\n",
    " 'nan']\n",
    "\n",
    "def merge_conditions_fn(prefix):\n",
    "    def merge_conditions(row):\n",
    "        new_list = []\n",
    "        for c in row:\n",
    "            target_disease = c\n",
    "            if \"asperger\" in c.lower():\n",
    "                target_disease = \"Asperger Syndrome\"\n",
    "            elif \"autism\" in c.lower():\n",
    "                target_disease = \"Autism\"\n",
    "            elif \"attention deficit\" in c.lower() or \"add\" in c.lower():\n",
    "                target_disease = \"Attention Deficit\"\n",
    "            elif \"Post-traumatic Stress Disorder\" in c.lower() or \"posttraumatic stress disourder\" in c.lower():\n",
    "                target_disease = \"Post-traumatic Stress Disorder\"\n",
    "            elif \"pdd-nos\" in c.lower(): # Will never fall on this branch.\n",
    "                target_disease = \"PPD-NOS\"\n",
    "#We add prefix to identify the information in the dataset\n",
    "            if target_disease not in list_of_others:\n",
    "                new_list.append(prefix + \"_\" + \"Others\")\n",
    "            else:\n",
    "                new_list.append(prefix + \"_\" + target_disease)\n",
    "        return new_list\n",
    "    \n",
    "    return merge_conditions"
   ]
  },
  {
   "cell_type": "code",
   "execution_count": null,
   "metadata": {},
   "outputs": [],
   "source": [
    "#Sepate conditions, where answers have more than one condition separe by |. These problems exist in the columns: \n",
    "#MH_Conditions_MedicalProf, MH_Present_Conditions, MH_Maybe_Present_Conditions\n",
    "\n",
    "def separate_medical_conditions(df, column):\n",
    "    df_mh[column] = df[column].apply(lambda x: str(x).split('|'))\n",
    "    df_mh[column] = df_mh[column].apply(merge_conditions_fn(prefix=column))\n",
    "    df_mh_conditions_binarized = df_mh[column].str.join(sep='*').str.get_dummies(sep='*')\n",
    "    return df_mh_conditions_binarized"
   ]
  },
  {
   "cell_type": "markdown",
   "metadata": {},
   "source": [
    "The features to be taken into account in the classifier should be categorized into discrete variables. In this case we will use the function get_dummies that separates each different category into a column and assigns the value 1 or 0."
   ]
  },
  {
   "cell_type": "code",
   "execution_count": null,
   "metadata": {},
   "outputs": [],
   "source": [
    "df_mh_conditions_MedicalProf_binarized = separate_medical_conditions(df_mh, column=\"MH_Conditions_MedicalProf\")\n",
    "df_mh_conditions_MH_Present_Conditions_binarized = separate_medical_conditions(df_mh, column=\"MH_Present_Conditions\")\n",
    "df_mh_conditions_MH_Maybe_Present_Conditions_binarized = separate_medical_conditions(df_mh, column=\"MH_Maybe_Present_Conditions\")"
   ]
  },
  {
   "cell_type": "markdown",
   "metadata": {},
   "source": [
    "### Cleaning NaN"
   ]
  },
  {
   "cell_type": "markdown",
   "metadata": {},
   "source": [
    "In order to fill NaN values and for not deleting records or assigning erroneous meanings in the categorical data, the NaN fields have been replaced by a NULL string and will be \"seen\" by the classifier as a feature."
   ]
  },
  {
   "cell_type": "code",
   "execution_count": null,
   "metadata": {},
   "outputs": [],
   "source": [
    "def clean_NaN(df):\n",
    "    for col in df.columns:\n",
    "        df[col]=df[col].fillna('Null')\n",
    "        "
   ]
  },
  {
   "cell_type": "markdown",
   "metadata": {},
   "source": [
    "## 1.2. Learning Classifiers"
   ]
  },
  {
   "cell_type": "markdown",
   "metadata": {},
   "source": [
    "## Auxiliary functions"
   ]
  },
  {
   "cell_type": "markdown",
   "metadata": {},
   "source": [
    "Function to analyse max scores of classifiers"
   ]
  },
  {
   "cell_type": "code",
   "execution_count": null,
   "metadata": {},
   "outputs": [],
   "source": [
    "def get_parameters_of_best_model(test_scores, models_params):\n",
    "    best_model_idx = np.argmax(test_scores)\n",
    "    return models_params[best_model_idx]"
   ]
  },
  {
   "cell_type": "markdown",
   "metadata": {},
   "source": [
    "### Create Feature Vectors"
   ]
  },
  {
   "cell_type": "code",
   "execution_count": null,
   "metadata": {},
   "outputs": [],
   "source": [
    "##Drop some features of dataframe\n",
    "df_mh = df_mh.drop(columns = ['Self-Employed', 'Num_Employees', 'Type_Company', '1stRole_IT', 'Employeer_Discuss_MH', \n",
    "                      'MH_Resources_Seeking_Help', 'Q9', 'Q10','Q11', 'Q12', 'Q13', 'Q17', 'Q18', 'Q20', 'Q21', 'Q22', \n",
    "                      'Q24', 'Q25', 'Q26', 'Q27', 'Q28', 'Q29', 'Q30', 'Q31', 'Q32', 'Q33', 'Q34', 'Q35', 'Q36', 'Q37', \n",
    "                       'Q38', 'Q39', 'Q40', 'Q44', 'Q45', 'Q54', 'Q55', 'State_Work', 'Productivity_Affected_MH', 'State_Live'])"
   ]
  },
  {
   "cell_type": "code",
   "execution_count": null,
   "metadata": {},
   "outputs": [],
   "source": [
    "# Convert np.nan to string \"NUll\"\n",
    "clean_NaN(df_mh)"
   ]
  },
  {
   "cell_type": "markdown",
   "metadata": {},
   "source": [
    "#### Binarize Categorical Columns"
   ]
  },
  {
   "cell_type": "code",
   "execution_count": null,
   "metadata": {},
   "outputs": [],
   "source": [
    "def binarize_column(df, column_name):\n",
    "    df_binarized=pd.get_dummies(df[column_name], prefix=column_name)\n",
    "    df_binarized=pd.concat([df, df_binarized], sort=False, axis=1)\n",
    "    return df_binarized.drop(columns=[column_name])"
   ]
  },
  {
   "cell_type": "code",
   "execution_count": null,
   "metadata": {},
   "outputs": [],
   "source": [
    "df_mh_binarized = binarize_column(df_mh, column_name='Gender')\n",
    "df_mh_binarized = binarize_column(df_mh_binarized, column_name='Share_MH_FriendsAndFamily')\n",
    "df_mh_binarized = binarize_column(df_mh_binarized, column_name='Team_ViewNegatively_MH')\n",
    "df_mh_binarized = binarize_column(df_mh_binarized, column_name='Consequence_in_Work_MH')\n",
    "df_mh_binarized = binarize_column(df_mh_binarized, column_name='Health_Care_Options_MH')\n",
    "df_mh_binarized = binarize_column(df_mh_binarized, column_name='Health_Benefits')\n",
    "df_mh_binarized = binarize_column(df_mh_binarized, column_name='Q14')\n",
    "df_mh_binarized = binarize_column(df_mh_binarized, column_name='Employer_Considered_MH_PH')\n",
    "df_mh_binarized = binarize_column(df_mh_binarized, column_name='Reveal_MH_to_BusinessContacts')\n",
    "df_mh_binarized = binarize_column(df_mh_binarized, column_name='Family_MentalIllness')\n",
    "df_mh_binarized = binarize_column(df_mh_binarized, column_name='MH_Past')\n",
    "df_mh_binarized = binarize_column(df_mh_binarized, column_name='MH_HurtCarrer')\n",
    "df_mh_binarized = binarize_column(df_mh_binarized, column_name='Work_Role_Position')\n",
    "df_mh_binarized = binarize_column(df_mh_binarized, column_name='Remote_Worker')\n",
    "# df_mh_binarized = binarize_column(df_mh_binarized, column_name='Country_Live')\n",
    "# df_mh_binarized = binarize_column(df_mh_binarized, column_name='Country_Work')\n",
    "\n",
    "df_mh_binarized[\"MH_Diagnosed_MedicalProf\"] = df_mh_binarized[\"MH_Diagnosed_MedicalProf\"].apply(lambda x: 1 if x == \"Yes\" else 0)\n",
    "\n",
    "\n",
    "# Binarize Conditions of column MH_Conditions_MedicalProf\n",
    "df_mh_binarized = pd.concat([df_mh_binarized, df_mh_conditions_MedicalProf_binarized], sort=False, axis=1)\n",
    "df_mh_binarized = df_mh_binarized.drop(columns=[\"MH_Conditions_MedicalProf\"])\n",
    "\n",
    "\n",
    "# Convert Country columns to category type\n",
    "country_codes = {country: code for code, country in enumerate(set(list(df_mh_binarized.Country_Live.unique()) \n",
    "                                                                  + list(df_mh_binarized.Country_Work.unique())))}\n",
    "df_mh_binarized.Country_Live = df_mh_binarized.Country_Live.apply(lambda x: country_codes[x])\n",
    "df_mh_binarized.Country_Work = df_mh_binarized.Country_Work.apply(lambda x: country_codes[x])\n",
    "\n",
    "#Create classes\n",
    "class_codes = {\"No\": 0, 'Maybe':1, 'Yes': 2}\n",
    "df_mh_binarized.MH_Present = df_mh_binarized.MH_Present.apply(lambda x: class_codes[x])"
   ]
  },
  {
   "cell_type": "markdown",
   "metadata": {},
   "source": [
    "#### Pearson Correlation Analysis"
   ]
  },
  {
   "cell_type": "markdown",
   "metadata": {},
   "source": [
    "In order to understand how the features are correlated we compute the Pearson correlation: between each pair of features, resulting in a correlation matrix, and the correlation within each individual feature. \n",
    "\n",
    "Computing the correlation matrix:"
   ]
  },
  {
   "cell_type": "code",
   "execution_count": null,
   "metadata": {},
   "outputs": [],
   "source": [
    "corr_matrix = df_mh_binarized.corr()"
   ]
  },
  {
   "cell_type": "markdown",
   "metadata": {},
   "source": [
    "Inspecting the correlation within each individual feature. We list all features (ie. columns) that are highly correlated."
   ]
  },
  {
   "cell_type": "code",
   "execution_count": null,
   "metadata": {},
   "outputs": [],
   "source": [
    "upper = corr_matrix.abs().where(np.triu(np.ones(corr_matrix.shape), k=1).astype(np.bool))\n",
    "\n",
    "highly_correlated = [column for column in upper.columns if any(upper[column] > 0.95)]\n",
    "\n",
    "print(\"List of features in which their values, across rows, are highly correlated:\")\n",
    "pp = pprint.PrettyPrinter(indent=4)\n",
    "pp.pprint(highly_correlated)"
   ]
  },
  {
   "cell_type": "markdown",
   "metadata": {},
   "source": [
    "Correlation matrix statistics:"
   ]
  },
  {
   "cell_type": "code",
   "execution_count": null,
   "metadata": {},
   "outputs": [],
   "source": [
    "np.mean(corr_matrix.values), np.std(corr_matrix.values), np.min(corr_matrix.values), np.max(corr_matrix.values)"
   ]
  },
  {
   "cell_type": "markdown",
   "metadata": {},
   "source": [
    "Plotting the correlation matrix:"
   ]
  },
  {
   "cell_type": "code",
   "execution_count": null,
   "metadata": {},
   "outputs": [],
   "source": [
    "fig = plt.figure(figsize=(20,20))\n",
    "ax = fig.add_subplot(111)\n",
    "cax = ax.matshow(corr_matrix,cmap='coolwarm', vmin=-1, vmax=1)\n",
    "fig.colorbar(cax)\n",
    "ticks = np.arange(0,len(df_mh_binarized.columns),1)\n",
    "ax.set_xticks(ticks)\n",
    "plt.xticks(rotation=90)\n",
    "ax.set_yticks(ticks)\n",
    "ax.set_xticklabels(df_mh_binarized.columns)\n",
    "ax.set_yticklabels(df_mh_binarized.columns)\n",
    "plt.show()"
   ]
  },
  {
   "cell_type": "markdown",
   "metadata": {},
   "source": [
    "The visualization of the correlation matrix provides us with very valuable insights regarding the dataset. We will highlight some interesting observations:\n",
    " * The features \"Age\" and \"SoughTreatment_MH_Prof\" are positively correlated. This means that the age of the person is correlated with the fact that the person has sought treatment, by a Professional, for Mental Health issues;\n",
    " * The three features related to Present Mental Health state of the person (MH_Present, MH_Present_Conditions, MH_Maybe_Present_Conditions) are positively correlated with the feature \"MH_Past_Maybe\". The feature \"MH_Past_Maybe\" corresponds to answering \"Maybe\" at having MH issues in the past. This correlation may had happen by chance. However, if not, this means that persons that now have MH issues, believe (but they are not sure) that they have had MH issues in the past;\n",
    " * The feature \"Team_ViewNegatively_MH_yes,they do\" (answering yes to believing that co-workers would view the person more negatively) and the feature \"Q14_Yes\" (be confortable discussing a MH disorder with direct supervisor) are positively correlated. This shows that in this dataset, persons that think that having a MH disorder affects their relation with the team are actually confortable to discuss this with the supervisor and address this issue;\n",
    " * Features \"Reveal_MH_to_BusinessContacts_No, because it doesn't matter\" and \"Team_ViewNegatively_MH_yes,they do\" are positively correlated. This means that people that will not reveal that they have a MH disorder to their clients also believe that the MH disorder will affect negatively their relationship with co-workers.\n",
    " "
   ]
  },
  {
   "cell_type": "markdown",
   "metadata": {},
   "source": [
    "#### Separate Groundtruth columns from the dataframes"
   ]
  },
  {
   "cell_type": "code",
   "execution_count": null,
   "metadata": {},
   "outputs": [],
   "source": [
    "print(df_mh_binarized.dtypes.values[0:76])"
   ]
  },
  {
   "cell_type": "code",
   "execution_count": null,
   "metadata": {},
   "outputs": [],
   "source": [
    "# Remove groundtruth columns from dataset\n",
    "df_full = df_mh_binarized\n",
    "df_train = df_full.drop(columns=[\"MH_Present\", \"MH_Present_Conditions\", \"MH_Maybe_Present_Conditions\"])"
   ]
  },
  {
   "cell_type": "markdown",
   "metadata": {},
   "source": [
    "### Create dataset splits for prediction"
   ]
  },
  {
   "cell_type": "markdown",
   "metadata": {},
   "source": [
    "We create train and test splits, equally balanced with respect to the number of examples of each class."
   ]
  },
  {
   "cell_type": "code",
   "execution_count": null,
   "metadata": {},
   "outputs": [],
   "source": [
    "Y = df_mh_binarized[\"MH_Present\"].values\n",
    "\n",
    "X = df_train.values\n",
    "\n",
    "# Create splits\n",
    "from sklearn.model_selection import train_test_split \n",
    "X_train, X_test, y_train, y_test = train_test_split(X, Y, test_size=test_size, random_state=42, stratify=Y)\n"
   ]
  },
  {
   "cell_type": "markdown",
   "metadata": {},
   "source": [
    "### Linear Models"
   ]
  },
  {
   "cell_type": "markdown",
   "metadata": {},
   "source": [
    "#### SVM - Selecting classifier parameters using K-fold Cross Validation\n",
    "\n",
    "For the SVM classifier, we will experiment with the following parameters: type of kernel, C, tolerance. \n",
    "\n",
    "The kernel is usually used to refer the kernel trick. The kernel function transform linearly inseparable data to linearly separable ones. For the kernel parameter we considered a linear Kernel and a Radial Bais Function Kernel (this is not linear).\n",
    "\n",
    "C is the a regularization parameter. For large values of C, we will have a smaller-margin hyperplane, for the decision function is better at classifying all training points correctly. Otherwise, a very small value of C will cause a large margin separating hyperplane, even if that hyperplane misclassifies more point. In short, it is a trade off correct classification of training examples against maximization of the decision function's margin. For the C parameter we used C values: 1e-2, 10 and 100.\n",
    "\n",
    "Tolerance is used for stopping criterion. For the tolerance parameter we used tolerance = 1e-3 and tolerance = 1e-4"
   ]
  },
  {
   "cell_type": "code",
   "execution_count": null,
   "metadata": {
    "scrolled": true
   },
   "outputs": [],
   "source": []
  },
  {
   "cell_type": "code",
   "execution_count": null,
   "metadata": {
    "scrolled": true
   },
   "outputs": [],
   "source": [
    "from sklearn.model_selection import GridSearchCV\n",
    "from sklearn import svm\n",
    "parameters = {'kernel':('linear', 'rbf'), 'C':[1e-2, 1, 10, 100], \"tol\": [1e-3, 1e-4]}\n",
    "svm = svm.SVC(decision_function_shape='ova')\n",
    "clf_1 = GridSearchCV(svm, parameters, cv=5, n_jobs=4, scoring=\"precision_macro\")\n",
    "clf_1.fit(X_train, y_train)\n",
    "                             \n",
    "#sorted(clf_1.cv_results_.keys())"
   ]
  },
  {
   "cell_type": "code",
   "execution_count": null,
   "metadata": {},
   "outputs": [],
   "source": [
    "# scoring = {'acc': 'accuracy',\n",
    "#            'prec_macro': 'precision_macro',\n",
    "#            'rec_macro': 'recall_macro'}"
   ]
  },
  {
   "cell_type": "code",
   "execution_count": null,
   "metadata": {},
   "outputs": [],
   "source": [
    "list(zip(clf_1.cv_results_['params'], clf_1.cv_results_['mean_test_score'], clf_1.cv_results_['rank_test_score']))"
   ]
  },
  {
   "cell_type": "code",
   "execution_count": null,
   "metadata": {},
   "outputs": [],
   "source": [
    "clf_1_best_params = get_parameters_of_best_model(clf_1.cv_results_['mean_test_score'], clf_1.cv_results_['params'])\n",
    "print('Conclusion - the best parameters are:', clf_1_best_params)"
   ]
  },
  {
   "cell_type": "markdown",
   "metadata": {},
   "source": [
    "#### Training the SVM classifier with the best parameters obtained with Cross-validation"
   ]
  },
  {
   "cell_type": "code",
   "execution_count": null,
   "metadata": {},
   "outputs": [],
   "source": [
    "from sklearn import svm\n",
    "clf_svm_cv = svm.SVC(decision_function_shape='ova', **clf_1_best_params)\n",
    "clf_svm_cv.fit(X_train, y_train)\n",
    "\n",
    "Y_pred_svm_cv=clf_svm_cv.predict(X_test)\n"
   ]
  },
  {
   "cell_type": "code",
   "execution_count": null,
   "metadata": {},
   "outputs": [],
   "source": [
    "# docs: http://scikit-learn.org/stable/modules/generated/sklearn.metrics.classification_report.html#sklearn.metrics.classification_report\n",
    "from sklearn.metrics import classification_report\n",
    "\n",
    "print(classification_report(y_test, Y_pred_svm_cv))"
   ]
  },
  {
   "cell_type": "markdown",
   "metadata": {},
   "source": [
    "#### Training the SVM classifier with default parameters"
   ]
  },
  {
   "cell_type": "code",
   "execution_count": null,
   "metadata": {},
   "outputs": [],
   "source": [
    "clf_svm = svm.SVC(decision_function_shape='ova')\n",
    "clf_svm.fit(X_train, y_train)\n",
    "\n",
    "Y_pred_svm=clf_svm.predict(X_test)\n"
   ]
  },
  {
   "cell_type": "code",
   "execution_count": null,
   "metadata": {},
   "outputs": [],
   "source": [
    "print(classification_report(y_test, Y_pred_svm))"
   ]
  },
  {
   "cell_type": "markdown",
   "metadata": {},
   "source": [
    "Conclusion : SVM uses Kernel=rbf by default, because of that both classifiers (with best parameters of cross-validation and clasifier using default parameters ), have similiar performances. Moreover, since the best results are for non-linear kernels, we should not consider them as an example of linear classifier and therefore, we should consider logistic regression."
   ]
  },
  {
   "cell_type": "markdown",
   "metadata": {},
   "source": [
    "#### LogisticRegression - Selecting classifier parameters using K-fold Cross Validation"
   ]
  },
  {
   "cell_type": "markdown",
   "metadata": {},
   "source": [
    "For Logistic Regression classifier, we will experiment with the following parameters: C, class_weight and max_iter.\n",
    "\n",
    "C is the a regularization parameter. Like in SVM, smaller values specify stronger regularization. For the C parameter we used values: 1e-3,1.0, 2.0, 0.5. \n",
    "\n",
    "Class_Weight is the \"relevance\" of classes (more weight means more relevance). By default all classes are supposed to have weight one. The \"balanced\" mode use the values of y to calculate the weights of classe: n_samples/n_classes* np.bincount(y). We compared default with balanced.\n",
    "\n",
    "Max_iter is the maximum number of iterations taken for the solvers to converge. We will use the values: 100 (default), 250, 500, 1000\n",
    "\n",
    "\n"
   ]
  },
  {
   "cell_type": "code",
   "execution_count": null,
   "metadata": {},
   "outputs": [],
   "source": [
    "from sklearn.linear_model import LogisticRegression\n",
    "parameters = {'C': [1e-3,1.0, 2.0, 0.5], 'class_weight': [None,'balanced'], 'max_iter': [100, 250, 500, 1000]}\n",
    "\n",
    "LR = LogisticRegression(random_state=0, solver='lbfgs', multi_class=\"auto\")\n",
    "clf_2 = GridSearchCV(LR, parameters, cv=5, n_jobs=4, scoring=\"precision_macro\")\n",
    "clf_2.fit(X_train, y_train)"
   ]
  },
  {
   "cell_type": "code",
   "execution_count": null,
   "metadata": {},
   "outputs": [],
   "source": [
    "list(zip(clf_2.cv_results_['params'], clf_2.cv_results_['mean_test_score'], clf_2.cv_results_['rank_test_score']))"
   ]
  },
  {
   "cell_type": "code",
   "execution_count": null,
   "metadata": {},
   "outputs": [],
   "source": [
    "clf_2_best_params = get_parameters_of_best_model(clf_2.cv_results_['mean_test_score'], clf_2.cv_results_['params'])\n",
    "print('Conclusion - the best parameters are:', clf_2_best_params)"
   ]
  },
  {
   "cell_type": "markdown",
   "metadata": {},
   "source": [
    "The parameters of the classifier where the highest score was obtained are the default parameters except for the max_iter."
   ]
  },
  {
   "cell_type": "markdown",
   "metadata": {},
   "source": [
    "#### Training the Logistic Regression classifier with the best parameters obtained with Cross-validation"
   ]
  },
  {
   "cell_type": "code",
   "execution_count": null,
   "metadata": {},
   "outputs": [],
   "source": [
    "clf_logreg = LogisticRegression(random_state=0, solver='lbfgs', multi_class=\"auto\", **clf_2_best_params)\n",
    "clf_logreg.fit(X_train, y_train)\n",
    "Y_pred_logreg=clf_logreg.predict(X_test)"
   ]
  },
  {
   "cell_type": "code",
   "execution_count": null,
   "metadata": {},
   "outputs": [],
   "source": [
    "print(classification_report(y_test, Y_pred_logreg))"
   ]
  },
  {
   "cell_type": "markdown",
   "metadata": {},
   "source": [
    "Conclusion: Comparing f1-score (it considers both the precision and the recall of the test to compute the score) from SVM with Logistic Regression we concluded that logistic regression has higher f1-score values than SVM."
   ]
  },
  {
   "cell_type": "markdown",
   "metadata": {},
   "source": [
    "### Tree Model - Decision Tree Classifier"
   ]
  },
  {
   "cell_type": "markdown",
   "metadata": {},
   "source": [
    "For Decision Tree classifier, we will experiment with the following parameters: max_leaf_nodes, lass_weight and criterion.\n",
    "\n",
    "Max_Leaf_Nodes is the maximum number of possible leaf nodes. If None then it takes an unlimited number of leaf nodes. For the max_leaf_nodes parameter we used values: 2, 3, 5, 10, 15 and None (default).\n",
    "\n",
    "Class_Weight is the \"relevance\" of classes (more weight means more relevance). By default all classes are supposed to have weight one. The \"balanced\" mode use the values of y to calculate the weights of classe: n_samples/n_classes* np.bincount(y). We compared default with balanced.\n",
    "\n",
    "Criterion is the function to measure the quality of a split. Sklearn supports “gini” (default) criteria for Gini Index & “entropy” for Information Gain."
   ]
  },
  {
   "cell_type": "markdown",
   "metadata": {},
   "source": [
    "####  Decision Tree - Selecting classifier parameters using K-fold Cross Validation"
   ]
  },
  {
   "cell_type": "code",
   "execution_count": null,
   "metadata": {},
   "outputs": [],
   "source": [
    "from sklearn import tree\n",
    "parameters = {'max_leaf_nodes':[2,3,5,10,15, None], 'class_weight': [None,'balanced'], 'criterion': ['gini', 'entropy']}\n",
    "clf_tree= tree.DecisionTreeClassifier()\n",
    "clf_3 = GridSearchCV(clf_tree, parameters, cv=5, n_jobs=4, scoring=\"precision_macro\")\n",
    "clf_3.fit(X_train, y_train)"
   ]
  },
  {
   "cell_type": "code",
   "execution_count": null,
   "metadata": {},
   "outputs": [],
   "source": [
    "list(zip(clf_3.cv_results_['params'], clf_3.cv_results_['mean_test_score'], clf_3.cv_results_['rank_test_score']))"
   ]
  },
  {
   "cell_type": "code",
   "execution_count": null,
   "metadata": {},
   "outputs": [],
   "source": [
    "clf_3_best_params = get_parameters_of_best_model(clf_3.cv_results_['mean_test_score'], clf_3.cv_results_['params'])\n",
    "print('Conclusion - the best parameters are:', clf_3_best_params)"
   ]
  },
  {
   "cell_type": "markdown",
   "metadata": {},
   "source": [
    "#### Training the Decision Tree classifier with the best parameters obtained with Cross-validation"
   ]
  },
  {
   "cell_type": "code",
   "execution_count": null,
   "metadata": {},
   "outputs": [],
   "source": [
    "clf_tree = tree.DecisionTreeClassifier(**clf_3_best_params)\n",
    "clf_tree = clf_tree.fit(X_train, y_train)\n",
    "\n",
    "Y_pred_tree=clf_tree.predict(X_test)"
   ]
  },
  {
   "cell_type": "code",
   "execution_count": null,
   "metadata": {},
   "outputs": [],
   "source": [
    "print(classification_report(y_test, Y_pred_tree))"
   ]
  },
  {
   "cell_type": "markdown",
   "metadata": {},
   "source": [
    "### Distance-based models - K-Neighbors Classifier"
   ]
  },
  {
   "cell_type": "markdown",
   "metadata": {},
   "source": [
    "For KNN classifier, we will experiment with the following parameters: algorithm, leaf_size, weights, n_neighbors\n",
    "\n",
    "Algorithm is the algorithm used to compute the nearest neighbors, could be KDTree and brute-force searh‘ball_tree’. 'Auto' will decide the better based on the data test. For the Algorithm parameter we used 'auto'.\n",
    "\n",
    "Leaf_size is is the size passed to algorithm. For Leaf_size we used values: 5, 30 (default), 40 \n",
    "\n",
    "Weights is weight function used in prediction. \n",
    "    Uniform: all points in each neihgborhood are weighted equally\n",
    "    Distance: Inverse of points distance (more weight = points more closer)\n",
    "    Callable: Weights defined by user.\n",
    "For weights we used, 'uniform' (default) and 'distance)\n",
    "\n",
    "n_neighbors is the number of neighbors. For n_neighbords we used values: 1, 3, 5(default) and 10"
   ]
  },
  {
   "cell_type": "markdown",
   "metadata": {},
   "source": [
    "#### Cross- Validation Decision Nearest Neighbor"
   ]
  },
  {
   "cell_type": "code",
   "execution_count": null,
   "metadata": {},
   "outputs": [],
   "source": [
    "from sklearn.neighbors import KNeighborsClassifier\n",
    "parameters = {'algorithm':['auto'], 'leaf_size':[30, 5, 40], 'weights': ['uniform', 'distance'], 'n_neighbors':[1,3,5,10]}\n",
    "knn = KNeighborsClassifier()\n",
    "clf_4 = GridSearchCV(knn, parameters, cv=5, n_jobs=4, scoring=\"precision_macro\")\n",
    "clf_4.fit(X_train, y_train)"
   ]
  },
  {
   "cell_type": "code",
   "execution_count": null,
   "metadata": {
    "scrolled": true
   },
   "outputs": [],
   "source": [
    "list(zip(clf_4.cv_results_['params'], clf_4.cv_results_['mean_test_score'], clf_4.cv_results_['rank_test_score']))"
   ]
  },
  {
   "cell_type": "code",
   "execution_count": null,
   "metadata": {},
   "outputs": [],
   "source": [
    "clf_4_best_params = get_parameters_of_best_model(clf_4.cv_results_['mean_test_score'], clf_4.cv_results_['params'])\n",
    "print(clf_4_best_params)"
   ]
  },
  {
   "cell_type": "markdown",
   "metadata": {},
   "source": [
    "#### Training the K-NN classifier with the best parameters obtained with Cross-validation"
   ]
  },
  {
   "cell_type": "code",
   "execution_count": null,
   "metadata": {},
   "outputs": [],
   "source": [
    "knn = KNeighborsClassifier(**clf_4_best_params)\n",
    "\n",
    "clf_knn = knn.fit(X_train, y_train) \n",
    "\n",
    "Y_pred_knn=clf_knn.predict(X_test)"
   ]
  },
  {
   "cell_type": "code",
   "execution_count": null,
   "metadata": {
    "scrolled": true
   },
   "outputs": [],
   "source": [
    "print(classification_report(y_test, Y_pred_knn))"
   ]
  },
  {
   "cell_type": "markdown",
   "metadata": {},
   "source": [
    "### Probabilistic Model - Naive Bayes \n"
   ]
  },
  {
   "cell_type": "code",
   "execution_count": null,
   "metadata": {},
   "outputs": [],
   "source": [
    "from sklearn.naive_bayes import GaussianNB\n",
    "gnb = GaussianNB()\n",
    "gnb.fit(X_train, y_train)\n",
    "Y_pred_nb = gnb.predict(X_test)"
   ]
  },
  {
   "cell_type": "code",
   "execution_count": null,
   "metadata": {},
   "outputs": [],
   "source": [
    "print(classification_report(y_test, Y_pred_nb))"
   ]
  },
  {
   "cell_type": "markdown",
   "metadata": {},
   "source": [
    "Without information of prior probability, it does not make sense to perform Cross-validation in order to find the best parameters. "
   ]
  },
  {
   "cell_type": "markdown",
   "metadata": {},
   "source": [
    "### Rules Model - CN2"
   ]
  },
  {
   "cell_type": "markdown",
   "metadata": {},
   "source": [
    "Classical CN2 inducer (Clark and Niblett; 1988) that constructs a set of ordered rules. Constructor returns either an instance of CN2Learner or, if training data is provided, a CN2Classifier. (https://docs.orange.biolab.si/2/reference/rst/Orange.classification.rules.html)"
   ]
  },
  {
   "cell_type": "code",
   "execution_count": null,
   "metadata": {},
   "outputs": [],
   "source": [
    "import Orange\n",
    "from Orange.data import Domain, StringVariable, ContinuousVariable, DiscreteVariable\n",
    "from Orange.data import Table\n",
    "\n",
    "#Domain stores a list of features, class(es) and meta attribute descriptors.\n",
    "\n",
    "attributes = [ContinuousVariable(name=\"feature_{}\".format(i+1)) for i in range(X_train.shape[1])]\n",
    "class_var = DiscreteVariable(name='y',\n",
    "                 values=[\"No\", \"Maybe\", \"Yes\"])\n",
    "domain = Domain(attributes, class_var)\n",
    "domain"
   ]
  },
  {
   "cell_type": "code",
   "execution_count": null,
   "metadata": {},
   "outputs": [],
   "source": [
    "#Transform dataframes to tables\n",
    "data_train = Table.from_numpy(domain, X_train, Y=y_train, metas=None, W=None)\n",
    "data_test = Table.from_numpy(domain, X_test, Y=y_test, metas=None, W=None)"
   ]
  },
  {
   "cell_type": "code",
   "execution_count": null,
   "metadata": {},
   "outputs": [],
   "source": [
    "learner = Orange.classification.CN2Learner()\n",
    "\n",
    "classifier = learner(data_train)"
   ]
  },
  {
   "cell_type": "code",
   "execution_count": null,
   "metadata": {
    "scrolled": true
   },
   "outputs": [],
   "source": [
    "#Rule_List\n",
    "for rule in classifier.rule_list:\n",
    "    print(rule, rule.curr_class_dist.tolist())"
   ]
  },
  {
   "cell_type": "code",
   "execution_count": null,
   "metadata": {},
   "outputs": [],
   "source": [
    "y_pred_scores = classifier.predict(X_test)\n",
    "Y_pred_rules = np.argmax(y_pred_scores,axis=1)\n",
    "Y_pred_rules.shape"
   ]
  },
  {
   "cell_type": "code",
   "execution_count": null,
   "metadata": {
    "scrolled": false
   },
   "outputs": [],
   "source": [
    "print(classification_report(y_test, Y_pred_rules))"
   ]
  },
  {
   "cell_type": "markdown",
   "metadata": {},
   "source": [
    "## 1.3. Classification - Results and Discussion "
   ]
  },
  {
   "cell_type": "markdown",
   "metadata": {},
   "source": [
    "Comparing the results of the implemented classifiers"
   ]
  },
  {
   "cell_type": "code",
   "execution_count": null,
   "metadata": {},
   "outputs": [],
   "source": [
    "print(\"SVM\", classification_report(y_test, Y_pred_svm))\n",
    "print(\"Log. Reg.\", classification_report(y_test, Y_pred_logreg))\n",
    "print(\"Decision Tree\", classification_report(y_test, Y_pred_tree))\n",
    "print(\"K-NN\", classification_report(y_test, Y_pred_knn))\n",
    "print(\"Naive Bayes\", classification_report(y_test, Y_pred_nb))\n",
    "print('Rules', classification_report(y_test, Y_pred_rules))"
   ]
  },
  {
   "cell_type": "code",
   "execution_count": null,
   "metadata": {},
   "outputs": [],
   "source": [
    "from sklearn.metrics import accuracy_score\n",
    "\n",
    "print(\"SVM accuracy:\", accuracy_score(y_test, Y_pred_svm))\n",
    "print(\"Log. Reg accuracy:\", accuracy_score(y_test, Y_pred_logreg))\n",
    "print(\"Decision Tree accuracy:\", accuracy_score(y_test, Y_pred_tree))\n",
    "print(\"K-NN accuracy:\", accuracy_score(y_test, Y_pred_knn))\n",
    "print(\"Naive Bayes accuracy:\", accuracy_score(y_test, Y_pred_nb))\n",
    "print('Rules accuracy:', accuracy_score(y_test, Y_pred_rules))"
   ]
  },
  {
   "cell_type": "markdown",
   "metadata": {},
   "source": [
    "#### Inspecting Confusion matrices"
   ]
  },
  {
   "cell_type": "code",
   "execution_count": null,
   "metadata": {},
   "outputs": [],
   "source": [
    "from sklearn.metrics import confusion_matrix\n",
    "import itertools\n",
    "\n",
    "class_names = [\"No\", \"Maybe\", \"Yes\"]\n",
    "\n",
    "def plot_confusion_matrix(cm, classes,\n",
    "                          normalize=False,\n",
    "                          title='Confusion matrix',\n",
    "                          cmap=plt.cm.Blues):\n",
    "    \"\"\"\n",
    "    This function prints and plots the confusion matrix.\n",
    "    Normalization can be applied by setting `normalize=True`.\n",
    "    \"\"\"\n",
    "    if normalize:\n",
    "        cm = cm.astype('float') / cm.sum(axis=1)[:, np.newaxis]\n",
    "        print(\"Normalized confusion matrix\")\n",
    "    else:\n",
    "        print('Confusion matrix, without normalization')\n",
    "\n",
    "    print(cm)\n",
    "\n",
    "    plt.imshow(cm, interpolation='nearest', cmap=cmap)\n",
    "    plt.title(title)\n",
    "    plt.colorbar()\n",
    "    tick_marks = np.arange(len(classes))\n",
    "    plt.xticks(tick_marks, classes, rotation=45)\n",
    "    plt.yticks(tick_marks, classes)\n",
    "\n",
    "    fmt = '.2f' if normalize else 'd'\n",
    "    thresh = cm.max() / 2.\n",
    "    for i, j in itertools.product(range(cm.shape[0]), range(cm.shape[1])):\n",
    "        plt.text(j, i, format(cm[i, j], fmt),\n",
    "                 horizontalalignment=\"center\",\n",
    "                 color=\"white\" if cm[i, j] > thresh else \"black\")\n",
    "\n",
    "    plt.ylabel('True label')\n",
    "    plt.xlabel('Predicted label')\n",
    "    plt.tight_layout()"
   ]
  },
  {
   "cell_type": "markdown",
   "metadata": {},
   "source": [
    "#### SVM Confusion Matrix"
   ]
  },
  {
   "cell_type": "code",
   "execution_count": null,
   "metadata": {},
   "outputs": [],
   "source": [
    "cnf_matrix = confusion_matrix(y_test, Y_pred_svm)\n",
    "np.set_printoptions(precision=2)\n",
    "\n",
    "plt.figure()\n",
    "plot_confusion_matrix(cnf_matrix, classes=class_names,\n",
    "                      title='SVM Confusion matrix')"
   ]
  },
  {
   "cell_type": "markdown",
   "metadata": {},
   "source": [
    "#### Logistic Regression Confusion Matrix"
   ]
  },
  {
   "cell_type": "code",
   "execution_count": null,
   "metadata": {},
   "outputs": [],
   "source": [
    "cnf_matrix = confusion_matrix(y_test, Y_pred_logreg)\n",
    "np.set_printoptions(precision=2)\n",
    "\n",
    "plt.figure()\n",
    "plot_confusion_matrix(cnf_matrix, classes=class_names,\n",
    "                      title='Log. Reg. Confusion matrix')"
   ]
  },
  {
   "cell_type": "markdown",
   "metadata": {},
   "source": [
    "#### Decision Tree Confusion Matrix"
   ]
  },
  {
   "cell_type": "code",
   "execution_count": null,
   "metadata": {},
   "outputs": [],
   "source": [
    "cnf_matrix = confusion_matrix(y_test, Y_pred_tree)\n",
    "np.set_printoptions(precision=2)\n",
    "\n",
    "plt.figure()\n",
    "plot_confusion_matrix(cnf_matrix, classes=class_names,\n",
    "                      title='Decision Tree Confusion matrix')"
   ]
  },
  {
   "cell_type": "markdown",
   "metadata": {},
   "source": [
    "#### K-NN Confusion Matrix"
   ]
  },
  {
   "cell_type": "code",
   "execution_count": null,
   "metadata": {},
   "outputs": [],
   "source": [
    "cnf_matrix = confusion_matrix(y_test, Y_pred_knn)\n",
    "np.set_printoptions(precision=2)\n",
    "\n",
    "plt.figure()\n",
    "plot_confusion_matrix(cnf_matrix, classes=class_names,\n",
    "                      title='K-NN Confusion matrix')"
   ]
  },
  {
   "cell_type": "markdown",
   "metadata": {},
   "source": [
    "#### NB Confusion Matrix"
   ]
  },
  {
   "cell_type": "code",
   "execution_count": null,
   "metadata": {},
   "outputs": [],
   "source": [
    "cnf_matrix = confusion_matrix(y_test, Y_pred_nb)\n",
    "np.set_printoptions(precision=2)\n",
    "\n",
    "plt.figure()\n",
    "plot_confusion_matrix(cnf_matrix, classes=class_names,\n",
    "                      title='Naive Bayes Confusion matrix')"
   ]
  },
  {
   "cell_type": "markdown",
   "metadata": {},
   "source": [
    "#### Final conclusions"
   ]
  },
  {
   "cell_type": "markdown",
   "metadata": {},
   "source": [
    "Comparing all classifiers we concluded that decision tree and logistic regression are the best classifiers. Comparing f1-scores we have for logistic regression for class 0 ('No')= 0.77, class 1 ('Maybe')=0.48 and Class 2 ('Yes')=0.80, with an accuracy of 0.73. For decision tree we have for class 0 ('No')= 0.78, class 1 ('Maybe')=0.57 and Class 2 ('Yes')=0.81, with an accuracy of 0.75. Looking for confusion matrix, we can see that decision tree has more balanced True Positives\\Falses Positives than LR. Consequently, with this features the best classifier is the decision tree. For the remaining classifiers, we have lower classifiers."
   ]
  },
  {
   "cell_type": "markdown",
   "metadata": {},
   "source": [
    "## Task 2 (Unsupervised Learning) - Charactering people with mental health disorders"
   ]
  },
  {
   "cell_type": "markdown",
   "metadata": {},
   "source": [
    "In this task you should **use unsupervised learning algorithms and try to characterize people with mental health disorders**:\n",
    "* Use association rule mining to find **associations between features and mental health disorders**.\n",
    "* Use **clustering algorithms to find groups describing similar people**, for example, is it possible to find groups of people with the same/similar mental health disorders.\n",
    "* **Be creative and define your own unsupervised analysis!** What would it be interesting to find out ?"
   ]
  },
  {
   "cell_type": "markdown",
   "metadata": {},
   "source": [
    "## 2.1. Preprocessing Data for Association Rule Mining"
   ]
  },
  {
   "cell_type": "markdown",
   "metadata": {},
   "source": [
    "..."
   ]
  },
  {
   "cell_type": "markdown",
   "metadata": {},
   "source": [
    "## 2.2. Finding Associations"
   ]
  },
  {
   "cell_type": "markdown",
   "metadata": {},
   "source": [
    "..."
   ]
  },
  {
   "cell_type": "markdown",
   "metadata": {},
   "source": [
    "## 2.3 Association Rules - Results and Discussion "
   ]
  },
  {
   "cell_type": "markdown",
   "metadata": {},
   "source": [
    "..."
   ]
  },
  {
   "cell_type": "markdown",
   "metadata": {},
   "source": [
    "## 2.4. Preprocess Data for Clustering"
   ]
  },
  {
   "cell_type": "markdown",
   "metadata": {},
   "source": [
    "..."
   ]
  },
  {
   "cell_type": "markdown",
   "metadata": {
    "collapsed": true
   },
   "source": [
    "## 2.5. Finding Groups"
   ]
  },
  {
   "cell_type": "markdown",
   "metadata": {},
   "source": [
    "..."
   ]
  },
  {
   "cell_type": "markdown",
   "metadata": {},
   "source": [
    "## 2.6. Clustering - Results and Discussion "
   ]
  },
  {
   "cell_type": "markdown",
   "metadata": {},
   "source": [
    "..."
   ]
  },
  {
   "cell_type": "markdown",
   "metadata": {},
   "source": [
    "## 3. Final Comments and Conclusions"
   ]
  },
  {
   "cell_type": "markdown",
   "metadata": {},
   "source": [
    "..."
   ]
  }
 ],
 "metadata": {
  "kernelspec": {
   "display_name": "Python 3",
   "language": "python",
   "name": "python3"
  },
  "language_info": {
   "codemirror_mode": {
    "name": "ipython",
    "version": 3
   },
   "file_extension": ".py",
   "mimetype": "text/x-python",
   "name": "python",
   "nbconvert_exporter": "python",
   "pygments_lexer": "ipython3",
   "version": "3.6.5"
  }
 },
 "nbformat": 4,
 "nbformat_minor": 2
}
