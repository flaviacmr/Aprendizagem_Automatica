{
 "cells": [
  {
   "cell_type": "markdown",
   "metadata": {},
   "source": [
    "# Machine Learning / Aprendizagem Automática\n",
    "\n",
    "## Sara C. Madeira, 2018/19\n",
    "\n",
    "# ML Project  - Learning from Mental Health in Tech Surveys "
   ]
  },
  {
   "cell_type": "markdown",
   "metadata": {},
   "source": [
    "## Logistics\n",
    "\n",
    "**Students are encouraged to work in teams of 4 people**. \n",
    "\n",
    "Projects with smaller teams are allowed, but will not have better grades for this reason. \n",
    "\n",
    "The quality of the project will dictate its grade, not the number of people working.\n",
    "\n",
    "**The project's solution should be uploaded in Moodle before the end of January, 9th 2019 (last day before the exams season).** \n",
    "\n",
    "**Other deadline date might be considered provided the majority of the students agree with it.**\n",
    "\n",
    "Students should **upload a `.zip` file** containing all the files necessary for project evaluation. \n",
    "\n",
    "**It is mandatory to produce a Jupyter notebook containing code and text/images/tables/etc describing the solution and the results.**\n",
    "\n",
    "**Decisions should be fundamented and results should be critically discussed.**"
   ]
  },
  {
   "cell_type": "markdown",
   "metadata": {},
   "source": [
    "## Tools\n",
    "\n",
    "You should use [Python 3](https://www.python.org) and [Jupyter Notebook](http://jupyter.org), together with **[Scikit-learn](http://scikit-learn.org/stable/)**, **[Orange3](https://orange.biolab.si)**, or **both**.\n",
    "\n",
    "**[Orange3](https://orange.biolab.si)** can be used through its **[programmatic version](https://docs.orange.biolab.si/3/data-mining-library/)**, by importing and using its packages, or throught its **workflow version**. \n",
    "\n",
    "If you use workflows you have to deliver the workflow files and explain the options taken in each widget in your notebook."
   ]
  },
  {
   "cell_type": "markdown",
   "metadata": {},
   "source": [
    "## Dataset\n",
    "\n",
    "The dataset to be analysed is **`mental-heath-in-tech-2016.csv`**, made avaliable together with this project description. \n",
    "\n",
    "This dataset, downloaded from [Kaggle](https://www.kaggle.com), contains data from [OSMI Mental Health in Tech Survey](https://www.kaggle.com/osmi/mental-health-in-tech-survey), collected during a survey aiming at measuring **attitudes towards mental health and frequency of mental health disorders in the Tech workplace**, carried out in 2016.\n",
    "\n",
    "The **1433 surveys/instances** are described by **62 categorical/numerical features**, where the following questions were asked:\n",
    "\n",
    "* Q1 - \"Are you self-employed?\"\n",
    "* Q2 - \"How many employees does your company or organization have?\"\n",
    "* Q3 - \"Is your employer primarily a tech company/organization?\"\n",
    "* Q4 - \"Is your primary role within your company related to tech/IT?\"\n",
    "* Q5 - \"Does your employer provide mental health benefits as part of healthcare coverage?\"\n",
    "* Q6 - \"Do you know the options for mental health care available under your employer-provided coverage?\"\n",
    "* Q7 - \"Has your employer ever formally discussed mental health (for example, as part of a wellness campaign or other official communication)?\"\n",
    "* Q8 - \"Does your employer offer resources to learn more about mental health concerns and options for seeking help?\"\n",
    "* Q9 - \"Is your anonymity protected if you choose to take advantage of mental health or substance abuse treatment resources provided by your employer?\"\n",
    "* Q10 - \"If a mental health issue prompted you to request a medical leave from work, asking for that leave would be:...\"\n",
    "* Q11 - \"Do you think that discussing a mental health disorder with your employer would have negative consequences?\"\n",
    "* Q12 - \"Do you think that discussing a physical health issue with your employer would have negative consequences?\"\n",
    "* Q13 - \"Would you feel comfortable discussing a mental health disorder with your coworkers?\"\n",
    "* Q14 - \"Would you feel comfortable discussing a mental health disorder with your direct supervisor(s)?\"\n",
    "* Q15 - \"Do you feel that your employer takes mental health as seriously as physical health?\"\n",
    "* Q16 - \"Have you heard of or observed negative consequences for co-workers who have been open about mental health issues in your workplace?\"\n",
    "* Q17 - \"Do you have medical coverage (private insurance or state-provided) which includes treatment of  mental health issues?\"\n",
    "* Q18 - \"Do you know local or online resources to seek help for a mental health disorder?\"\n",
    "* Q19 - \"If you have been diagnosed or treated for a mental health disorder, do you ever reveal this to clients or business contacts?\"\n",
    "* Q20 - \"If you have revealed a mental health issue to a client or business contact, do you believe this has impacted you negatively?\"\n",
    "* Q21 - \"If you have been diagnosed or treated for a mental health disorder, do you ever reveal this to coworkers or employees?\"\n",
    "* Q22 - \"If you have revealed a mental health issue to a coworker or employee, do you believe this has impacted you negatively?\"\n",
    "* Q23 - \"Do you believe your productivity is ever affected by a mental health issue?\"\n",
    "* Q24 - \"If yes, what percentage of your work time (time performing primary or secondary job functions) is affected by a mental health issue?\",\"Do you have previous employers?\"\n",
    "* Q25 - \"Have your previous employers provided mental health benefits?\"\n",
    "* Q26 - \"Were you aware of the options for mental health care provided by your previous employers?\"\n",
    "* Q27 - \"Did your previous employers ever formally discuss mental health (as part of a wellness campaign or other offi8cial communication)?\"\n",
    "* Q29 - \"Did your previous employers provide resources to learn more about mental health issues and how to seek help?\"\n",
    "* Q30 - \"Was your anonymity protected if you chose to take advantage of mental health or substance abuse treatment resources with previous employers?\"\n",
    "* Q31 - \"Do you think that discussing a mental health disorder with previous employers would have negative consequences?\"\n",
    "* Q32 - \"Do you think that discussing a physical health issue with previous employers would have negative consequences?\"\n",
    "* Q33 - \"Would you have been willing to discuss a mental health issue with your previous co-workers?\"\n",
    "* Q34 - \"Would you have been willing to discuss a mental health issue with your direct supervisor(s)?\"\n",
    "* Q35 - \"Did you feel that your previous employers took mental health as seriously as physical health?\"\n",
    "* Q36 - \"Did you hear of or observe negative consequences for co-workers with mental health issues in your previous workplaces?\"\n",
    "* Q37 - \"Would you be willing to bring up a physical health issue with a potential employer in an interview?\"\n",
    "    * Q38 - \"Why or why not?\"\n",
    "* Q39 - \"Would you bring up a mental health issue with a potential employer in an interview?\" \n",
    "    * Q40 - \"Why or why not?\"\n",
    "* Q41 - \"Do you feel that being identified as a person with a mental health issue would hurt your career?\"\n",
    "* Q42 - \"Do you think that team members/co-workers would view you more negatively if they knew you suffered from a mental health issue?\"\n",
    "* Q43 - \"How willing would you be to share with friends and family that you have a mental illness?\"\n",
    "* Q44 - \"Have you observed or experienced an unsupportive or badly handled response to a mental health issue in your current or previous workplace?\"\n",
    "* Q45 - \"Have your observations of how another individual who discussed a mental health disorder made you less likely to reveal a mental health issue yourself in your current workplace?\"\n",
    "* Q46 - \"Do you have a family history of mental illness?\"\n",
    "* Q47 - \"Have you had a mental health disorder in the past?\"\n",
    "* **Q48 - \"Do you currently have a mental health disorder?\"**\n",
    "    * **Q49 - \"If yes, what condition(s) have you been diagnosed with?\"**\n",
    "    * **Q50 - \"If maybe, what condition(s) do you believe you have?\"**\n",
    "* Q51 - \"Have you been diagnosed with a mental health condition by a medical professional?\"\n",
    "    * Q52 - \"If so, what condition(s) were you diagnosed with?\"\n",
    "* Q53 - \"Have you ever sought treatment for a mental health issue from a mental health professional?\"\n",
    "* Q54 - \"If you have a mental health issue, do you feel that it interferes with your work when being treated effectively?\"\n",
    "* Q55 - \"If you have a mental health issue, do you feel that it interferes with your work when NOT being treated effectively?\"\n",
    "* Q56 - \"What is your age?\",\"What is your gender?\"\n",
    "* Q57 - \"What country do you live in?\"\n",
    "    * Q58 - \"What US state or territory do you live in?\"\n",
    "* Q59 - \"What country do you work in?\"\n",
    "    * Q60 - \"What US state or territory do you work in?\"\n",
    "* Q61 - \"Which of the following best describes your work position?\"\n",
    "* Q62 - \"Do you work remotely?\"\n",
    "\n",
    "**IMPORTANT NOTES:**\n",
    "\n",
    "   1. **Some questions might not be asked**. For example, Q49 and Q50 will only be asked if Q48 is \"yes\". \n",
    "   2. Data can contain **errors/typos**, whose correction might improve the analysis.\n",
    "   3. Data can contain **missing values**, that you might decide to fill.\n",
    "   4. **Not all features are necessarily important** for the analysis.\n",
    "   5. Depending on the analysis, **some features might have to be excluded**. An example is when we want to predict a certain feature and there are other features that only have values for certain values of the target."
   ]
  },
  {
   "cell_type": "markdown",
   "metadata": {},
   "source": [
    "## Task 0 (Know your Data) - Preliminary Data Analysis"
   ]
  },
  {
   "cell_type": "markdown",
   "metadata": {},
   "source": [
    "## Libraries"
   ]
  },
  {
   "cell_type": "code",
   "execution_count": 2,
   "metadata": {},
   "outputs": [],
   "source": [
    "import pandas as pd\n",
    "import numpy as np\n",
    "import re\n",
    "\n",
    "##Plots\n",
    "import matplotlib.pyplot as plt\n",
    "import seaborn as sns\n",
    "\n",
    "#Output\n",
    "pd.set_option('display.max_columns', 500)\n",
    "\n",
    "#STATISTICAL TESTS\n",
    "# para cramer's V\n",
    "from   scipy.stats               import ttest_ind\n",
    "from   scipy.stats.distributions import chi2\n",
    "import scipy.stats               as ss\n",
    "import scipy.stats               as stats\n",
    "\n",
    "\n",
    "#Encoding and Scaling - z-score\n",
    "from sklearn.preprocessing import StandardScaler, OneHotEncoder\n",
    "\n",
    "#REPRESENTAçÃO GRÀFICA 3 PCA do SET de Dados com base nos clusters identifcados\n",
    "\n",
    "from sklearn.decomposition import PCA\n",
    "from mpl_toolkits.mplot3d import Axes3D\n",
    "\n",
    "# ROC CURVE\n",
    "\n",
    "from sklearn.metrics import roc_curve, roc_auc_score, confusion_matrix, precision_score, recall_score, f1_score, cohen_kappa_score\n",
    "\n",
    "# Cross Validation\n",
    "from sklearn.model_selection import cross_val_score\n"
   ]
  },
  {
   "cell_type": "markdown",
   "metadata": {},
   "source": [
    "## 0.1. Loading Data"
   ]
  },
  {
   "cell_type": "code",
   "execution_count": 30,
   "metadata": {},
   "outputs": [],
   "source": [
    "#df_mh = pd.read_csv('C:\\\\Users\\\\marta.s.rolho_sub\\\\Documents\\\\GitHub\\\\ProjectoAA\\\\AA_201819_Project\\\\AA_201819_Project\\\\mental-heath-in-tech-2016.csv')\n",
    "\n",
    "\n",
    "df_mh = pd.read_csv('C:\\\\Users\\\\atvfcmr\\\\Desktop\\\\FCUL_Pos-grad DS\\\\AA\\\\ProjectoAA\\\\AA_201819_Project\\\\AA_201819_Project\\\\mental-heath-in-tech-2016.csv')\n"
   ]
  },
  {
   "cell_type": "markdown",
   "metadata": {},
   "source": [
    "## 0.2. Understanding Data"
   ]
  },
  {
   "cell_type": "markdown",
   "metadata": {},
   "source": [
    "In this task you should understand better the features you have, the distribution of values, potential errors, etc and plan/describe what data preprocessing steps should be performed next."
   ]
  },
  {
   "cell_type": "markdown",
   "metadata": {},
   "source": [
    "### Step 1: Data Selection - Consider what data is available, what data is missing and what data can be removed."
   ]
  },
  {
   "cell_type": "markdown",
   "metadata": {},
   "source": [
    "### Exploratory Data Analysis"
   ]
  },
  {
   "cell_type": "markdown",
   "metadata": {},
   "source": [
    "#### Dataframe has 1433 rows (answers) and 63 columns (questions)"
   ]
  },
  {
   "cell_type": "code",
   "execution_count": 5,
   "metadata": {},
   "outputs": [
    {
     "data": {
      "text/plain": [
       "(1433, 63)"
      ]
     },
     "execution_count": 5,
     "metadata": {},
     "output_type": "execute_result"
    }
   ],
   "source": [
    "df_mh.shape"
   ]
  },
  {
   "cell_type": "code",
   "execution_count": 7,
   "metadata": {},
   "outputs": [
    {
     "name": "stdout",
     "output_type": "stream",
     "text": [
      "<class 'pandas.core.frame.DataFrame'>\n",
      "RangeIndex: 1433 entries, 0 to 1432\n",
      "Data columns (total 63 columns):\n",
      "Are you self-employed?                                                                                                                                                              1433 non-null int64\n",
      "How many employees does your company or organization have?                                                                                                                          1146 non-null object\n",
      "Is your employer primarily a tech company/organization?                                                                                                                             1146 non-null float64\n",
      "Is your primary role within your company related to tech/IT?                                                                                                                        263 non-null float64\n",
      "Does your employer provide mental health benefits as part of healthcare coverage?                                                                                                   1146 non-null object\n",
      "Do you know the options for mental health care available under your employer-provided coverage?                                                                                     1013 non-null object\n",
      "Has your employer ever formally discussed mental health (for example, as part of a wellness campaign or other official communication)?                                              1146 non-null object\n",
      "Does your employer offer resources to learn more about mental health concerns and options for seeking help?                                                                         1146 non-null object\n",
      "Is your anonymity protected if you choose to take advantage of mental health or substance abuse treatment resources provided by your employer?                                      1146 non-null object\n",
      "If a mental health issue prompted you to request a medical leave from work, asking for that leave would be:                                                                         1146 non-null object\n",
      "Do you think that discussing a mental health disorder with your employer would have negative consequences?                                                                          1146 non-null object\n",
      "Do you think that discussing a physical health issue with your employer would have negative consequences?                                                                           1146 non-null object\n",
      "Would you feel comfortable discussing a mental health disorder with your coworkers?                                                                                                 1146 non-null object\n",
      "Would you feel comfortable discussing a mental health disorder with your direct supervisor(s)?                                                                                      1146 non-null object\n",
      "Do you feel that your employer takes mental health as seriously as physical health?                                                                                                 1146 non-null object\n",
      "Have you heard of or observed negative consequences for co-workers who have been open about mental health issues in your workplace?                                                 1146 non-null object\n",
      "Do you have medical coverage (private insurance or state-provided) which includes treatment of  mental health issues?                                                               287 non-null float64\n",
      "Do you know local or online resources to seek help for a mental health disorder?                                                                                                    287 non-null object\n",
      "If you have been diagnosed or treated for a mental health disorder, do you ever reveal this to clients or business contacts?                                                        287 non-null object\n",
      "If you have revealed a mental health issue to a client or business contact, do you believe this has impacted you negatively?                                                        144 non-null object\n",
      "If you have been diagnosed or treated for a mental health disorder, do you ever reveal this to coworkers or employees?                                                              287 non-null object\n",
      "If you have revealed a mental health issue to a coworker or employee, do you believe this has impacted you negatively?                                                              287 non-null object\n",
      "Do you believe your productivity is ever affected by a mental health issue?                                                                                                         287 non-null object\n",
      "If yes, what percentage of your work time (time performing primary or secondary job functions) is affected by a mental health issue?                                                204 non-null object\n",
      "Do you have previous employers?                                                                                                                                                     1433 non-null int64\n",
      "Have your previous employers provided mental health benefits?                                                                                                                       1264 non-null object\n",
      "Were you aware of the options for mental health care provided by your previous employers?                                                                                           1264 non-null object\n",
      "Did your previous employers ever formally discuss mental health (as part of a wellness campaign or other official communication)?                                                   1264 non-null object\n",
      "Did your previous employers provide resources to learn more about mental health issues and how to seek help?                                                                        1264 non-null object\n",
      "Was your anonymity protected if you chose to take advantage of mental health or substance abuse treatment resources with previous employers?                                        1264 non-null object\n",
      "Do you think that discussing a mental health disorder with previous employers would have negative consequences?                                                                     1264 non-null object\n",
      "Do you think that discussing a physical health issue with previous employers would have negative consequences?                                                                      1264 non-null object\n",
      "Would you have been willing to discuss a mental health issue with your previous co-workers?                                                                                         1264 non-null object\n",
      "Would you have been willing to discuss a mental health issue with your direct supervisor(s)?                                                                                        1264 non-null object\n",
      "Did you feel that your previous employers took mental health as seriously as physical health?                                                                                       1264 non-null object\n",
      "Did you hear of or observe negative consequences for co-workers with mental health issues in your previous workplaces?                                                              1264 non-null object\n",
      "Would you be willing to bring up a physical health issue with a potential employer in an interview?                                                                                 1433 non-null object\n",
      "Why or why not?                                                                                                                                                                     1095 non-null object\n",
      "Would you bring up a mental health issue with a potential employer in an interview?                                                                                                 1433 non-null object\n",
      "Why or why not?.1                                                                                                                                                                   1126 non-null object\n",
      "Do you feel that being identified as a person with a mental health issue would hurt your career?                                                                                    1433 non-null object\n",
      "Do you think that team members/co-workers would view you more negatively if they knew you suffered from a mental health issue?                                                      1433 non-null object\n",
      "How willing would you be to share with friends and family that you have a mental illness?                                                                                           1433 non-null object\n",
      "Have you observed or experienced an unsupportive or badly handled response to a mental health issue in your current or previous workplace?                                          1344 non-null object\n",
      "Have your observations of how another individual who discussed a mental health disorder made you less likely to reveal a mental health issue yourself in your current workplace?    657 non-null object\n",
      "Do you have a family history of mental illness?                                                                                                                                     1433 non-null object\n",
      "Have you had a mental health disorder in the past?                                                                                                                                  1433 non-null object\n",
      "Do you currently have a mental health disorder?                                                                                                                                     1433 non-null object\n",
      "If yes, what condition(s) have you been diagnosed with?                                                                                                                             568 non-null object\n",
      "If maybe, what condition(s) do you believe you have?                                                                                                                                322 non-null object\n",
      "Have you been diagnosed with a mental health condition by a medical professional?                                                                                                   1433 non-null object\n",
      "If so, what condition(s) were you diagnosed with?                                                                                                                                   711 non-null object\n",
      "Have you ever sought treatment for a mental health issue from a mental health professional?                                                                                         1433 non-null int64\n",
      "If you have a mental health issue, do you feel that it interferes with your work when being treated effectively?                                                                    1433 non-null object\n",
      "If you have a mental health issue, do you feel that it interferes with your work when NOT being treated effectively?                                                                1433 non-null object\n",
      "What is your age?                                                                                                                                                                   1433 non-null int64\n",
      "What is your gender?                                                                                                                                                                1430 non-null object\n",
      "What country do you live in?                                                                                                                                                        1433 non-null object\n",
      "What US state or territory do you live in?                                                                                                                                          840 non-null object\n",
      "What country do you work in?                                                                                                                                                        1433 non-null object\n",
      "What US state or territory do you work in?                                                                                                                                          851 non-null object\n",
      "Which of the following best describes your work position?                                                                                                                           1433 non-null object\n",
      "Do you work remotely?                                                                                                                                                               1433 non-null object\n",
      "dtypes: float64(3), int64(4), object(56)\n",
      "memory usage: 705.4+ KB\n",
      "None\n"
     ]
    }
   ],
   "source": [
    "print(df_mh.info())\n",
    "df_mh.head(2)"
   ]
  },
  {
   "cell_type": "markdown",
   "metadata": {},
   "source": [
    "#### Analyzing the Variable to Predicted"
   ]
  },
  {
   "cell_type": "code",
   "execution_count": 10,
   "metadata": {},
   "outputs": [
    {
     "data": {
      "text/plain": [
       "Yes      40.125611\n",
       "No       37.055129\n",
       "Maybe    22.819260\n",
       "Name: Do you currently have a mental health disorder?, dtype: float64"
      ]
     },
     "execution_count": 10,
     "metadata": {},
     "output_type": "execute_result"
    }
   ],
   "source": [
    "df_mh['Do you currently have a mental health disorder?'].value_counts()/len(df_mh['Do you currently have a mental health disorder?'])*100"
   ]
  },
  {
   "cell_type": "code",
   "execution_count": 11,
   "metadata": {},
   "outputs": [
    {
     "data": {
      "text/plain": [
       "<matplotlib.axes._subplots.AxesSubplot at 0x1202c6c6a58>"
      ]
     },
     "execution_count": 11,
     "metadata": {},
     "output_type": "execute_result"
    },
    {
     "data": {
      "image/png": "[encoded data removed]",
      "text/plain": [
       "<Figure size 432x288 with 1 Axes>"
      ]
     },
     "metadata": {
      "needs_background": "light"
     },
     "output_type": "display_data"
    }
   ],
   "source": [
    "to_plot = df_mh['Do you currently have a mental health disorder?'].value_counts()/len(df_mh['Do you currently have a mental health disorder?'])*100\n",
    "to_plot.plot(kind='bar', title='Do you currently have a mental health disorder?')\n"
   ]
  },
  {
   "cell_type": "markdown",
   "metadata": {},
   "source": [
    "Pelo que podemos observar no gráfico acima, onde é representada a distribuição de respostas na pergunta 'Do you currently have a mental health disorder?', é que cerca de 77% dos inquiridos responderam concretamente ao inquérito e que aproximadamente 23% responderam 'maybe'. Existem duas estratégias que podemos aplicar nesta situação, incluir o maybe como sendo um caso positivo, sendo que pessoas com este tipo de doenças podem ser mais relutantes a responder, ou então criar um classificador com 3 categorias, em que aos Maybe é também atribuída uma probabilidade ter doença mental."
   ]
  },
  {
   "cell_type": "markdown",
   "metadata": {},
   "source": [
    "#### Analysis of Missing Values"
   ]
  },
  {
   "cell_type": "code",
   "execution_count": 55,
   "metadata": {},
   "outputs": [],
   "source": [
    "def missing_values_table(df):\n",
    "        mis_val = df.isnull().sum()\n",
    "        mis_val_percent = 100 * df.isnull().sum() / len(df)\n",
    "        mis_val_table = pd.concat([mis_val, mis_val_percent], axis=1)\n",
    "        mis_val_table_ren_columns = mis_val_table.rename(\n",
    "        columns = {0 : 'Missing Values', 1 : '% of Total Values'})\n",
    "        mis_val_table_ren_columns = mis_val_table_ren_columns[\n",
    "            mis_val_table_ren_columns.iloc[:,1] != 0].sort_values(\n",
    "        '% of Total Values', ascending=False).round(1)\n",
    "        print (\"Dataframe has \" + str(df.shape[1]) + \" columns.\\n\"      \n",
    "            \"There are \" + str(mis_val_table_ren_columns.shape[0]) +\n",
    "              \" columns that have missing values.\")\n",
    "        return mis_val_table_ren_columns"
   ]
  },
  {
   "cell_type": "code",
   "execution_count": 56,
   "metadata": {},
   "outputs": [
    {
     "name": "stdout",
     "output_type": "stream",
     "text": [
      "Dataframe has 63 columns.\n",
      "There are 43 columns that have missing values.\n"
     ]
    },
    {
     "data": {
      "text/html": [
       "<div>\n",
       "<style scoped>\n",
       "    .dataframe tbody tr th:only-of-type {\n",
       "        vertical-align: middle;\n",
       "    }\n",
       "\n",
       "    .dataframe tbody tr th {\n",
       "        vertical-align: top;\n",
       "    }\n",
       "\n",
       "    .dataframe thead th {\n",
       "        text-align: right;\n",
       "    }\n",
       "</style>\n",
       "<table border=\"1\" class=\"dataframe\">\n",
       "  <thead>\n",
       "    <tr style=\"text-align: right;\">\n",
       "      <th></th>\n",
       "      <th>Missing Values</th>\n",
       "      <th>% of Total Values</th>\n",
       "    </tr>\n",
       "  </thead>\n",
       "  <tbody>\n",
       "    <tr>\n",
       "      <th>Q20</th>\n",
       "      <td>1289</td>\n",
       "      <td>90.0</td>\n",
       "    </tr>\n",
       "    <tr>\n",
       "      <th>Q24</th>\n",
       "      <td>1229</td>\n",
       "      <td>85.8</td>\n",
       "    </tr>\n",
       "    <tr>\n",
       "      <th>1stRole_IT</th>\n",
       "      <td>1170</td>\n",
       "      <td>81.6</td>\n",
       "    </tr>\n",
       "    <tr>\n",
       "      <th>Productivity_Affected_MH</th>\n",
       "      <td>1146</td>\n",
       "      <td>80.0</td>\n",
       "    </tr>\n",
       "    <tr>\n",
       "      <th>Q17</th>\n",
       "      <td>1146</td>\n",
       "      <td>80.0</td>\n",
       "    </tr>\n",
       "    <tr>\n",
       "      <th>Q22</th>\n",
       "      <td>1146</td>\n",
       "      <td>80.0</td>\n",
       "    </tr>\n",
       "    <tr>\n",
       "      <th>Q21</th>\n",
       "      <td>1146</td>\n",
       "      <td>80.0</td>\n",
       "    </tr>\n",
       "    <tr>\n",
       "      <th>Reveal_MH_to_BusinessContacts</th>\n",
       "      <td>1146</td>\n",
       "      <td>80.0</td>\n",
       "    </tr>\n",
       "    <tr>\n",
       "      <th>Q18</th>\n",
       "      <td>1146</td>\n",
       "      <td>80.0</td>\n",
       "    </tr>\n",
       "    <tr>\n",
       "      <th>MH_Maybe_Present_Conditions</th>\n",
       "      <td>1111</td>\n",
       "      <td>77.5</td>\n",
       "    </tr>\n",
       "    <tr>\n",
       "      <th>MH_Present_Conditions</th>\n",
       "      <td>865</td>\n",
       "      <td>60.4</td>\n",
       "    </tr>\n",
       "    <tr>\n",
       "      <th>Q45</th>\n",
       "      <td>776</td>\n",
       "      <td>54.2</td>\n",
       "    </tr>\n",
       "    <tr>\n",
       "      <th>MH_Conditions_MedicalProf</th>\n",
       "      <td>722</td>\n",
       "      <td>50.4</td>\n",
       "    </tr>\n",
       "    <tr>\n",
       "      <th>State_Live</th>\n",
       "      <td>593</td>\n",
       "      <td>41.4</td>\n",
       "    </tr>\n",
       "    <tr>\n",
       "      <th>State_Work</th>\n",
       "      <td>582</td>\n",
       "      <td>40.6</td>\n",
       "    </tr>\n",
       "    <tr>\n",
       "      <th>Health_Care_Options_MH</th>\n",
       "      <td>420</td>\n",
       "      <td>29.3</td>\n",
       "    </tr>\n",
       "    <tr>\n",
       "      <th>Q38</th>\n",
       "      <td>338</td>\n",
       "      <td>23.6</td>\n",
       "    </tr>\n",
       "    <tr>\n",
       "      <th>Q40</th>\n",
       "      <td>307</td>\n",
       "      <td>21.4</td>\n",
       "    </tr>\n",
       "    <tr>\n",
       "      <th>Consequence_in_Work_MH</th>\n",
       "      <td>287</td>\n",
       "      <td>20.0</td>\n",
       "    </tr>\n",
       "    <tr>\n",
       "      <th>Employer_Considered_MH_PH</th>\n",
       "      <td>287</td>\n",
       "      <td>20.0</td>\n",
       "    </tr>\n",
       "    <tr>\n",
       "      <th>Health_Benefits</th>\n",
       "      <td>287</td>\n",
       "      <td>20.0</td>\n",
       "    </tr>\n",
       "    <tr>\n",
       "      <th>Employeer_Discuss_MH</th>\n",
       "      <td>287</td>\n",
       "      <td>20.0</td>\n",
       "    </tr>\n",
       "    <tr>\n",
       "      <th>MH_Resources_Seeking_Help</th>\n",
       "      <td>287</td>\n",
       "      <td>20.0</td>\n",
       "    </tr>\n",
       "    <tr>\n",
       "      <th>Q9</th>\n",
       "      <td>287</td>\n",
       "      <td>20.0</td>\n",
       "    </tr>\n",
       "    <tr>\n",
       "      <th>Num_Employees</th>\n",
       "      <td>287</td>\n",
       "      <td>20.0</td>\n",
       "    </tr>\n",
       "    <tr>\n",
       "      <th>Q14</th>\n",
       "      <td>287</td>\n",
       "      <td>20.0</td>\n",
       "    </tr>\n",
       "    <tr>\n",
       "      <th>Q13</th>\n",
       "      <td>287</td>\n",
       "      <td>20.0</td>\n",
       "    </tr>\n",
       "    <tr>\n",
       "      <th>Q12</th>\n",
       "      <td>287</td>\n",
       "      <td>20.0</td>\n",
       "    </tr>\n",
       "    <tr>\n",
       "      <th>Q11</th>\n",
       "      <td>287</td>\n",
       "      <td>20.0</td>\n",
       "    </tr>\n",
       "    <tr>\n",
       "      <th>Type_Company</th>\n",
       "      <td>287</td>\n",
       "      <td>20.0</td>\n",
       "    </tr>\n",
       "    <tr>\n",
       "      <th>Q10</th>\n",
       "      <td>287</td>\n",
       "      <td>20.0</td>\n",
       "    </tr>\n",
       "    <tr>\n",
       "      <th>Q28</th>\n",
       "      <td>169</td>\n",
       "      <td>11.8</td>\n",
       "    </tr>\n",
       "    <tr>\n",
       "      <th>Q29</th>\n",
       "      <td>169</td>\n",
       "      <td>11.8</td>\n",
       "    </tr>\n",
       "    <tr>\n",
       "      <th>Q26</th>\n",
       "      <td>169</td>\n",
       "      <td>11.8</td>\n",
       "    </tr>\n",
       "    <tr>\n",
       "      <th>Q36</th>\n",
       "      <td>169</td>\n",
       "      <td>11.8</td>\n",
       "    </tr>\n",
       "    <tr>\n",
       "      <th>Q35</th>\n",
       "      <td>169</td>\n",
       "      <td>11.8</td>\n",
       "    </tr>\n",
       "    <tr>\n",
       "      <th>Q34</th>\n",
       "      <td>169</td>\n",
       "      <td>11.8</td>\n",
       "    </tr>\n",
       "    <tr>\n",
       "      <th>Q33</th>\n",
       "      <td>169</td>\n",
       "      <td>11.8</td>\n",
       "    </tr>\n",
       "    <tr>\n",
       "      <th>Q27</th>\n",
       "      <td>169</td>\n",
       "      <td>11.8</td>\n",
       "    </tr>\n",
       "    <tr>\n",
       "      <th>Q31</th>\n",
       "      <td>169</td>\n",
       "      <td>11.8</td>\n",
       "    </tr>\n",
       "    <tr>\n",
       "      <th>Q30</th>\n",
       "      <td>169</td>\n",
       "      <td>11.8</td>\n",
       "    </tr>\n",
       "    <tr>\n",
       "      <th>Q32</th>\n",
       "      <td>169</td>\n",
       "      <td>11.8</td>\n",
       "    </tr>\n",
       "    <tr>\n",
       "      <th>Q44</th>\n",
       "      <td>89</td>\n",
       "      <td>6.2</td>\n",
       "    </tr>\n",
       "  </tbody>\n",
       "</table>\n",
       "</div>"
      ],
      "text/plain": [
       "                               Missing Values  % of Total Values\n",
       "Q20                                      1289               90.0\n",
       "Q24                                      1229               85.8\n",
       "1stRole_IT                               1170               81.6\n",
       "Productivity_Affected_MH                 1146               80.0\n",
       "Q17                                      1146               80.0\n",
       "Q22                                      1146               80.0\n",
       "Q21                                      1146               80.0\n",
       "Reveal_MH_to_BusinessContacts            1146               80.0\n",
       "Q18                                      1146               80.0\n",
       "MH_Maybe_Present_Conditions              1111               77.5\n",
       "MH_Present_Conditions                     865               60.4\n",
       "Q45                                       776               54.2\n",
       "MH_Conditions_MedicalProf                 722               50.4\n",
       "State_Live                                593               41.4\n",
       "State_Work                                582               40.6\n",
       "Health_Care_Options_MH                    420               29.3\n",
       "Q38                                       338               23.6\n",
       "Q40                                       307               21.4\n",
       "Consequence_in_Work_MH                    287               20.0\n",
       "Employer_Considered_MH_PH                 287               20.0\n",
       "Health_Benefits                           287               20.0\n",
       "Employeer_Discuss_MH                      287               20.0\n",
       "MH_Resources_Seeking_Help                 287               20.0\n",
       "Q9                                        287               20.0\n",
       "Num_Employees                             287               20.0\n",
       "Q14                                       287               20.0\n",
       "Q13                                       287               20.0\n",
       "Q12                                       287               20.0\n",
       "Q11                                       287               20.0\n",
       "Type_Company                              287               20.0\n",
       "Q10                                       287               20.0\n",
       "Q28                                       169               11.8\n",
       "Q29                                       169               11.8\n",
       "Q26                                       169               11.8\n",
       "Q36                                       169               11.8\n",
       "Q35                                       169               11.8\n",
       "Q34                                       169               11.8\n",
       "Q33                                       169               11.8\n",
       "Q27                                       169               11.8\n",
       "Q31                                       169               11.8\n",
       "Q30                                       169               11.8\n",
       "Q32                                       169               11.8\n",
       "Q44                                        89                6.2"
      ]
     },
     "execution_count": 56,
     "metadata": {},
     "output_type": "execute_result"
    }
   ],
   "source": [
    "missing_values_table(df_mh)"
   ]
  },
  {
   "cell_type": "markdown",
   "metadata": {},
   "source": [
    "10 of 63 columns have more than 70% of values with missing values. Maybe we should drop some of these columns. "
   ]
  },
  {
   "cell_type": "markdown",
   "metadata": {},
   "source": [
    "## Task 1 (Supervised Learning) - Predicting if a person has a mental health disorder "
   ]
  },
  {
   "cell_type": "markdown",
   "metadata": {},
   "source": [
    "In this task you should **learn classifiers to predict if a person currently has a mental health disorder**:\n",
    "\n",
    "* Choose one classifier in each category: Tree models, Rule models, Linear models, Distance-based models, and Probabilistic models.\n",
    "* Use a train/test scheme or cross-valiation.\n",
    "* Describe the parameters used.\n",
    "* Evaluate the results using an evaluation measure and confusion matrices.\n",
    "* Choose the best classifier and fundament you choice."
   ]
  },
  {
   "cell_type": "markdown",
   "metadata": {},
   "source": [
    "## 1.1. Preprocessing Data for Classification"
   ]
  },
  {
   "cell_type": "code",
   "execution_count": 11,
   "metadata": {},
   "outputs": [],
   "source": [
    "## Organize your selected data by formatting, cleaning and sampling from it."
   ]
  },
  {
   "cell_type": "markdown",
   "metadata": {},
   "source": [
    "### 1.1.1 Rename columns"
   ]
  },
  {
   "cell_type": "code",
   "execution_count": 32,
   "metadata": {},
   "outputs": [],
   "source": [
    "new_names =  {'Are you self-employed?': 'Self-Employed',\n",
    "'How many employees does your company or organization have?': 'Num_Employees',\n",
    "'Is your employer primarily a tech company/organization?': 'Type_Company',\n",
    "'Is your primary role within your company related to tech/IT?':'1stRole_IT',\n",
    "'Does your employer provide mental health benefits as part of healthcare coverage?': 'Health_Benefits',  \n",
    "'Do you know the options for mental health care available under your employer-provided coverage?': 'Health_Care_Options_MH', \n",
    "'Has your employer ever formally discussed mental health (for example, as part of a wellness campaign or other official communication)?': 'Employeer_Discuss_MH',\n",
    "'Does your employer offer resources to learn more about mental health concerns and options for seeking help?': 'MH_Resources_Seeking_Help',\n",
    "'Is your anonymity protected if you choose to take advantage of mental health or substance abuse treatment resources provided by your employer?': 'Q9',\n",
    "\"If a mental health issue prompted you to request a medical leave from work, asking for that leave would be:\":'Q10',\n",
    "\"Do you think that discussing a mental health disorder with your employer would have negative consequences?\": 'Q11',\n",
    "\"Do you think that discussing a physical health issue with your employer would have negative consequences?\": 'Q12',\n",
    "\"Would you feel comfortable discussing a mental health disorder with your coworkers?\": 'Q13',\n",
    "\"Would you feel comfortable discussing a mental health disorder with your direct supervisor(s)?\": 'Q14',\n",
    "\"Do you feel that your employer takes mental health as seriously as physical health?\": 'Employer_Considerated_MH_PH',\n",
    "\"Have you heard of or observed negative consequences for co-workers who have been open about mental health issues in your workplace?\": 'Consequence_in_Work_MH',\n",
    "\"Do you have medical coverage (private insurance or state-provided) which includes treatment of  mental health issues?\":'Q17',\n",
    "\"Do you know local or online resources to seek help for a mental health disorder?\":'Q18',\n",
    "\"If you have been diagnosed or treated for a mental health disorder, do you ever reveal this to clients or business contacts?\":'Reveal_MH_to_BusinessContacts',\n",
    "\"If you have revealed a mental health issue to a client or business contact, do you believe this has impacted you negatively?\":'Q20',\n",
    "\"If you have been diagnosed or treated for a mental health disorder, do you ever reveal this to coworkers or employees?\":'Q21',\n",
    "\"If you have revealed a mental health issue to a coworker or employee, do you believe this has impacted you negatively?\":'Q22',\n",
    "\"Do you believe your productivity is ever affected by a mental health issue?\":'Productivity_Affected_MH',\n",
    "\"If yes, what percentage of your work time (time performing primary or secondary job functions) is affected by a mental health issue?\": 'Q24',\n",
    "\"Do you have previous employers?\": 'Q25',\n",
    "\"Have your previous employers provided mental health benefits?\": 'Q26',\n",
    "\"Were you aware of the options for mental health care provided by your previous employers?\":'Q27',\n",
    "\"Did your previous employers ever formally discuss mental health (as part of a wellness campaign or other official communication)\": 'Q28',\n",
    "\"Did your previous employers provide resources to learn more about mental health issues and how to seek help?\": 'Q29',\n",
    "\"Was your anonymity protected if you chose to take advantage of mental health or substance abuse treatment resources with previous employers?\": 'Q30',\n",
    "\"Do you think that discussing a mental health disorder with previous employers would have negative consequences?\":'Q31',\n",
    "\"Do you think that discussing a physical health issue with previous employers would have negative consequences?\": 'Q32',\n",
    "\"Would you have been willing to discuss a mental health issue with your previous co-workers?\":'Q33',\n",
    "\"Would you have been willing to discuss a mental health issue with your direct supervisor(s)?\":'Q34',              \n",
    "\"Did you feel that your previous employers took mental health as seriously as physical health?\":'Q35',\n",
    "\"Did you hear of or observe negative consequences for co-workers with mental health issues in your previous workplaces?\":'Q36',\n",
    "\"Would you be willing to bring up a physical health issue with a potential employer in an interview?\":'Q37',\n",
    "\"Why or why not?\":'Q38',\n",
    "\"Would you bring up a mental health issue with a potential employer in an interview?\":'Q39',\n",
    "\"Why or why not?\": 'Q40',\n",
    "\"Do you feel that being identified as a person with a mental health issue would hurt your career?\":'MH_HurtCarrer',\n",
    "\"Do you think that team members/co-workers would view you more negatively if they knew you suffered from a mental health issue?\":'Team_ViewNegatively_MH',\n",
    "\"How willing would you be to share with friends and family that you have a mental illness?\":'Share_MH_FriendsAndFamily',\n",
    "\"Have you observed or experienced an unsupportive or badly handled response to a mental health issue in your current or previous workplace?\":'Q44',\n",
    "\"Have your observations of how another individual who discussed a mental health disorder made you less likely to reveal a mental health issue yourself in your current workplace?\":'Q45',\n",
    "\"Do you have a family history of mental illness?\":'Family_MentalIllness',\n",
    "\"Have you had a mental health disorder in the past?\":'MH_Past',\n",
    "\"Do you currently have a mental health disorder?\":'MH_Present',\n",
    "\"If yes, what condition(s) have you been diagnosed with?\":'MH_Present_Conditions',\n",
    "\"If maybe, what condition(s) do you believe you have?\":'MH_Maybe_Present_Conditions',\n",
    "\"Have you been diagnosed with a mental health condition by a medical professional?\":'MH_Diagnosed_MedicalProf',\n",
    "\"If so, what condition(s) were you diagnosed with?\":'MH_Conditions_MedicalProf',\n",
    "\"Have you ever sought treatment for a mental health issue from a mental health professional?\":'SoughTreatment_MH_Prof',\n",
    "\"If you have a mental health issue, do you feel that it interferes with your work when being treated effectively?\":'Q54',\n",
    "\"If you have a mental health issue, do you feel that it interferes with your work when NOT being treated effectively?\":'Q55',\n",
    "\"What is your age?\": 'Age',\n",
    "\"What is your gender?\":'Gender',\n",
    "\"What country do you live in?\":'Country_Live',\n",
    "\"What US state or territory do you live in?\":'State_Live',\n",
    "\"What country do you work in?\":'Country_Work',\n",
    "\"What US state or territory do you work in?\":'State_Work',\n",
    "\"Which of the following best describes your work position?\":'Work_Position',\n",
    "\"Do you work remotely?\":'Remote_Worker'\n",
    " }"
   ]
  },
  {
   "cell_type": "code",
   "execution_count": 33,
   "metadata": {},
   "outputs": [],
   "source": [
    "df_mh.columns = ['Self-Employed', 'Num_Employees', 'Type_Company', '1stRole_IT', 'Health_Benefits', 'Health_Care_Options_MH',\n",
    "                   'Employeer_Discuss_MH', 'MH_Resources_Seeking_Help', 'Q9', 'Q10', 'Q11', 'Q12', 'Q13', 'Q14',\n",
    "                   'Employer_Considered_MH_PH', 'Consequence_in_Work_MH', 'Q17', 'Q18', 'Reveal_MH_to_BusinessContacts',\n",
    "                   'Q20', 'Q21', 'Q22', 'Productivity_Affected_MH', 'Q24', 'Q25', 'Q26', 'Q27', 'Q28', 'Q29', 'Q30', 'Q31',\n",
    "                   'Q32', 'Q33', 'Q34', 'Q35', 'Q36', 'Q37', 'Q38', 'Q39', 'Q40', 'MH_HurtCarrer', 'Team_ViewNegatively_MH', \n",
    "                   'Share_MH_FriendsAndFamily', 'Q44', 'Q45', 'Family_MentalIllness', 'MH_Past', 'MH_Present', \n",
    "                   'MH_Present_Conditions', 'MH_Maybe_Present_Conditions', 'MH_Diagnosed_MedicalProf', \n",
    "                   'MH_Conditions_MedicalProf', 'SoughTreatment_MH_Prof', 'Q54', 'Q55', 'Age', 'Gender', \n",
    "                   'Country_Live', 'State_Live', 'Country_Work', 'State_Work', 'Work_Position', 'Remote_Worker']"
   ]
  },
  {
   "cell_type": "code",
   "execution_count": 34,
   "metadata": {},
   "outputs": [],
   "source": [
    "df_mh.rename(columns=new_names, inplace=True)"
   ]
  },
  {
   "cell_type": "code",
   "execution_count": 35,
   "metadata": {},
   "outputs": [
    {
     "data": {
      "text/plain": [
       "Index(['Self-Employed', 'Num_Employees', 'Type_Company', '1stRole_IT',\n",
       "       'Health_Benefits', 'Health_Care_Options_MH', 'Employeer_Discuss_MH',\n",
       "       'MH_Resources_Seeking_Help', 'Q9', 'Q10', 'Q11', 'Q12', 'Q13', 'Q14',\n",
       "       'Employer_Considered_MH_PH', 'Consequence_in_Work_MH', 'Q17', 'Q18',\n",
       "       'Reveal_MH_to_BusinessContacts', 'Q20', 'Q21', 'Q22',\n",
       "       'Productivity_Affected_MH', 'Q24', 'Q25', 'Q26', 'Q27', 'Q28', 'Q29',\n",
       "       'Q30', 'Q31', 'Q32', 'Q33', 'Q34', 'Q35', 'Q36', 'Q37', 'Q38', 'Q39',\n",
       "       'Q40', 'MH_HurtCarrer', 'Team_ViewNegatively_MH',\n",
       "       'Share_MH_FriendsAndFamily', 'Q44', 'Q45', 'Family_MentalIllness',\n",
       "       'MH_Past', 'MH_Present', 'MH_Present_Conditions',\n",
       "       'MH_Maybe_Present_Conditions', 'MH_Diagnosed_MedicalProf',\n",
       "       'MH_Conditions_MedicalProf', 'SoughTreatment_MH_Prof', 'Q54', 'Q55',\n",
       "       'Age', 'Gender', 'Country_Live', 'State_Live', 'Country_Work',\n",
       "       'State_Work', 'Work_Position', 'Remote_Worker'],\n",
       "      dtype='object')"
      ]
     },
     "execution_count": 35,
     "metadata": {},
     "output_type": "execute_result"
    }
   ],
   "source": [
    "df_mh.columns"
   ]
  },
  {
   "cell_type": "code",
   "execution_count": 10,
   "metadata": {},
   "outputs": [],
   "source": [
    "def plot_count(column, name):\n",
    "    fig = plt.figure(figsize=(10, 10))\n",
    "    act_mf_disorder_count = df_mh[column].value_counts()\n",
    "    sns.set(style=\"darkgrid\")\n",
    "    sns.barplot(act_mf_disorder_count.index, act_mf_disorder_count.values, alpha=0.9)\n",
    "    plt.title('Frequency Distribution of ' + name)\n",
    "    plt.ylabel('Number of Occurrences', fontsize=12)\n",
    "    plt.xlabel(name, fontsize=12)\n",
    "    plt.xticks(rotation=90)\n",
    "    plt.show()"
   ]
  },
  {
   "cell_type": "code",
   "execution_count": 63,
   "metadata": {},
   "outputs": [
    {
     "data": {
      "image/png": "[encoded data removed]",
      "text/plain": [
       "<Figure size 720x720 with 1 Axes>"
      ]
     },
     "metadata": {},
     "output_type": "display_data"
    }
   ],
   "source": [
    "plot_count('Country_Live', 'Num_Employees')"
   ]
  },
  {
   "cell_type": "code",
   "execution_count": 21,
   "metadata": {},
   "outputs": [],
   "source": [
    "#Clean age column (age should be between 16 - 110)"
   ]
  },
  {
   "cell_type": "code",
   "execution_count": 68,
   "metadata": {},
   "outputs": [
    {
     "data": {
      "text/plain": [
       "count    1433.000000\n",
       "mean       34.286113\n",
       "std        11.290931\n",
       "min         3.000000\n",
       "25%        28.000000\n",
       "50%        33.000000\n",
       "75%        39.000000\n",
       "max       323.000000\n",
       "Name: Q56, dtype: float64"
      ]
     },
     "execution_count": 68,
     "metadata": {},
     "output_type": "execute_result"
    }
   ],
   "source": [
    "df_mh['Q56'].describe()"
   ]
  },
  {
   "cell_type": "code",
   "execution_count": 38,
   "metadata": {},
   "outputs": [
    {
     "data": {
      "text/plain": [
       "Back-end Developer                                                                                                                          263\n",
       "Front-end Developer                                                                                                                         125\n",
       "Other                                                                                                                                       112\n",
       "Supervisor/Team Lead                                                                                                                         68\n",
       "Back-end Developer|Front-end Developer                                                                                                       61\n",
       "DevOps/SysAdmin                                                                                                                              54\n",
       "One-person shop                                                                                                                              50\n",
       "Executive Leadership                                                                                                                         46\n",
       "Front-end Developer|Back-end Developer                                                                                                       40\n",
       "Support                                                                                                                                      34\n",
       "Dev Evangelist/Advocate                                                                                                                      28\n",
       "Designer                                                                                                                                     28\n",
       "Supervisor/Team Lead|Back-end Developer                                                                                                      19\n",
       "Front-end Developer|Designer                                                                                                                 18\n",
       "DevOps/SysAdmin|Back-end Developer|Front-end Developer                                                                                       17\n",
       "Back-end Developer|DevOps/SysAdmin                                                                                                           16\n",
       "Supervisor/Team Lead|Back-end Developer|Front-end Developer                                                                                  15\n",
       "DevOps/SysAdmin|Back-end Developer                                                                                                           15\n",
       "Front-end Developer|Back-end Developer|DevOps/SysAdmin                                                                                       12\n",
       "Supervisor/Team Lead|DevOps/SysAdmin|Back-end Developer                                                                                       9\n",
       "Supervisor/Team Lead|DevOps/SysAdmin|Back-end Developer|Front-end Developer                                                                   8\n",
       "DevOps/SysAdmin|Support|Back-end Developer|Front-end Developer                                                                                8\n",
       "Back-end Developer|One-person shop                                                                                                            7\n",
       "DevOps/SysAdmin|Support                                                                                                                       6\n",
       "Front-end Developer|Back-end Developer|Supervisor/Team Lead                                                                                   6\n",
       "Support|Back-end Developer                                                                                                                    6\n",
       "Front-end Developer|Back-end Developer|DevOps/SysAdmin|Supervisor/Team Lead                                                                   6\n",
       "Supervisor/Team Lead|Front-end Developer                                                                                                      6\n",
       "HR                                                                                                                                            5\n",
       "One-person shop|Front-end Developer|Back-end Developer                                                                                        5\n",
       "                                                                                                                                           ... \n",
       "Supervisor/Team Lead|Front-end Developer|Designer                                                                                             1\n",
       "One-person shop|Designer|Front-end Developer|Back-end Developer|Support|DevOps/SysAdmin|Other                                                 1\n",
       "Other|Back-end Developer|Supervisor/Team Lead                                                                                                 1\n",
       "Executive Leadership|Supervisor/Team Lead|DevOps/SysAdmin|Back-end Developer|Front-end Developer|One-person shop                              1\n",
       "One-person shop|Back-end Developer|Supervisor/Team Lead                                                                                       1\n",
       "Supervisor/Team Lead|Dev Evangelist/Advocate|Back-end Developer|Front-end Developer                                                           1\n",
       "Executive Leadership|Supervisor/Team Lead|Dev Evangelist/Advocate|DevOps/SysAdmin|Support|Back-end Developer|Front-end Developer              1\n",
       "Other|HR                                                                                                                                      1\n",
       "Executive Leadership|DevOps/SysAdmin|Back-end Developer|Support                                                                               1\n",
       "Back-end Developer|DevOps/SysAdmin|Supervisor/Team Lead|Executive Leadership                                                                  1\n",
       "Front-end Developer|Back-end Developer|Other                                                                                                  1\n",
       "Supervisor/Team Lead|Designer|Front-end Developer|Support                                                                                     1\n",
       "Dev Evangelist/Advocate|DevOps/SysAdmin|Support|Back-end Developer|Front-end Developer|One-person shop                                        1\n",
       "Other|Supervisor/Team Lead|Front-end Developer                                                                                                1\n",
       "Back-end Developer|DevOps/SysAdmin|Supervisor/Team Lead|Other                                                                                 1\n",
       "Front-end Developer|Back-end Developer|Sales|DevOps/SysAdmin                                                                                  1\n",
       "Other|Executive Leadership|Supervisor/Team Lead|Back-end Developer                                                                            1\n",
       "Designer|Front-end Developer|Back-end Developer|DevOps/SysAdmin                                                                               1\n",
       "Executive Leadership|Supervisor/Team Lead|Front-end Developer|Back-end Developer                                                              1\n",
       "Dev Evangelist/Advocate|Support                                                                                                               1\n",
       "Designer|Front-end Developer|Back-end Developer                                                                                               1\n",
       "One-person shop|Front-end Developer|Back-end Developer|Dev Evangelist/Advocate|Other                                                          1\n",
       "One-person shop|Back-end Developer|Sales|Support|DevOps/SysAdmin|Dev Evangelist/Advocate|Supervisor/Team Lead|Executive Leadership|Other      1\n",
       "Other|Executive Leadership                                                                                                                    1\n",
       "Front-end Developer|Designer|One-person shop                                                                                                  1\n",
       "Support|Designer|Front-end Developer                                                                                                          1\n",
       "Dev Evangelist/Advocate|Back-end Developer|Designer|Front-end Developer                                                                       1\n",
       "DevOps/SysAdmin|Support|Sales|Front-end Developer|Designer|One-person shop                                                                    1\n",
       "Dev Evangelist/Advocate|Back-end Developer|Support                                                                                            1\n",
       "Other|Supervisor/Team Lead|Dev Evangelist/Advocate|DevOps/SysAdmin|Support|Back-end Developer                                                 1\n",
       "Name: Work_Position, Length: 264, dtype: int64"
      ]
     },
     "execution_count": 38,
     "metadata": {},
     "output_type": "execute_result"
    }
   ],
   "source": [
    "df_mh['Work_Position'].value_counts()"
   ]
  },
  {
   "cell_type": "code",
   "execution_count": 26,
   "metadata": {},
   "outputs": [],
   "source": [
    "def findRoleType2(workString):\n",
    "    #helper that finds the role type of an individual based on the string of\n",
    "    #job descriptions provided\n",
    "    roleDict = {\"technical\":[\"Front-end Developer\",\"Back-end Developer\",\n",
    "                            \"DevOps/SysAdmin\",\"Designer\", \"Support\",  \n",
    "                            \"Front-end Developer|Designer\", \"DevOps/SysAdmin|Back-end Developer|Front-end Developer\", \n",
    "                            \"DevOps/SysAdmin|Back-end Developer|Front-end Developer\",\n",
    "                            \"Front-end Developer|Back-end Developer|DevOps/SysAdmin\",                                                                  \n",
    "                            \"DevOps/SysAdmin|Support|Back-end Developer|Front-end Developer\",                                                                              \n",
    "                            \"Back-end Developer|One-person shop\",                                                                                                           \n",
    "                            \"Support|Back-end Developer\",                                                                                                                                                                                                                                                                                                                                       \n",
    "                            \"DevOps/SysAdmin|Support\",                                                                                                                                                                                                             \n",
    "                            \"One-person shop|Front-end Developer|Back-end Developer\",                                                                                        \n",
    "                            \"DevOps/SysAdmin|Back-end Developer|Front-end Developer|Designer\", \n",
    "                             \"Front-end Developer|Back-end Developer|Support|DevOps/SysAdmin\"\n",
    "                            \"HR\",\"Support\",\"Sales\",\"Dev Evangelist/Advocate\",\"Other\",\"One-person shop\"],\n",
    "            \"Supervisors_Leaders\": [\"Supervisor/Team Lead|Back-end Developer\",\n",
    "                                     \"Front-end Developer|Back-end Developer|DevOps/SysAdmin|Supervisor/Team Lead\",\n",
    "                            \"Supervisor/Team Lead\", \n",
    "                            \"One-person shop|Designer|Sales|Support|Supervisor/Team Lead\",\n",
    "                            \"Front-end Developer|Back-end Developer|Supervisor/Team Lead\",\n",
    "                            \"Supervisor/Team Lead|DevOps/SysAdmin|Back-end Developer\",                                                                                       \n",
    "                            \"Supervisor/Team Lead|DevOps/SysAdmin|Back-end Developer|Front-end Developer\",\n",
    "                              \"Supervisor/Team Lead|Front-end Developer\"\"Excecutive Leadership\",]               \n",
    "               }\n",
    "    #run through role dictionary\n",
    "    for technicalRole in roleDict[\"technical\"]:\n",
    "        #search to find it in job descriptions\n",
    "        if (technicalRole in workString):\n",
    "            #now see if they take on an additional non-technical role\n",
    "            for nonTechnicalRole in roleDict[\"Supervisors_Leaders\"]:\n",
    "                if (nonTechnicalRole in workString): #they do both\n",
    "                    return \"Leaders&Supervisors\"\n",
    "            #if we got to this point, they are just technical\n",
    "            return \"technical\"\n",
    "    #if we got here, they are non-technical\n",
    "    return \"Leaders\""
   ]
  },
  {
   "cell_type": "code",
   "execution_count": 39,
   "metadata": {},
   "outputs": [],
   "source": [
    "def buildRoleType2(dataFrame, column):\n",
    "    #helper to build the role type variable\n",
    "    dataFrame[\"Work_Role_Position\"] = dataFrame[\n",
    "        column].apply(findRoleType2)\n",
    "    return dataFrame"
   ]
  },
  {
   "cell_type": "code",
   "execution_count": 40,
   "metadata": {},
   "outputs": [],
   "source": [
    "buildRoleType2(df_mh, column='Work_Position')\n",
    "df_mh = df_mh.drop(columns=['Work_Position'])"
   ]
  },
  {
   "cell_type": "code",
   "execution_count": 41,
   "metadata": {},
   "outputs": [
    {
     "data": {
      "text/plain": [
       "technical              1105\n",
       "Leaders&Supervisors     202\n",
       "Leaders                 126\n",
       "Name: Work_Role_Position, dtype: int64"
      ]
     },
     "execution_count": 41,
     "metadata": {},
     "output_type": "execute_result"
    }
   ],
   "source": [
    "df_mh['Work_Role_Position'].value_counts()"
   ]
  },
  {
   "cell_type": "code",
   "execution_count": 42,
   "metadata": {},
   "outputs": [
    {
     "data": {
      "text/html": [
       "<div>\n",
       "<style scoped>\n",
       "    .dataframe tbody tr th:only-of-type {\n",
       "        vertical-align: middle;\n",
       "    }\n",
       "\n",
       "    .dataframe tbody tr th {\n",
       "        vertical-align: top;\n",
       "    }\n",
       "\n",
       "    .dataframe thead th {\n",
       "        text-align: right;\n",
       "    }\n",
       "</style>\n",
       "<table border=\"1\" class=\"dataframe\">\n",
       "  <thead>\n",
       "    <tr style=\"text-align: right;\">\n",
       "      <th></th>\n",
       "      <th>Self-Employed</th>\n",
       "      <th>Num_Employees</th>\n",
       "      <th>Type_Company</th>\n",
       "      <th>1stRole_IT</th>\n",
       "      <th>Health_Benefits</th>\n",
       "      <th>Health_Care_Options_MH</th>\n",
       "      <th>Employeer_Discuss_MH</th>\n",
       "      <th>MH_Resources_Seeking_Help</th>\n",
       "      <th>Q9</th>\n",
       "      <th>Q10</th>\n",
       "      <th>Q11</th>\n",
       "      <th>Q12</th>\n",
       "      <th>Q13</th>\n",
       "      <th>Q14</th>\n",
       "      <th>Employer_Considered_MH_PH</th>\n",
       "      <th>Consequence_in_Work_MH</th>\n",
       "      <th>Q17</th>\n",
       "      <th>Q18</th>\n",
       "      <th>Reveal_MH_to_BusinessContacts</th>\n",
       "      <th>Q20</th>\n",
       "      <th>Q21</th>\n",
       "      <th>Q22</th>\n",
       "      <th>Productivity_Affected_MH</th>\n",
       "      <th>Q24</th>\n",
       "      <th>Q25</th>\n",
       "      <th>Q26</th>\n",
       "      <th>Q27</th>\n",
       "      <th>Q28</th>\n",
       "      <th>Q29</th>\n",
       "      <th>Q30</th>\n",
       "      <th>Q31</th>\n",
       "      <th>Q32</th>\n",
       "      <th>Q33</th>\n",
       "      <th>Q34</th>\n",
       "      <th>Q35</th>\n",
       "      <th>Q36</th>\n",
       "      <th>Q37</th>\n",
       "      <th>Q38</th>\n",
       "      <th>Q39</th>\n",
       "      <th>Q40</th>\n",
       "      <th>MH_HurtCarrer</th>\n",
       "      <th>Team_ViewNegatively_MH</th>\n",
       "      <th>Share_MH_FriendsAndFamily</th>\n",
       "      <th>Q44</th>\n",
       "      <th>Q45</th>\n",
       "      <th>Family_MentalIllness</th>\n",
       "      <th>MH_Past</th>\n",
       "      <th>MH_Present</th>\n",
       "      <th>MH_Present_Conditions</th>\n",
       "      <th>MH_Maybe_Present_Conditions</th>\n",
       "      <th>MH_Diagnosed_MedicalProf</th>\n",
       "      <th>MH_Conditions_MedicalProf</th>\n",
       "      <th>SoughTreatment_MH_Prof</th>\n",
       "      <th>Q54</th>\n",
       "      <th>Q55</th>\n",
       "      <th>Age</th>\n",
       "      <th>Gender</th>\n",
       "      <th>Country_Live</th>\n",
       "      <th>State_Live</th>\n",
       "      <th>Country_Work</th>\n",
       "      <th>State_Work</th>\n",
       "      <th>Remote_Worker</th>\n",
       "      <th>Work_Role_Position</th>\n",
       "    </tr>\n",
       "  </thead>\n",
       "  <tbody>\n",
       "    <tr>\n",
       "      <th>0</th>\n",
       "      <td>0</td>\n",
       "      <td>26-100</td>\n",
       "      <td>1.0</td>\n",
       "      <td>NaN</td>\n",
       "      <td>Not eligible for coverage / N/A</td>\n",
       "      <td>NaN</td>\n",
       "      <td>No</td>\n",
       "      <td>No</td>\n",
       "      <td>I don't know</td>\n",
       "      <td>Very easy</td>\n",
       "      <td>No</td>\n",
       "      <td>No</td>\n",
       "      <td>Maybe</td>\n",
       "      <td>Yes</td>\n",
       "      <td>I don't know</td>\n",
       "      <td>No</td>\n",
       "      <td>NaN</td>\n",
       "      <td>NaN</td>\n",
       "      <td>NaN</td>\n",
       "      <td>NaN</td>\n",
       "      <td>NaN</td>\n",
       "      <td>NaN</td>\n",
       "      <td>NaN</td>\n",
       "      <td>NaN</td>\n",
       "      <td>1</td>\n",
       "      <td>No, none did</td>\n",
       "      <td>N/A (not currently aware)</td>\n",
       "      <td>I don't know</td>\n",
       "      <td>None did</td>\n",
       "      <td>I don't know</td>\n",
       "      <td>Some of them</td>\n",
       "      <td>None of them</td>\n",
       "      <td>Some of my previous employers</td>\n",
       "      <td>Some of my previous employers</td>\n",
       "      <td>I don't know</td>\n",
       "      <td>None of them</td>\n",
       "      <td>Maybe</td>\n",
       "      <td>NaN</td>\n",
       "      <td>Maybe</td>\n",
       "      <td>NaN</td>\n",
       "      <td>Maybe</td>\n",
       "      <td>No, I don't think they would</td>\n",
       "      <td>Somewhat open</td>\n",
       "      <td>No</td>\n",
       "      <td>NaN</td>\n",
       "      <td>No</td>\n",
       "      <td>Yes</td>\n",
       "      <td>No</td>\n",
       "      <td>NaN</td>\n",
       "      <td>NaN</td>\n",
       "      <td>Yes</td>\n",
       "      <td>Anxiety Disorder (Generalized, Social, Phobia,...</td>\n",
       "      <td>0</td>\n",
       "      <td>Not applicable to me</td>\n",
       "      <td>Not applicable to me</td>\n",
       "      <td>39</td>\n",
       "      <td>Male</td>\n",
       "      <td>United Kingdom</td>\n",
       "      <td>NaN</td>\n",
       "      <td>United Kingdom</td>\n",
       "      <td>NaN</td>\n",
       "      <td>Sometimes</td>\n",
       "      <td>technical</td>\n",
       "    </tr>\n",
       "    <tr>\n",
       "      <th>1</th>\n",
       "      <td>0</td>\n",
       "      <td>6-25</td>\n",
       "      <td>1.0</td>\n",
       "      <td>NaN</td>\n",
       "      <td>No</td>\n",
       "      <td>Yes</td>\n",
       "      <td>Yes</td>\n",
       "      <td>Yes</td>\n",
       "      <td>Yes</td>\n",
       "      <td>Somewhat easy</td>\n",
       "      <td>No</td>\n",
       "      <td>No</td>\n",
       "      <td>Maybe</td>\n",
       "      <td>Yes</td>\n",
       "      <td>Yes</td>\n",
       "      <td>No</td>\n",
       "      <td>NaN</td>\n",
       "      <td>NaN</td>\n",
       "      <td>NaN</td>\n",
       "      <td>NaN</td>\n",
       "      <td>NaN</td>\n",
       "      <td>NaN</td>\n",
       "      <td>NaN</td>\n",
       "      <td>NaN</td>\n",
       "      <td>1</td>\n",
       "      <td>Yes, they all did</td>\n",
       "      <td>I was aware of some</td>\n",
       "      <td>None did</td>\n",
       "      <td>Some did</td>\n",
       "      <td>Yes, always</td>\n",
       "      <td>None of them</td>\n",
       "      <td>None of them</td>\n",
       "      <td>No, at none of my previous employers</td>\n",
       "      <td>Some of my previous employers</td>\n",
       "      <td>Some did</td>\n",
       "      <td>None of them</td>\n",
       "      <td>Maybe</td>\n",
       "      <td>It would depend on the health issue. If there ...</td>\n",
       "      <td>No</td>\n",
       "      <td>While mental health has become a more prominen...</td>\n",
       "      <td>No, I don't think it would</td>\n",
       "      <td>No, I don't think they would</td>\n",
       "      <td>Somewhat open</td>\n",
       "      <td>No</td>\n",
       "      <td>NaN</td>\n",
       "      <td>Yes</td>\n",
       "      <td>Yes</td>\n",
       "      <td>Yes</td>\n",
       "      <td>Anxiety Disorder (Generalized, Social, Phobia,...</td>\n",
       "      <td>NaN</td>\n",
       "      <td>Yes</td>\n",
       "      <td>Anxiety Disorder (Generalized, Social, Phobia,...</td>\n",
       "      <td>1</td>\n",
       "      <td>Rarely</td>\n",
       "      <td>Sometimes</td>\n",
       "      <td>29</td>\n",
       "      <td>male</td>\n",
       "      <td>United States of America</td>\n",
       "      <td>Illinois</td>\n",
       "      <td>United States of America</td>\n",
       "      <td>Illinois</td>\n",
       "      <td>Never</td>\n",
       "      <td>technical</td>\n",
       "    </tr>\n",
       "  </tbody>\n",
       "</table>\n",
       "</div>"
      ],
      "text/plain": [
       "   Self-Employed Num_Employees  Type_Company  1stRole_IT  \\\n",
       "0              0        26-100           1.0         NaN   \n",
       "1              0          6-25           1.0         NaN   \n",
       "\n",
       "                   Health_Benefits Health_Care_Options_MH  \\\n",
       "0  Not eligible for coverage / N/A                    NaN   \n",
       "1                               No                    Yes   \n",
       "\n",
       "  Employeer_Discuss_MH MH_Resources_Seeking_Help            Q9            Q10  \\\n",
       "0                   No                        No  I don't know      Very easy   \n",
       "1                  Yes                       Yes           Yes  Somewhat easy   \n",
       "\n",
       "  Q11 Q12    Q13  Q14 Employer_Considered_MH_PH Consequence_in_Work_MH  Q17  \\\n",
       "0  No  No  Maybe  Yes              I don't know                     No  NaN   \n",
       "1  No  No  Maybe  Yes                       Yes                     No  NaN   \n",
       "\n",
       "   Q18 Reveal_MH_to_BusinessContacts  Q20  Q21  Q22 Productivity_Affected_MH  \\\n",
       "0  NaN                           NaN  NaN  NaN  NaN                      NaN   \n",
       "1  NaN                           NaN  NaN  NaN  NaN                      NaN   \n",
       "\n",
       "   Q24  Q25                Q26                        Q27           Q28  \\\n",
       "0  NaN    1       No, none did  N/A (not currently aware)  I don't know   \n",
       "1  NaN    1  Yes, they all did        I was aware of some      None did   \n",
       "\n",
       "        Q29           Q30           Q31           Q32  \\\n",
       "0  None did  I don't know  Some of them  None of them   \n",
       "1  Some did   Yes, always  None of them  None of them   \n",
       "\n",
       "                                    Q33                            Q34  \\\n",
       "0         Some of my previous employers  Some of my previous employers   \n",
       "1  No, at none of my previous employers  Some of my previous employers   \n",
       "\n",
       "            Q35           Q36    Q37  \\\n",
       "0  I don't know  None of them  Maybe   \n",
       "1      Some did  None of them  Maybe   \n",
       "\n",
       "                                                 Q38    Q39  \\\n",
       "0                                                NaN  Maybe   \n",
       "1  It would depend on the health issue. If there ...     No   \n",
       "\n",
       "                                                 Q40  \\\n",
       "0                                                NaN   \n",
       "1  While mental health has become a more prominen...   \n",
       "\n",
       "                MH_HurtCarrer        Team_ViewNegatively_MH  \\\n",
       "0                       Maybe  No, I don't think they would   \n",
       "1  No, I don't think it would  No, I don't think they would   \n",
       "\n",
       "  Share_MH_FriendsAndFamily Q44  Q45 Family_MentalIllness MH_Past MH_Present  \\\n",
       "0             Somewhat open  No  NaN                   No     Yes         No   \n",
       "1             Somewhat open  No  NaN                  Yes     Yes        Yes   \n",
       "\n",
       "                               MH_Present_Conditions  \\\n",
       "0                                                NaN   \n",
       "1  Anxiety Disorder (Generalized, Social, Phobia,...   \n",
       "\n",
       "  MH_Maybe_Present_Conditions MH_Diagnosed_MedicalProf  \\\n",
       "0                         NaN                      Yes   \n",
       "1                         NaN                      Yes   \n",
       "\n",
       "                           MH_Conditions_MedicalProf  SoughTreatment_MH_Prof  \\\n",
       "0  Anxiety Disorder (Generalized, Social, Phobia,...                       0   \n",
       "1  Anxiety Disorder (Generalized, Social, Phobia,...                       1   \n",
       "\n",
       "                    Q54                   Q55  Age Gender  \\\n",
       "0  Not applicable to me  Not applicable to me   39   Male   \n",
       "1                Rarely             Sometimes   29   male   \n",
       "\n",
       "               Country_Live State_Live              Country_Work State_Work  \\\n",
       "0            United Kingdom        NaN            United Kingdom        NaN   \n",
       "1  United States of America   Illinois  United States of America   Illinois   \n",
       "\n",
       "  Remote_Worker Work_Role_Position  \n",
       "0     Sometimes          technical  \n",
       "1         Never          technical  "
      ]
     },
     "execution_count": 42,
     "metadata": {},
     "output_type": "execute_result"
    }
   ],
   "source": [
    "df_mh.head(2)"
   ]
  },
  {
   "cell_type": "code",
   "execution_count": 107,
   "metadata": {},
   "outputs": [],
   "source": [
    "df_mh_conditions_MedicalProf_binarized = separate_medical_conditions(df_mh, column=\"MH_Conditions_MedicalProf\")\n",
    "df_mh_conditions_MH_Present_Conditions_binarized = separate_medical_conditions(df_mh, column=\"MH_Present_Conditions\")\n",
    "df_mh_conditions_MH_Maybe_Present_Conditions_binarized = separate_medical_conditions(df_mh, column=\"MH_Maybe_Present_Conditions\")"
   ]
  },
  {
   "cell_type": "markdown",
   "metadata": {},
   "source": [
    "### 1.1.2 Cleaning"
   ]
  },
  {
   "cell_type": "markdown",
   "metadata": {},
   "source": [
    "#### Cleaning Gender"
   ]
  },
  {
   "cell_type": "code",
   "execution_count": 28,
   "metadata": {},
   "outputs": [],
   "source": [
    "#Clean function: Delete non-alphabetic characters, "
   ]
  },
  {
   "cell_type": "code",
   "execution_count": 43,
   "metadata": {},
   "outputs": [],
   "source": [
    "def clean(x):    \n",
    "    result = re.sub(r'[^a-zA-Z]', \"\", str(x))\n",
    "    return str(result).lower().strip()"
   ]
  },
  {
   "cell_type": "code",
   "execution_count": 44,
   "metadata": {},
   "outputs": [],
   "source": [
    "df_mh['Gender']=df_mh['Gender'].apply(clean).replace(['male'], 'Male')"
   ]
  },
  {
   "cell_type": "code",
   "execution_count": 45,
   "metadata": {},
   "outputs": [],
   "source": [
    "df_mh['Gender']=df_mh['Gender'].apply(clean).replace(['m','male','man', 'cis male', 'cis man', 'nan', 'male cis', 'male (cis)', 'cismale', 'malecis','malr', 'cisdude', 'dude', 'cisman', 'imamanwhydidntyoumakethisadropdownquestionyoushouldofaskedsexandiwouldofansweredyespleaseseriouslyhowmuchtextcanthistake', 'sexismale'], 'Male')\n",
    "df_mh['Gender']=df_mh['Gender'].replace(['f', 'female', 'I identify as female.','woman', 'Woman', 'cisfemale', 'fem', 'ciswoman', 'iidentifyasfemale', 'cisgenderfemale', 'femalewoman', 'fm', 'femaleassignedatbirth', 'genderfluidbornfemale', 'femalebodiednofeelingsaboutgender', 'femalepropsformakingthisafreeformfieldthough' ], 'Female')\n",
    "df_mh['Gender']=df_mh['Gender'].replace(['genderqueer','non-binary', 'agender', 'nonbinary', 'transitionedmf', 'genderqueerwoman', 'other', 'genderfluxdemigirl', 'malegenderqueer', 'queer', 'transgenderwoman', 'fluid', 'androgynous', 'genderfluid', 'femaleormultigenderfemme','mail', 'enby','mtf','afab','unicorn','bigender','noneofyourbusiness','nbmasculine','maletransftm','human','malefemaleroughly','othertransfeminine',], 'Non-Binary')"
   ]
  },
  {
   "cell_type": "code",
   "execution_count": 46,
   "metadata": {},
   "outputs": [
    {
     "data": {
      "text/plain": [
       "Male          1059\n",
       "Female         340\n",
       "Non-Binary      34\n",
       "Name: Gender, dtype: int64"
      ]
     },
     "execution_count": 46,
     "metadata": {},
     "output_type": "execute_result"
    }
   ],
   "source": [
    "df_mh['Gender'].value_counts()"
   ]
  },
  {
   "cell_type": "code",
   "execution_count": 47,
   "metadata": {},
   "outputs": [
    {
     "data": {
      "image/png": "[encoded data removed]",
      "text/plain": [
       "<Figure size 720x576 with 1 Axes>"
      ]
     },
     "metadata": {},
     "output_type": "display_data"
    }
   ],
   "source": [
    "fig = plt.figure(figsize=(10, 8))\n",
    "act_mf_disorder_count = df_mh['Gender'].value_counts()\n",
    "sns.set(style=\"darkgrid\")\n",
    "sns.barplot(act_mf_disorder_count.index, act_mf_disorder_count.values, alpha=0.9)\n",
    "plt.title('Frequency Distribution of Genders')\n",
    "plt.ylabel('Number of Occurrences', fontsize=12)\n",
    "plt.xlabel('Genders', fontsize=12)\n",
    "plt.xticks(rotation=90)\n",
    "plt.show()"
   ]
  },
  {
   "cell_type": "code",
   "execution_count": 48,
   "metadata": {},
   "outputs": [],
   "source": [
    "df_mh = df_mh[df_mh.Gender.isin(['Male','Female','Non-Binary'])]"
   ]
  },
  {
   "cell_type": "code",
   "execution_count": 49,
   "metadata": {},
   "outputs": [
    {
     "data": {
      "image/png": "[encoded data removed]",
      "text/plain": [
       "<Figure size 720x720 with 1 Axes>"
      ]
     },
     "metadata": {},
     "output_type": "display_data"
    }
   ],
   "source": [
    "plot_count(column='Gender', name='Genders')"
   ]
  },
  {
   "cell_type": "markdown",
   "metadata": {},
   "source": [
    "#### Cleaning age"
   ]
  },
  {
   "cell_type": "code",
   "execution_count": 51,
   "metadata": {},
   "outputs": [],
   "source": [
    "# Treating Age  - The Most Frequent Age is 30 Years so to the values that are stranhe -3, 323, 99 we convert them to the average "
   ]
  },
  {
   "cell_type": "code",
   "execution_count": 52,
   "metadata": {},
   "outputs": [
    {
     "data": {
      "image/png": "[encoded data removed]",
      "text/plain": [
       "<Figure size 720x720 with 1 Axes>"
      ]
     },
     "metadata": {},
     "output_type": "display_data"
    }
   ],
   "source": [
    "plot_count('Age', 'Age Dstribution')"
   ]
  },
  {
   "cell_type": "code",
   "execution_count": null,
   "metadata": {},
   "outputs": [],
   "source": [
    "df_mh['Age'].replace([3,323,99],30, inplace=True)"
   ]
  },
  {
   "cell_type": "markdown",
   "metadata": {},
   "source": [
    "#### Group Countries with lower frequencies in 'Others' Category"
   ]
  },
  {
   "cell_type": "code",
   "execution_count": 119,
   "metadata": {},
   "outputs": [
    {
     "data": {
      "image/png": "[encoded data removed]",
      "text/plain": [
       "<Figure size 720x720 with 1 Axes>"
      ]
     },
     "metadata": {},
     "output_type": "display_data"
    }
   ],
   "source": [
    "plot_count('Country_Live', 'Frequency')"
   ]
  },
  {
   "cell_type": "markdown",
   "metadata": {},
   "source": [
    "##### Function defined to group variables with lower frequencies "
   ]
  },
  {
   "cell_type": "code",
   "execution_count": 154,
   "metadata": {},
   "outputs": [],
   "source": [
    "def clean_by_freq(df,frequency_threshold,column):\n",
    "         count_column = df[column].value_counts()\n",
    "         count_column = count_column[count_column < frequency_threshold].index\n",
    "         df[column] = df[column].replace({x:'other' for x in count_column})"
   ]
  },
  {
   "cell_type": "code",
   "execution_count": 155,
   "metadata": {},
   "outputs": [],
   "source": [
    "clean_by_freq(df_mh,10,column=\"Country_Live\")"
   ]
  },
  {
   "cell_type": "code",
   "execution_count": 157,
   "metadata": {},
   "outputs": [
    {
     "data": {
      "image/png": "[encoded data removed]",
      "text/plain": [
       "<Figure size 720x720 with 1 Axes>"
      ]
     },
     "metadata": {},
     "output_type": "display_data"
    }
   ],
   "source": [
    "plot_count('Country_Live', 'Frequency')\n"
   ]
  },
  {
   "cell_type": "code",
   "execution_count": 88,
   "metadata": {},
   "outputs": [
    {
     "data": {
      "text/html": [
       "<div>\n",
       "<style scoped>\n",
       "    .dataframe tbody tr th:only-of-type {\n",
       "        vertical-align: middle;\n",
       "    }\n",
       "\n",
       "    .dataframe tbody tr th {\n",
       "        vertical-align: top;\n",
       "    }\n",
       "\n",
       "    .dataframe thead th {\n",
       "        text-align: right;\n",
       "    }\n",
       "</style>\n",
       "<table border=\"1\" class=\"dataframe\">\n",
       "  <thead>\n",
       "    <tr style=\"text-align: right;\">\n",
       "      <th></th>\n",
       "      <th>Self-Employed</th>\n",
       "      <th>Num_Employees</th>\n",
       "      <th>Type_Company</th>\n",
       "      <th>1stRole_IT</th>\n",
       "      <th>Health_Benefits</th>\n",
       "      <th>Health_Care_Options_MH</th>\n",
       "      <th>Employeer_Discuss_MH</th>\n",
       "      <th>MH_Resources_Seeking_Help</th>\n",
       "      <th>Q9</th>\n",
       "      <th>Q10</th>\n",
       "      <th>Q11</th>\n",
       "      <th>Q12</th>\n",
       "      <th>Q13</th>\n",
       "      <th>Q14</th>\n",
       "      <th>Employer_Considered_MH_PH</th>\n",
       "      <th>Consequence_in_Work_MH</th>\n",
       "      <th>Q17</th>\n",
       "      <th>Q18</th>\n",
       "      <th>Reveal_MH_to_BusinessContacts</th>\n",
       "      <th>Q20</th>\n",
       "      <th>Q21</th>\n",
       "      <th>Q22</th>\n",
       "      <th>Productivity_Affected_MH</th>\n",
       "      <th>Q24</th>\n",
       "      <th>Q25</th>\n",
       "      <th>Q26</th>\n",
       "      <th>Q27</th>\n",
       "      <th>Q28</th>\n",
       "      <th>Q29</th>\n",
       "      <th>Q30</th>\n",
       "      <th>Q31</th>\n",
       "      <th>Q32</th>\n",
       "      <th>Q33</th>\n",
       "      <th>Q34</th>\n",
       "      <th>Q35</th>\n",
       "      <th>Q36</th>\n",
       "      <th>Q37</th>\n",
       "      <th>Q38</th>\n",
       "      <th>Q39</th>\n",
       "      <th>Q40</th>\n",
       "      <th>MH_HurtCarrer</th>\n",
       "      <th>Team_ViewNegatively_MH</th>\n",
       "      <th>Share_MH_FriendsAndFamily</th>\n",
       "      <th>Q44</th>\n",
       "      <th>Q45</th>\n",
       "      <th>Family_MentalIllness</th>\n",
       "      <th>MH_Past</th>\n",
       "      <th>MH_Present</th>\n",
       "      <th>MH_Present_Conditions</th>\n",
       "      <th>MH_Maybe_Present_Conditions</th>\n",
       "      <th>MH_Diagnosed_MedicalProf</th>\n",
       "      <th>MH_Conditions_MedicalProf</th>\n",
       "      <th>SoughTreatment_MH_Prof</th>\n",
       "      <th>Q54</th>\n",
       "      <th>Q55</th>\n",
       "      <th>Age</th>\n",
       "      <th>Gender</th>\n",
       "      <th>Country_Live</th>\n",
       "      <th>State_Live</th>\n",
       "      <th>Country_Work</th>\n",
       "      <th>State_Work</th>\n",
       "      <th>Remote_Worker</th>\n",
       "      <th>Work_Role_Position</th>\n",
       "    </tr>\n",
       "  </thead>\n",
       "  <tbody>\n",
       "    <tr>\n",
       "      <th>0</th>\n",
       "      <td>0</td>\n",
       "      <td>26-100</td>\n",
       "      <td>1.0</td>\n",
       "      <td>NaN</td>\n",
       "      <td>Not eligible for coverage / N/A</td>\n",
       "      <td>NaN</td>\n",
       "      <td>No</td>\n",
       "      <td>No</td>\n",
       "      <td>I don't know</td>\n",
       "      <td>Very easy</td>\n",
       "      <td>No</td>\n",
       "      <td>No</td>\n",
       "      <td>Maybe</td>\n",
       "      <td>Yes</td>\n",
       "      <td>I don't know</td>\n",
       "      <td>No</td>\n",
       "      <td>NaN</td>\n",
       "      <td>NaN</td>\n",
       "      <td>NaN</td>\n",
       "      <td>NaN</td>\n",
       "      <td>NaN</td>\n",
       "      <td>NaN</td>\n",
       "      <td>NaN</td>\n",
       "      <td>NaN</td>\n",
       "      <td>1</td>\n",
       "      <td>No, none did</td>\n",
       "      <td>N/A (not currently aware)</td>\n",
       "      <td>I don't know</td>\n",
       "      <td>None did</td>\n",
       "      <td>I don't know</td>\n",
       "      <td>Some of them</td>\n",
       "      <td>None of them</td>\n",
       "      <td>Some of my previous employers</td>\n",
       "      <td>Some of my previous employers</td>\n",
       "      <td>I don't know</td>\n",
       "      <td>None of them</td>\n",
       "      <td>Maybe</td>\n",
       "      <td>NaN</td>\n",
       "      <td>Maybe</td>\n",
       "      <td>NaN</td>\n",
       "      <td>Maybe</td>\n",
       "      <td>No, I don't think they would</td>\n",
       "      <td>Somewhat open</td>\n",
       "      <td>No</td>\n",
       "      <td>NaN</td>\n",
       "      <td>No</td>\n",
       "      <td>Yes</td>\n",
       "      <td>No</td>\n",
       "      <td>NaN</td>\n",
       "      <td>NaN</td>\n",
       "      <td>Yes</td>\n",
       "      <td>Anxiety Disorder (Generalized, Social, Phobia,...</td>\n",
       "      <td>0</td>\n",
       "      <td>Not applicable to me</td>\n",
       "      <td>Not applicable to me</td>\n",
       "      <td>39</td>\n",
       "      <td>Male</td>\n",
       "      <td>United Kingdom</td>\n",
       "      <td>NaN</td>\n",
       "      <td>United Kingdom</td>\n",
       "      <td>NaN</td>\n",
       "      <td>Sometimes</td>\n",
       "      <td>technical</td>\n",
       "    </tr>\n",
       "    <tr>\n",
       "      <th>1</th>\n",
       "      <td>0</td>\n",
       "      <td>6-25</td>\n",
       "      <td>1.0</td>\n",
       "      <td>NaN</td>\n",
       "      <td>No</td>\n",
       "      <td>Yes</td>\n",
       "      <td>Yes</td>\n",
       "      <td>Yes</td>\n",
       "      <td>Yes</td>\n",
       "      <td>Somewhat easy</td>\n",
       "      <td>No</td>\n",
       "      <td>No</td>\n",
       "      <td>Maybe</td>\n",
       "      <td>Yes</td>\n",
       "      <td>Yes</td>\n",
       "      <td>No</td>\n",
       "      <td>NaN</td>\n",
       "      <td>NaN</td>\n",
       "      <td>NaN</td>\n",
       "      <td>NaN</td>\n",
       "      <td>NaN</td>\n",
       "      <td>NaN</td>\n",
       "      <td>NaN</td>\n",
       "      <td>NaN</td>\n",
       "      <td>1</td>\n",
       "      <td>Yes, they all did</td>\n",
       "      <td>I was aware of some</td>\n",
       "      <td>None did</td>\n",
       "      <td>Some did</td>\n",
       "      <td>Yes, always</td>\n",
       "      <td>None of them</td>\n",
       "      <td>None of them</td>\n",
       "      <td>No, at none of my previous employers</td>\n",
       "      <td>Some of my previous employers</td>\n",
       "      <td>Some did</td>\n",
       "      <td>None of them</td>\n",
       "      <td>Maybe</td>\n",
       "      <td>It would depend on the health issue. If there ...</td>\n",
       "      <td>No</td>\n",
       "      <td>While mental health has become a more prominen...</td>\n",
       "      <td>No, I don't think it would</td>\n",
       "      <td>No, I don't think they would</td>\n",
       "      <td>Somewhat open</td>\n",
       "      <td>No</td>\n",
       "      <td>NaN</td>\n",
       "      <td>Yes</td>\n",
       "      <td>Yes</td>\n",
       "      <td>Yes</td>\n",
       "      <td>Anxiety Disorder (Generalized, Social, Phobia,...</td>\n",
       "      <td>NaN</td>\n",
       "      <td>Yes</td>\n",
       "      <td>Anxiety Disorder (Generalized, Social, Phobia,...</td>\n",
       "      <td>1</td>\n",
       "      <td>Rarely</td>\n",
       "      <td>Sometimes</td>\n",
       "      <td>29</td>\n",
       "      <td>Male</td>\n",
       "      <td>United States of America</td>\n",
       "      <td>Illinois</td>\n",
       "      <td>United States of America</td>\n",
       "      <td>Illinois</td>\n",
       "      <td>Never</td>\n",
       "      <td>technical</td>\n",
       "    </tr>\n",
       "  </tbody>\n",
       "</table>\n",
       "</div>"
      ],
      "text/plain": [
       "   Self-Employed Num_Employees  Type_Company  1stRole_IT  \\\n",
       "0              0        26-100           1.0         NaN   \n",
       "1              0          6-25           1.0         NaN   \n",
       "\n",
       "                   Health_Benefits Health_Care_Options_MH  \\\n",
       "0  Not eligible for coverage / N/A                    NaN   \n",
       "1                               No                    Yes   \n",
       "\n",
       "  Employeer_Discuss_MH MH_Resources_Seeking_Help            Q9            Q10  \\\n",
       "0                   No                        No  I don't know      Very easy   \n",
       "1                  Yes                       Yes           Yes  Somewhat easy   \n",
       "\n",
       "  Q11 Q12    Q13  Q14 Employer_Considered_MH_PH Consequence_in_Work_MH  Q17  \\\n",
       "0  No  No  Maybe  Yes              I don't know                     No  NaN   \n",
       "1  No  No  Maybe  Yes                       Yes                     No  NaN   \n",
       "\n",
       "   Q18 Reveal_MH_to_BusinessContacts  Q20  Q21  Q22 Productivity_Affected_MH  \\\n",
       "0  NaN                           NaN  NaN  NaN  NaN                      NaN   \n",
       "1  NaN                           NaN  NaN  NaN  NaN                      NaN   \n",
       "\n",
       "   Q24  Q25                Q26                        Q27           Q28  \\\n",
       "0  NaN    1       No, none did  N/A (not currently aware)  I don't know   \n",
       "1  NaN    1  Yes, they all did        I was aware of some      None did   \n",
       "\n",
       "        Q29           Q30           Q31           Q32  \\\n",
       "0  None did  I don't know  Some of them  None of them   \n",
       "1  Some did   Yes, always  None of them  None of them   \n",
       "\n",
       "                                    Q33                            Q34  \\\n",
       "0         Some of my previous employers  Some of my previous employers   \n",
       "1  No, at none of my previous employers  Some of my previous employers   \n",
       "\n",
       "            Q35           Q36    Q37  \\\n",
       "0  I don't know  None of them  Maybe   \n",
       "1      Some did  None of them  Maybe   \n",
       "\n",
       "                                                 Q38    Q39  \\\n",
       "0                                                NaN  Maybe   \n",
       "1  It would depend on the health issue. If there ...     No   \n",
       "\n",
       "                                                 Q40  \\\n",
       "0                                                NaN   \n",
       "1  While mental health has become a more prominen...   \n",
       "\n",
       "                MH_HurtCarrer        Team_ViewNegatively_MH  \\\n",
       "0                       Maybe  No, I don't think they would   \n",
       "1  No, I don't think it would  No, I don't think they would   \n",
       "\n",
       "  Share_MH_FriendsAndFamily Q44  Q45 Family_MentalIllness MH_Past MH_Present  \\\n",
       "0             Somewhat open  No  NaN                   No     Yes         No   \n",
       "1             Somewhat open  No  NaN                  Yes     Yes        Yes   \n",
       "\n",
       "                               MH_Present_Conditions  \\\n",
       "0                                                NaN   \n",
       "1  Anxiety Disorder (Generalized, Social, Phobia,...   \n",
       "\n",
       "  MH_Maybe_Present_Conditions MH_Diagnosed_MedicalProf  \\\n",
       "0                         NaN                      Yes   \n",
       "1                         NaN                      Yes   \n",
       "\n",
       "                           MH_Conditions_MedicalProf  SoughTreatment_MH_Prof  \\\n",
       "0  Anxiety Disorder (Generalized, Social, Phobia,...                       0   \n",
       "1  Anxiety Disorder (Generalized, Social, Phobia,...                       1   \n",
       "\n",
       "                    Q54                   Q55  Age Gender  \\\n",
       "0  Not applicable to me  Not applicable to me   39   Male   \n",
       "1                Rarely             Sometimes   29   Male   \n",
       "\n",
       "               Country_Live State_Live              Country_Work State_Work  \\\n",
       "0            United Kingdom        NaN            United Kingdom        NaN   \n",
       "1  United States of America   Illinois  United States of America   Illinois   \n",
       "\n",
       "  Remote_Worker Work_Role_Position  \n",
       "0     Sometimes          technical  \n",
       "1         Never          technical  "
      ]
     },
     "execution_count": 88,
     "metadata": {},
     "output_type": "execute_result"
    }
   ],
   "source": [
    "df_mh.head(2)"
   ]
  },
  {
   "cell_type": "code",
   "execution_count": 166,
   "metadata": {},
   "outputs": [
    {
     "data": {
      "image/png": "[encoded data removed]",
      "text/plain": [
       "<Figure size 720x720 with 1 Axes>"
      ]
     },
     "metadata": {},
     "output_type": "display_data"
    }
   ],
   "source": [
    "plot_count('Q33', 'Frequency')"
   ]
  },
  {
   "cell_type": "code",
   "execution_count": null,
   "metadata": {},
   "outputs": [],
   "source": [
    "df_mh.apply(lambda x: x.mask(x.map(x.value_counts())<3, 'other') if x.name!='C' else x)"
   ]
  },
  {
   "cell_type": "code",
   "execution_count": 82,
   "metadata": {},
   "outputs": [],
   "source": [
    "df_mh['Country_Live'].replace([(df_mh['Country_Live'].value_counts())<10], 'Others',inplace=True)"
   ]
  },
  {
   "cell_type": "code",
   "execution_count": 84,
   "metadata": {},
   "outputs": [
    {
     "data": {
      "text/plain": [
       "United States of America    840\n",
       "United Kingdom              180\n",
       "Canada                       78\n",
       "Germany                      58\n",
       "Netherlands                  48\n",
       "Australia                    35\n",
       "Sweden                       19\n",
       "France                       16\n",
       "Ireland                      15\n",
       "Brazil                       10\n",
       "Switzerland                  10\n",
       "New Zealand                   9\n",
       "India                         9\n",
       "Russia                        9\n",
       "Denmark                       7\n",
       "Finland                       7\n",
       "Bulgaria                      7\n",
       "Belgium                       5\n",
       "Italy                         5\n",
       "Poland                        4\n",
       "Spain                         4\n",
       "Austria                       4\n",
       "South Africa                  4\n",
       "Romania                       4\n",
       "Norway                        3\n",
       "Czech Republic                3\n",
       "Pakistan                      3\n",
       "Chile                         3\n",
       "Israel                        2\n",
       "Bosnia and Herzegovina        2\n",
       "Mexico                        2\n",
       "Lithuania                     2\n",
       "Other                         2\n",
       "Japan                         2\n",
       "Colombia                      2\n",
       "Afghanistan                   2\n",
       "Estonia                       2\n",
       "Argentina                     1\n",
       "Hungary                       1\n",
       "Ecuador                       1\n",
       "Brunei                        1\n",
       "Taiwan                        1\n",
       "Guatemala                     1\n",
       "Slovakia                      1\n",
       "Algeria                       1\n",
       "China                         1\n",
       "Iran                          1\n",
       "Serbia                        1\n",
       "Costa Rica                    1\n",
       "Vietnam                       1\n",
       "Greece                        1\n",
       "Venezuela                     1\n",
       "Bangladesh                    1\n",
       "Name: Country_Live, dtype: int64"
      ]
     },
     "execution_count": 84,
     "metadata": {},
     "output_type": "execute_result"
    }
   ],
   "source": [
    "df_mh['Country_Live'].value_counts() "
   ]
  },
  {
   "cell_type": "code",
   "execution_count": 159,
   "metadata": {},
   "outputs": [
    {
     "data": {
      "image/png": "[encoded data removed]",
      "text/plain": [
       "<Figure size 720x720 with 1 Axes>"
      ]
     },
     "metadata": {},
     "output_type": "display_data"
    }
   ],
   "source": [
    "plot_count('State_Work', 'Frequency')"
   ]
  },
  {
   "cell_type": "code",
   "execution_count": 160,
   "metadata": {},
   "outputs": [],
   "source": [
    "clean_by_freq(df_mh,12,column=\"State_Work\")"
   ]
  },
  {
   "cell_type": "code",
   "execution_count": 161,
   "metadata": {},
   "outputs": [
    {
     "data": {
      "image/png": "[encoded data removed]",
      "text/plain": [
       "<Figure size 720x720 with 1 Axes>"
      ]
     },
     "metadata": {},
     "output_type": "display_data"
    }
   ],
   "source": [
    "plot_count('State_Work', 'Frequency')"
   ]
  },
  {
   "cell_type": "markdown",
   "metadata": {},
   "source": [
    "## 1.2. Learning Classifiers"
   ]
  },
  {
   "cell_type": "markdown",
   "metadata": {},
   "source": [
    "..."
   ]
  },
  {
   "cell_type": "markdown",
   "metadata": {},
   "source": [
    "## 1.3. Classification - Results and Discussion "
   ]
  },
  {
   "cell_type": "markdown",
   "metadata": {},
   "source": [
    "..."
   ]
  },
  {
   "cell_type": "markdown",
   "metadata": {},
   "source": [
    "## Task 2 (Unsupervised Learning) - Characterizinng people with mental health disorders"
   ]
  },
  {
   "cell_type": "markdown",
   "metadata": {},
   "source": [
    "In this task you should **use unsupervised learning algorithms and try to characterize people with mental health disorders**:\n",
    "* Use association rule mining to find **associations between features and mental health disorders**.\n",
    "* Use **clustering algorithms to find groups describing similar people**, for example, is it possible to find groups of people with the same/similar mental health disorders.\n",
    "* **Be creative and define your own unsupervised analysis!** What would it be interesting to find out ?"
   ]
  },
  {
   "cell_type": "markdown",
   "metadata": {},
   "source": [
    "## 2.1. Preprocessing Data for Association Rule Mining"
   ]
  },
  {
   "cell_type": "markdown",
   "metadata": {},
   "source": [
    "..."
   ]
  },
  {
   "cell_type": "code",
   "execution_count": null,
   "metadata": {},
   "outputs": [],
   "source": []
  },
  {
   "cell_type": "markdown",
   "metadata": {},
   "source": [
    "## 2.2. Finding Associations"
   ]
  },
  {
   "cell_type": "markdown",
   "metadata": {},
   "source": [
    "..."
   ]
  },
  {
   "cell_type": "markdown",
   "metadata": {},
   "source": [
    "## 2.3 Association Rules - Results and Discussion "
   ]
  },
  {
   "cell_type": "markdown",
   "metadata": {},
   "source": [
    "..."
   ]
  },
  {
   "cell_type": "markdown",
   "metadata": {},
   "source": [
    "## 2.4. Preprocess Data for Clustering"
   ]
  },
  {
   "cell_type": "markdown",
   "metadata": {},
   "source": [
    "..."
   ]
  },
  {
   "cell_type": "code",
   "execution_count": null,
   "metadata": {},
   "outputs": [],
   "source": [
    "### Análise a Variáveis Que Vão Alimentar Modelo\n",
    "\n",
    "#Função que cálcula Chi2\n",
    "\n",
    "class ChiSquare:\n",
    "    def __init__(self, dataframe):\n",
    "        self.df = dataframe\n",
    "        self.p = None #P-Value\n",
    "        self.chi2 = None #Chi Test Statistic\n",
    "        self.dof = None\n",
    "        self.dfObserved = None\n",
    "        self.dfExpected = None\n",
    "\n",
    "    def _print_chisquare_result(self, colX, alpha):\n",
    "        result = \"\"\n",
    "        if self.p<alpha:\n",
    "            result=\"{0} is IMPORTANT for Prediction\".format(colX)\n",
    "        else:\n",
    "            result=\"{0} is NOT an important predictor. (Discard {0} from model)\".format(colX)\n",
    "\n",
    "        print(result)\n",
    "\n",
    "    def TestIndependence(self,colX,colY, alpha=0.05):\n",
    "        X = self.df[colX].astype(str)\n",
    "        Y = self.df[colY].astype(str)\n",
    "        self.dfObserved = pd.crosstab(Y,X)\n",
    "        chi2, p, dof, expected = stats.chi2_contingency(self.dfObserved.values)\n",
    "        self.p = p\n",
    "        self.chi2 = chi2\n",
    "        self.dof = dof\n",
    "        self.dfExpected = pd.DataFrame(expected, columns=self.dfObserved.columns, index = self.dfObserved.index)\n",
    "        self._print_chisquare_result(colX,alpha)\n",
    "        print(chi2)\n"
   ]
  },
  {
   "cell_type": "code",
   "execution_count": null,
   "metadata": {},
   "outputs": [],
   "source": [
    "cT = ChiSquare(df_m1[testColumns2])\n",
    "\n",
    "\n",
    "\n",
    "for var in testColumns3:\n",
    "    cT.TestIndependence(colX=var,colY=\"Fraude_Final\")\n"
   ]
  },
  {
   "cell_type": "code",
   "execution_count": null,
   "metadata": {},
   "outputs": [],
   "source": [
    "# Calculo Cramer V\n",
    "\n",
    "def cramers_corrected_stat(confusion_matrix_p):\n",
    "    \"\"\" calculate Cramers V statistic for categorial-categorial association.\n",
    "        uses correction from Bergsma and Wicher,\n",
    "        Journal of the Korean Statistical Society 42 (2013): 323-328\n",
    "    \"\"\"\n",
    "    chi2 = ss.chi2_contingency(confusion_matrix_p, correction=False)[0]\n",
    "    n = confusion_matrix_p.sum().sum()\n",
    "    phi2 = chi2/n\n",
    "    r,k = confusion_matrix_p.shape\n",
    "    phi2corr = max(0, phi2 - ((k-1)*(r-1))/(n-1))\n",
    "    rcorr = r - ((r-1)**2)/(n-1)\n",
    "    kcorr = k - ((k-1)**2)/(n-1)\n",
    "    return np.sqrt(phi2corr / min( (kcorr-1), (rcorr-1)))\n",
    "\n",
    "\n",
    "\n"
   ]
  },
  {
   "cell_type": "code",
   "execution_count": null,
   "metadata": {},
   "outputs": [],
   "source": [
    "v_cramer_corrected = cramers_corrected_stat(df_m1[columns_to_encode]) #0.29784802849576003"
   ]
  },
  {
   "cell_type": "code",
   "execution_count": 1,
   "metadata": {},
   "outputs": [
    {
     "ename": "NameError",
     "evalue": "name 'df_mh' is not defined",
     "output_type": "error",
     "traceback": [
      "\u001b[1;31m---------------------------------------------------------------------------\u001b[0m",
      "\u001b[1;31mNameError\u001b[0m                                 Traceback (most recent call last)",
      "\u001b[1;32m<ipython-input-1-ef19d0faa12f>\u001b[0m in \u001b[0;36m<module>\u001b[1;34m()\u001b[0m\n\u001b[1;32m----> 1\u001b[1;33m \u001b[0mdf_mh\u001b[0m\u001b[1;33m.\u001b[0m\u001b[0mcolumns\u001b[0m\u001b[1;33m\u001b[0m\u001b[0m\n\u001b[0m",
      "\u001b[1;31mNameError\u001b[0m: name 'df_mh' is not defined"
     ]
    }
   ],
   "source": [
    "df_mh.columns"
   ]
  },
  {
   "cell_type": "markdown",
   "metadata": {
    "collapsed": true
   },
   "source": [
    "## 2.5. Finding Groups"
   ]
  },
  {
   "cell_type": "markdown",
   "metadata": {},
   "source": [
    "..."
   ]
  },
  {
   "cell_type": "code",
   "execution_count": null,
   "metadata": {},
   "outputs": [],
   "source": [
    "K = range(1,21)\n",
    "KM = [KMeans(n_clusters=k).fit(df_processed) for k in K]\n",
    "centroids = [k.cluster_centers_ for k in KM]\n",
    "\n",
    "D_k = [cdist(df_processed, cent, 'euclidean') for cent in centroids]\n",
    "cIdx = [np.argmin(D,axis=1) for D in D_k]\n",
    "dist = [np.min(D,axis=1) for D in D_k]\n",
    "avgWithinSS = [sum(d)/df_processed.shape[0] for d in dist]\n",
    "\n",
    "\n",
    "\n",
    "# Total with-in sum of square\n",
    "wcss = [sum(d**2) for d in dist]\n",
    "tss = sum(pdist(df_processed)**2)/df_processed.shape[0]\n",
    "bss = tss-wcss\n",
    "\n",
    "fig = plt.figure()\n",
    "ax = fig.add_subplot(111)\n",
    "axes = plt.gca()\n",
    "axes.set_xlim([0,20])\n",
    "axes.set_ylim([0,100])\n",
    "ax.plot(K, bss/tss*100, 'b*-')\n",
    "plt.grid(True)\n",
    "plt.xlabel('Number of clusters')\n",
    "plt.ylabel('Percentage of variance explained')\n",
    "plt.title('Elbow for KMeans clustering')\n",
    "plt.show()"
   ]
  },
  {
   "cell_type": "markdown",
   "metadata": {},
   "source": [
    "## 2.6. Clustering - Results and Discussion "
   ]
  },
  {
   "cell_type": "markdown",
   "metadata": {},
   "source": [
    "..."
   ]
  },
  {
   "cell_type": "code",
   "execution_count": null,
   "metadata": {},
   "outputs": [],
   "source": [
    "\n",
    "num_clusters = 2\n",
    "\n",
    "kmeans = KMeans(n_clusters=num_clusters, max_iter=1000).fit(train_x)\n",
    "\n"
   ]
  },
  {
   "cell_type": "code",
   "execution_count": null,
   "metadata": {},
   "outputs": [],
   "source": [
    "################################################### Para representar clusters\n",
    "\n",
    "from sklearn.decomposition import PCA\n",
    "\n",
    "pca = PCA(n_components=2).fit(df_processed)\n",
    "ver_pca = pca.components_\n",
    "\n",
    "\n",
    "pca_d = pd.DataFrame(pca.transform(df_processed), columns=['PCA%i' % i for i in range(2)], index=df_processed.index)\n",
    "scat= plt.scatter(pca_d['PCA0'],pca_d['PCA1'], c =kmeans.labels_ )\n",
    "bounds = np.linspace(0,9,9+1)\n",
    "cb = plt.colorbar(scat, spacing='proportional',ticks=bounds)\n",
    "cb.set_label('Custom cbar')\n",
    "plt.show()\n",
    "\n",
    "############################################################################\n",
    "\n",
    "pca = PCA(n_components=3).fit(df_processed)\n",
    "ver_pca = pca.components_\n",
    "\n",
    "fig = plt.figure()\n",
    "ax = Axes3D(fig)\n",
    "pca_d = pd.DataFrame(pca.transform(df_processed), columns=['PCA%i' % i for i in range(3)], index=df_processed.index)\n",
    "ax.scatter(pca_d['PCA0'],pca_d['PCA1'],pca_d['PCA2'], c =kmeans.labels_ )\n",
    "bounds = np.linspace(-10,100,110+1)\n",
    "cb = plt.colorbar(scat, spacing='proportional',ticks=bounds,shrink=0.8 )\n",
    "cb.set_label('Clusters') \n",
    "#ani = FuncAnimation(fig, update(pca_d[['PCA0','PCA1']]), frames=100,init_func=init, blit=True)\n",
    "plt.show()\n",
    "\n"
   ]
  },
  {
   "cell_type": "markdown",
   "metadata": {},
   "source": [
    "## 3. Final Comments and Conclusions"
   ]
  },
  {
   "cell_type": "markdown",
   "metadata": {},
   "source": [
    "..."
   ]
  }
 ],
 "metadata": {
  "kernelspec": {
   "display_name": "Python 3",
   "language": "python",
   "name": "python3"
  },
  "language_info": {
   "codemirror_mode": {
    "name": "ipython",
    "version": 3
   },
   "file_extension": ".py",
   "mimetype": "text/x-python",
   "name": "python",
   "nbconvert_exporter": "python",
   "pygments_lexer": "ipython3",
   "version": "3.7.0"
  }
 },
 "nbformat": 4,
 "nbformat_minor": 2
}
