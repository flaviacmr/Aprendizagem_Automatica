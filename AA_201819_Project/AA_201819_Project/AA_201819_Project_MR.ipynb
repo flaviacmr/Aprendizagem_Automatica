{
 "cells": [
  {
   "cell_type": "markdown",
   "metadata": {},
   "source": [
    "# Machine Learning / Aprendizagem Automática\n",
    "\n",
    "## Sara C. Madeira, 2018/19\n",
    "\n",
    "# ML Project  - Learning from Mental Health in Tech Surveys "
   ]
  },
  {
   "cell_type": "markdown",
   "metadata": {},
   "source": [
    "## Logistics\n",
    "\n",
    "**Students are encouraged to work in teams of 4 people**. \n",
    "\n",
    "Projects with smaller teams are allowed, but will not have better grades for this reason. \n",
    "\n",
    "The quality of the project will dictate its grade, not the number of people working.\n",
    "\n",
    "**The project's solution should be uploaded in Moodle before the end of January, 9th 2019 (last day before the exams season).** \n",
    "\n",
    "**Other deadline date might be considered provided the majority of the students agree with it.**\n",
    "\n",
    "Students should **upload a `.zip` file** containing all the files necessary for project evaluation. \n",
    "\n",
    "**It is mandatory to produce a Jupyter notebook containing code and text/images/tables/etc describing the solution and the results.**\n",
    "\n",
    "**Decisions should be fundamented and results should be critically discussed.**"
   ]
  },
  {
   "cell_type": "markdown",
   "metadata": {},
   "source": [
    "## Tools\n",
    "\n",
    "You should use [Python 3](https://www.python.org) and [Jupyter Notebook](http://jupyter.org), together with **[Scikit-learn](http://scikit-learn.org/stable/)**, **[Orange3](https://orange.biolab.si)**, or **both**.\n",
    "\n",
    "**[Orange3](https://orange.biolab.si)** can be used through its **[programmatic version](https://docs.orange.biolab.si/3/data-mining-library/)**, by importing and using its packages, or throught its **workflow version**. \n",
    "\n",
    "If you use workflows you have to deliver the workflow files and explain the options taken in each widget in your notebook."
   ]
  },
  {
   "cell_type": "markdown",
   "metadata": {},
   "source": [
    "## Dataset\n",
    "\n",
    "The dataset to be analysed is **`mental-heath-in-tech-2016.csv`**, made avaliable together with this project description. \n",
    "\n",
    "This dataset, downloaded from [Kaggle](https://www.kaggle.com), contains data from [OSMI Mental Health in Tech Survey](https://www.kaggle.com/osmi/mental-health-in-tech-survey), collected during a survey aiming at measuring **attitudes towards mental health and frequency of mental health disorders in the Tech workplace**, carried out in 2016.\n",
    "\n",
    "The **1433 surveys/instances** are described by **62 categorical/numerical features**, where the following questions were asked:\n",
    "\n",
    "* Q1 - \"Are you self-employed?\"\n",
    "* Q2 - \"How many employees does your company or organization have?\"\n",
    "* Q3 - \"Is your employer primarily a tech company/organization?\"\n",
    "* Q4 - \"Is your primary role within your company related to tech/IT?\"\n",
    "* Q5 - \"Does your employer provide mental health benefits as part of healthcare coverage?\"\n",
    "* Q6 - \"Do you know the options for mental health care available under your employer-provided coverage?\"\n",
    "* Q7 - \"Has your employer ever formally discussed mental health (for example, as part of a wellness campaign or other official communication)?\"\n",
    "* Q8 - \"Does your employer offer resources to learn more about mental health concerns and options for seeking help?\"\n",
    "* Q9 - \"Is your anonymity protected if you choose to take advantage of mental health or substance abuse treatment resources provided by your employer?\"\n",
    "* Q10 - \"If a mental health issue prompted you to request a medical leave from work, asking for that leave would be:...\"\n",
    "* Q11 - \"Do you think that discussing a mental health disorder with your employer would have negative consequences?\"\n",
    "* Q12 - \"Do you think that discussing a physical health issue with your employer would have negative consequences?\"\n",
    "* Q13 - \"Would you feel comfortable discussing a mental health disorder with your coworkers?\"\n",
    "* Q14 - \"Would you feel comfortable discussing a mental health disorder with your direct supervisor(s)?\"\n",
    "* Q15 - \"Do you feel that your employer takes mental health as seriously as physical health?\"\n",
    "* Q16 - \"Have you heard of or observed negative consequences for co-workers who have been open about mental health issues in your workplace?\"\n",
    "* Q17 - \"Do you have medical coverage (private insurance or state-provided) which includes treatment of  mental health issues?\"\n",
    "* Q18 - \"Do you know local or online resources to seek help for a mental health disorder?\"\n",
    "* Q19 - \"If you have been diagnosed or treated for a mental health disorder, do you ever reveal this to clients or business contacts?\"\n",
    "* Q20 - \"If you have revealed a mental health issue to a client or business contact, do you believe this has impacted you negatively?\"\n",
    "* Q21 - \"If you have been diagnosed or treated for a mental health disorder, do you ever reveal this to coworkers or employees?\"\n",
    "* Q22 - \"If you have revealed a mental health issue to a coworker or employee, do you believe this has impacted you negatively?\"\n",
    "* Q23 - \"Do you believe your productivity is ever affected by a mental health issue?\"\n",
    "* Q24 - \"If yes, what percentage of your work time (time performing primary or secondary job functions) is affected by a mental health issue?\",\"Do you have previous employers?\"\n",
    "* Q25 - \"Have your previous employers provided mental health benefits?\"\n",
    "* Q26 - \"Were you aware of the options for mental health care provided by your previous employers?\"\n",
    "* Q27 - \"Did your previous employers ever formally discuss mental health (as part of a wellness campaign or other offi8cial communication)?\"\n",
    "* Q29 - \"Did your previous employers provide resources to learn more about mental health issues and how to seek help?\"\n",
    "* Q30 - \"Was your anonymity protected if you chose to take advantage of mental health or substance abuse treatment resources with previous employers?\"\n",
    "* Q31 - \"Do you think that discussing a mental health disorder with previous employers would have negative consequences?\"\n",
    "* Q32 - \"Do you think that discussing a physical health issue with previous employers would have negative consequences?\"\n",
    "* Q33 - \"Would you have been willing to discuss a mental health issue with your previous co-workers?\"\n",
    "* Q34 - \"Would you have been willing to discuss a mental health issue with your direct supervisor(s)?\"\n",
    "* Q35 - \"Did you feel that your previous employers took mental health as seriously as physical health?\"\n",
    "* Q36 - \"Did you hear of or observe negative consequences for co-workers with mental health issues in your previous workplaces?\"\n",
    "* Q37 - \"Would you be willing to bring up a physical health issue with a potential employer in an interview?\"\n",
    "    * Q38 - \"Why or why not?\"\n",
    "* Q39 - \"Would you bring up a mental health issue with a potential employer in an interview?\" \n",
    "    * Q40 - \"Why or why not?\"\n",
    "* Q41 - \"Do you feel that being identified as a person with a mental health issue would hurt your career?\"\n",
    "* Q42 - \"Do you think that team members/co-workers would view you more negatively if they knew you suffered from a mental health issue?\"\n",
    "* Q43 - \"How willing would you be to share with friends and family that you have a mental illness?\"\n",
    "* Q44 - \"Have you observed or experienced an unsupportive or badly handled response to a mental health issue in your current or previous workplace?\"\n",
    "* Q45 - \"Have your observations of how another individual who discussed a mental health disorder made you less likely to reveal a mental health issue yourself in your current workplace?\"\n",
    "* Q46 - \"Do you have a family history of mental illness?\"\n",
    "* Q47 - \"Have you had a mental health disorder in the past?\"\n",
    "* **Q48 - \"Do you currently have a mental health disorder?\"**\n",
    "    * **Q49 - \"If yes, what condition(s) have you been diagnosed with?\"**\n",
    "    * **Q50 - \"If maybe, what condition(s) do you believe you have?\"**\n",
    "* Q51 - \"Have you been diagnosed with a mental health condition by a medical professional?\"\n",
    "    * Q52 - \"If so, what condition(s) were you diagnosed with?\"\n",
    "* Q53 - \"Have you ever sought treatment for a mental health issue from a mental health professional?\"\n",
    "* Q54 - \"If you have a mental health issue, do you feel that it interferes with your work when being treated effectively?\"\n",
    "* Q55 - \"If you have a mental health issue, do you feel that it interferes with your work when NOT being treated effectively?\"\n",
    "* Q56 - \"What is your age?\",\"What is your gender?\"\n",
    "* Q57 - \"What country do you live in?\"\n",
    "    * Q58 - \"What US state or territory do you live in?\"\n",
    "* Q59 - \"What country do you work in?\"\n",
    "    * Q60 - \"What US state or territory do you work in?\"\n",
    "* Q61 - \"Which of the following best describes your work position?\"\n",
    "* Q62 - \"Do you work remotely?\"\n",
    "\n",
    "**IMPORTANT NOTES:**\n",
    "\n",
    "   1. **Some questions might not be asked**. For example, Q49 and Q50 will only be asked if Q48 is \"yes\". \n",
    "   2. Data can contain **errors/typos**, whose correction might improve the analysis.\n",
    "   3. Data can contain **missing values**, that you might decide to fill.\n",
    "   4. **Not all features are necessarily important** for the analysis.\n",
    "   5. Depending on the analysis, **some features might have to be excluded**. An example is when we want to predict a certain feature and there are other features that only have values for certain values of the target."
   ]
  },
  {
   "cell_type": "markdown",
   "metadata": {},
   "source": [
    "## Task 0 (Know your Data) - Preliminary Data Analysis"
   ]
  },
  {
   "cell_type": "markdown",
   "metadata": {},
   "source": [
    "## Libraries"
   ]
  },
  {
   "cell_type": "code",
   "execution_count": 1,
   "metadata": {},
   "outputs": [],
   "source": [
    "import pandas as pd\n",
    "import numpy as np\n",
    "import re\n",
    "\n",
    "##Plots\n",
    "import matplotlib.pyplot as plt\n",
    "import seaborn as sns\n",
    "\n",
    "#cross-validation - Verifica\n",
    "from sklearn.model_selection import cross_validate\n",
    "from sklearn.model_selection import cross_val_score"
   ]
  },
  {
   "cell_type": "markdown",
   "metadata": {},
   "source": [
    "## 0.1. Loading Data"
   ]
  },
  {
   "cell_type": "code",
   "execution_count": 2,
   "metadata": {},
   "outputs": [],
   "source": [
    "df_mh = pd.read_csv('C:\\\\Users\\\\marta.s.rolho_sub\\\\Documents\\\\GitHub\\\\ProjectoAA\\\\AA_201819_Project\\\\AA_201819_Project\\\\mental-heath-in-tech-2016.csv')"
   ]
  },
  {
   "cell_type": "markdown",
   "metadata": {},
   "source": [
    "## 0.2. Understanding Data"
   ]
  },
  {
   "cell_type": "markdown",
   "metadata": {},
   "source": [
    "In this task you should understand better the features you have, the distribution of values, potential errors, etc and plan/describe what data preprocessing steps should be performed next."
   ]
  },
  {
   "cell_type": "markdown",
   "metadata": {},
   "source": [
    "### Data Analysis"
   ]
  },
  {
   "cell_type": "code",
   "execution_count": 3,
   "metadata": {},
   "outputs": [],
   "source": [
    "## Step 1: Data Selection: Consider what data is available, what data is missing and what data can be removed."
   ]
  },
  {
   "cell_type": "code",
   "execution_count": 4,
   "metadata": {},
   "outputs": [
    {
     "name": "stdout",
     "output_type": "stream",
     "text": [
      "   Are you self-employed?  \\\n",
      "0                       0   \n",
      "1                       0   \n",
      "2                       0   \n",
      "3                       1   \n",
      "4                       0   \n",
      "5                       0   \n",
      "6                       0   \n",
      "7                       0   \n",
      "8                       0   \n",
      "9                       1   \n",
      "\n",
      "  How many employees does your company or organization have?  \\\n",
      "0                                             26-100           \n",
      "1                                               6-25           \n",
      "2                                               6-25           \n",
      "3                                                NaN           \n",
      "4                                               6-25           \n",
      "5                                     More than 1000           \n",
      "6                                             26-100           \n",
      "7                                     More than 1000           \n",
      "8                                             26-100           \n",
      "9                                                NaN           \n",
      "\n",
      "   Is your employer primarily a tech company/organization?  \\\n",
      "0                                                1.0         \n",
      "1                                                1.0         \n",
      "2                                                1.0         \n",
      "3                                                NaN         \n",
      "4                                                0.0         \n",
      "5                                                1.0         \n",
      "6                                                1.0         \n",
      "7                                                1.0         \n",
      "8                                                0.0         \n",
      "9                                                NaN         \n",
      "\n",
      "   Is your primary role within your company related to tech/IT?  \\\n",
      "0                                                NaN              \n",
      "1                                                NaN              \n",
      "2                                                NaN              \n",
      "3                                                NaN              \n",
      "4                                                1.0              \n",
      "5                                                NaN              \n",
      "6                                                NaN              \n",
      "7                                                NaN              \n",
      "8                                                1.0              \n",
      "9                                                NaN              \n",
      "\n",
      "  Does your employer provide mental health benefits as part of healthcare coverage?  \\\n",
      "0                    Not eligible for coverage / N/A                                  \n",
      "1                                                 No                                  \n",
      "2                                                 No                                  \n",
      "3                                                NaN                                  \n",
      "4                                                Yes                                  \n",
      "5                                                Yes                                  \n",
      "6                                       I don't know                                  \n",
      "7                                                Yes                                  \n",
      "8                                       I don't know                                  \n",
      "9                                                NaN                                  \n",
      "\n",
      "  Do you know the options for mental health care available under your employer-provided coverage?  \\\n",
      "0                                                NaN                                                \n",
      "1                                                Yes                                                \n",
      "2                                                NaN                                                \n",
      "3                                                NaN                                                \n",
      "4                                                Yes                                                \n",
      "5                                      I am not sure                                                \n",
      "6                                                 No                                                \n",
      "7                                                Yes                                                \n",
      "8                                                 No                                                \n",
      "9                                                NaN                                                \n",
      "\n",
      "  Has your employer ever formally discussed mental health (for example, as part of a wellness campaign or other official communication)?  \\\n",
      "0                                                 No                                                                                       \n",
      "1                                                Yes                                                                                       \n",
      "2                                                 No                                                                                       \n",
      "3                                                NaN                                                                                       \n",
      "4                                                 No                                                                                       \n",
      "5                                                 No                                                                                       \n",
      "6                                                 No                                                                                       \n",
      "7                                                 No                                                                                       \n",
      "8                                                 No                                                                                       \n",
      "9                                                NaN                                                                                       \n",
      "\n",
      "  Does your employer offer resources to learn more about mental health concerns and options for seeking help?  \\\n",
      "0                                                 No                                                            \n",
      "1                                                Yes                                                            \n",
      "2                                                 No                                                            \n",
      "3                                                NaN                                                            \n",
      "4                                                 No                                                            \n",
      "5                                                Yes                                                            \n",
      "6                                                 No                                                            \n",
      "7                                                Yes                                                            \n",
      "8                                                 No                                                            \n",
      "9                                                NaN                                                            \n",
      "\n",
      "  Is your anonymity protected if you choose to take advantage of mental health or substance abuse treatment resources provided by your employer?  \\\n",
      "0                                       I don't know                                                                                               \n",
      "1                                                Yes                                                                                               \n",
      "2                                       I don't know                                                                                               \n",
      "3                                                NaN                                                                                               \n",
      "4                                                 No                                                                                               \n",
      "5                                                Yes                                                                                               \n",
      "6                                       I don't know                                                                                               \n",
      "7                                                Yes                                                                                               \n",
      "8                                       I don't know                                                                                               \n",
      "9                                                NaN                                                                                               \n",
      "\n",
      "  If a mental health issue prompted you to request a medical leave from work, asking for that leave would be:  \\\n",
      "0                                          Very easy                                                            \n",
      "1                                      Somewhat easy                                                            \n",
      "2                         Neither easy nor difficult                                                            \n",
      "3                                                NaN                                                            \n",
      "4                         Neither easy nor difficult                                                            \n",
      "5                                      Somewhat easy                                                            \n",
      "6                                      Somewhat easy                                                            \n",
      "7                                          Very easy                                                            \n",
      "8                                     Very difficult                                                            \n",
      "9                                                NaN                                                            \n",
      "\n",
      "           ...           \\\n",
      "0          ...            \n",
      "1          ...            \n",
      "2          ...            \n",
      "3          ...            \n",
      "4          ...            \n",
      "5          ...            \n",
      "6          ...            \n",
      "7          ...            \n",
      "8          ...            \n",
      "9          ...            \n",
      "\n",
      "  If you have a mental health issue, do you feel that it interferes with your work when being treated effectively?  \\\n",
      "0                               Not applicable to me                                                                 \n",
      "1                                             Rarely                                                                 \n",
      "2                               Not applicable to me                                                                 \n",
      "3                                          Sometimes                                                                 \n",
      "4                                          Sometimes                                                                 \n",
      "5                               Not applicable to me                                                                 \n",
      "6                               Not applicable to me                                                                 \n",
      "7                                          Sometimes                                                                 \n",
      "8                                             Rarely                                                                 \n",
      "9                                             Rarely                                                                 \n",
      "\n",
      "  If you have a mental health issue, do you feel that it interferes with your work when NOT being treated effectively?  \\\n",
      "0                               Not applicable to me                                                                     \n",
      "1                                          Sometimes                                                                     \n",
      "2                               Not applicable to me                                                                     \n",
      "3                                          Sometimes                                                                     \n",
      "4                                          Sometimes                                                                     \n",
      "5                                              Often                                                                     \n",
      "6                               Not applicable to me                                                                     \n",
      "7                                              Often                                                                     \n",
      "8                                              Often                                                                     \n",
      "9                                              Often                                                                     \n",
      "\n",
      "  What is your age? What is your gender? What country do you live in?  \\\n",
      "0                39                 Male               United Kingdom   \n",
      "1                29                 male     United States of America   \n",
      "2                38                Male                United Kingdom   \n",
      "3                43                 male               United Kingdom   \n",
      "4                43               Female     United States of America   \n",
      "5                42                 Male               United Kingdom   \n",
      "6                30                    M     United States of America   \n",
      "7                37               female     United States of America   \n",
      "8                44               Female     United States of America   \n",
      "9                30                 Male     United States of America   \n",
      "\n",
      "  What US state or territory do you live in?  What country do you work in?  \\\n",
      "0                                        NaN                United Kingdom   \n",
      "1                                   Illinois      United States of America   \n",
      "2                                        NaN                United Kingdom   \n",
      "3                                        NaN                United Kingdom   \n",
      "4                                   Illinois      United States of America   \n",
      "5                                        NaN                United Kingdom   \n",
      "6                                  Tennessee      United States of America   \n",
      "7                                   Virginia      United States of America   \n",
      "8                                 California      United States of America   \n",
      "9                                   Kentucky      United States of America   \n",
      "\n",
      "  What US state or territory do you work in?  \\\n",
      "0                                        NaN   \n",
      "1                                   Illinois   \n",
      "2                                        NaN   \n",
      "3                                        NaN   \n",
      "4                                   Illinois   \n",
      "5                                        NaN   \n",
      "6                                  Tennessee   \n",
      "7                                   Virginia   \n",
      "8                                 California   \n",
      "9                                   Kentucky   \n",
      "\n",
      "  Which of the following best describes your work position?  \\\n",
      "0                                 Back-end Developer          \n",
      "1             Back-end Developer|Front-end Developer          \n",
      "2                                 Back-end Developer          \n",
      "3                               Supervisor/Team Lead          \n",
      "4  Executive Leadership|Supervisor/Team Lead|Dev ...          \n",
      "5  DevOps/SysAdmin|Support|Back-end Developer|Fro...          \n",
      "6                                 Back-end Developer          \n",
      "7         Dev Evangelist/Advocate|Back-end Developer          \n",
      "8         Support|Back-end Developer|One-person shop          \n",
      "9  One-person shop|Front-end Developer|Back-end D...          \n",
      "\n",
      "  Do you work remotely?  \n",
      "0             Sometimes  \n",
      "1                 Never  \n",
      "2                Always  \n",
      "3             Sometimes  \n",
      "4             Sometimes  \n",
      "5             Sometimes  \n",
      "6             Sometimes  \n",
      "7                Always  \n",
      "8             Sometimes  \n",
      "9                Always  \n",
      "\n",
      "[10 rows x 63 columns]\n"
     ]
    }
   ],
   "source": [
    "print(df_mh.head(10))"
   ]
  },
  {
   "cell_type": "markdown",
   "metadata": {},
   "source": [
    "#### Dataframe has 1433 rows (answers) and 63 columns (questions)"
   ]
  },
  {
   "cell_type": "code",
   "execution_count": 5,
   "metadata": {},
   "outputs": [
    {
     "data": {
      "text/plain": [
       "(1433, 63)"
      ]
     },
     "execution_count": 5,
     "metadata": {},
     "output_type": "execute_result"
    }
   ],
   "source": [
    "df_mh.shape"
   ]
  },
  {
   "cell_type": "code",
   "execution_count": 6,
   "metadata": {},
   "outputs": [],
   "source": [
    "##print(df_mental_health.info)"
   ]
  },
  {
   "cell_type": "code",
   "execution_count": 7,
   "metadata": {},
   "outputs": [
    {
     "name": "stdout",
     "output_type": "stream",
     "text": [
      "<class 'pandas.core.frame.DataFrame'>\n",
      "RangeIndex: 1433 entries, 0 to 1432\n",
      "Data columns (total 63 columns):\n",
      "Are you self-employed?                                                                                                                                                              1433 non-null int64\n",
      "How many employees does your company or organization have?                                                                                                                          1146 non-null object\n",
      "Is your employer primarily a tech company/organization?                                                                                                                             1146 non-null float64\n",
      "Is your primary role within your company related to tech/IT?                                                                                                                        263 non-null float64\n",
      "Does your employer provide mental health benefits as part of healthcare coverage?                                                                                                   1146 non-null object\n",
      "Do you know the options for mental health care available under your employer-provided coverage?                                                                                     1013 non-null object\n",
      "Has your employer ever formally discussed mental health (for example, as part of a wellness campaign or other official communication)?                                              1146 non-null object\n",
      "Does your employer offer resources to learn more about mental health concerns and options for seeking help?                                                                         1146 non-null object\n",
      "Is your anonymity protected if you choose to take advantage of mental health or substance abuse treatment resources provided by your employer?                                      1146 non-null object\n",
      "If a mental health issue prompted you to request a medical leave from work, asking for that leave would be:                                                                         1146 non-null object\n",
      "Do you think that discussing a mental health disorder with your employer would have negative consequences?                                                                          1146 non-null object\n",
      "Do you think that discussing a physical health issue with your employer would have negative consequences?                                                                           1146 non-null object\n",
      "Would you feel comfortable discussing a mental health disorder with your coworkers?                                                                                                 1146 non-null object\n",
      "Would you feel comfortable discussing a mental health disorder with your direct supervisor(s)?                                                                                      1146 non-null object\n",
      "Do you feel that your employer takes mental health as seriously as physical health?                                                                                                 1146 non-null object\n",
      "Have you heard of or observed negative consequences for co-workers who have been open about mental health issues in your workplace?                                                 1146 non-null object\n",
      "Do you have medical coverage (private insurance or state-provided) which includes treatment of  mental health issues?                                                               287 non-null float64\n",
      "Do you know local or online resources to seek help for a mental health disorder?                                                                                                    287 non-null object\n",
      "If you have been diagnosed or treated for a mental health disorder, do you ever reveal this to clients or business contacts?                                                        287 non-null object\n",
      "If you have revealed a mental health issue to a client or business contact, do you believe this has impacted you negatively?                                                        144 non-null object\n",
      "If you have been diagnosed or treated for a mental health disorder, do you ever reveal this to coworkers or employees?                                                              287 non-null object\n",
      "If you have revealed a mental health issue to a coworker or employee, do you believe this has impacted you negatively?                                                              287 non-null object\n",
      "Do you believe your productivity is ever affected by a mental health issue?                                                                                                         287 non-null object\n",
      "If yes, what percentage of your work time (time performing primary or secondary job functions) is affected by a mental health issue?                                                204 non-null object\n",
      "Do you have previous employers?                                                                                                                                                     1433 non-null int64\n",
      "Have your previous employers provided mental health benefits?                                                                                                                       1264 non-null object\n",
      "Were you aware of the options for mental health care provided by your previous employers?                                                                                           1264 non-null object\n",
      "Did your previous employers ever formally discuss mental health (as part of a wellness campaign or other official communication)?                                                   1264 non-null object\n",
      "Did your previous employers provide resources to learn more about mental health issues and how to seek help?                                                                        1264 non-null object\n",
      "Was your anonymity protected if you chose to take advantage of mental health or substance abuse treatment resources with previous employers?                                        1264 non-null object\n",
      "Do you think that discussing a mental health disorder with previous employers would have negative consequences?                                                                     1264 non-null object\n",
      "Do you think that discussing a physical health issue with previous employers would have negative consequences?                                                                      1264 non-null object\n",
      "Would you have been willing to discuss a mental health issue with your previous co-workers?                                                                                         1264 non-null object\n",
      "Would you have been willing to discuss a mental health issue with your direct supervisor(s)?                                                                                        1264 non-null object\n",
      "Did you feel that your previous employers took mental health as seriously as physical health?                                                                                       1264 non-null object\n",
      "Did you hear of or observe negative consequences for co-workers with mental health issues in your previous workplaces?                                                              1264 non-null object\n",
      "Would you be willing to bring up a physical health issue with a potential employer in an interview?                                                                                 1433 non-null object\n",
      "Why or why not?                                                                                                                                                                     1095 non-null object\n",
      "Would you bring up a mental health issue with a potential employer in an interview?                                                                                                 1433 non-null object\n",
      "Why or why not?.1                                                                                                                                                                   1126 non-null object\n",
      "Do you feel that being identified as a person with a mental health issue would hurt your career?                                                                                    1433 non-null object\n",
      "Do you think that team members/co-workers would view you more negatively if they knew you suffered from a mental health issue?                                                      1433 non-null object\n",
      "How willing would you be to share with friends and family that you have a mental illness?                                                                                           1433 non-null object\n",
      "Have you observed or experienced an unsupportive or badly handled response to a mental health issue in your current or previous workplace?                                          1344 non-null object\n",
      "Have your observations of how another individual who discussed a mental health disorder made you less likely to reveal a mental health issue yourself in your current workplace?    657 non-null object\n",
      "Do you have a family history of mental illness?                                                                                                                                     1433 non-null object\n",
      "Have you had a mental health disorder in the past?                                                                                                                                  1433 non-null object\n",
      "Do you currently have a mental health disorder?                                                                                                                                     1433 non-null object\n",
      "If yes, what condition(s) have you been diagnosed with?                                                                                                                             568 non-null object\n",
      "If maybe, what condition(s) do you believe you have?                                                                                                                                322 non-null object\n",
      "Have you been diagnosed with a mental health condition by a medical professional?                                                                                                   1433 non-null object\n",
      "If so, what condition(s) were you diagnosed with?                                                                                                                                   711 non-null object\n",
      "Have you ever sought treatment for a mental health issue from a mental health professional?                                                                                         1433 non-null int64\n",
      "If you have a mental health issue, do you feel that it interferes with your work when being treated effectively?                                                                    1433 non-null object\n",
      "If you have a mental health issue, do you feel that it interferes with your work when NOT being treated effectively?                                                                1433 non-null object\n",
      "What is your age?                                                                                                                                                                   1433 non-null int64\n",
      "What is your gender?                                                                                                                                                                1430 non-null object\n",
      "What country do you live in?                                                                                                                                                        1433 non-null object\n",
      "What US state or territory do you live in?                                                                                                                                          840 non-null object\n",
      "What country do you work in?                                                                                                                                                        1433 non-null object\n",
      "What US state or territory do you work in?                                                                                                                                          851 non-null object\n",
      "Which of the following best describes your work position?                                                                                                                           1433 non-null object\n",
      "Do you work remotely?                                                                                                                                                               1433 non-null object\n",
      "dtypes: float64(3), int64(4), object(56)\n",
      "memory usage: 705.4+ KB\n",
      "None\n"
     ]
    }
   ],
   "source": [
    "print(df_mh.info())"
   ]
  },
  {
   "cell_type": "code",
   "execution_count": 8,
   "metadata": {},
   "outputs": [],
   "source": [
    "#df_mh['Do you currently have a mental health disorder?']"
   ]
  },
  {
   "cell_type": "markdown",
   "metadata": {},
   "source": [
    "## Analysis of Missing Values"
   ]
  },
  {
   "cell_type": "code",
   "execution_count": 9,
   "metadata": {},
   "outputs": [],
   "source": [
    "def missing_values_table(df):\n",
    "        mis_val = df.isnull().sum()\n",
    "        mis_val_percent = 100 * df.isnull().sum() / len(df)\n",
    "        mis_val_table = pd.concat([mis_val, mis_val_percent], axis=1)\n",
    "        mis_val_table_ren_columns = mis_val_table.rename(\n",
    "        columns = {0 : 'Missing Values', 1 : '% of Total Values'})\n",
    "        mis_val_table_ren_columns = mis_val_table_ren_columns[\n",
    "            mis_val_table_ren_columns.iloc[:,1] != 0].sort_values(\n",
    "        '% of Total Values', ascending=False).round(1)\n",
    "        print (\"Dataframe has \" + str(df.shape[1]) + \" columns.\\n\"      \n",
    "            \"There are \" + str(mis_val_table_ren_columns.shape[0]) +\n",
    "              \" columns that have missing values.\")\n",
    "        return mis_val_table_ren_columns"
   ]
  },
  {
   "cell_type": "code",
   "execution_count": 10,
   "metadata": {},
   "outputs": [
    {
     "name": "stdout",
     "output_type": "stream",
     "text": [
      "Dataframe has 63 columns.\n",
      "There are 44 columns that have missing values.\n"
     ]
    },
    {
     "data": {
      "text/html": [
       "<div>\n",
       "<style scoped>\n",
       "    .dataframe tbody tr th:only-of-type {\n",
       "        vertical-align: middle;\n",
       "    }\n",
       "\n",
       "    .dataframe tbody tr th {\n",
       "        vertical-align: top;\n",
       "    }\n",
       "\n",
       "    .dataframe thead th {\n",
       "        text-align: right;\n",
       "    }\n",
       "</style>\n",
       "<table border=\"1\" class=\"dataframe\">\n",
       "  <thead>\n",
       "    <tr style=\"text-align: right;\">\n",
       "      <th></th>\n",
       "      <th>Missing Values</th>\n",
       "      <th>% of Total Values</th>\n",
       "    </tr>\n",
       "  </thead>\n",
       "  <tbody>\n",
       "    <tr>\n",
       "      <th>If you have revealed a mental health issue to a client or business contact, do you believe this has impacted you negatively?</th>\n",
       "      <td>1289</td>\n",
       "      <td>90.0</td>\n",
       "    </tr>\n",
       "    <tr>\n",
       "      <th>If yes, what percentage of your work time (time performing primary or secondary job functions) is affected by a mental health issue?</th>\n",
       "      <td>1229</td>\n",
       "      <td>85.8</td>\n",
       "    </tr>\n",
       "    <tr>\n",
       "      <th>Is your primary role within your company related to tech/IT?</th>\n",
       "      <td>1170</td>\n",
       "      <td>81.6</td>\n",
       "    </tr>\n",
       "    <tr>\n",
       "      <th>Do you have medical coverage (private insurance or state-provided) which includes treatment of  mental health issues?</th>\n",
       "      <td>1146</td>\n",
       "      <td>80.0</td>\n",
       "    </tr>\n",
       "    <tr>\n",
       "      <th>Do you believe your productivity is ever affected by a mental health issue?</th>\n",
       "      <td>1146</td>\n",
       "      <td>80.0</td>\n",
       "    </tr>\n",
       "    <tr>\n",
       "      <th>If you have revealed a mental health issue to a coworker or employee, do you believe this has impacted you negatively?</th>\n",
       "      <td>1146</td>\n",
       "      <td>80.0</td>\n",
       "    </tr>\n",
       "    <tr>\n",
       "      <th>If you have been diagnosed or treated for a mental health disorder, do you ever reveal this to coworkers or employees?</th>\n",
       "      <td>1146</td>\n",
       "      <td>80.0</td>\n",
       "    </tr>\n",
       "    <tr>\n",
       "      <th>If you have been diagnosed or treated for a mental health disorder, do you ever reveal this to clients or business contacts?</th>\n",
       "      <td>1146</td>\n",
       "      <td>80.0</td>\n",
       "    </tr>\n",
       "    <tr>\n",
       "      <th>Do you know local or online resources to seek help for a mental health disorder?</th>\n",
       "      <td>1146</td>\n",
       "      <td>80.0</td>\n",
       "    </tr>\n",
       "    <tr>\n",
       "      <th>If maybe, what condition(s) do you believe you have?</th>\n",
       "      <td>1111</td>\n",
       "      <td>77.5</td>\n",
       "    </tr>\n",
       "    <tr>\n",
       "      <th>If yes, what condition(s) have you been diagnosed with?</th>\n",
       "      <td>865</td>\n",
       "      <td>60.4</td>\n",
       "    </tr>\n",
       "    <tr>\n",
       "      <th>Have your observations of how another individual who discussed a mental health disorder made you less likely to reveal a mental health issue yourself in your current workplace?</th>\n",
       "      <td>776</td>\n",
       "      <td>54.2</td>\n",
       "    </tr>\n",
       "    <tr>\n",
       "      <th>If so, what condition(s) were you diagnosed with?</th>\n",
       "      <td>722</td>\n",
       "      <td>50.4</td>\n",
       "    </tr>\n",
       "    <tr>\n",
       "      <th>What US state or territory do you live in?</th>\n",
       "      <td>593</td>\n",
       "      <td>41.4</td>\n",
       "    </tr>\n",
       "    <tr>\n",
       "      <th>What US state or territory do you work in?</th>\n",
       "      <td>582</td>\n",
       "      <td>40.6</td>\n",
       "    </tr>\n",
       "    <tr>\n",
       "      <th>Do you know the options for mental health care available under your employer-provided coverage?</th>\n",
       "      <td>420</td>\n",
       "      <td>29.3</td>\n",
       "    </tr>\n",
       "    <tr>\n",
       "      <th>Why or why not?</th>\n",
       "      <td>338</td>\n",
       "      <td>23.6</td>\n",
       "    </tr>\n",
       "    <tr>\n",
       "      <th>Why or why not?.1</th>\n",
       "      <td>307</td>\n",
       "      <td>21.4</td>\n",
       "    </tr>\n",
       "    <tr>\n",
       "      <th>Have you heard of or observed negative consequences for co-workers who have been open about mental health issues in your workplace?</th>\n",
       "      <td>287</td>\n",
       "      <td>20.0</td>\n",
       "    </tr>\n",
       "    <tr>\n",
       "      <th>Do you feel that your employer takes mental health as seriously as physical health?</th>\n",
       "      <td>287</td>\n",
       "      <td>20.0</td>\n",
       "    </tr>\n",
       "    <tr>\n",
       "      <th>Does your employer provide mental health benefits as part of healthcare coverage?</th>\n",
       "      <td>287</td>\n",
       "      <td>20.0</td>\n",
       "    </tr>\n",
       "    <tr>\n",
       "      <th>Has your employer ever formally discussed mental health (for example, as part of a wellness campaign or other official communication)?</th>\n",
       "      <td>287</td>\n",
       "      <td>20.0</td>\n",
       "    </tr>\n",
       "    <tr>\n",
       "      <th>Does your employer offer resources to learn more about mental health concerns and options for seeking help?</th>\n",
       "      <td>287</td>\n",
       "      <td>20.0</td>\n",
       "    </tr>\n",
       "    <tr>\n",
       "      <th>Is your anonymity protected if you choose to take advantage of mental health or substance abuse treatment resources provided by your employer?</th>\n",
       "      <td>287</td>\n",
       "      <td>20.0</td>\n",
       "    </tr>\n",
       "    <tr>\n",
       "      <th>How many employees does your company or organization have?</th>\n",
       "      <td>287</td>\n",
       "      <td>20.0</td>\n",
       "    </tr>\n",
       "    <tr>\n",
       "      <th>Would you feel comfortable discussing a mental health disorder with your direct supervisor(s)?</th>\n",
       "      <td>287</td>\n",
       "      <td>20.0</td>\n",
       "    </tr>\n",
       "    <tr>\n",
       "      <th>Would you feel comfortable discussing a mental health disorder with your coworkers?</th>\n",
       "      <td>287</td>\n",
       "      <td>20.0</td>\n",
       "    </tr>\n",
       "    <tr>\n",
       "      <th>Do you think that discussing a physical health issue with your employer would have negative consequences?</th>\n",
       "      <td>287</td>\n",
       "      <td>20.0</td>\n",
       "    </tr>\n",
       "    <tr>\n",
       "      <th>Do you think that discussing a mental health disorder with your employer would have negative consequences?</th>\n",
       "      <td>287</td>\n",
       "      <td>20.0</td>\n",
       "    </tr>\n",
       "    <tr>\n",
       "      <th>If a mental health issue prompted you to request a medical leave from work, asking for that leave would be:</th>\n",
       "      <td>287</td>\n",
       "      <td>20.0</td>\n",
       "    </tr>\n",
       "    <tr>\n",
       "      <th>Is your employer primarily a tech company/organization?</th>\n",
       "      <td>287</td>\n",
       "      <td>20.0</td>\n",
       "    </tr>\n",
       "    <tr>\n",
       "      <th>Did your previous employers ever formally discuss mental health (as part of a wellness campaign or other official communication)?</th>\n",
       "      <td>169</td>\n",
       "      <td>11.8</td>\n",
       "    </tr>\n",
       "    <tr>\n",
       "      <th>Did your previous employers provide resources to learn more about mental health issues and how to seek help?</th>\n",
       "      <td>169</td>\n",
       "      <td>11.8</td>\n",
       "    </tr>\n",
       "    <tr>\n",
       "      <th>Have your previous employers provided mental health benefits?</th>\n",
       "      <td>169</td>\n",
       "      <td>11.8</td>\n",
       "    </tr>\n",
       "    <tr>\n",
       "      <th>Did you hear of or observe negative consequences for co-workers with mental health issues in your previous workplaces?</th>\n",
       "      <td>169</td>\n",
       "      <td>11.8</td>\n",
       "    </tr>\n",
       "    <tr>\n",
       "      <th>Did you feel that your previous employers took mental health as seriously as physical health?</th>\n",
       "      <td>169</td>\n",
       "      <td>11.8</td>\n",
       "    </tr>\n",
       "    <tr>\n",
       "      <th>Would you have been willing to discuss a mental health issue with your direct supervisor(s)?</th>\n",
       "      <td>169</td>\n",
       "      <td>11.8</td>\n",
       "    </tr>\n",
       "    <tr>\n",
       "      <th>Would you have been willing to discuss a mental health issue with your previous co-workers?</th>\n",
       "      <td>169</td>\n",
       "      <td>11.8</td>\n",
       "    </tr>\n",
       "    <tr>\n",
       "      <th>Were you aware of the options for mental health care provided by your previous employers?</th>\n",
       "      <td>169</td>\n",
       "      <td>11.8</td>\n",
       "    </tr>\n",
       "    <tr>\n",
       "      <th>Do you think that discussing a mental health disorder with previous employers would have negative consequences?</th>\n",
       "      <td>169</td>\n",
       "      <td>11.8</td>\n",
       "    </tr>\n",
       "    <tr>\n",
       "      <th>Was your anonymity protected if you chose to take advantage of mental health or substance abuse treatment resources with previous employers?</th>\n",
       "      <td>169</td>\n",
       "      <td>11.8</td>\n",
       "    </tr>\n",
       "    <tr>\n",
       "      <th>Do you think that discussing a physical health issue with previous employers would have negative consequences?</th>\n",
       "      <td>169</td>\n",
       "      <td>11.8</td>\n",
       "    </tr>\n",
       "    <tr>\n",
       "      <th>Have you observed or experienced an unsupportive or badly handled response to a mental health issue in your current or previous workplace?</th>\n",
       "      <td>89</td>\n",
       "      <td>6.2</td>\n",
       "    </tr>\n",
       "    <tr>\n",
       "      <th>What is your gender?</th>\n",
       "      <td>3</td>\n",
       "      <td>0.2</td>\n",
       "    </tr>\n",
       "  </tbody>\n",
       "</table>\n",
       "</div>"
      ],
      "text/plain": [
       "                                                    Missing Values  \\\n",
       "If you have revealed a mental health issue to a...            1289   \n",
       "If yes, what percentage of your work time (time...            1229   \n",
       "Is your primary role within your company relate...            1170   \n",
       "Do you have medical coverage (private insurance...            1146   \n",
       "Do you believe your productivity is ever affect...            1146   \n",
       "If you have revealed a mental health issue to a...            1146   \n",
       "If you have been diagnosed or treated for a men...            1146   \n",
       "If you have been diagnosed or treated for a men...            1146   \n",
       "Do you know local or online resources to seek h...            1146   \n",
       "If maybe, what condition(s) do you believe you ...            1111   \n",
       "If yes, what condition(s) have you been diagnos...             865   \n",
       "Have your observations of how another individua...             776   \n",
       "If so, what condition(s) were you diagnosed with?              722   \n",
       "What US state or territory do you live in?                     593   \n",
       "What US state or territory do you work in?                     582   \n",
       "Do you know the options for mental health care ...             420   \n",
       "Why or why not?                                                338   \n",
       "Why or why not?.1                                              307   \n",
       "Have you heard of or observed negative conseque...             287   \n",
       "Do you feel that your employer takes mental hea...             287   \n",
       "Does your employer provide mental health benefi...             287   \n",
       "Has your employer ever formally discussed menta...             287   \n",
       "Does your employer offer resources to learn mor...             287   \n",
       "Is your anonymity protected if you choose to ta...             287   \n",
       "How many employees does your company or organiz...             287   \n",
       "Would you feel comfortable discussing a mental ...             287   \n",
       "Would you feel comfortable discussing a mental ...             287   \n",
       "Do you think that discussing a physical health ...             287   \n",
       "Do you think that discussing a mental health di...             287   \n",
       "If a mental health issue prompted you to reques...             287   \n",
       "Is your employer primarily a tech company/organ...             287   \n",
       "Did your previous employers ever formally discu...             169   \n",
       "Did your previous employers provide resources t...             169   \n",
       "Have your previous employers provided mental he...             169   \n",
       "Did you hear of or observe negative consequence...             169   \n",
       "Did you feel that your previous employers took ...             169   \n",
       "Would you have been willing to discuss a mental...             169   \n",
       "Would you have been willing to discuss a mental...             169   \n",
       "Were you aware of the options for mental health...             169   \n",
       "Do you think that discussing a mental health di...             169   \n",
       "Was your anonymity protected if you chose to ta...             169   \n",
       "Do you think that discussing a physical health ...             169   \n",
       "Have you observed or experienced an unsupportiv...              89   \n",
       "What is your gender?                                             3   \n",
       "\n",
       "                                                    % of Total Values  \n",
       "If you have revealed a mental health issue to a...               90.0  \n",
       "If yes, what percentage of your work time (time...               85.8  \n",
       "Is your primary role within your company relate...               81.6  \n",
       "Do you have medical coverage (private insurance...               80.0  \n",
       "Do you believe your productivity is ever affect...               80.0  \n",
       "If you have revealed a mental health issue to a...               80.0  \n",
       "If you have been diagnosed or treated for a men...               80.0  \n",
       "If you have been diagnosed or treated for a men...               80.0  \n",
       "Do you know local or online resources to seek h...               80.0  \n",
       "If maybe, what condition(s) do you believe you ...               77.5  \n",
       "If yes, what condition(s) have you been diagnos...               60.4  \n",
       "Have your observations of how another individua...               54.2  \n",
       "If so, what condition(s) were you diagnosed with?                50.4  \n",
       "What US state or territory do you live in?                       41.4  \n",
       "What US state or territory do you work in?                       40.6  \n",
       "Do you know the options for mental health care ...               29.3  \n",
       "Why or why not?                                                  23.6  \n",
       "Why or why not?.1                                                21.4  \n",
       "Have you heard of or observed negative conseque...               20.0  \n",
       "Do you feel that your employer takes mental hea...               20.0  \n",
       "Does your employer provide mental health benefi...               20.0  \n",
       "Has your employer ever formally discussed menta...               20.0  \n",
       "Does your employer offer resources to learn mor...               20.0  \n",
       "Is your anonymity protected if you choose to ta...               20.0  \n",
       "How many employees does your company or organiz...               20.0  \n",
       "Would you feel comfortable discussing a mental ...               20.0  \n",
       "Would you feel comfortable discussing a mental ...               20.0  \n",
       "Do you think that discussing a physical health ...               20.0  \n",
       "Do you think that discussing a mental health di...               20.0  \n",
       "If a mental health issue prompted you to reques...               20.0  \n",
       "Is your employer primarily a tech company/organ...               20.0  \n",
       "Did your previous employers ever formally discu...               11.8  \n",
       "Did your previous employers provide resources t...               11.8  \n",
       "Have your previous employers provided mental he...               11.8  \n",
       "Did you hear of or observe negative consequence...               11.8  \n",
       "Did you feel that your previous employers took ...               11.8  \n",
       "Would you have been willing to discuss a mental...               11.8  \n",
       "Would you have been willing to discuss a mental...               11.8  \n",
       "Were you aware of the options for mental health...               11.8  \n",
       "Do you think that discussing a mental health di...               11.8  \n",
       "Was your anonymity protected if you chose to ta...               11.8  \n",
       "Do you think that discussing a physical health ...               11.8  \n",
       "Have you observed or experienced an unsupportiv...                6.2  \n",
       "What is your gender?                                              0.2  "
      ]
     },
     "execution_count": 10,
     "metadata": {},
     "output_type": "execute_result"
    }
   ],
   "source": [
    "missing_values_table(df_mh)"
   ]
  },
  {
   "cell_type": "markdown",
   "metadata": {},
   "source": [
    "CORRIGIR -Conclusion: 10 of 64 columns have more than 70% of values with missing values. Maybe we should drop some of these columns. "
   ]
  },
  {
   "cell_type": "markdown",
   "metadata": {},
   "source": [
    "## Task 1 (Supervised Learning) - Predicting if a person has a mental health disorder "
   ]
  },
  {
   "cell_type": "markdown",
   "metadata": {},
   "source": [
    "In this task you should **learn classifiers to predict if a person currently has a mental health disorder**:\n",
    "\n",
    "* Choose one classifier in each category: Tree models, Rule models, Linear models, Distance-based models, and Probabilistic models.\n",
    "* Use a train/test scheme or cross-valiation.\n",
    "* Describe the parameters used.\n",
    "* Evaluate the results using an evaluation measure and confusion matrices.\n",
    "* Choose the best classifier and fundament you choice."
   ]
  },
  {
   "cell_type": "markdown",
   "metadata": {},
   "source": [
    "## Parameters"
   ]
  },
  {
   "cell_type": "code",
   "execution_count": 11,
   "metadata": {},
   "outputs": [],
   "source": [
    "age_minimum_threshold = 14\n",
    "age_maximum_threshold = 100\n",
    "\n",
    "# Percentage of data used for testing\n",
    "test_size = 0.30\n",
    "\n",
    "#Columns to drop for first test\n",
    "#'Self-Employed', 'Num_Employees', 'Type_Company', '1stRole_IT', 'Employees_Discuss_MH', 'MH_Resources_Seeking_Help', 'Q9',\n",
    "#'Q10', 'Q11', 'Q12', 'Q13', 'Q17', 'Q18', 'Q20', 'Q21', 'Q22', 'Q24', 'Q25', 'Q26', 'Q27', 'Q28', 'Q29', 'Q30', 'Q31', 'Q32',\n",
    "#'Q33', 'Q34', 'Q35', 'Q36', 'Q37', 'Q38', 'Q39', 'Q40', 'Q44', 'Q45', 'Q54', 'Q55',\n"
   ]
  },
  {
   "cell_type": "markdown",
   "metadata": {},
   "source": [
    "## 1.1. Preprocessing Data for Classification"
   ]
  },
  {
   "cell_type": "code",
   "execution_count": 12,
   "metadata": {},
   "outputs": [],
   "source": [
    "## Organize your selected data by formatting, cleaning and sampling from it."
   ]
  },
  {
   "cell_type": "markdown",
   "metadata": {},
   "source": [
    "### 1.1.1 Rename columns"
   ]
  },
  {
   "cell_type": "code",
   "execution_count": 13,
   "metadata": {},
   "outputs": [],
   "source": [
    "new_names =  {'Are you self-employed?': 'Self-Employed',\n",
    "'How many employees does your company or organization have?': 'Num_Employees',\n",
    "'Is your employer primarily a tech company/organization?': 'Type_Company',\n",
    "'Is your primary role within your company related to tech/IT?':'1stRole_IT',\n",
    "'Does your employer provide mental health benefits as part of healthcare coverage?': 'Health_Benefits',  \n",
    "'Do you know the options for mental health care available under your employer-provided coverage?': 'Health_Care_Options_MH', \n",
    "'Has your employer ever formally discussed mental health (for example, as part of a wellness campaign or other official communication)?': 'Employeer_Discuss_MH',\n",
    "'Does your employer offer resources to learn more about mental health concerns and options for seeking help?': 'MH_Resources_Seeking_Help',\n",
    "'Is your anonymity protected if you choose to take advantage of mental health or substance abuse treatment resources provided by your employer?': 'Q9',\n",
    "\"If a mental health issue prompted you to request a medical leave from work, asking for that leave would be:\":'Q10',\n",
    "\"Do you think that discussing a mental health disorder with your employer would have negative consequences?\": 'Q11',\n",
    "\"Do you think that discussing a physical health issue with your employer would have negative consequences?\": 'Q12',\n",
    "\"Would you feel comfortable discussing a mental health disorder with your coworkers?\": 'Q13',\n",
    "\"Would you feel comfortable discussing a mental health disorder with your direct supervisor(s)?\": 'Q14',\n",
    "\"Do you feel that your employer takes mental health as seriously as physical health?\": 'Employer_Considerated_MH_PH',\n",
    "\"Have you heard of or observed negative consequences for co-workers who have been open about mental health issues in your workplace?\": 'Consequence_in_Work_MH',\n",
    "\"Do you have medical coverage (private insurance or state-provided) which includes treatment of  mental health issues?\":'Q17',\n",
    "\"Do you know local or online resources to seek help for a mental health disorder?\":'Q18',\n",
    "\"If you have been diagnosed or treated for a mental health disorder, do you ever reveal this to clients or business contacts?\":'Reveal_MH_to_BusinessContacts',\n",
    "\"If you have revealed a mental health issue to a client or business contact, do you believe this has impacted you negatively?\":'Q20',\n",
    "\"If you have been diagnosed or treated for a mental health disorder, do you ever reveal this to coworkers or employees?\":'Q21',\n",
    "\"If you have revealed a mental health issue to a coworker or employee, do you believe this has impacted you negatively?\":'Q22',\n",
    "\"Do you believe your productivity is ever affected by a mental health issue?\":'Productivity_Affected_MH',\n",
    "\"If yes, what percentage of your work time (time performing primary or secondary job functions) is affected by a mental health issue?\": 'Q24',\n",
    "\"Do you have previous employers?\": 'Q25',\n",
    "\"Have your previous employers provided mental health benefits?\": 'Q26',\n",
    "\"Were you aware of the options for mental health care provided by your previous employers?\":'Q27',\n",
    "\"Did your previous employers ever formally discuss mental health (as part of a wellness campaign or other official communication)\": 'Q28',\n",
    "\"Did your previous employers provide resources to learn more about mental health issues and how to seek help?\": 'Q29',\n",
    "\"Was your anonymity protected if you chose to take advantage of mental health or substance abuse treatment resources with previous employers?\": 'Q30',\n",
    "\"Do you think that discussing a mental health disorder with previous employers would have negative consequences?\":'Q31',\n",
    "\"Do you think that discussing a physical health issue with previous employers would have negative consequences?\": 'Q32',\n",
    "\"Would you have been willing to discuss a mental health issue with your previous co-workers?\":'Q33',\n",
    "\"Would you have been willing to discuss a mental health issue with your direct supervisor(s)?\":'Q34',              \n",
    "\"Did you feel that your previous employers took mental health as seriously as physical health?\":'Q35',\n",
    "\"Did you hear of or observe negative consequences for co-workers with mental health issues in your previous workplaces?\":'Q36',\n",
    "\"Would you be willing to bring up a physical health issue with a potential employer in an interview?\":'Q37',\n",
    "\"Why or why not?\":'Q38',\n",
    "\"Would you bring up a mental health issue with a potential employer in an interview?\":'Q39',\n",
    "\"Why or why not?\": 'Q40',\n",
    "\"Do you feel that being identified as a person with a mental health issue would hurt your career?\":'MH_HurtCarrer',\n",
    "\"Do you think that team members/co-workers would view you more negatively if they knew you suffered from a mental health issue?\":'Team_ViewNegatively_MH',\n",
    "\"How willing would you be to share with friends and family that you have a mental illness?\":'Share_MH_FriendsAndFamily',\n",
    "\"Have you observed or experienced an unsupportive or badly handled response to a mental health issue in your current or previous workplace?\":'Q44',\n",
    "\"Have your observations of how another individual who discussed a mental health disorder made you less likely to reveal a mental health issue yourself in your current workplace?\":'Q45',\n",
    "\"Do you have a family history of mental illness?\":'Family_MentalIllness',\n",
    "\"Have you had a mental health disorder in the past?\":'MH_Past',\n",
    "\"Do you currently have a mental health disorder?\":'MH_Present',\n",
    "\"If yes, what condition(s) have you been diagnosed with?\":'MH_Present_Conditions',\n",
    "\"If maybe, what condition(s) do you believe you have?\":'MH_Maybe_Present_Conditions',\n",
    "\"Have you been diagnosed with a mental health condition by a medical professional?\":'MH_Diagnosed_MedicalProf',\n",
    "\"If so, what condition(s) were you diagnosed with?\":'MH_Conditions_MedicalProf',\n",
    "\"Have you ever sought treatment for a mental health issue from a mental health professional?\":'SoughTreatment_MH_Prof',\n",
    "\"If you have a mental health issue, do you feel that it interferes with your work when being treated effectively?\":'Q54',\n",
    "\"If you have a mental health issue, do you feel that it interferes with your work when NOT being treated effectively?\":'Q55',\n",
    "\"What is your age?\": 'Age',\n",
    "\"What is your gender?\":'Gender',\n",
    "\"What country do you live in?\":'Country_Live',\n",
    "\"What US state or territory do you live in?\":'State_Live',\n",
    "\"What country do you work in?\":'Country_Work',\n",
    "\"What US state or territory do you work in?\":'State_Work',\n",
    "\"Which of the following best describes your work position?\":'Work_Position',\n",
    "\"Do you work remotely?\":'Remote_Worker'\n",
    " }"
   ]
  },
  {
   "cell_type": "code",
   "execution_count": 14,
   "metadata": {},
   "outputs": [],
   "source": [
    "df_mh.columns = ['Self-Employed', 'Num_Employees', 'Type_Company', '1stRole_IT', 'Health_Benefits', 'Health_Care_Options_MH',\n",
    "                   'Employeer_Discuss_MH', 'MH_Resources_Seeking_Help', 'Q9', 'Q10', 'Q11', 'Q12', 'Q13', 'Q14',\n",
    "                   'Employer_Considered_MH_PH', 'Consequence_in_Work_MH', 'Q17', 'Q18', 'Reveal_MH_to_BusinessContacts',\n",
    "                   'Q20', 'Q21', 'Q22', 'Productivity_Affected_MH', 'Q24', 'Q25', 'Q26', 'Q27', 'Q28', 'Q29', 'Q30', 'Q31',\n",
    "                   'Q32', 'Q33', 'Q34', 'Q35', 'Q36', 'Q37', 'Q38', 'Q39', 'Q40', 'MH_HurtCarrer', 'Team_ViewNegatively_MH', \n",
    "                   'Share_MH_FriendsAndFamily', 'Q44', 'Q45', 'Family_MentalIllness', 'MH_Past', 'MH_Present', \n",
    "                   'MH_Present_Conditions', 'MH_Maybe_Present_Conditions', 'MH_Diagnosed_MedicalProf', \n",
    "                   'MH_Conditions_MedicalProf', 'SoughTreatment_MH_Prof', 'Q54', 'Q55', 'Age', 'Gender', \n",
    "                   'Country_Live', 'State_Live', 'Country_Work', 'State_Work', 'Work_Position', 'Remote_Worker']"
   ]
  },
  {
   "cell_type": "code",
   "execution_count": 15,
   "metadata": {},
   "outputs": [
    {
     "name": "stdout",
     "output_type": "stream",
     "text": [
      "21960\n"
     ]
    }
   ],
   "source": [
    "print(df_mh.isnull().values.sum())"
   ]
  },
  {
   "cell_type": "code",
   "execution_count": 16,
   "metadata": {},
   "outputs": [],
   "source": [
    "## Make a representation of responds by country "
   ]
  },
  {
   "cell_type": "code",
   "execution_count": 17,
   "metadata": {
    "scrolled": false
   },
   "outputs": [],
   "source": [
    "#print(df_mh['Country_Live'].value_counts())"
   ]
  },
  {
   "cell_type": "code",
   "execution_count": 18,
   "metadata": {},
   "outputs": [],
   "source": [
    "#print(df_mh['Q58'].value_counts())"
   ]
  },
  {
   "cell_type": "code",
   "execution_count": 19,
   "metadata": {},
   "outputs": [
    {
     "name": "stdout",
     "output_type": "stream",
     "text": [
      "Yes      575\n",
      "No       531\n",
      "Maybe    327\n",
      "Name: MH_Present, dtype: int64\n"
     ]
    }
   ],
   "source": [
    "print(df_mh['MH_Present'].value_counts())"
   ]
  },
  {
   "cell_type": "code",
   "execution_count": 20,
   "metadata": {},
   "outputs": [],
   "source": [
    "##print(df_mh['MH_Diagnosed_MedicalProf'].value_counts()) Yes - 716; No - 717"
   ]
  },
  {
   "cell_type": "code",
   "execution_count": 21,
   "metadata": {},
   "outputs": [],
   "source": [
    "def plot_count(column, name):\n",
    "    act_mf_disorder_count = df_mh[column].value_counts()\n",
    "    sns.set(style=\"darkgrid\")\n",
    "    sns.barplot(act_mf_disorder_count.index, act_mf_disorder_count.values, alpha=0.9)\n",
    "    plt.title('Frequency Distribution of ' + name)\n",
    "    plt.ylabel('Number of Occurrences', fontsize=12)\n",
    "    plt.xlabel(name, fontsize=12)\n",
    "    plt.show()"
   ]
  },
  {
   "cell_type": "code",
   "execution_count": 22,
   "metadata": {},
   "outputs": [],
   "source": [
    "#Clean age column (age should be between 16 - 110)"
   ]
  },
  {
   "cell_type": "code",
   "execution_count": 23,
   "metadata": {},
   "outputs": [],
   "source": [
    "#print(df_mh['Age'].value_counts())"
   ]
  },
  {
   "cell_type": "markdown",
   "metadata": {},
   "source": [
    "### 1.1.2 Cleaning"
   ]
  },
  {
   "cell_type": "markdown",
   "metadata": {},
   "source": [
    "#### Cleaning Gender"
   ]
  },
  {
   "cell_type": "code",
   "execution_count": 24,
   "metadata": {},
   "outputs": [],
   "source": [
    "#Clean function: Delete non-alphabetic characters, "
   ]
  },
  {
   "cell_type": "code",
   "execution_count": 25,
   "metadata": {},
   "outputs": [],
   "source": [
    "def clean(x):\n",
    "    \n",
    "    result = re.sub(r'[^a-zA-Z]', \"\", str(x))\n",
    "    return str(result).lower().strip()"
   ]
  },
  {
   "cell_type": "code",
   "execution_count": 26,
   "metadata": {},
   "outputs": [],
   "source": [
    "df_mh['Gender']=df_mh['Gender'].apply(clean).replace(['male'], 'Male')"
   ]
  },
  {
   "cell_type": "code",
   "execution_count": 27,
   "metadata": {},
   "outputs": [],
   "source": [
    "df_mh['Gender']=df_mh['Gender'].apply(clean).replace(['m','male','man', 'cis male', 'cis man', 'nan', 'male cis', 'male (cis)', 'cismale', 'malecis','malr', 'cisdude', 'dude', 'cisman', 'imamanwhydidntyoumakethisadropdownquestionyoushouldofaskedsexandiwouldofansweredyespleaseseriouslyhowmuchtextcanthistake', 'sexismale'], 'Male')\n",
    "df_mh['Gender']=df_mh['Gender'].replace(['f', 'female', 'I identify as female.','woman', 'Woman', 'cisfemale', 'fem', 'ciswoman', 'iidentifyasfemale', 'cisgenderfemale', 'femalewoman', 'fm', 'femaleassignedatbirth', 'genderfluidbornfemale', 'femalebodiednofeelingsaboutgender', 'femalepropsformakingthisafreeformfieldthough' ], 'Female')\n",
    "df_mh['Gender']=df_mh['Gender'].replace(['genderqueer','non-binary', 'agender', 'nonbinary', 'transitionedmf', 'genderqueerwoman', 'other', 'genderfluxdemigirl', 'malegenderqueer', 'queer', 'transgenderwoman', 'fluid', 'androgynous', 'genderfluid', 'femaleormultigenderfemme', 'maletransftm'], 'Non-Binary')"
   ]
  },
  {
   "cell_type": "code",
   "execution_count": 28,
   "metadata": {},
   "outputs": [
    {
     "data": {
      "text/plain": [
       "Male                  1059\n",
       "Female                 340\n",
       "Non-Binary              22\n",
       "human                    2\n",
       "nbmasculine              1\n",
       "noneofyourbusiness       1\n",
       "enby                     1\n",
       "othertransfeminine       1\n",
       "mtf                      1\n",
       "afab                     1\n",
       "bigender                 1\n",
       "unicorn                  1\n",
       "mail                     1\n",
       "malefemaleroughly        1\n",
       "Name: Gender, dtype: int64"
      ]
     },
     "execution_count": 28,
     "metadata": {},
     "output_type": "execute_result"
    }
   ],
   "source": [
    "df_mh['Gender'].value_counts()"
   ]
  },
  {
   "cell_type": "code",
   "execution_count": 29,
   "metadata": {},
   "outputs": [
    {
     "data": {
      "image/png": "[encoded data removed]",
      "text/plain": [
       "<Figure size 720x576 with 1 Axes>"
      ]
     },
     "metadata": {},
     "output_type": "display_data"
    }
   ],
   "source": [
    "fig = plt.figure(figsize=(10, 8))\n",
    "act_mf_disorder_count = df_mh['Gender'].value_counts()\n",
    "sns.set(style=\"darkgrid\")\n",
    "sns.barplot(act_mf_disorder_count.index, act_mf_disorder_count.values, alpha=0.9)\n",
    "plt.title('Frequency Distribution of Genders')\n",
    "plt.ylabel('Number of Occurrences', fontsize=12)\n",
    "plt.xlabel('Genders', fontsize=12)\n",
    "plt.xticks(rotation=90)\n",
    "plt.show()"
   ]
  },
  {
   "cell_type": "code",
   "execution_count": 30,
   "metadata": {},
   "outputs": [],
   "source": [
    "#Drop because are not valid answer\n",
    "#human                    2\n",
    "#noneofyourbusiness       1\n",
    "#unicorn                  1\n",
    "#othertransfeminine       1\n",
    "#nbmasculine              1\n",
    "#afab                     1\n",
    "#enby                     1\n",
    "#malefemaleroughly        1\n",
    "#bigender                 1\n",
    "#mtf                      1\n",
    "#mail                     1"
   ]
  },
  {
   "cell_type": "code",
   "execution_count": 31,
   "metadata": {},
   "outputs": [],
   "source": [
    "df_mh = df_mh[df_mh.Gender.isin(['Male','Female','Non-Binary'])]"
   ]
  },
  {
   "cell_type": "code",
   "execution_count": 32,
   "metadata": {},
   "outputs": [
    {
     "data": {
      "image/png": "[encoded data removed]",
      "text/plain": [
       "<Figure size 432x288 with 1 Axes>"
      ]
     },
     "metadata": {},
     "output_type": "display_data"
    }
   ],
   "source": [
    "plot_count(column='Gender', name='Genders')"
   ]
  },
  {
   "cell_type": "code",
   "execution_count": 33,
   "metadata": {},
   "outputs": [],
   "source": [
    "#get gender-leveled frames\n",
    "#female = df_mh[df_mh['Gender']=='Female']\n",
    "#male = df_mh[df_mh['Gender']=='Male']\n",
    "#non-binary= df_mh[df_mh['Gender']=='Non-Binary']\n",
    "#then plot each boxplot\n",
    "#par(mfrow = c(1,3))\n",
    "#plt.boxplot(age~MH_Present,data = female,xlab = \"Diagnosed\",\n",
    "#        ylab = \"Age\",main = \"Age on Diagnosed\\nFor Women\")\n",
    "#plt.boxplot(age~MH_Present,data = male,xlab = \"Diagnosed\",\n",
    "#        ylab = \"Age\",main = \"Age on Diagnosed\\nFor Men\")\n",
    "#plt.boxplot(age~MH_Present,data = non-binary,xlab = \"Diagnosed\",\n",
    "#        ylab = \"Age\",main = \"Age on Diagnosed\\nFor Non-binary Persons\")"
   ]
  },
  {
   "cell_type": "markdown",
   "metadata": {},
   "source": [
    "### Cleaning age"
   ]
  },
  {
   "cell_type": "code",
   "execution_count": 34,
   "metadata": {},
   "outputs": [],
   "source": [
    "# Filtering age by applying the age threshold\n",
    "df_mh = df_mh[df_mh['Age'] > age_minimum_threshold]\n",
    "df_mh = df_mh[df_mh['Age'] < age_maximum_threshold]"
   ]
  },
  {
   "cell_type": "code",
   "execution_count": 35,
   "metadata": {},
   "outputs": [
    {
     "data": {
      "text/plain": [
       "count    1419.000000\n",
       "mean       34.140240\n",
       "std         8.288737\n",
       "min        15.000000\n",
       "25%        28.000000\n",
       "50%        33.000000\n",
       "75%        39.000000\n",
       "max        99.000000\n",
       "Name: Age, dtype: float64"
      ]
     },
     "execution_count": 35,
     "metadata": {},
     "output_type": "execute_result"
    }
   ],
   "source": [
    "df_mh['Age'].describe()"
   ]
  },
  {
   "cell_type": "markdown",
   "metadata": {},
   "source": [
    "### Cleaning Work_Position \n",
    "###### There are a lot of different categories for work position, because of that we decided to split between tecnhical and no-technical categories"
   ]
  },
  {
   "cell_type": "markdown",
   "metadata": {},
   "source": [
    "Technical:\n",
    "No-Technical:"
   ]
  },
  {
   "cell_type": "code",
   "execution_count": 36,
   "metadata": {},
   "outputs": [],
   "source": [
    "#df_mh['Work_Position'].value_counts()"
   ]
  },
  {
   "cell_type": "code",
   "execution_count": 37,
   "metadata": {},
   "outputs": [],
   "source": [
    "def findRoleType(workString):\n",
    "    #helper that finds the role type of an individual based on the string of\n",
    "    #job descriptions provided\n",
    "    roleDict = {\"technical\":[\"Front-end Developer\",\"Back-end Developer\",\n",
    "                            \"DevOps/SysAdmin\",\"Designer\", \"Support\", \"Supervisor/Team Lead|Back-end Developer\", \n",
    "                            \"Front-end Developer|Designer\", \"DevOps/SysAdmin|Back-end Developer|Front-end Developer\", \n",
    "                            \"DevOps/SysAdmin|Back-end Developer|Front-end Developer\",\n",
    "                            \"Front-end Developer|Back-end Developer|DevOps/SysAdmin\",\n",
    "                            \"Supervisor/Team Lead|DevOps/SysAdmin|Back-end Developer\",                                                                                       \n",
    "                            \"Supervisor/Team Lead|DevOps/SysAdmin|Back-end Developer|Front-end Developer\",                                                                  \n",
    "                            \"DevOps/SysAdmin|Support|Back-end Developer|Front-end Developer\",                                                                              \n",
    "                            \"Back-end Developer|One-person shop\",                                                                                                           \n",
    "                            \"Support|Back-end Developer\",                                                                                                                    \n",
    "                            \"Supervisor/Team Lead|Front-end Developer\",                                                                                                      \n",
    "                            \"Front-end Developer|Back-end Developer|Supervisor/Team Lead\",                                                                                  \n",
    "                            \"DevOps/SysAdmin|Support\",                                                                                                                  \n",
    "                            \"Front-end Developer|Back-end Developer|DevOps/SysAdmin|Supervisor/Team Lead\",                                                                \n",
    "                            \"One-person shop|Front-end Developer|Back-end Developer\",                                                                                        \n",
    "                            \"DevOps/SysAdmin|Back-end Developer|Front-end Developer|Designer\", \"Front-end Developer|Back-end Developer|Support|DevOps/SysAdmin\"],\n",
    "            \"non-technical\":[\"HR\",\"Support\",\"Sales\",\"Dev Evangelist/Advocate\",\n",
    "                             \"Other\",\"Excecutive Leadership\",\n",
    "                             \"Supervisor/Team Lead\",\"One-person shop\", \n",
    "                             \"Supervisor/Team Lead\", \"One-person shop|Designer|Sales|Support|Supervisor/Team Lead\"]}\n",
    "    #run through role dictionary\n",
    "    for technicalRole in roleDict[\"technical\"]:\n",
    "        #search to find it in job descriptions\n",
    "        if (technicalRole in workString):\n",
    "            #now see if they take on an additional non-technical role\n",
    "            for nonTechnicalRole in roleDict[\"non-technical\"]:\n",
    "                if (nonTechnicalRole in workString): #they do both\n",
    "                    return \"both\"\n",
    "            #if we got to this point, they are just technical\n",
    "            return \"technical\"\n",
    "    #if we got here, they are non-technical\n",
    "    return \"non-technical\"\n"
   ]
  },
  {
   "cell_type": "code",
   "execution_count": 38,
   "metadata": {},
   "outputs": [],
   "source": [
    "def buildRoleType(dataFrame, column):\n",
    "    #helper to build the role type variable\n",
    "    dataFrame[\"Work_Role_Position\"] = dataFrame[\n",
    "        column].apply(findRoleType)\n",
    "    return dataFrame"
   ]
  },
  {
   "cell_type": "code",
   "execution_count": 39,
   "metadata": {},
   "outputs": [],
   "source": [
    "buildRoleType(df_mh, column='Work_Position')\n",
    "df_mh = df_mh.drop(columns=['Work_Position'])"
   ]
  },
  {
   "cell_type": "code",
   "execution_count": 40,
   "metadata": {},
   "outputs": [
    {
     "data": {
      "text/plain": [
       "technical        665\n",
       "both             415\n",
       "non-technical    339\n",
       "Name: Work_Role_Position, dtype: int64"
      ]
     },
     "execution_count": 40,
     "metadata": {},
     "output_type": "execute_result"
    }
   ],
   "source": [
    "df_mh['Work_Role_Position'].value_counts()"
   ]
  },
  {
   "cell_type": "markdown",
   "metadata": {},
   "source": [
    "### MH_Conditions_MedicalProf"
   ]
  },
  {
   "cell_type": "code",
   "execution_count": 41,
   "metadata": {},
   "outputs": [],
   "source": [
    "# Code to obtain list of others:\n",
    "# df_mh_conditions_MedicalProf_binarized = df_mh['MH_Conditions_MedicalProf'].str.join(sep='*').str.get_dummies(sep='*')\n",
    "# df_count = df_mh_conditions_MedicalProf_binarized.sum(axis=0)\n",
    "# [df_count.index[v] for v in  range(len(df_mh_conditions_MedicalProf_binarized.sum(axis=0))) if df_count.values[v] > 3]\n",
    "\n",
    "list_of_others= ['Anxiety Disorder (Generalized, Social, Phobia, etc)',\n",
    " 'Attention Deficit',\n",
    " 'Autism',\n",
    " 'Dissociative Disorder',\n",
    " 'Eating Disorder (Anorexia, Bulimia, etc)',\n",
    " 'Mood Disorder (Depression, Bipolar Disorder, etc)',\n",
    " 'Obsessive-Compulsive Disorder',\n",
    " 'Personality Disorder (Borderline, Antisocial, Paranoid, etc)',\n",
    " 'Post-traumatic Stress Disorder',\n",
    " 'Psychotic Disorder (Schizophrenia, Schizoaffective, etc)',\n",
    " 'Stress Response Syndromes',\n",
    " 'Substance Use Disorder',\n",
    " 'nan']\n",
    "\n",
    "def merge_conditions_fn(prefix):\n",
    "    def merge_conditions(row):\n",
    "        new_list = []\n",
    "        for c in row:\n",
    "            target_disease = c\n",
    "            if \"asperger\" in c.lower():\n",
    "                target_disease = \"Asperger Syndrome\"\n",
    "            elif \"autism\" in c.lower():\n",
    "                target_disease = \"Autism\"\n",
    "            elif \"attention deficit\" in c.lower() or \"add\" in c.lower():\n",
    "                target_disease = \"Attention Deficit\"\n",
    "            elif \"Post-traumatic Stress Disorder\" in c.lower() or \"posttraumatic stress disourder\" in c.lower():\n",
    "                target_disease = \"Post-traumatic Stress Disorder\"\n",
    "            elif \"pdd-nos\" in c.lower(): # Will never fall on this branch.\n",
    "                target_disease = \"PPD-NOS\"\n",
    "\n",
    "            if target_disease not in list_of_others:\n",
    "                new_list.append(prefix + \"_\" + \"Others\")\n",
    "            else:\n",
    "                new_list.append(prefix + \"_\" + target_disease)\n",
    "        return new_list\n",
    "    \n",
    "    return merge_conditions"
   ]
  },
  {
   "cell_type": "code",
   "execution_count": 42,
   "metadata": {},
   "outputs": [],
   "source": [
    "def separate_medical_conditions(df, column):\n",
    "    df_mh[column] = df[column].apply(lambda x: str(x).split('|'))\n",
    "    df_mh[column] = df_mh[column].apply(merge_conditions_fn(prefix=column))\n",
    "    df_mh_conditions_binarized = df_mh[column].str.join(sep='*').str.get_dummies(sep='*')\n",
    "    \n",
    "    return df_mh_conditions_binarized"
   ]
  },
  {
   "cell_type": "code",
   "execution_count": 43,
   "metadata": {},
   "outputs": [],
   "source": [
    "df_mh_conditions_MedicalProf_binarized = separate_medical_conditions(df_mh, column=\"MH_Conditions_MedicalProf\")\n",
    "df_mh_conditions_MH_Present_Conditions_binarized = separate_medical_conditions(df_mh, column=\"MH_Present_Conditions\")\n",
    "df_mh_conditions_MH_Maybe_Present_Conditions_binarized = separate_medical_conditions(df_mh, column=\"MH_Maybe_Present_Conditions\")"
   ]
  },
  {
   "cell_type": "markdown",
   "metadata": {},
   "source": [
    "### Cleaning NaN"
   ]
  },
  {
   "cell_type": "code",
   "execution_count": 44,
   "metadata": {},
   "outputs": [],
   "source": [
    "def clean_NaN(df):\n",
    "    for col in df.columns:\n",
    "        df[col]=df[col].fillna('Null')\n",
    "        "
   ]
  },
  {
   "cell_type": "markdown",
   "metadata": {},
   "source": [
    "## 1.2. Learning Classifiers"
   ]
  },
  {
   "cell_type": "markdown",
   "metadata": {},
   "source": [
    "## Auxiliary functions"
   ]
  },
  {
   "cell_type": "code",
   "execution_count": 98,
   "metadata": {},
   "outputs": [],
   "source": [
    "def get_parameters_of_best_model(test_scores, models_params):\n",
    "    best_model_idx = np.argmax(test_scores)\n",
    "    return models_params[best_model_idx]"
   ]
  },
  {
   "cell_type": "markdown",
   "metadata": {},
   "source": [
    "### Create Feature Vectors"
   ]
  },
  {
   "cell_type": "code",
   "execution_count": 45,
   "metadata": {},
   "outputs": [],
   "source": [
    "##Drop some features of dataframe\n",
    "df_mh = df_mh.drop(columns = ['Self-Employed', 'Num_Employees', 'Type_Company', '1stRole_IT', 'Employeer_Discuss_MH', \n",
    "                      'MH_Resources_Seeking_Help', 'Q9', 'Q10','Q11', 'Q12', 'Q13', 'Q17', 'Q18', 'Q20', 'Q21', 'Q22', \n",
    "                      'Q24', 'Q25', 'Q26', 'Q27', 'Q28', 'Q29', 'Q30', 'Q31', 'Q32', 'Q33', 'Q34', 'Q35', 'Q36', 'Q37', 'Q38', 'Q39', 'Q40', 'Q44', 'Q45', 'Q54', 'Q55', 'State_Work', 'Productivity_Affected_MH', 'State_Live'])\n",
    "\n",
    "\n",
    "#\"Q10\"\n"
   ]
  },
  {
   "cell_type": "code",
   "execution_count": 46,
   "metadata": {},
   "outputs": [],
   "source": [
    "# Convert np.nan to string \"Null\"\n",
    "clean_NaN(df_mh)"
   ]
  },
  {
   "cell_type": "markdown",
   "metadata": {},
   "source": [
    "#### Binarize Categorical Columns"
   ]
  },
  {
   "cell_type": "code",
   "execution_count": 47,
   "metadata": {},
   "outputs": [],
   "source": [
    "def binarize_column(df, column_name):\n",
    "    df_binarized=pd.get_dummies(df[column_name], prefix=column_name)\n",
    "    df_binarized=pd.concat([df, df_binarized], sort=False, axis=1)\n",
    "    return df_binarized.drop(columns=[column_name])"
   ]
  },
  {
   "cell_type": "code",
   "execution_count": 224,
   "metadata": {},
   "outputs": [],
   "source": [
    "df_mh_binarized = binarize_column(df_mh, column_name='Gender')\n",
    "df_mh_binarized = binarize_column(df_mh_binarized, column_name='Share_MH_FriendsAndFamily')\n",
    "df_mh_binarized = binarize_column(df_mh_binarized, column_name='Team_ViewNegatively_MH')\n",
    "df_mh_binarized = binarize_column(df_mh_binarized, column_name='Consequence_in_Work_MH')\n",
    "df_mh_binarized = binarize_column(df_mh_binarized, column_name='Health_Care_Options_MH')\n",
    "df_mh_binarized = binarize_column(df_mh_binarized, column_name='Health_Benefits')\n",
    "df_mh_binarized = binarize_column(df_mh_binarized, column_name='Q14')\n",
    "df_mh_binarized = binarize_column(df_mh_binarized, column_name='Employer_Considered_MH_PH')\n",
    "df_mh_binarized = binarize_column(df_mh_binarized, column_name='Reveal_MH_to_BusinessContacts')\n",
    "df_mh_binarized = binarize_column(df_mh_binarized, column_name='Family_MentalIllness')\n",
    "df_mh_binarized = binarize_column(df_mh_binarized, column_name='MH_Past')\n",
    "df_mh_binarized = binarize_column(df_mh_binarized, column_name='MH_HurtCarrer')\n",
    "df_mh_binarized = binarize_column(df_mh_binarized, column_name='Work_Role_Position')\n",
    "df_mh_binarized = binarize_column(df_mh_binarized, column_name='Remote_Worker')\n",
    "# df_mh_binarized = binarize_column(df_mh_binarized, column_name='Country_Live')\n",
    "# df_mh_binarized = binarize_column(df_mh_binarized, column_name='Country_Work')\n",
    "\n",
    "df_mh_binarized[\"MH_Diagnosed_MedicalProf\"] = df_mh_binarized[\"MH_Diagnosed_MedicalProf\"].apply(lambda x: 1 if x == \"Yes\" else 0)\n",
    "\n",
    "\n",
    "# Binarize Conditions of column MH_Conditions_MedicalProf\n",
    "df_mh_binarized = pd.concat([df_mh_binarized, df_mh_conditions_MedicalProf_binarized], sort=False, axis=1)\n",
    "df_mh_binarized = df_mh_binarized.drop(columns=[\"MH_Conditions_MedicalProf\"])\n",
    "\n",
    "\n",
    "## Ground-truth columns\n",
    "# df_mh_binarized = binarize_column(df_mh_binarized, column_name='MH_Present')\n",
    "\n",
    "# # Binarize Conditions of column MH_Present_Conditions\n",
    "# df_mh_binarized = pd.concat([df_mh_binarized, df_mh_conditions_MH_Present_Conditions_binarized], sort=False, axis=1)\n",
    "# df_mh_binarized = df_mh_binarized.drop(columns=[\"MH_Present_Conditions\"])\n",
    "\n",
    "# # Binarize Conditions of column MH_Maybe_Present_Conditions\n",
    "# df_mh_binarized = pd.concat([df_mh_binarized, df_mh_conditions_MH_Maybe_Present_Conditions_binarized], sort=False, axis=1)\n",
    "# df_mh_binarized = df_mh_binarized.drop(columns=[\"MH_Maybe_Present_Conditions\"])\n",
    "\n",
    "\n",
    "\n",
    "# Convert Country columns to category type\n",
    "country_codes = {country: code for code, country in enumerate(set(list(df_mh_binarized.Country_Live.unique()) \n",
    "                                                                  + list(df_mh_binarized.Country_Work.unique())))}\n",
    "df_mh_binarized.Country_Live = df_mh_binarized.Country_Live.apply(lambda x: country_codes[x])\n",
    "df_mh_binarized.Country_Work = df_mh_binarized.Country_Work.apply(lambda x: country_codes[x])\n",
    "\n",
    "#Create \n",
    "class_codes = {\"No\": 0, 'Maybe':1, 'Yes': 2}\n",
    "df_mh_binarized.MH_Present = df_mh_binarized.MH_Present.apply(lambda x: class_codes[x])"
   ]
  },
  {
   "cell_type": "markdown",
   "metadata": {},
   "source": [
    "#### Pearson Correlation Analysis"
   ]
  },
  {
   "cell_type": "code",
   "execution_count": 225,
   "metadata": {},
   "outputs": [
    {
     "data": {
      "text/plain": [
       "['Country_Work',\n",
       " 'Gender_Male',\n",
       " 'Health_Benefits_Null',\n",
       " 'Q14_Null',\n",
       " 'Employer_Considered_MH_PH_Null',\n",
       " 'Reveal_MH_to_BusinessContacts_Null',\n",
       " 'MH_Conditions_MedicalProf_nan']"
      ]
     },
     "execution_count": 225,
     "metadata": {},
     "output_type": "execute_result"
    }
   ],
   "source": [
    "corr_matrix = df_mh_binarized.corr()\n",
    "\n",
    "upper = corr_matrix.abs().where(np.triu(np.ones(corr_matrix.shape), k=1).astype(np.bool))\n",
    "\n",
    "# Find index of feature columns with correlation greater than 0.95\n",
    "to_drop = [column for column in upper.columns if any(upper[column] > 0.95)]\n",
    "to_drop"
   ]
  },
  {
   "cell_type": "code",
   "execution_count": 229,
   "metadata": {},
   "outputs": [
    {
     "data": {
      "text/plain": [
       "(0.008353522929324278, 0.1891030215150697, -1.0, 1.0)"
      ]
     },
     "execution_count": 229,
     "metadata": {},
     "output_type": "execute_result"
    }
   ],
   "source": [
    "np.mean(corr_matrix.values), np.std(corr_matrix.values), np.min(corr_matrix.values), np.max(corr_matrix.values)"
   ]
  },
  {
   "cell_type": "code",
   "execution_count": 226,
   "metadata": {},
   "outputs": [
    {
     "data": {
      "image/png": "[encoded data removed]",
      "text/plain": [
       "<Figure size 864x864 with 2 Axes>"
      ]
     },
     "metadata": {},
     "output_type": "display_data"
    }
   ],
   "source": [
    "fig = plt.figure(figsize=(12,12))\n",
    "ax = fig.add_subplot(111)\n",
    "cax = ax.matshow(corr_matrix,cmap='coolwarm', vmin=-1, vmax=1)\n",
    "fig.colorbar(cax)\n",
    "ticks = np.arange(0,len(df_mh_binarized.columns),1)\n",
    "ax.set_xticks(ticks)\n",
    "plt.xticks(rotation=90)\n",
    "ax.set_yticks(ticks)\n",
    "ax.set_xticklabels(df_mh_binarized.columns)\n",
    "ax.set_yticklabels(df_mh_binarized.columns)\n",
    "plt.show()"
   ]
  },
  {
   "cell_type": "code",
   "execution_count": 49,
   "metadata": {},
   "outputs": [
    {
     "name": "stdout",
     "output_type": "stream",
     "text": [
      "[dtype('int64') dtype('O') dtype('O') dtype('int64') dtype('int64')\n",
      " dtype('int64') dtype('uint8') dtype('uint8') dtype('uint8')\n",
      " dtype('uint8') dtype('uint8') dtype('uint8') dtype('uint8')\n",
      " dtype('uint8') dtype('uint8') dtype('uint8') dtype('uint8')\n",
      " dtype('uint8') dtype('uint8') dtype('uint8') dtype('uint8')\n",
      " dtype('uint8') dtype('uint8') dtype('uint8') dtype('uint8')\n",
      " dtype('uint8') dtype('uint8') dtype('uint8') dtype('uint8')\n",
      " dtype('uint8') dtype('uint8') dtype('uint8') dtype('uint8')\n",
      " dtype('uint8') dtype('uint8') dtype('uint8') dtype('uint8')\n",
      " dtype('uint8') dtype('uint8') dtype('uint8') dtype('uint8')\n",
      " dtype('uint8') dtype('uint8') dtype('uint8') dtype('uint8')\n",
      " dtype('uint8') dtype('uint8') dtype('uint8') dtype('uint8')\n",
      " dtype('uint8') dtype('uint8') dtype('uint8') dtype('uint8')\n",
      " dtype('uint8') dtype('uint8') dtype('uint8') dtype('uint8')\n",
      " dtype('uint8') dtype('uint8') dtype('uint8') dtype('uint8')\n",
      " dtype('uint8') dtype('uint8') dtype('uint8') dtype('uint8')\n",
      " dtype('uint8') dtype('uint8') dtype('uint8') dtype('uint8')\n",
      " dtype('uint8') dtype('uint8') dtype('uint8') dtype('uint8')\n",
      " dtype('uint8') dtype('uint8') dtype('uint8')]\n"
     ]
    }
   ],
   "source": [
    "print(df_mh_binarized.dtypes.values[0:76])"
   ]
  },
  {
   "cell_type": "markdown",
   "metadata": {},
   "source": [
    "#### Separate Groundtruth dataframes"
   ]
  },
  {
   "cell_type": "code",
   "execution_count": 50,
   "metadata": {},
   "outputs": [],
   "source": [
    "# Remove groundtruth columns from dataset\n",
    "df_full = df_mh_binarized\n",
    "df_train = df_full.drop(columns=[\"MH_Present\", \"MH_Present_Conditions\", \"MH_Maybe_Present_Conditions\"])"
   ]
  },
  {
   "cell_type": "markdown",
   "metadata": {},
   "source": [
    "### Create dataset splits for prediction"
   ]
  },
  {
   "cell_type": "code",
   "execution_count": 51,
   "metadata": {},
   "outputs": [
    {
     "data": {
      "text/plain": [
       "((1419, 180), (1419,))"
      ]
     },
     "execution_count": 51,
     "metadata": {},
     "output_type": "execute_result"
    }
   ],
   "source": [
    "Y = df_mh_binarized[\"MH_Present\"].values\n",
    "\n",
    "X = df_train.values\n",
    "\n",
    "X.shape, Y.shape"
   ]
  },
  {
   "cell_type": "code",
   "execution_count": 52,
   "metadata": {
    "scrolled": true
   },
   "outputs": [],
   "source": [
    "# Create splits\n",
    "from sklearn.model_selection import train_test_split \n",
    "X_train, X_test, y_train, y_test = train_test_split(X, Y, test_size=test_size, random_state=42, stratify=Y)"
   ]
  },
  {
   "cell_type": "markdown",
   "metadata": {},
   "source": [
    "### Linear Models"
   ]
  },
  {
   "cell_type": "markdown",
   "metadata": {},
   "source": [
    "#### SVM - Selecting classifier parameters using K-fold Cross Validation\n",
    "\n",
    "For the SVM classifier, we will experiment with the following parameters: type of kernel, C, tolerance. \n",
    "\n",
    "The kernel is usually used to refer the kernel trick. The kernel function transform linearly inseparable data to linearly separable ones. For the kernel parameter we considered a linear Kernel and a Radial Bais Function Kernel (this is not linear).\n",
    "\n",
    "C is the a regularization parameter. For large values of C, we will have a smaller-margin hyperplane, for the decision function is better at classifying all training points correctly. Otherwise, a very small value of C will cause a large margin separating hyperplane, even if that hyperplane misclassifies more point. In short, it is a trade off correct classification of training examples against maximization of the decision function's margin. For the C parameter we used C values: 1e-2, 10 and 100.\n",
    "\n",
    "Tolerance is used for stopping criterion. For the tolerance parameter we used tolerance = 1e-3 and tolerance = 1e-4"
   ]
  },
  {
   "cell_type": "code",
   "execution_count": 55,
   "metadata": {},
   "outputs": [],
   "source": [
    "# scoring = {'acc': 'accuracy',\n",
    "#            'prec_macro': 'precision_macro',\n",
    "#            'rec_macro': 'recall_macro'}"
   ]
  },
  {
   "cell_type": "code",
   "execution_count": 249,
   "metadata": {
    "scrolled": true
   },
   "outputs": [
    {
     "name": "stderr",
     "output_type": "stream",
     "text": [
      "C:\\Users\\marta.s.rolho_sub\\AppData\\Local\\Continuum\\anaconda3\\lib\\site-packages\\sklearn\\model_selection\\_search.py:841: DeprecationWarning: The default of the `iid` parameter will change from True to False in version 0.22 and will be removed in 0.24. This will change numeric results when test-set sizes are unequal.\n",
      "  DeprecationWarning)\n",
      "C:\\Users\\marta.s.rolho_sub\\AppData\\Local\\Continuum\\anaconda3\\lib\\site-packages\\sklearn\\svm\\base.py:196: FutureWarning: The default value of gamma will change from 'auto' to 'scale' in version 0.22 to account better for unscaled features. Set gamma explicitly to 'auto' or 'scale' to avoid this warning.\n",
      "  \"avoid this warning.\", FutureWarning)\n"
     ]
    },
    {
     "data": {
      "text/plain": [
       "GridSearchCV(cv=5, error_score='raise-deprecating',\n",
       "       estimator=SVC(C=1.0, cache_size=200, class_weight=None, coef0=0.0,\n",
       "  decision_function_shape='ova', degree=3, gamma='auto_deprecated',\n",
       "  kernel='rbf', max_iter=-1, probability=False, random_state=None,\n",
       "  shrinking=True, tol=0.001, verbose=False),\n",
       "       fit_params=None, iid='warn', n_jobs=4,\n",
       "       param_grid={'kernel': ('linear', 'rbf'), 'C': [0.01, 1, 10, 100], 'tol': [0.001, 0.0001]},\n",
       "       pre_dispatch='2*n_jobs', refit=True, return_train_score='warn',\n",
       "       scoring='precision_macro', verbose=0)"
      ]
     },
     "execution_count": 249,
     "metadata": {},
     "output_type": "execute_result"
    }
   ],
   "source": [
    "from sklearn.model_selection import GridSearchCV\n",
    "parameters = {'kernel':('linear', 'rbf'), 'C':[1e-2, 1, 10, 100], \"tol\": [1e-3, 1e-4]}\n",
    "svm = svm.SVC(decision_function_shape='ova')\n",
    "clf_1 = GridSearchCV(svm, parameters, cv=5, n_jobs=4, scoring=\"precision_macro\")\n",
    "clf_1.fit(X_train, y_train)\n",
    "                             \n",
    "#sorted(clf_1.cv_results_.keys())"
   ]
  },
  {
   "cell_type": "code",
   "execution_count": 250,
   "metadata": {},
   "outputs": [
    {
     "data": {
      "text/plain": [
       "[({'C': 0.01, 'kernel': 'linear', 'tol': 0.001}, 0.6878292521449142, 3),\n",
       " ({'C': 0.01, 'kernel': 'linear', 'tol': 0.0001}, 0.6878292521449142, 3),\n",
       " ({'C': 0.01, 'kernel': 'rbf', 'tol': 0.001}, 0.1332661967103055, 15),\n",
       " ({'C': 0.01, 'kernel': 'rbf', 'tol': 0.0001}, 0.1332661967103055, 15),\n",
       " ({'C': 1, 'kernel': 'linear', 'tol': 0.001}, 0.6836808499786698, 5),\n",
       " ({'C': 1, 'kernel': 'linear', 'tol': 0.0001}, 0.6836808499786698, 5),\n",
       " ({'C': 1, 'kernel': 'rbf', 'tol': 0.001}, 0.6645876448229492, 7),\n",
       " ({'C': 1, 'kernel': 'rbf', 'tol': 0.0001}, 0.6645876448229492, 7),\n",
       " ({'C': 10, 'kernel': 'linear', 'tol': 0.001}, 0.6636570225757984, 9),\n",
       " ({'C': 10, 'kernel': 'linear', 'tol': 0.0001}, 0.6636570225757984, 9),\n",
       " ({'C': 10, 'kernel': 'rbf', 'tol': 0.001}, 0.6892297026003976, 1),\n",
       " ({'C': 10, 'kernel': 'rbf', 'tol': 0.0001}, 0.6892297026003976, 1),\n",
       " ({'C': 100, 'kernel': 'linear', 'tol': 0.001}, 0.6534990058660489, 13),\n",
       " ({'C': 100, 'kernel': 'linear', 'tol': 0.0001}, 0.6525346260997031, 14),\n",
       " ({'C': 100, 'kernel': 'rbf', 'tol': 0.001}, 0.6539121490251524, 11),\n",
       " ({'C': 100, 'kernel': 'rbf', 'tol': 0.0001}, 0.6539121490251524, 11)]"
      ]
     },
     "execution_count": 250,
     "metadata": {},
     "output_type": "execute_result"
    }
   ],
   "source": [
    "list(zip(clf_1.cv_results_['params'], clf_1.cv_results_['mean_test_score'], clf_1.cv_results_['rank_test_score']))"
   ]
  },
  {
   "cell_type": "code",
   "execution_count": 251,
   "metadata": {},
   "outputs": [
    {
     "name": "stdout",
     "output_type": "stream",
     "text": [
      "Conclusion - the best parameters are: {'C': 10, 'kernel': 'rbf', 'tol': 0.001}\n"
     ]
    }
   ],
   "source": [
    "clf_1_best_params = get_parameters_of_best_model(clf_1.cv_results_['mean_test_score'], clf_1.cv_results_['params'])\n",
    "print('Conclusion - the best parameters are:', clf_1_best_params)"
   ]
  },
  {
   "cell_type": "markdown",
   "metadata": {},
   "source": [
    "#### Training the SVM classifier with the best parameters obtained with Cross-validation"
   ]
  },
  {
   "cell_type": "code",
   "execution_count": 254,
   "metadata": {},
   "outputs": [
    {
     "name": "stderr",
     "output_type": "stream",
     "text": [
      "C:\\Users\\marta.s.rolho_sub\\AppData\\Local\\Continuum\\anaconda3\\lib\\site-packages\\sklearn\\svm\\base.py:196: FutureWarning: The default value of gamma will change from 'auto' to 'scale' in version 0.22 to account better for unscaled features. Set gamma explicitly to 'auto' or 'scale' to avoid this warning.\n",
      "  \"avoid this warning.\", FutureWarning)\n"
     ]
    }
   ],
   "source": [
    "# SVM Multi Class Classification>>> X = [[0], [1], [2], [3]]\n",
    "from sklearn import svm\n",
    "clf_svm_cv = svm.SVC(decision_function_shape='ova', **clf_1_best_params)\n",
    "clf_svm_cv.fit(X_train, y_train)\n",
    "\n",
    "Y_pred_svm_cv=clf_svm_cv.predict(X_test)\n"
   ]
  },
  {
   "cell_type": "code",
   "execution_count": 255,
   "metadata": {},
   "outputs": [
    {
     "name": "stdout",
     "output_type": "stream",
     "text": [
      "              precision    recall  f1-score   support\n",
      "\n",
      "           0       0.78      0.73      0.76       159\n",
      "           1       0.57      0.44      0.49        96\n",
      "           2       0.75      0.89      0.81       171\n",
      "\n",
      "   micro avg       0.73      0.73      0.73       426\n",
      "   macro avg       0.70      0.69      0.69       426\n",
      "weighted avg       0.72      0.73      0.72       426\n",
      "\n"
     ]
    }
   ],
   "source": [
    "# docs: http://scikit-learn.org/stable/modules/generated/sklearn.metrics.classification_report.html#sklearn.metrics.classification_report\n",
    "from sklearn.metrics import classification_report\n",
    "\n",
    "print(classification_report(y_test, Y_pred_svm_cv))"
   ]
  },
  {
   "cell_type": "markdown",
   "metadata": {},
   "source": [
    "#### Training the SVM classifier with default parameters"
   ]
  },
  {
   "cell_type": "code",
   "execution_count": 256,
   "metadata": {},
   "outputs": [
    {
     "name": "stderr",
     "output_type": "stream",
     "text": [
      "C:\\Users\\marta.s.rolho_sub\\AppData\\Local\\Continuum\\anaconda3\\lib\\site-packages\\sklearn\\svm\\base.py:196: FutureWarning: The default value of gamma will change from 'auto' to 'scale' in version 0.22 to account better for unscaled features. Set gamma explicitly to 'auto' or 'scale' to avoid this warning.\n",
      "  \"avoid this warning.\", FutureWarning)\n"
     ]
    }
   ],
   "source": [
    "from sklearn import svm\n",
    "clf_svm = svm.SVC(decision_function_shape='ova')\n",
    "clf_svm.fit(X_train, y_train)\n",
    "\n",
    "Y_pred_svm=clf_svm.predict(X_test)\n"
   ]
  },
  {
   "cell_type": "code",
   "execution_count": 257,
   "metadata": {},
   "outputs": [
    {
     "name": "stdout",
     "output_type": "stream",
     "text": [
      "              precision    recall  f1-score   support\n",
      "\n",
      "           0       0.70      0.82      0.75       159\n",
      "           1       0.80      0.29      0.43        96\n",
      "           2       0.74      0.88      0.81       171\n",
      "\n",
      "   micro avg       0.73      0.73      0.73       426\n",
      "   macro avg       0.75      0.66      0.66       426\n",
      "weighted avg       0.74      0.73      0.70       426\n",
      "\n"
     ]
    }
   ],
   "source": [
    "# docs: http://scikit-learn.org/stable/modules/generated/sklearn.metrics.classification_report.html#sklearn.metrics.classification_report\n",
    "from sklearn.metrics import classification_report\n",
    "\n",
    "print(classification_report(y_test, Y_pred_svm))"
   ]
  },
  {
   "cell_type": "markdown",
   "metadata": {},
   "source": [
    "Conclusion : SVM uses Kernel=rbf by default, because of that both classifiers (with best parameters of cross-validation and clasifier using default parameters ), have similiar performances. Moreover, since the best results are for non-linear kernels, we should not consider them as an example of linear classifier and therefore, we should consider logistic regression."
   ]
  },
  {
   "cell_type": "markdown",
   "metadata": {},
   "source": [
    "#### LogisticRegression - Selecting classifier parameters using K-fold Cross Validation"
   ]
  },
  {
   "cell_type": "markdown",
   "metadata": {},
   "source": [
    "For Logistic Regression classifier, we will experiment with the following parameters: C, class_weight and max_iter.\n",
    "\n",
    "C is the a regularization parameter. Like in SVM, smaller values specify stronger regularization. For the C parameter we used values: 1e-3,1.0, 2.0, 0.5. \n",
    "\n",
    "Class_Weight is the \"relevance\" of classes (more weight means more relevance). By default all classes are supposed to have weight one. The \"balanced\" mode use the values of y to calculate the weights of classe: n_samples/n_classes* np.bincount(y). We compared default with balanced.\n",
    "\n",
    "Max_iter is the maximum number of iterations taken for the solvers to converge. We will use the values: 100 (default), 250, 500, 1000\n",
    "\n",
    "\n"
   ]
  },
  {
   "cell_type": "code",
   "execution_count": 264,
   "metadata": {},
   "outputs": [
    {
     "data": {
      "text/plain": [
       "GridSearchCV(cv=5, error_score='raise-deprecating',\n",
       "       estimator=LogisticRegression(C=1.0, class_weight=None, dual=False, fit_intercept=True,\n",
       "          intercept_scaling=1, max_iter=100, multi_class='auto',\n",
       "          n_jobs=None, penalty='l2', random_state=0, solver='lbfgs',\n",
       "          tol=0.0001, verbose=0, warm_start=False),\n",
       "       fit_params=None, iid='warn', n_jobs=4,\n",
       "       param_grid={'C': [0.001, 1.0, 2.0, 0.5], 'class_weight': [None, 'balanced'], 'max_iter': [100, 250, 500, 1000]},\n",
       "       pre_dispatch='2*n_jobs', refit=True, return_train_score='warn',\n",
       "       scoring='precision_macro', verbose=0)"
      ]
     },
     "execution_count": 264,
     "metadata": {},
     "output_type": "execute_result"
    }
   ],
   "source": [
    "parameters = {'C': [1e-3,1.0, 2.0, 0.5], 'class_weight': [None,'balanced'], 'max_iter': [100, 250, 500, 1000]}\n",
    "\n",
    "LR = LogisticRegression(random_state=0, solver='lbfgs', multi_class=\"auto\")\n",
    "clf_2 = GridSearchCV(LR, parameters, cv=5, n_jobs=4, scoring=\"precision_macro\")\n",
    "clf_2.fit(X_train, y_train)"
   ]
  },
  {
   "cell_type": "code",
   "execution_count": 273,
   "metadata": {},
   "outputs": [
    {
     "data": {
      "text/plain": [
       "[({'C': 0.001, 'class_weight': None, 'max_iter': 100},\n",
       "  0.45171912365348915,\n",
       "  29),\n",
       " ({'C': 0.001, 'class_weight': None, 'max_iter': 250},\n",
       "  0.45171912365348915,\n",
       "  29),\n",
       " ({'C': 0.001, 'class_weight': None, 'max_iter': 500},\n",
       "  0.45171912365348915,\n",
       "  29),\n",
       " ({'C': 0.001, 'class_weight': None, 'max_iter': 1000},\n",
       "  0.45171912365348915,\n",
       "  29),\n",
       " ({'C': 0.001, 'class_weight': 'balanced', 'max_iter': 100},\n",
       "  0.64990285961916,\n",
       "  25),\n",
       " ({'C': 0.001, 'class_weight': 'balanced', 'max_iter': 250},\n",
       "  0.64990285961916,\n",
       "  25),\n",
       " ({'C': 0.001, 'class_weight': 'balanced', 'max_iter': 500},\n",
       "  0.64990285961916,\n",
       "  25),\n",
       " ({'C': 0.001, 'class_weight': 'balanced', 'max_iter': 1000},\n",
       "  0.64990285961916,\n",
       "  25),\n",
       " ({'C': 1.0, 'class_weight': None, 'max_iter': 100}, 0.6870214651591332, 9),\n",
       " ({'C': 1.0, 'class_weight': None, 'max_iter': 250}, 0.69094081902808, 4),\n",
       " ({'C': 1.0, 'class_weight': None, 'max_iter': 500}, 0.694062240069012, 2),\n",
       " ({'C': 1.0, 'class_weight': None, 'max_iter': 1000}, 0.6947046680997097, 1),\n",
       " ({'C': 1.0, 'class_weight': 'balanced', 'max_iter': 100},\n",
       "  0.6772096642813276,\n",
       "  20),\n",
       " ({'C': 1.0, 'class_weight': 'balanced', 'max_iter': 250},\n",
       "  0.6802714574381624,\n",
       "  15),\n",
       " ({'C': 1.0, 'class_weight': 'balanced', 'max_iter': 500},\n",
       "  0.6793511956066923,\n",
       "  18),\n",
       " ({'C': 1.0, 'class_weight': 'balanced', 'max_iter': 1000},\n",
       "  0.6793511956066923,\n",
       "  18),\n",
       " ({'C': 2.0, 'class_weight': None, 'max_iter': 100}, 0.6799664468286775, 16),\n",
       " ({'C': 2.0, 'class_weight': None, 'max_iter': 250}, 0.6865771518842491, 10),\n",
       " ({'C': 2.0, 'class_weight': None, 'max_iter': 500}, 0.6853679209049216, 11),\n",
       " ({'C': 2.0, 'class_weight': None, 'max_iter': 1000}, 0.6871602322954005, 8),\n",
       " ({'C': 2.0, 'class_weight': 'balanced', 'max_iter': 100},\n",
       "  0.6701541777640436,\n",
       "  22),\n",
       " ({'C': 2.0, 'class_weight': 'balanced', 'max_iter': 250},\n",
       "  0.6715099605225292,\n",
       "  21),\n",
       " ({'C': 2.0, 'class_weight': 'balanced', 'max_iter': 500},\n",
       "  0.6690592830970267,\n",
       "  23),\n",
       " ({'C': 2.0, 'class_weight': 'balanced', 'max_iter': 1000},\n",
       "  0.6690592830970267,\n",
       "  23),\n",
       " ({'C': 0.5, 'class_weight': None, 'max_iter': 100}, 0.6919924936513899, 3),\n",
       " ({'C': 0.5, 'class_weight': None, 'max_iter': 250}, 0.6888154764928416, 6),\n",
       " ({'C': 0.5, 'class_weight': None, 'max_iter': 500}, 0.689974988742546, 5),\n",
       " ({'C': 0.5, 'class_weight': None, 'max_iter': 1000}, 0.6888154764928416, 6),\n",
       " ({'C': 0.5, 'class_weight': 'balanced', 'max_iter': 100},\n",
       "  0.6827229184761995,\n",
       "  12),\n",
       " ({'C': 0.5, 'class_weight': 'balanced', 'max_iter': 250},\n",
       "  0.6799595326122042,\n",
       "  17),\n",
       " ({'C': 0.5, 'class_weight': 'balanced', 'max_iter': 500},\n",
       "  0.6807499547739027,\n",
       "  13),\n",
       " ({'C': 0.5, 'class_weight': 'balanced', 'max_iter': 1000},\n",
       "  0.6807499547739027,\n",
       "  13)]"
      ]
     },
     "execution_count": 273,
     "metadata": {},
     "output_type": "execute_result"
    }
   ],
   "source": [
    "list(zip(clf_2.cv_results_['params'], clf_2.cv_results_['mean_test_score'], clf_2.cv_results_['rank_test_score']))"
   ]
  },
  {
   "cell_type": "code",
   "execution_count": 272,
   "metadata": {},
   "outputs": [
    {
     "name": "stdout",
     "output_type": "stream",
     "text": [
      "Conclusion - the best parameters are: {'C': 1.0, 'class_weight': None, 'max_iter': 1000}\n"
     ]
    }
   ],
   "source": [
    "clf_2_best_params = get_parameters_of_best_model(clf_2.cv_results_['mean_test_score'], clf_2.cv_results_['params'])\n",
    "print('Conclusion - the best parameters are:', clf_2_best_params)"
   ]
  },
  {
   "cell_type": "markdown",
   "metadata": {},
   "source": [
    "The parameters of the classifier where the highest score was obtained are the default parameters except for the max_iter."
   ]
  },
  {
   "cell_type": "markdown",
   "metadata": {},
   "source": [
    "#### Training the Logistic Regression classifier with the best parameters obtained with Cross-validation"
   ]
  },
  {
   "cell_type": "code",
   "execution_count": 268,
   "metadata": {},
   "outputs": [],
   "source": [
    "from sklearn.linear_model import LogisticRegression\n",
    "clf_logreg = LogisticRegression(random_state=0, solver='lbfgs', multi_class=\"auto\", **clf_2_best_params)\n",
    "clf_logreg.fit(X_train, y_train)\n",
    "Y_pred_logreg=clf_logreg.predict(X_test)"
   ]
  },
  {
   "cell_type": "code",
   "execution_count": 271,
   "metadata": {},
   "outputs": [
    {
     "name": "stdout",
     "output_type": "stream",
     "text": [
      "              precision    recall  f1-score   support\n",
      "\n",
      "           0       0.75      0.79      0.77       159\n",
      "           1       0.58      0.42      0.48        96\n",
      "           2       0.76      0.85      0.80       171\n",
      "\n",
      "   micro avg       0.73      0.73      0.73       426\n",
      "   macro avg       0.70      0.69      0.69       426\n",
      "weighted avg       0.72      0.73      0.72       426\n",
      "\n"
     ]
    }
   ],
   "source": [
    "# docs: http://scikit-learn.org/stable/modules/generated/sklearn.metrics.classification_report.html#sklearn.metrics.classification_report\n",
    "print(classification_report(y_test, Y_pred_logreg))"
   ]
  },
  {
   "cell_type": "markdown",
   "metadata": {},
   "source": [
    "Conclusion: Comparing f1-score (it considers both the precision and the recall of the test to compute the score) from SVM with Logistic Regression we concluded that logistic regression has higher f1-score values than SVM."
   ]
  },
  {
   "cell_type": "markdown",
   "metadata": {},
   "source": [
    "### Tree Model - Decision Tree Classifier"
   ]
  },
  {
   "cell_type": "markdown",
   "metadata": {},
   "source": [
    "For Decision Tree classifier, we will experiment with the following parameters: max_leaf_nodes, lass_weight and criterion.\n",
    "\n",
    "Max_Leaf_Nodes is the maximum number of possible leaf nodes. If None then it takes an unlimited number of leaf nodes. For the max_leaf_nodes parameter we used values: 2, 3, 5, 10, 15 and None (default).\n",
    "\n",
    "Class_Weight is the \"relevance\" of classes (more weight means more relevance). By default all classes are supposed to have weight one. The \"balanced\" mode use the values of y to calculate the weights of classe: n_samples/n_classes* np.bincount(y). We compared default with balanced.\n",
    "\n",
    "Criterion is the function to measure the quality of a split. Sklearn supports “gini” (default) criteria for Gini Index & “entropy” for Information Gain."
   ]
  },
  {
   "cell_type": "markdown",
   "metadata": {},
   "source": [
    "####  Decision Tree - Selecting classifier parameters using K-fold Cross Validation"
   ]
  },
  {
   "cell_type": "code",
   "execution_count": 275,
   "metadata": {},
   "outputs": [
    {
     "data": {
      "text/plain": [
       "GridSearchCV(cv=5, error_score='raise-deprecating',\n",
       "       estimator=DecisionTreeClassifier(class_weight=None, criterion='gini', max_depth=None,\n",
       "            max_features=None, max_leaf_nodes=None,\n",
       "            min_impurity_decrease=0.0, min_impurity_split=None,\n",
       "            min_samples_leaf=1, min_samples_split=2,\n",
       "            min_weight_fraction_leaf=0.0, presort=False, random_state=None,\n",
       "            splitter='best'),\n",
       "       fit_params=None, iid='warn', n_jobs=4,\n",
       "       param_grid={'max_leaf_nodes': [2, 3, 5, 10, 15, None], 'class_weight': [None, 'balanced'], 'criterion': ['gini', 'entropy']},\n",
       "       pre_dispatch='2*n_jobs', refit=True, return_train_score='warn',\n",
       "       scoring='precision_macro', verbose=0)"
      ]
     },
     "execution_count": 275,
     "metadata": {},
     "output_type": "execute_result"
    }
   ],
   "source": [
    "parameters = {'max_leaf_nodes':[2,3,5,10,15, None], 'class_weight': [None,'balanced'], 'criterion': ['gini', 'entropy']}\n",
    "clf_tree= tree.DecisionTreeClassifier()\n",
    "clf_3 = GridSearchCV(clf_tree, parameters, cv=5, n_jobs=4, scoring=\"precision_macro\")\n",
    "clf_3.fit(X_train, y_train)"
   ]
  },
  {
   "cell_type": "code",
   "execution_count": 276,
   "metadata": {},
   "outputs": [
    {
     "data": {
      "text/plain": [
       "[({'class_weight': None, 'criterion': 'gini', 'max_leaf_nodes': 2},\n",
       "  0.44013945863893783,\n",
       "  22),\n",
       " ({'class_weight': None, 'criterion': 'gini', 'max_leaf_nodes': 3},\n",
       "  0.696428321245261,\n",
       "  15),\n",
       " ({'class_weight': None, 'criterion': 'gini', 'max_leaf_nodes': 5},\n",
       "  0.7367764928244999,\n",
       "  1),\n",
       " ({'class_weight': None, 'criterion': 'gini', 'max_leaf_nodes': 10},\n",
       "  0.7097966797055307,\n",
       "  7),\n",
       " ({'class_weight': None, 'criterion': 'gini', 'max_leaf_nodes': 15},\n",
       "  0.7041617732898371,\n",
       "  9),\n",
       " ({'class_weight': None, 'criterion': 'gini', 'max_leaf_nodes': None},\n",
       "  0.567082902442699,\n",
       "  17),\n",
       " ({'class_weight': None, 'criterion': 'entropy', 'max_leaf_nodes': 2},\n",
       "  0.44005048988874196,\n",
       "  23),\n",
       " ({'class_weight': None, 'criterion': 'entropy', 'max_leaf_nodes': 3},\n",
       "  0.7024658262578842,\n",
       "  12),\n",
       " ({'class_weight': None, 'criterion': 'entropy', 'max_leaf_nodes': 5},\n",
       "  0.7303992552342934,\n",
       "  2),\n",
       " ({'class_weight': None, 'criterion': 'entropy', 'max_leaf_nodes': 10},\n",
       "  0.726349701788202,\n",
       "  4),\n",
       " ({'class_weight': None, 'criterion': 'entropy', 'max_leaf_nodes': 15},\n",
       "  0.7283138388809361,\n",
       "  3),\n",
       " ({'class_weight': None, 'criterion': 'entropy', 'max_leaf_nodes': None},\n",
       "  0.5556389233331017,\n",
       "  20),\n",
       " ({'class_weight': 'balanced', 'criterion': 'gini', 'max_leaf_nodes': 2},\n",
       "  0.4413369657703335,\n",
       "  21),\n",
       " ({'class_weight': 'balanced', 'criterion': 'gini', 'max_leaf_nodes': 3},\n",
       "  0.7024658262578842,\n",
       "  12),\n",
       " ({'class_weight': 'balanced', 'criterion': 'gini', 'max_leaf_nodes': 5},\n",
       "  0.7214027085186234,\n",
       "  6),\n",
       " ({'class_weight': 'balanced', 'criterion': 'gini', 'max_leaf_nodes': 10},\n",
       "  0.7038329435684801,\n",
       "  10),\n",
       " ({'class_weight': 'balanced', 'criterion': 'gini', 'max_leaf_nodes': 15},\n",
       "  0.6850252611125727,\n",
       "  16),\n",
       " ({'class_weight': 'balanced', 'criterion': 'gini', 'max_leaf_nodes': None},\n",
       "  0.5609588785589336,\n",
       "  19),\n",
       " ({'class_weight': 'balanced', 'criterion': 'entropy', 'max_leaf_nodes': 2},\n",
       "  0.44005048988874196,\n",
       "  23),\n",
       " ({'class_weight': 'balanced', 'criterion': 'entropy', 'max_leaf_nodes': 3},\n",
       "  0.7024658262578842,\n",
       "  12),\n",
       " ({'class_weight': 'balanced', 'criterion': 'entropy', 'max_leaf_nodes': 5},\n",
       "  0.7229786951565821,\n",
       "  5),\n",
       " ({'class_weight': 'balanced', 'criterion': 'entropy', 'max_leaf_nodes': 10},\n",
       "  0.7048268199341304,\n",
       "  8),\n",
       " ({'class_weight': 'balanced', 'criterion': 'entropy', 'max_leaf_nodes': 15},\n",
       "  0.702542653107087,\n",
       "  11),\n",
       " ({'class_weight': 'balanced', 'criterion': 'entropy', 'max_leaf_nodes': None},\n",
       "  0.5612640877293917,\n",
       "  18)]"
      ]
     },
     "execution_count": 276,
     "metadata": {},
     "output_type": "execute_result"
    }
   ],
   "source": [
    "list(zip(clf_3.cv_results_['params'], clf_3.cv_results_['mean_test_score'], clf_3.cv_results_['rank_test_score']))"
   ]
  },
  {
   "cell_type": "code",
   "execution_count": 278,
   "metadata": {},
   "outputs": [
    {
     "name": "stdout",
     "output_type": "stream",
     "text": [
      "Conclusion - the best parameters are: {'class_weight': None, 'criterion': 'gini', 'max_leaf_nodes': 5}\n"
     ]
    }
   ],
   "source": [
    "clf_3_best_params = get_parameters_of_best_model(clf_3.cv_results_['mean_test_score'], clf_3.cv_results_['params'])\n",
    "print('Conclusion - the best parameters are:', clf_3_best_params)"
   ]
  },
  {
   "cell_type": "markdown",
   "metadata": {},
   "source": [
    "#### Training the Decision Tree classifier with the best parameters obtained with Cross-validation"
   ]
  },
  {
   "cell_type": "code",
   "execution_count": 279,
   "metadata": {},
   "outputs": [],
   "source": [
    "from sklearn import tree\n",
    "\n",
    "clf_tree = tree.DecisionTreeClassifier(**clf_3_best_params)\n",
    "clf_tree = clf_tree.fit(X_train, y_train)\n",
    "\n",
    "Y_pred_tree=clf_tree.predict(X_test)"
   ]
  },
  {
   "cell_type": "code",
   "execution_count": 280,
   "metadata": {},
   "outputs": [
    {
     "name": "stdout",
     "output_type": "stream",
     "text": [
      "              precision    recall  f1-score   support\n",
      "\n",
      "           0       0.85      0.72      0.78       159\n",
      "           1       0.66      0.50      0.57        96\n",
      "           2       0.72      0.92      0.81       171\n",
      "\n",
      "   micro avg       0.75      0.75      0.75       426\n",
      "   macro avg       0.74      0.71      0.72       426\n",
      "weighted avg       0.76      0.75      0.74       426\n",
      "\n"
     ]
    }
   ],
   "source": [
    "print(classification_report(y_test, Y_pred_tree))"
   ]
  },
  {
   "cell_type": "markdown",
   "metadata": {},
   "source": [
    "### Distance-based models - K-Neighbors Classifier"
   ]
  },
  {
   "cell_type": "markdown",
   "metadata": {},
   "source": [
    "For KNN classifier, we will experiment with the following parameters: algorithm, leaf_size, weights, n_neighbors\n",
    "\n",
    "Algorithm is the algorithm used to compute the nearest neighbors, could be KDTree and brute-force searh‘ball_tree’. 'Auto' will decide the better based on the data test. For the Algorithm parameter we used 'auto'.\n",
    "\n",
    "Leaf_size is is the size passed to algorithm. For Leaf_size we used values: 5, 30 (default), 40 \n",
    "\n",
    "Weights is weight function used in prediction. \n",
    "    Uniform: all points in each neihgborhood are weighted equally\n",
    "    Distance: Inverse of points distance (more weight = points more closer)\n",
    "    Callable: Weights defined by user.\n",
    "For weights we used, 'uniform' (default) and 'distance)\n",
    "\n",
    "n_neighbors is the number of neighbors. For n_neighbords we used values: 1, 3, 5(default) and 10"
   ]
  },
  {
   "cell_type": "markdown",
   "metadata": {},
   "source": [
    "#### Cross- Validation Decision Nearest Neighbor"
   ]
  },
  {
   "cell_type": "code",
   "execution_count": 136,
   "metadata": {},
   "outputs": [
    {
     "data": {
      "text/plain": [
       "GridSearchCV(cv=5, error_score='raise-deprecating',\n",
       "       estimator=KNeighborsClassifier(algorithm='auto', leaf_size=30, metric='minkowski',\n",
       "           metric_params=None, n_jobs=None, n_neighbors=5, p=2,\n",
       "           weights='uniform'),\n",
       "       fit_params=None, iid='warn', n_jobs=4,\n",
       "       param_grid={'algorithm': ['auto'], 'leaf_size': [30, 5, 40], 'weights': ['uniform', 'distance'], 'n_neighbors': [1, 3, 5, 10]},\n",
       "       pre_dispatch='2*n_jobs', refit=True, return_train_score='warn',\n",
       "       scoring='precision_macro', verbose=0)"
      ]
     },
     "execution_count": 136,
     "metadata": {},
     "output_type": "execute_result"
    }
   ],
   "source": [
    "parameters = {'algorithm':['auto'], 'leaf_size':[30, 5, 40], 'weights': ['uniform', 'distance'], 'n_neighbors':[1,3,5,10]}\n",
    "knn = KNeighborsClassifier()\n",
    "clf_4 = GridSearchCV(knn, parameters, cv=5, n_jobs=4, scoring=\"precision_macro\")\n",
    "clf_4.fit(X_train, y_train)"
   ]
  },
  {
   "cell_type": "code",
   "execution_count": 137,
   "metadata": {
    "scrolled": true
   },
   "outputs": [
    {
     "data": {
      "text/plain": [
       "[({'algorithm': 'auto',\n",
       "   'leaf_size': 30,\n",
       "   'n_neighbors': 1,\n",
       "   'weights': 'uniform'},\n",
       "  0.5437829055509685,\n",
       "  21),\n",
       " ({'algorithm': 'auto',\n",
       "   'leaf_size': 30,\n",
       "   'n_neighbors': 1,\n",
       "   'weights': 'distance'},\n",
       "  0.5437829055509685,\n",
       "  21),\n",
       " ({'algorithm': 'auto',\n",
       "   'leaf_size': 30,\n",
       "   'n_neighbors': 3,\n",
       "   'weights': 'uniform'},\n",
       "  0.5619295252522154,\n",
       "  11),\n",
       " ({'algorithm': 'auto',\n",
       "   'leaf_size': 30,\n",
       "   'n_neighbors': 3,\n",
       "   'weights': 'distance'},\n",
       "  0.5585353365754113,\n",
       "  13),\n",
       " ({'algorithm': 'auto',\n",
       "   'leaf_size': 30,\n",
       "   'n_neighbors': 5,\n",
       "   'weights': 'uniform'},\n",
       "  0.5878148344323841,\n",
       "  5),\n",
       " ({'algorithm': 'auto',\n",
       "   'leaf_size': 30,\n",
       "   'n_neighbors': 5,\n",
       "   'weights': 'distance'},\n",
       "  0.5854009672240446,\n",
       "  7),\n",
       " ({'algorithm': 'auto',\n",
       "   'leaf_size': 30,\n",
       "   'n_neighbors': 10,\n",
       "   'weights': 'uniform'},\n",
       "  0.5577995159422237,\n",
       "  15),\n",
       " ({'algorithm': 'auto',\n",
       "   'leaf_size': 30,\n",
       "   'n_neighbors': 10,\n",
       "   'weights': 'distance'},\n",
       "  0.5950102211668058,\n",
       "  1),\n",
       " ({'algorithm': 'auto',\n",
       "   'leaf_size': 5,\n",
       "   'n_neighbors': 1,\n",
       "   'weights': 'uniform'},\n",
       "  0.5480835685786242,\n",
       "  19),\n",
       " ({'algorithm': 'auto',\n",
       "   'leaf_size': 5,\n",
       "   'n_neighbors': 1,\n",
       "   'weights': 'distance'},\n",
       "  0.5480835685786242,\n",
       "  19),\n",
       " ({'algorithm': 'auto',\n",
       "   'leaf_size': 5,\n",
       "   'n_neighbors': 3,\n",
       "   'weights': 'uniform'},\n",
       "  0.5508804988629378,\n",
       "  18),\n",
       " ({'algorithm': 'auto',\n",
       "   'leaf_size': 5,\n",
       "   'n_neighbors': 3,\n",
       "   'weights': 'distance'},\n",
       "  0.5509527154877015,\n",
       "  17),\n",
       " ({'algorithm': 'auto',\n",
       "   'leaf_size': 5,\n",
       "   'n_neighbors': 5,\n",
       "   'weights': 'uniform'},\n",
       "  0.5755050191672378,\n",
       "  9),\n",
       " ({'algorithm': 'auto',\n",
       "   'leaf_size': 5,\n",
       "   'n_neighbors': 5,\n",
       "   'weights': 'distance'},\n",
       "  0.5890168535534616,\n",
       "  4),\n",
       " ({'algorithm': 'auto',\n",
       "   'leaf_size': 5,\n",
       "   'n_neighbors': 10,\n",
       "   'weights': 'uniform'},\n",
       "  0.5679640473449052,\n",
       "  10),\n",
       " ({'algorithm': 'auto',\n",
       "   'leaf_size': 5,\n",
       "   'n_neighbors': 10,\n",
       "   'weights': 'distance'},\n",
       "  0.5892278747532553,\n",
       "  3),\n",
       " ({'algorithm': 'auto',\n",
       "   'leaf_size': 40,\n",
       "   'n_neighbors': 1,\n",
       "   'weights': 'uniform'},\n",
       "  0.5437829055509685,\n",
       "  21),\n",
       " ({'algorithm': 'auto',\n",
       "   'leaf_size': 40,\n",
       "   'n_neighbors': 1,\n",
       "   'weights': 'distance'},\n",
       "  0.5437829055509685,\n",
       "  21),\n",
       " ({'algorithm': 'auto',\n",
       "   'leaf_size': 40,\n",
       "   'n_neighbors': 3,\n",
       "   'weights': 'uniform'},\n",
       "  0.5619295252522154,\n",
       "  11),\n",
       " ({'algorithm': 'auto',\n",
       "   'leaf_size': 40,\n",
       "   'n_neighbors': 3,\n",
       "   'weights': 'distance'},\n",
       "  0.5585353365754113,\n",
       "  13),\n",
       " ({'algorithm': 'auto',\n",
       "   'leaf_size': 40,\n",
       "   'n_neighbors': 5,\n",
       "   'weights': 'uniform'},\n",
       "  0.5878148344323841,\n",
       "  5),\n",
       " ({'algorithm': 'auto',\n",
       "   'leaf_size': 40,\n",
       "   'n_neighbors': 5,\n",
       "   'weights': 'distance'},\n",
       "  0.5854009672240446,\n",
       "  7),\n",
       " ({'algorithm': 'auto',\n",
       "   'leaf_size': 40,\n",
       "   'n_neighbors': 10,\n",
       "   'weights': 'uniform'},\n",
       "  0.5577995159422237,\n",
       "  15),\n",
       " ({'algorithm': 'auto',\n",
       "   'leaf_size': 40,\n",
       "   'n_neighbors': 10,\n",
       "   'weights': 'distance'},\n",
       "  0.5950102211668058,\n",
       "  1)]"
      ]
     },
     "execution_count": 137,
     "metadata": {},
     "output_type": "execute_result"
    }
   ],
   "source": [
    "list(zip(clf_4.cv_results_['params'], clf_4.cv_results_['mean_test_score'], clf_4.cv_results_['rank_test_score']))"
   ]
  },
  {
   "cell_type": "code",
   "execution_count": 138,
   "metadata": {},
   "outputs": [
    {
     "name": "stdout",
     "output_type": "stream",
     "text": [
      "{'algorithm': 'auto', 'leaf_size': 30, 'n_neighbors': 10, 'weights': 'distance'}\n"
     ]
    }
   ],
   "source": [
    "clf_4_best_params = get_parameters_of_best_model(clf_4.cv_results_['mean_test_score'], clf_4.cv_results_['params'])\n",
    "print(clf_4_best_params)"
   ]
  },
  {
   "cell_type": "markdown",
   "metadata": {},
   "source": [
    "#### Training the K-NN classifier with the best parameters obtained with Cross-validation"
   ]
  },
  {
   "cell_type": "code",
   "execution_count": 141,
   "metadata": {},
   "outputs": [],
   "source": [
    "from sklearn.neighbors import KNeighborsClassifier\n",
    "knn = KNeighborsClassifier(**clf_4_best_params)\n",
    "\n",
    "clf_knn = knn.fit(X_train, y_train) \n",
    "#A = neigh.kneighbors_graph(X)\n",
    "\n",
    "Y_pred_knn=clf_knn.predict(X_test)"
   ]
  },
  {
   "cell_type": "code",
   "execution_count": 142,
   "metadata": {
    "scrolled": true
   },
   "outputs": [
    {
     "name": "stdout",
     "output_type": "stream",
     "text": [
      "              precision    recall  f1-score   support\n",
      "\n",
      "           0       0.69      0.79      0.74       159\n",
      "           1       0.51      0.22      0.31        96\n",
      "           2       0.73      0.87      0.79       171\n",
      "\n",
      "   micro avg       0.69      0.69      0.69       426\n",
      "   macro avg       0.64      0.63      0.61       426\n",
      "weighted avg       0.67      0.69      0.66       426\n",
      "\n"
     ]
    }
   ],
   "source": [
    "print(classification_report(y_test, Y_pred_knn))"
   ]
  },
  {
   "cell_type": "markdown",
   "metadata": {},
   "source": [
    "### Probabilistic Model - Naive Bayes \n"
   ]
  },
  {
   "cell_type": "code",
   "execution_count": 143,
   "metadata": {},
   "outputs": [],
   "source": [
    "from sklearn.naive_bayes import GaussianNB\n",
    "gnb = GaussianNB()\n",
    "gnb.fit(X_train, y_train)\n",
    "Y_pred_nb = gnb.predict(X_test)"
   ]
  },
  {
   "cell_type": "code",
   "execution_count": 144,
   "metadata": {},
   "outputs": [
    {
     "name": "stdout",
     "output_type": "stream",
     "text": [
      "              precision    recall  f1-score   support\n",
      "\n",
      "           0       0.74      0.23      0.35       159\n",
      "           1       0.36      0.16      0.22        96\n",
      "           2       0.49      0.95      0.64       171\n",
      "\n",
      "   micro avg       0.50      0.50      0.50       426\n",
      "   macro avg       0.53      0.45      0.40       426\n",
      "weighted avg       0.55      0.50      0.44       426\n",
      "\n"
     ]
    }
   ],
   "source": [
    "from sklearn.metrics import classification_report\n",
    "\n",
    "print(classification_report(y_test, Y_pred_nb))"
   ]
  },
  {
   "cell_type": "markdown",
   "metadata": {},
   "source": [
    "Without information of prior probability, it does not make sense to perform Cross-validation in order to find the best parameters. "
   ]
  },
  {
   "cell_type": "markdown",
   "metadata": {},
   "source": [
    "### Rules Model - CN2"
   ]
  },
  {
   "cell_type": "markdown",
   "metadata": {},
   "source": [
    "Classical CN2 inducer (Clark and Niblett; 1988) that constructs a set of ordered rules. Constructor returns either an instance of CN2Learner or, if training data is provided, a CN2Classifier. (https://docs.orange.biolab.si/2/reference/rst/Orange.classification.rules.html)"
   ]
  },
  {
   "cell_type": "code",
   "execution_count": 210,
   "metadata": {},
   "outputs": [
    {
     "data": {
      "text/plain": [
       "[feature_1, feature_2, feature_3, feature_4, feature_5, feature_6, feature_7, feature_8, feature_9, feature_10, feature_11, feature_12, feature_13, feature_14, feature_15, feature_16, feature_17, feature_18, feature_19, feature_20, feature_21, feature_22, feature_23, feature_24, feature_25, feature_26, feature_27, feature_28, feature_29, feature_30, feature_31, feature_32, feature_33, feature_34, feature_35, feature_36, feature_37, feature_38, feature_39, feature_40, feature_41, feature_42, feature_43, feature_44, feature_45, feature_46, feature_47, feature_48, feature_49, feature_50, feature_51, feature_52, feature_53, feature_54, feature_55, feature_56, feature_57, feature_58, feature_59, feature_60, feature_61, feature_62, feature_63, feature_64, feature_65, feature_66, feature_67, feature_68, feature_69, feature_70, feature_71, feature_72, feature_73, feature_74, feature_75, feature_76, feature_77, feature_78, feature_79, feature_80, feature_81, feature_82, feature_83, feature_84, feature_85, feature_86, feature_87, feature_88, feature_89, feature_90, feature_91, feature_92, feature_93, feature_94, feature_95, feature_96, feature_97, feature_98, feature_99, feature_100, feature_101, feature_102, feature_103, feature_104, feature_105, feature_106, feature_107, feature_108, feature_109, feature_110, feature_111, feature_112, feature_113, feature_114, feature_115, feature_116, feature_117, feature_118, feature_119, feature_120, feature_121, feature_122, feature_123, feature_124, feature_125, feature_126, feature_127, feature_128, feature_129, feature_130, feature_131, feature_132, feature_133, feature_134, feature_135, feature_136, feature_137, feature_138, feature_139, feature_140, feature_141, feature_142, feature_143, feature_144, feature_145, feature_146, feature_147, feature_148, feature_149, feature_150, feature_151, feature_152, feature_153, feature_154, feature_155, feature_156, feature_157, feature_158, feature_159, feature_160, feature_161, feature_162, feature_163, feature_164, feature_165, feature_166, feature_167, feature_168, feature_169, feature_170, feature_171, feature_172, feature_173, feature_174, feature_175, feature_176, feature_177, feature_178, feature_179, feature_180 | y]"
      ]
     },
     "execution_count": 210,
     "metadata": {},
     "output_type": "execute_result"
    }
   ],
   "source": [
    "from Orange.data import Domain, StringVariable, ContinuousVariable, DiscreteVariable\n",
    "\n",
    "#Domain stores a list of features, class(es) and meta attribute descriptors.\n",
    "\n",
    "attributes = [ContinuousVariable(name=\"feature_{}\".format(i+1)) for i in range(X_train.shape[1])]\n",
    "class_var = DiscreteVariable(name='y',\n",
    "                 values=[\"No\", \"Maybe\", \"Yes\"])\n",
    "domain = Domain(attributes, class_var)\n",
    "domain"
   ]
  },
  {
   "cell_type": "code",
   "execution_count": 215,
   "metadata": {},
   "outputs": [],
   "source": [
    "#Transform dataframes to tables\n",
    "data_train = Table.from_numpy(domain, X_train, Y=y_train, metas=None, W=None)\n",
    "data_test = Table.from_numpy(domain, X_test, Y=y_test, metas=None, W=None)"
   ]
  },
  {
   "cell_type": "code",
   "execution_count": 216,
   "metadata": {},
   "outputs": [],
   "source": [
    "learner = Orange.classification.CN2Learner()\n",
    "\n",
    "classifier = learner(data_train)"
   ]
  },
  {
   "cell_type": "code",
   "execution_count": 217,
   "metadata": {
    "scrolled": false
   },
   "outputs": [
    {
     "name": "stdout",
     "output_type": "stream",
     "text": [
      "IF feature_61>=1.0 THEN y=Yes  [0, 0, 2]\n",
      "IF feature_66>=1.0 THEN y=Yes  [0, 0, 1]\n",
      "IF feature_68>=1.0 THEN y=Maybe  [0, 2, 0]\n",
      "IF feature_74>=1.0 THEN y=No  [1, 0, 0]\n",
      "IF feature_77>=1.0 THEN y=No  [2, 0, 0]\n",
      "IF feature_79>=1.0 THEN y=Yes  [0, 0, 1]\n",
      "IF feature_84>=1.0 THEN y=Maybe  [0, 1, 0]\n",
      "IF feature_85>=1.0 THEN y=Yes  [0, 0, 1]\n",
      "IF feature_86>=1.0 THEN y=No  [1, 0, 0]\n",
      "IF feature_88>=1.0 THEN y=Maybe  [0, 1, 0]\n",
      "IF feature_92>=1.0 THEN y=No  [2, 0, 0]\n",
      "IF feature_94>=1.0 THEN y=Maybe  [0, 1, 0]\n",
      "IF feature_97>=1.0 THEN y=Yes  [0, 0, 1]\n",
      "IF feature_98>=1.0 THEN y=Maybe  [0, 1, 0]\n",
      "IF feature_103>=1.0 THEN y=No  [1, 0, 0]\n",
      "IF feature_104>=1.0 THEN y=No  [1, 0, 0]\n",
      "IF feature_105>=1.0 THEN y=No  [1, 0, 0]\n",
      "IF feature_112>=1.0 THEN y=Maybe  [0, 1, 0]\n",
      "IF feature_114>=1.0 THEN y=No  [1, 0, 0]\n",
      "IF feature_143>=1.0 THEN y=Maybe  [0, 1, 0]\n",
      "IF feature_91>=1.0 THEN y=No  [1, 0, 0]\n",
      "IF feature_145>=1.0 THEN y=Yes  [0, 0, 1]\n",
      "IF feature_93>=1.0 THEN y=No  [1, 0, 0]\n",
      "IF feature_161>=1.0 THEN y=No  [1, 0, 0]\n",
      "IF feature_162>=1.0 THEN y=Yes  [0, 0, 1]\n",
      "IF feature_177>=1.0 THEN y=Yes  [0, 0, 5]\n",
      "IF feature_173>=1.0 AND feature_4>=1.0 THEN y=Yes  [0, 0, 6]\n",
      "IF feature_173>=1.0 AND feature_7>=1.0 THEN y=Yes  [0, 0, 2]\n",
      "IF feature_8>=1.0 AND feature_3>=35.0 THEN y=No  [24, 0, 0]\n",
      "IF feature_173>=1.0 AND feature_10>=1.0 THEN y=Yes  [0, 0, 1]\n",
      "IF feature_173>=1.0 AND feature_12>=1.0 THEN y=Yes  [0, 0, 7]\n",
      "IF feature_8>=1.0 AND feature_14>=1.0 THEN y=No  [16, 0, 0]\n",
      "IF feature_6>=1.0 AND feature_3>=33.0 THEN y=Yes  [0, 0, 4]\n",
      "IF feature_173>=1.0 AND feature_13>=1.0 THEN y=Yes  [0, 0, 3]\n",
      "IF feature_8>=1.0 AND feature_17>=1.0 THEN y=Maybe  [0, 1, 0]\n",
      "IF feature_8>=1.0 AND feature_20>=1.0 THEN y=No  [3, 0, 0]\n",
      "IF feature_8>=1.0 AND feature_21>=1.0 THEN y=No  [4, 0, 0]\n",
      "IF feature_8>=1.0 AND feature_22>=1.0 THEN y=No  [7, 0, 0]\n",
      "IF feature_6>=1.0 AND feature_11>=1.0 THEN y=Yes  [0, 0, 2]\n",
      "IF feature_8>=1.0 AND feature_31>=1.0 THEN y=Maybe  [0, 1, 0]\n",
      "IF feature_8>=1.0 AND feature_4>=1.0 THEN y=No  [4, 0, 0]\n",
      "IF feature_8>=1.0 AND feature_16>=1.0 THEN y=No  [5, 0, 0]\n",
      "IF feature_173>=1.0 AND feature_14>=1.0 THEN y=Yes  [0, 0, 1]\n",
      "IF feature_173>=1.0 AND feature_15>=1.0 THEN y=Yes  [0, 0, 1]\n",
      "IF feature_168>=1.0 AND feature_17>=1.0 THEN y=Yes  [0, 0, 4]\n",
      "IF feature_168>=1.0 AND feature_38>=1.0 THEN y=Maybe  [0, 1, 0]\n",
      "IF feature_168>=1.0 AND feature_40>=1.0 THEN y=Maybe  [0, 1, 0]\n",
      "IF feature_168>=1.0 AND feature_81>=1.0 THEN y=Maybe  [0, 1, 0]\n",
      "IF feature_168>=1.0 AND feature_83>=1.0 THEN y=Yes  [0, 0, 1]\n",
      "IF feature_168>=1.0 AND feature_89>=1.0 THEN y=Yes  [0, 0, 1]\n",
      "IF feature_168>=1.0 AND feature_95>=1.0 THEN y=Yes  [0, 0, 2]\n",
      "IF feature_168>=1.0 AND feature_110>=1.0 THEN y=Yes  [0, 0, 2]\n",
      "IF feature_168>=1.0 AND feature_174>=1.0 THEN y=Yes  [0, 0, 1]\n",
      "IF feature_6>=1.0 AND feature_13>=1.0 THEN y=Yes  [0, 0, 1]\n",
      "IF feature_81>=1.0 AND feature_2>=1.0 THEN y=Yes  [0, 0, 1]\n",
      "IF feature_81>=1.0 THEN y=No  [2, 0, 0]\n",
      "IF feature_100>=1.0 AND feature_2>=1.0 THEN y=Maybe  [0, 1, 0]\n",
      "IF feature_106>=1.0 AND feature_4>=1.0 THEN y=No  [1, 0, 0]\n",
      "IF feature_106>=1.0 THEN y=Maybe  [0, 2, 0]\n",
      "IF feature_48>=1.0 AND feature_17>=1.0 THEN y=Yes  [0, 0, 1]\n",
      "IF feature_48>=1.0 AND feature_38>=1.0 THEN y=Maybe  [0, 1, 0]\n",
      "IF feature_48>=1.0 AND feature_52>=1.0 THEN y=Yes  [0, 0, 2]\n",
      "IF feature_48>=1.0 AND feature_15>=1.0 THEN y=No  [1, 0, 0]\n",
      "IF feature_100>=1.0 THEN y=Maybe  [0, 1, 0]\n",
      "IF feature_15>=1.0 AND feature_6>=1.0 THEN y=Yes  [0, 0, 1]\n",
      "IF feature_6>=1.0 THEN y=Maybe  [0, 1, 0]\n",
      "IF feature_48>=1.0 AND feature_67>=1.0 THEN y=No  [1, 0, 0]\n",
      "IF feature_48>=1.0 AND feature_69>=1.0 THEN y=Yes  [0, 0, 1]\n",
      "IF feature_48>=1.0 AND feature_75>=1.0 THEN y=No  [1, 0, 0]\n",
      "IF feature_75>=1.0 THEN y=Maybe  [0, 1, 0]\n",
      "IF feature_48>=1.0 AND feature_78>=1.0 THEN y=No  [1, 0, 0]\n",
      "IF feature_78>=1.0 THEN y=Maybe  [0, 1, 0]\n",
      "IF feature_48>=1.0 AND feature_80>=1.0 THEN y=No  [1, 0, 0]\n",
      "IF feature_80>=1.0 THEN y=Maybe  [0, 1, 0]\n",
      "IF feature_48>=1.0 AND feature_87>=1.0 THEN y=No  [2, 0, 0]\n",
      "IF feature_48>=1.0 AND feature_96>=1.0 THEN y=No  [1, 0, 0]\n",
      "IF feature_48>=1.0 AND feature_102>=1.0 THEN y=No  [3, 0, 0]\n",
      "IF feature_48>=1.0 AND feature_107>=1.0 THEN y=No  [3, 0, 0]\n",
      "IF feature_15>=1.0 AND feature_7>=1.0 THEN y=No  [1, 0, 0]\n",
      "IF feature_171>=1.0 AND feature_9>=1.0 THEN y=Maybe  [0, 1, 0]\n",
      "IF feature_171>=1.0 THEN y=Yes  [0, 0, 6]\n",
      "IF feature_15>=1.0 AND feature_20>=1.0 THEN y=Yes  [0, 0, 1]\n",
      "IF feature_15>=1.0 AND feature_21>=1.0 THEN y=Yes  [0, 0, 5]\n",
      "IF feature_168>=1.0 AND feature_9>=1.0 THEN y=Yes  [0, 0, 2]\n",
      "IF feature_168>=1.0 AND feature_52>=1.0 THEN y=No  [1, 0, 0]\n",
      "IF feature_168>=1.0 AND feature_179>=1.0 THEN y=Yes  [0, 0, 2]\n",
      "IF feature_48>=1.0 AND feature_167>=1.0 THEN y=Yes  [0, 0, 5]\n",
      "IF feature_48>=1.0 AND feature_169>=1.0 THEN y=Yes  [0, 0, 1]\n",
      "IF feature_169>=1.0 THEN y=Maybe  [0, 1, 0]\n",
      "IF feature_48>=1.0 AND feature_174>=1.0 THEN y=Yes  [0, 0, 1]\n",
      "IF feature_48>=1.0 AND feature_176>=1.0 THEN y=Yes  [0, 0, 1]\n",
      "IF feature_48>=1.0 AND feature_178>=1.0 THEN y=Yes  [0, 0, 1]\n",
      "IF feature_48>=1.0 AND feature_95>=1.0 THEN y=No  [8, 0, 0]\n",
      "IF feature_8>=1.0 AND feature_2>=1.0 THEN y=Maybe  [0, 1, 0]\n",
      "IF feature_8>=1.0 AND feature_55>=1.0 THEN y=No  [1, 0, 0]\n",
      "IF feature_8>=1.0 AND feature_56>=1.0 THEN y=No  [1, 0, 0]\n",
      "IF feature_8>=1.0 AND feature_110>=1.0 THEN y=No  [1, 0, 0]\n",
      "IF feature_8>=1.0 THEN y=Maybe  [0, 1, 0]\n",
      "IF feature_134>=1.0 AND feature_3>=23.0 THEN y=No  [5, 0, 0]\n",
      "IF feature_134>=1.0 THEN y=Yes  [0, 0, 1]\n",
      "IF feature_82>=1.0 THEN y=Maybe  [0, 2, 0]\n",
      "IF feature_67>=1.0 AND feature_3>=37.0 THEN y=Yes  [0, 0, 1]\n",
      "IF feature_67>=1.0 THEN y=Maybe  [0, 1, 0]\n",
      "IF feature_73>=1.0 AND feature_2>=1.0 THEN y=No  [1, 0, 0]\n",
      "IF feature_73>=1.0 THEN y=Yes  [0, 0, 1]\n",
      "IF feature_170>=1.0 THEN y=Yes  [0, 0, 1]\n",
      "IF feature_175>=1.0 AND feature_7>=1.0 THEN y=Maybe  [0, 1, 0]\n",
      "IF feature_175>=1.0 AND feature_9>=1.0 THEN y=Yes  [0, 0, 1]\n",
      "IF feature_175>=1.0 AND feature_3>=45.0 THEN y=Yes  [0, 0, 2]\n",
      "IF feature_87>=1.0 AND feature_4>=1.0 THEN y=Maybe  [0, 1, 0]\n",
      "IF feature_87>=1.0 THEN y=Yes  [0, 0, 1]\n",
      "IF feature_173>=1.0 AND feature_18>=1.0 THEN y=No  [1, 0, 0]\n",
      "IF feature_173>=1.0 THEN y=Yes  [0, 0, 1]\n",
      "IF feature_175>=1.0 AND feature_10>=1.0 THEN y=Maybe  [0, 2, 0]\n",
      "IF feature_175>=1.0 THEN y=Yes  [0, 0, 2]\n",
      "IF feature_54>=1.0 AND feature_9>=1.0 THEN y=Yes  [0, 0, 3]\n",
      "IF feature_167>=1.0 AND feature_3>=54.0 THEN y=Yes  [0, 0, 6]\n",
      "IF feature_15>=1.0 AND feature_10>=1.0 THEN y=No  [1, 0, 0]\n",
      "IF feature_15>=1.0 AND feature_3>=42.0 THEN y=Maybe  [0, 1, 0]\n",
      "IF feature_15>=1.0 AND feature_3>=34.0 THEN y=Yes  [0, 0, 5]\n",
      "IF feature_15>=1.0 AND feature_4>=1.0 THEN y=Yes  [0, 0, 1]\n",
      "IF feature_102>=1.0 AND feature_3>=30.0 THEN y=Maybe  [0, 2, 0]\n",
      "IF feature_15>=1.0 AND feature_12>=1.0 THEN y=Yes  [0, 0, 4]\n",
      "IF feature_168>=1.0 AND feature_15>=1.0 THEN y=Maybe  [0, 1, 0]\n",
      "IF feature_168>=1.0 AND feature_51>=1.0 THEN y=Yes  [0, 0, 7]\n",
      "IF feature_15>=1.0 AND feature_23>=1.0 THEN y=Yes  [0, 0, 1]\n",
      "IF feature_15>=1.0 THEN y=Maybe  [0, 1, 0]\n",
      "IF feature_176>=1.0 AND feature_9>=1.0 THEN y=Maybe  [0, 1, 0]\n",
      "IF feature_176>=1.0 AND feature_14>=1.0 THEN y=Yes  [0, 0, 4]\n",
      "IF feature_178>=1.0 AND feature_3>=44.0 THEN y=Yes  [0, 0, 2]\n",
      "IF feature_178>=1.0 AND feature_4>=1.0 THEN y=No  [2, 0, 0]\n",
      "IF feature_178>=1.0 AND feature_3>=42.0 THEN y=Yes  [0, 0, 1]\n",
      "IF feature_178>=1.0 AND feature_12>=1.0 THEN y=No  [2, 0, 0]\n",
      "IF feature_178>=1.0 AND feature_13>=1.0 THEN y=No  [1, 0, 0]\n",
      "IF feature_52>=1.0 AND feature_4>=1.0 THEN y=Maybe  [0, 1, 0]\n",
      "IF feature_52>=1.0 AND feature_12>=1.0 THEN y=Yes  [0, 0, 1]\n",
      "IF feature_176>=1.0 AND feature_12>=1.0 THEN y=Yes  [0, 0, 4]\n",
      "IF feature_52>=1.0 AND feature_13>=1.0 THEN y=Yes  [0, 0, 2]\n",
      "IF feature_52>=1.0 THEN y=Maybe  [0, 1, 0]\n",
      "IF feature_102>=1.0 AND feature_3>=25.0 THEN y=Yes  [0, 0, 1]\n",
      "IF feature_102>=1.0 THEN y=Maybe  [0, 1, 0]\n",
      "IF feature_178>=1.0 AND feature_14>=1.0 THEN y=No  [1, 0, 0]\n",
      "IF feature_178>=1.0 THEN y=Yes  [0, 0, 1]\n",
      "IF feature_176>=1.0 AND feature_25>=1.0 THEN y=Yes  [0, 0, 1]\n",
      "IF feature_167>=1.0 AND feature_17>=1.0 THEN y=Yes  [0, 0, 5]\n",
      "IF feature_176>=1.0 AND feature_26>=1.0 THEN y=Yes  [0, 0, 2]\n",
      "IF feature_167>=1.0 AND feature_40>=1.0 THEN y=Yes  [0, 0, 1]\n",
      "IF feature_167>=1.0 AND feature_65>=1.0 THEN y=Yes  [0, 0, 1]\n",
      "IF feature_65>=1.0 AND feature_3>=44.0 THEN y=No  [1, 0, 0]\n",
      "IF feature_65>=1.0 THEN y=Maybe  [0, 2, 0]\n",
      "IF feature_168>=1.0 AND feature_42>=1.0 THEN y=Yes  [0, 0, 2]\n",
      "IF feature_39>=1.0 AND feature_7>=1.0 THEN y=Maybe  [0, 2, 0]\n",
      "IF feature_39>=1.0 AND feature_10>=1.0 THEN y=Yes  [0, 0, 6]\n",
      "IF feature_39>=1.0 AND feature_50>=1.0 THEN y=Yes  [0, 0, 4]\n",
      "IF feature_167>=1.0 AND feature_89>=1.0 THEN y=Yes  [0, 0, 1]\n",
      "IF feature_89>=1.0 AND feature_3>=39.0 THEN y=Maybe  [0, 2, 0]\n",
      "IF feature_89>=1.0 THEN y=No  [4, 0, 0]\n",
      "IF feature_167>=1.0 AND feature_96>=1.0 THEN y=Yes  [0, 0, 1]\n",
      "IF feature_167>=1.0 AND feature_107>=1.0 THEN y=Maybe  [0, 1, 0]\n",
      "IF feature_167>=1.0 AND feature_176>=1.0 THEN y=Maybe  [0, 1, 0]\n",
      "IF feature_176>=1.0 AND feature_20>=1.0 THEN y=Yes  [0, 0, 1]\n",
      "IF feature_176>=1.0 AND feature_10>=1.0 THEN y=No  [1, 0, 0]\n",
      "IF feature_176>=1.0 AND feature_4>=1.0 THEN y=Yes  [0, 0, 3]\n",
      "IF feature_176>=1.0 AND feature_16>=1.0 THEN y=Yes  [0, 0, 1]\n",
      "IF feature_168>=1.0 AND feature_176>=1.0 THEN y=No  [1, 0, 0]\n",
      "IF feature_176>=1.0 THEN y=Yes  [0, 0, 1]\n",
      "IF feature_168>=1.0 AND feature_72>=1.0 THEN y=Yes  [0, 0, 2]\n",
      "IF feature_47>=1.0 AND feature_38>=1.0 THEN y=Maybe  [0, 1, 0]\n",
      "IF feature_47>=1.0 AND feature_69>=1.0 THEN y=Maybe  [0, 1, 0]\n",
      "IF feature_47>=1.0 AND feature_71>=1.0 THEN y=No  [1, 0, 0]\n",
      "IF feature_47>=1.0 AND feature_95>=1.0 THEN y=Maybe  [0, 2, 0]\n",
      "IF feature_47>=1.0 AND feature_179>=1.0 THEN y=No  [1, 0, 0]\n",
      "IF feature_179>=1.0 AND feature_4>=1.0 THEN y=Yes  [0, 0, 1]\n",
      "IF feature_179>=1.0 AND feature_7>=1.0 THEN y=Maybe  [0, 1, 0]\n",
      "IF feature_179>=1.0 THEN y=Yes  [0, 0, 1]\n",
      "IF feature_83>=1.0 AND feature_9>=1.0 THEN y=Maybe  [0, 1, 0]\n",
      "IF feature_83>=1.0 AND feature_24>=1.0 THEN y=No  [4, 0, 0]\n",
      "IF feature_42>=1.0 AND feature_9>=1.0 THEN y=Yes  [0, 0, 1]\n",
      "IF feature_54>=1.0 AND feature_7>=1.0 THEN y=Maybe  [0, 1, 0]\n",
      "IF feature_42>=1.0 AND feature_7>=1.0 THEN y=Yes  [0, 0, 1]\n",
      "IF feature_54>=1.0 AND feature_25>=1.0 THEN y=Yes  [0, 0, 2]\n",
      "IF feature_42>=1.0 AND feature_10>=1.0 THEN y=Yes  [0, 0, 1]\n",
      "IF feature_83>=1.0 AND feature_27>=1.0 THEN y=Maybe  [0, 1, 0]\n",
      "IF feature_83>=1.0 AND feature_39>=1.0 THEN y=Yes  [0, 0, 1]\n",
      "IF feature_83>=1.0 AND feature_4>=1.0 THEN y=No  [1, 0, 0]\n",
      "IF feature_83>=1.0 AND feature_12>=1.0 THEN y=No  [2, 0, 0]\n",
      "IF feature_167>=1.0 AND feature_83>=1.0 THEN y=Maybe  [0, 1, 0]\n",
      "IF feature_83>=1.0 AND feature_54>=1.0 THEN y=No  [1, 0, 0]\n",
      "IF feature_48>=1.0 AND feature_54>=1.0 THEN y=Yes  [0, 0, 2]\n",
      "IF feature_48>=1.0 AND feature_39>=1.0 THEN y=Maybe  [0, 1, 0]\n",
      "IF feature_83>=1.0 AND feature_33>=1.0 THEN y=Maybe  [0, 2, 0]\n",
      "IF feature_48>=1.0 AND feature_172>=1.0 THEN y=Yes  [0, 0, 3]\n",
      "IF feature_48>=1.0 AND feature_56>=1.0 THEN y=No  [54, 0, 0]\n",
      "IF feature_54>=1.0 AND feature_37>=1.0 THEN y=Yes  [0, 0, 4]\n",
      "IF feature_96>=1.0 AND feature_10>=1.0 THEN y=No  [1, 0, 0]\n",
      "IF feature_17>=1.0 AND feature_3>=49.0 THEN y=Maybe  [0, 1, 0]\n",
      "IF feature_17>=1.0 AND feature_4>=1.0 THEN y=Yes  [0, 0, 1]\n",
      "IF feature_17>=1.0 AND feature_9>=1.0 THEN y=Maybe  [0, 1, 0]\n",
      "IF feature_17>=1.0 THEN y=Yes  [0, 0, 2]\n",
      "IF feature_96>=1.0 AND feature_44>=1.0 THEN y=Maybe  [0, 1, 0]\n",
      "IF feature_96>=1.0 THEN y=No  [1, 0, 0]\n",
      "IF feature_42>=1.0 AND feature_16>=1.0 THEN y=Yes  [0, 0, 1]\n",
      "IF feature_42>=1.0 AND feature_51>=1.0 THEN y=Yes  [0, 0, 1]\n",
      "IF feature_54>=1.0 AND feature_10>=1.0 THEN y=Maybe  [0, 1, 0]\n",
      "IF feature_168>=1.0 AND feature_27>=1.0 THEN y=Yes  [0, 0, 3]\n",
      "IF feature_168>=1.0 AND feature_54>=1.0 THEN y=Yes  [0, 0, 1]\n",
      "IF feature_54>=1.0 AND feature_14>=1.0 THEN y=Maybe  [0, 2, 0]\n",
      "IF feature_54>=1.0 AND feature_12>=1.0 THEN y=Yes  [0, 0, 5]\n",
      "IF feature_167>=1.0 AND feature_54>=1.0 THEN y=Yes  [0, 0, 3]\n",
      "IF feature_47>=1.0 AND feature_174>=1.0 THEN y=Maybe  [0, 1, 0]\n",
      "IF feature_83>=1.0 AND feature_51>=1.0 THEN y=Maybe  [0, 1, 0]\n",
      "IF feature_83>=1.0 AND feature_56>=1.0 THEN y=No  [1, 0, 0]\n",
      "IF feature_47>=1.0 AND feature_83>=1.0 THEN y=Maybe  [0, 2, 0]\n",
      "IF feature_83>=1.0 AND feature_19>=1.0 THEN y=No  [3, 0, 0]\n",
      "IF feature_1>=1.0 AND feature_101>=1.0 THEN y=Yes  [0, 0, 1]\n",
      "IF feature_101>=1.0 AND feature_3>=29.0 THEN y=No  [2, 0, 0]\n",
      "IF feature_101>=1.0 THEN y=Maybe  [0, 1, 0]\n",
      "IF feature_172>=1.0 AND feature_42>=1.0 THEN y=Yes  [0, 0, 4]\n",
      "IF feature_83>=1.0 AND feature_3>=38.0 THEN y=Yes  [0, 0, 1]\n",
      "IF feature_83>=1.0 AND feature_2>=1.0 THEN y=Maybe  [0, 2, 0]\n",
      "IF feature_83>=1.0 AND feature_10>=1.0 THEN y=No  [2, 0, 0]\n",
      "IF feature_83>=1.0 AND feature_20>=1.0 THEN y=No  [1, 0, 0]\n",
      "IF feature_83>=1.0 AND feature_16>=1.0 THEN y=Maybe  [0, 1, 0]\n",
      "IF feature_83>=1.0 AND feature_11>=1.0 THEN y=No  [2, 0, 0]\n",
      "IF feature_83>=1.0 AND feature_25>=1.0 THEN y=No  [2, 0, 0]\n",
      "IF feature_83>=1.0 THEN y=Maybe  [0, 1, 0]\n",
      "IF feature_172>=1.0 AND feature_69>=1.0 THEN y=Yes  [0, 0, 1]\n",
      "IF feature_172>=1.0 AND feature_108>=1.0 THEN y=Yes  [0, 0, 1]\n",
      "IF feature_108>=1.0 AND feature_3>=33.0 THEN y=No  [3, 0, 0]\n",
      "IF feature_108>=1.0 THEN y=Maybe  [0, 2, 0]\n",
      "IF feature_1>=1.0 AND feature_180>=1.0 THEN y=Yes  [0, 0, 2]\n",
      "IF feature_172>=1.0 AND feature_174>=1.0 THEN y=Maybe  [0, 1, 0]\n",
      "IF feature_174>=1.0 AND feature_4>=1.0 THEN y=Yes  [0, 0, 1]\n",
      "IF feature_174>=1.0 AND feature_11>=1.0 THEN y=No  [1, 0, 0]\n",
      "IF feature_174>=1.0 THEN y=Yes  [0, 0, 1]\n",
      "IF feature_49>=1.0 AND feature_71>=1.0 THEN y=Yes  [0, 0, 1]\n",
      "IF feature_71>=1.0 AND feature_4>=1.0 THEN y=Maybe  [0, 1, 0]\n",
      "IF feature_71>=1.0 THEN y=No  [1, 0, 0]\n",
      "IF feature_49>=1.0 AND feature_107>=1.0 THEN y=Yes  [0, 0, 1]\n",
      "IF feature_107>=1.0 AND feature_3>=35.0 THEN y=Maybe  [0, 2, 0]\n",
      "IF feature_168>=1.0 AND feature_19>=1.0 THEN y=Maybe  [0, 1, 0]\n",
      "IF feature_168>=1.0 AND feature_44>=1.0 THEN y=Yes  [0, 0, 4]\n",
      "IF feature_107>=1.0 AND feature_3>=30.0 THEN y=No  [1, 0, 0]\n",
      "IF feature_107>=1.0 THEN y=Maybe  [0, 1, 0]\n",
      "IF feature_39>=1.0 AND feature_9>=1.0 THEN y=Yes  [0, 0, 1]\n",
      "IF feature_180>=1.0 AND feature_38>=1.0 THEN y=Yes  [0, 0, 1]\n",
      "IF feature_180>=1.0 AND feature_69>=1.0 THEN y=Maybe  [0, 1, 0]\n",
      "IF feature_69>=1.0 AND feature_7>=1.0 THEN y=Yes  [0, 0, 1]\n",
      "IF feature_69>=1.0 THEN y=No  [1, 0, 0]\n",
      "IF feature_180>=1.0 AND feature_95>=1.0 THEN y=Yes  [0, 0, 1]\n",
      "IF feature_42>=1.0 AND feature_2>=1.0 THEN y=No  [2, 0, 0]\n",
      "IF feature_167>=1.0 AND feature_42>=1.0 THEN y=Yes  [0, 0, 1]\n",
      "IF feature_42>=1.0 AND feature_11>=1.0 THEN y=Maybe  [0, 1, 0]\n",
      "IF feature_42>=1.0 THEN y=No  [1, 0, 0]\n",
      "IF feature_39>=1.0 AND feature_45>=1.0 THEN y=Maybe  [0, 1, 0]\n",
      "IF feature_167>=1.0 AND feature_39>=1.0 THEN y=Yes  [0, 0, 1]\n",
      "IF feature_39>=1.0 AND feature_58>=1.0 THEN y=Yes  [0, 0, 2]\n",
      "IF feature_45>=1.0 AND feature_95>=1.0 THEN y=No  [1, 0, 0]\n",
      "IF feature_40>=1.0 AND feature_3>=48.0 THEN y=Maybe  [0, 4, 0]\n",
      "IF feature_48>=1.0 AND feature_3>=42.0 THEN y=No  [14, 0, 0]\n",
      "IF feature_48>=1.0 AND feature_3>=40.0 THEN y=Maybe  [0, 2, 0]\n",
      "IF feature_48>=1.0 AND feature_9>=1.0 THEN y=Maybe  [0, 3, 0]\n",
      "IF feature_48>=1.0 AND feature_19>=1.0 THEN y=No  [7, 0, 0]\n",
      "IF feature_48>=1.0 AND feature_27>=1.0 THEN y=No  [2, 0, 0]\n",
      "IF feature_9>=1.0 AND feature_3>=40.0 THEN y=Maybe  [0, 6, 0]\n",
      "IF feature_9>=1.0 AND feature_4>=1.0 THEN y=Yes  [0, 0, 3]\n",
      "IF feature_3>=47.0 AND feature_19>=1.0 THEN y=Yes  [0, 0, 3]\n",
      "IF feature_3>=47.0 AND feature_27>=1.0 THEN y=No  [1, 0, 0]\n",
      "IF feature_3>=47.0 AND feature_51>=1.0 THEN y=Yes  [0, 0, 1]\n",
      "IF feature_3>=47.0 AND feature_54>=1.0 THEN y=No  [1, 0, 0]\n",
      "IF feature_54>=1.0 AND feature_4>=1.0 THEN y=Maybe  [0, 1, 0]\n",
      "IF feature_54>=1.0 AND feature_2>=1.0 THEN y=Yes  [0, 0, 2]\n",
      "IF feature_54>=1.0 THEN y=Maybe  [0, 1, 0]\n",
      "IF feature_3>=47.0 AND feature_44>=1.0 THEN y=Yes  [0, 0, 1]\n",
      "IF feature_9>=1.0 AND feature_14>=1.0 THEN y=Yes  [0, 0, 1]\n",
      "IF feature_3>=47.0 AND feature_14>=1.0 THEN y=No  [1, 0, 0]\n",
      "IF feature_9>=1.0 AND feature_3>=34.0 THEN y=Yes  [0, 0, 3]\n",
      "IF feature_9>=1.0 AND feature_24>=1.0 THEN y=Yes  [0, 0, 1]\n",
      "IF feature_172>=1.0 AND feature_9>=1.0 THEN y=Maybe  [0, 2, 0]\n",
      "IF feature_167>=1.0 AND feature_9>=1.0 THEN y=Yes  [0, 0, 1]\n",
      "IF feature_49>=1.0 AND feature_9>=1.0 THEN y=Yes  [0, 0, 2]\n",
      "IF feature_9>=1.0 AND feature_3>=29.0 THEN y=Maybe  [0, 2, 0]\n",
      "IF feature_9>=1.0 AND feature_21>=1.0 THEN y=No  [1, 0, 0]\n",
      "IF feature_9>=1.0 THEN y=Maybe  [0, 1, 0]\n",
      "IF feature_2>=1.0 AND feature_40>=1.0 THEN y=Maybe  [0, 2, 0]\n",
      "IF feature_56>=1.0 AND feature_27>=1.0 THEN y=Yes  [0, 0, 1]\n",
      "IF feature_38>=1.0 AND feature_10>=1.0 THEN y=Maybe  [0, 1, 0]\n",
      "IF feature_48>=1.0 AND feature_4>=1.0 AND feature_3>=25.0 THEN y=No  [9, 0, 0]\n",
      "IF feature_48>=1.0 AND feature_4>=1.0 THEN y=Maybe  [0, 1, 0]\n",
      "IF feature_4>=1.0 AND feature_40>=1.0 THEN y=Maybe  [0, 1, 0]\n",
      "IF feature_167>=1.0 AND feature_51>=1.0 AND feature_3>=27.0 THEN y=Yes  [0, 0, 8]\n",
      "IF feature_167>=1.0 AND feature_51>=1.0 THEN y=No  [1, 0, 0]\n",
      "IF feature_3>=47.0 AND feature_12>=1.0 THEN y=Yes  [0, 0, 1]\n",
      "IF feature_3>=47.0 AND feature_64>=1.0 THEN y=No  [1, 0, 0]\n",
      "IF feature_47>=1.0 AND feature_64>=1.0 THEN y=Maybe  [0, 2, 0]\n",
      "IF feature_51>=1.0 AND feature_19>=1.0 THEN y=Maybe  [0, 1, 0]\n",
      "IF feature_51>=1.0 AND feature_7>=1.0 THEN y=No  [2, 0, 0]\n",
      "IF feature_51>=1.0 AND feature_20>=1.0 THEN y=Yes  [0, 0, 1]\n",
      "IF feature_51>=1.0 AND feature_23>=1.0 THEN y=No  [1, 0, 0]\n",
      "IF feature_51>=1.0 AND feature_31>=1.0 THEN y=Yes  [0, 0, 1]\n",
      "IF feature_24>=1.0 AND feature_25>=1.0 THEN y=Maybe  [0, 1, 0]\n",
      "IF feature_24>=1.0 AND feature_64>=1.0 THEN y=Maybe  [0, 1, 0]\n",
      "IF feature_167>=1.0 AND feature_20>=1.0 THEN y=Yes  [0, 0, 6]\n",
      "IF feature_48>=1.0 AND feature_12>=1.0 AND feature_13>=1.0 THEN y=No  [4, 0, 0]\n",
      "IF feature_168>=1.0 AND feature_4>=1.0 AND feature_3>=33.0 THEN y=Yes  [0, 0, 4]\n",
      "IF feature_168>=1.0 AND feature_10>=1.0 THEN y=No  [1, 0, 0]\n",
      "IF feature_168>=1.0 AND feature_31>=1.0 THEN y=Yes  [0, 0, 5]\n",
      "IF feature_168>=1.0 AND feature_20>=1.0 THEN y=Maybe  [0, 1, 0]\n",
      "IF feature_47>=1.0 AND feature_167>=1.0 THEN y=Maybe  [0, 4, 0]\n",
      "IF feature_168>=1.0 AND feature_3>=46.0 THEN y=Maybe  [0, 1, 0]\n",
      "IF feature_168>=1.0 AND feature_3>=33.0 THEN y=Yes  [0, 0, 6]\n",
      "IF feature_168>=1.0 AND feature_3>=31.0 THEN y=Maybe  [0, 1, 0]\n",
      "IF feature_168>=1.0 AND feature_3>=28.0 THEN y=Yes  [0, 0, 5]\n",
      "IF feature_168>=1.0 AND feature_12>=1.0 THEN y=Yes  [0, 0, 1]\n",
      "IF feature_168>=1.0 AND feature_16>=1.0 THEN y=Yes  [0, 0, 1]\n",
      "IF feature_48>=1.0 AND feature_168>=1.0 THEN y=Yes  [0, 0, 1]\n",
      "IF feature_48>=1.0 AND feature_24>=1.0 THEN y=No  [6, 0, 0]\n",
      "IF feature_168>=1.0 AND feature_14>=1.0 THEN y=Maybe  [0, 1, 0]\n",
      "IF feature_168>=1.0 AND feature_4>=1.0 THEN y=Yes  [0, 0, 1]\n",
      "IF feature_168>=1.0 AND feature_34>=1.0 THEN y=Maybe  [0, 1, 0]\n",
      "IF feature_168>=1.0 THEN y=Yes  [0, 0, 1]\n",
      "IF feature_20>=1.0 AND feature_23>=1.0 THEN y=Maybe  [0, 1, 0]\n",
      "IF feature_20>=1.0 AND feature_24>=1.0 THEN y=Maybe  [0, 1, 0]\n",
      "IF feature_1>=1.0 AND feature_20>=1.0 THEN y=No  [1, 0, 0]\n",
      "IF feature_64>=1.0 AND feature_4>=1.0 THEN y=Yes  [0, 0, 2]\n",
      "IF feature_64>=1.0 AND feature_7>=1.0 THEN y=No  [1, 0, 0]\n",
      "IF feature_167>=1.0 AND feature_64>=1.0 THEN y=No  [1, 0, 0]\n",
      "IF feature_64>=1.0 AND feature_13>=1.0 THEN y=No  [2, 0, 0]\n",
      "IF feature_1>=1.0 AND feature_64>=1.0 THEN y=Yes  [0, 0, 1]\n",
      "IF feature_64>=1.0 AND feature_16>=1.0 THEN y=No  [1, 0, 0]\n",
      "IF feature_64>=1.0 THEN y=Maybe  [0, 1, 0]\n",
      "IF feature_172>=1.0 AND feature_27>=1.0 THEN y=Maybe  [0, 2, 0]\n",
      "IF feature_45>=1.0 AND feature_20>=1.0 THEN y=No  [4, 0, 0]\n",
      "IF feature_20>=1.0 AND feature_3>=30.0 THEN y=Maybe  [0, 4, 0]\n",
      "IF feature_20>=1.0 THEN y=Yes  [0, 0, 1]\n",
      "IF feature_24>=1.0 AND feature_26>=1.0 THEN y=Maybe  [0, 3, 0]\n",
      "IF feature_24>=1.0 AND feature_95>=1.0 THEN y=Yes  [0, 0, 1]\n",
      "IF feature_167>=1.0 AND feature_95>=1.0 THEN y=Maybe  [0, 1, 0]\n",
      "IF feature_95>=1.0 AND feature_18>=1.0 THEN y=Yes  [0, 0, 1]\n",
      "IF feature_95>=1.0 THEN y=No  [1, 0, 0]\n",
      "IF feature_49>=1.0 AND feature_39>=1.0 THEN y=Yes  [0, 0, 3]\n",
      "IF feature_39>=1.0 AND feature_4>=1.0 THEN y=No  [1, 0, 0]\n",
      "IF feature_39>=1.0 THEN y=Maybe  [0, 2, 0]\n",
      "IF feature_48>=1.0 AND feature_37>=1.0 AND feature_3>=29.0 THEN y=No  [10, 0, 0]\n",
      "IF feature_3>=63.0 THEN y=No  [1, 0, 0]\n",
      "IF feature_3>=49.0 AND feature_3>=61.0 THEN y=Maybe  [0, 1, 0]\n",
      "IF feature_3>=47.0 AND feature_3>=49.0 THEN y=Yes  [0, 0, 2]\n",
      "IF feature_3>=47.0 AND feature_4>=1.0 THEN y=No  [1, 0, 0]\n",
      "IF feature_3>=47.0 AND feature_16>=1.0 THEN y=No  [1, 0, 0]\n",
      "IF feature_180>=1.0 AND feature_3>=45.0 THEN y=Maybe  [0, 2, 0]\n",
      "IF feature_40>=1.0 AND feature_7>=1.0 THEN y=Maybe  [0, 2, 0]\n",
      "IF feature_40>=1.0 AND feature_10>=1.0 THEN y=No  [2, 0, 0]\n",
      "IF feature_40>=1.0 AND feature_12>=1.0 THEN y=Yes  [0, 0, 1]\n",
      "IF feature_40>=1.0 AND feature_14>=1.0 THEN y=No  [1, 0, 0]\n",
      "IF feature_40>=1.0 AND feature_44>=1.0 THEN y=No  [1, 0, 0]\n",
      "IF feature_40>=1.0 AND feature_45>=1.0 THEN y=No  [1, 0, 0]\n",
      "IF feature_40>=1.0 THEN y=Yes  [0, 0, 1]\n",
      "IF feature_180>=1.0 AND feature_3>=42.0 THEN y=No  [3, 0, 0]\n",
      "IF feature_47>=1.0 AND feature_3>=42.0 THEN y=Yes  [0, 0, 1]\n",
      "IF feature_3>=40.0 AND feature_7>=1.0 THEN y=Maybe  [0, 3, 0]\n",
      "IF feature_167>=1.0 AND feature_72>=1.0 THEN y=Yes  [0, 0, 4]\n",
      "IF feature_72>=1.0 AND feature_2>=1.0 THEN y=Maybe  [0, 2, 0]\n",
      "IF feature_72>=1.0 AND feature_3>=33.0 THEN y=No  [3, 0, 0]\n",
      "IF feature_72>=1.0 AND feature_7>=1.0 THEN y=Maybe  [0, 1, 0]\n",
      "IF feature_72>=1.0 AND feature_11>=1.0 THEN y=No  [1, 0, 0]\n",
      "IF feature_72>=1.0 AND feature_12>=1.0 THEN y=No  [1, 0, 0]\n",
      "IF feature_72>=1.0 AND feature_4>=1.0 THEN y=Maybe  [0, 2, 0]\n",
      "IF feature_72>=1.0 AND feature_13>=1.0 THEN y=Maybe  [0, 3, 0]\n",
      "IF feature_27>=1.0 AND feature_10>=1.0 THEN y=No  [1, 0, 0]\n",
      "IF feature_27>=1.0 AND feature_3>=39.0 THEN y=No  [1, 0, 0]\n",
      "IF feature_27>=1.0 THEN y=Maybe  [0, 1, 0]\n",
      "IF feature_72>=1.0 AND feature_22>=1.0 THEN y=No  [1, 0, 0]\n",
      "IF feature_72>=1.0 THEN y=Maybe  [0, 1, 0]\n",
      "IF feature_48>=1.0 AND feature_10>=1.0 THEN y=No  [3, 0, 0]\n",
      "IF feature_48>=1.0 AND feature_23>=1.0 THEN y=No  [5, 0, 0]\n",
      "IF feature_48>=1.0 AND feature_12>=1.0 THEN y=Maybe  [0, 1, 0]\n",
      "IF feature_48>=1.0 AND feature_29>=1.0 THEN y=No  [5, 0, 0]\n",
      "IF feature_47>=1.0 AND feature_23>=1.0 THEN y=Maybe  [0, 3, 0]\n",
      "IF feature_48>=1.0 AND feature_3>=36.0 THEN y=Maybe  [0, 2, 0]\n",
      "IF feature_48>=1.0 AND feature_7>=1.0 THEN y=No  [3, 0, 0]\n",
      "IF feature_48>=1.0 AND feature_16>=1.0 THEN y=No  [1, 0, 0]\n",
      "IF feature_24>=1.0 AND feature_3>=47.0 THEN y=No  [1, 0, 0]\n",
      "IF feature_3>=40.0 AND feature_4>=1.0 THEN y=Yes  [0, 0, 4]\n",
      "IF feature_48>=1.0 AND feature_26>=1.0 THEN y=No  [1, 0, 0]\n",
      "IF feature_48>=1.0 AND feature_110>=1.0 THEN y=Maybe  [0, 1, 0]\n",
      "IF feature_48>=1.0 AND feature_59>=1.0 THEN y=No  [1, 0, 0]\n",
      "IF feature_46>=1.0 AND feature_19>=1.0 THEN y=No  [2, 0, 0]\n",
      "IF feature_19>=1.0 AND feature_3>=39.0 THEN y=Yes  [0, 0, 2]\n",
      "IF feature_19>=1.0 THEN y=Maybe  [0, 3, 0]\n",
      "IF feature_23>=1.0 AND feature_3>=36.0 THEN y=Maybe  [0, 2, 0]\n",
      "IF feature_167>=1.0 AND feature_23>=1.0 THEN y=Yes  [0, 0, 2]\n",
      "IF feature_46>=1.0 AND feature_23>=1.0 THEN y=Yes  [0, 0, 3]\n",
      "IF feature_23>=1.0 AND feature_2>=1.0 THEN y=No  [1, 0, 0]\n",
      "IF feature_23>=1.0 THEN y=Maybe  [0, 1, 0]\n",
      "IF feature_16>=1.0 AND feature_12>=1.0 THEN y=Maybe  [0, 2, 0]\n",
      "IF feature_16>=1.0 AND feature_26>=1.0 THEN y=Yes  [0, 0, 2]\n",
      "IF feature_48>=1.0 AND feature_51>=1.0 THEN y=Maybe  [0, 1, 0]\n",
      "IF feature_48>=1.0 AND feature_37>=1.0 THEN y=No  [1, 0, 0]\n",
      "IF feature_56>=1.0 AND feature_12>=1.0 THEN y=No  [1, 0, 0]\n",
      "IF feature_56>=1.0 AND feature_26>=1.0 THEN y=No  [2, 0, 0]\n",
      "IF feature_172>=1.0 AND feature_26>=1.0 THEN y=Yes  [0, 0, 3]\n",
      "IF feature_172>=1.0 AND feature_110>=1.0 THEN y=Yes  [0, 0, 3]\n",
      "IF feature_56>=1.0 AND feature_14>=1.0 THEN y=Yes  [0, 0, 3]\n",
      "IF feature_3>=43.0 AND feature_10>=1.0 THEN y=Yes  [0, 0, 1]\n",
      "IF feature_56>=1.0 AND feature_45>=1.0 THEN y=Maybe  [0, 1, 0]\n",
      "IF feature_167>=1.0 AND feature_35>=1.0 AND feature_7>=1.0 THEN y=Yes  [0, 0, 2]\n",
      "IF feature_167>=1.0 AND feature_35>=1.0 AND feature_12>=1.0 THEN y=Yes  [0, 0, 1]\n",
      "IF feature_167>=1.0 AND feature_35>=1.0 AND feature_22>=1.0 THEN y=Yes  [0, 0, 3]\n",
      "IF feature_167>=1.0 AND feature_3>=46.0 THEN y=Maybe  [0, 1, 0]\n",
      "IF feature_3>=43.0 THEN y=Yes  [0, 0, 2]\n",
      "IF feature_167>=1.0 AND feature_58>=1.0 THEN y=Yes  [0, 0, 4]\n",
      "IF feature_167>=1.0 AND feature_3>=39.0 THEN y=Yes  [0, 0, 5]\n",
      "IF feature_56>=1.0 AND feature_7>=1.0 THEN y=No  [1, 0, 0]\n",
      "IF feature_56>=1.0 AND feature_37>=1.0 THEN y=Yes  [0, 0, 1]\n",
      "IF feature_56>=1.0 AND feature_10>=1.0 THEN y=Maybe  [0, 2, 0]\n",
      "IF feature_167>=1.0 AND feature_7>=1.0 THEN y=Yes  [0, 0, 1]\n",
      "IF feature_56>=1.0 AND feature_30>=1.0 THEN y=Yes  [0, 0, 2]\n",
      "IF feature_56>=1.0 AND feature_21>=1.0 THEN y=Maybe  [0, 1, 0]\n",
      "IF feature_56>=1.0 AND feature_34>=1.0 THEN y=Maybe  [0, 1, 0]\n",
      "IF feature_56>=1.0 AND feature_3>=41.0 THEN y=Maybe  [0, 1, 0]\n",
      "IF feature_56>=1.0 AND feature_5>=1.0 THEN y=Yes  [0, 0, 3]\n",
      "IF feature_3>=39.0 AND feature_3>=40.0 THEN y=No  [1, 0, 0]\n",
      "IF feature_3>=39.0 AND feature_14>=1.0 THEN y=Maybe  [0, 1, 0]\n",
      "IF feature_3>=39.0 AND feature_10>=1.0 THEN y=No  [1, 0, 0]\n",
      "IF feature_56>=1.0 AND feature_13>=1.0 THEN y=Yes  [0, 0, 1]\n",
      "IF feature_56>=1.0 THEN y=Maybe  [0, 1, 0]\n",
      "IF feature_167>=1.0 AND feature_35>=1.0 THEN y=Yes  [0, 0, 6]\n",
      "IF feature_26>=1.0 AND feature_7>=1.0 THEN y=No  [1, 0, 0]\n",
      "IF feature_26>=1.0 AND feature_10>=1.0 THEN y=No  [2, 0, 0]\n",
      "IF feature_26>=1.0 THEN y=Maybe  [0, 3, 0]\n",
      "IF feature_167>=1.0 AND feature_12>=1.0 THEN y=Yes  [0, 0, 1]\n",
      "IF feature_167>=1.0 AND feature_14>=1.0 THEN y=Yes  [0, 0, 1]\n",
      "IF feature_167>=1.0 AND feature_21>=1.0 THEN y=Yes  [0, 0, 3]\n",
      "IF feature_47>=1.0 AND feature_3>=38.0 THEN y=No  [2, 0, 0]\n",
      "IF feature_47>=1.0 AND feature_3>=35.0 THEN y=Maybe  [0, 5, 0]\n",
      "IF feature_172>=1.0 AND feature_10>=1.0 THEN y=Yes  [0, 0, 3]\n",
      "IF feature_47>=1.0 AND feature_7>=1.0 THEN y=No  [2, 0, 0]\n",
      "IF feature_7>=1.0 AND feature_3>=35.0 THEN y=Maybe  [0, 1, 0]\n",
      "IF feature_7>=1.0 THEN y=Yes  [0, 0, 2]\n",
      "IF feature_47>=1.0 AND feature_59>=1.0 THEN y=Maybe  [0, 5, 0]\n",
      "IF feature_172>=1.0 AND feature_47>=1.0 THEN y=Yes  [0, 0, 1]\n",
      "IF feature_47>=1.0 AND feature_35>=1.0 THEN y=No  [2, 0, 0]\n",
      "IF feature_172>=1.0 AND feature_50>=1.0 THEN y=Yes  [0, 0, 6]\n",
      "IF feature_47>=1.0 AND feature_45>=1.0 THEN y=No  [1, 0, 0]\n",
      "IF feature_47>=1.0 AND feature_55>=1.0 THEN y=No  [1, 0, 0]\n",
      "IF feature_47>=1.0 AND feature_37>=1.0 THEN y=Maybe  [0, 2, 0]\n",
      "IF feature_110>=1.0 AND feature_3>=36.0 THEN y=Yes  [0, 0, 1]\n",
      "IF feature_110>=1.0 THEN y=No  [2, 0, 0]\n",
      "IF feature_47>=1.0 AND feature_3>=34.0 THEN y=Yes  [0, 0, 1]\n",
      "IF feature_47>=1.0 AND feature_10>=1.0 THEN y=Maybe  [0, 1, 0]\n",
      "IF feature_47>=1.0 AND feature_3>=29.0 THEN y=Maybe  [0, 3, 0]\n",
      "IF feature_47>=1.0 AND feature_4>=1.0 THEN y=No  [1, 0, 0]\n",
      "IF feature_47>=1.0 AND feature_13>=1.0 THEN y=Maybe  [0, 1, 0]\n",
      "IF feature_47>=1.0 THEN y=No  [1, 0, 0]\n",
      "IF feature_31>=1.0 AND feature_4>=1.0 THEN y=Maybe  [0, 2, 0]\n",
      "IF feature_31>=1.0 AND feature_12>=1.0 THEN y=Maybe  [0, 1, 0]\n",
      "IF feature_4>=1.0 AND feature_14>=1.0 THEN y=No  [1, 0, 0]\n",
      "IF feature_10>=1.0 AND feature_4>=1.0 THEN y=Yes  [0, 0, 1]\n",
      "IF feature_167>=1.0 AND feature_4>=1.0 THEN y=No  [1, 0, 0]\n",
      "IF feature_167>=1.0 THEN y=Maybe  [0, 2, 0]\n",
      "IF feature_10>=1.0 AND feature_3>=33.0 THEN y=Yes  [0, 0, 2]\n",
      "IF feature_10>=1.0 THEN y=Maybe  [0, 1, 0]\n",
      "IF feature_3>=34.0 AND feature_3>=39.0 THEN y=No  [1, 0, 0]\n",
      "IF feature_12>=1.0 AND feature_3>=31.0 THEN y=Yes  [0, 0, 2]\n",
      "IF feature_12>=1.0 AND feature_4>=1.0 THEN y=Yes  [0, 0, 1]\n",
      "IF feature_12>=1.0 AND feature_3>=25.0 THEN y=Maybe  [0, 2, 0]\n",
      "IF feature_12>=1.0 THEN y=Yes  [0, 0, 1]\n",
      "IF feature_44>=1.0 AND feature_16>=1.0 THEN y=Maybe  [0, 1, 0]\n",
      "IF feature_44>=1.0 AND feature_31>=1.0 THEN y=Maybe  [0, 1, 0]\n",
      "IF feature_44>=1.0 AND feature_22>=1.0 THEN y=No  [1, 0, 0]\n",
      "IF feature_44>=1.0 AND feature_3>=31.0 THEN y=Maybe  [0, 2, 0]\n",
      "IF feature_44>=1.0 THEN y=No  [1, 0, 0]\n",
      "IF feature_59>=1.0 AND feature_13>=1.0 THEN y=No  [1, 0, 0]\n",
      "IF feature_24>=1.0 AND feature_30>=1.0 THEN y=Yes  [0, 0, 1]\n",
      "IF feature_35>=1.0 AND feature_4>=1.0 THEN y=Yes  [0, 0, 1]\n",
      "IF feature_30>=1.0 AND feature_4>=1.0 THEN y=No  [1, 0, 0]\n",
      "IF feature_4>=1.0 AND feature_21>=1.0 THEN y=Yes  [0, 0, 1]\n",
      "IF feature_4>=1.0 THEN y=Maybe  [0, 1, 0]\n",
      "IF feature_24>=1.0 AND feature_16>=1.0 THEN y=Yes  [0, 0, 1]\n",
      "IF feature_24>=1.0 AND feature_34>=1.0 THEN y=Yes  [0, 0, 1]\n",
      "IF feature_24>=1.0 THEN y=Maybe  [0, 1, 0]\n",
      "IF feature_51>=1.0 THEN y=No  [1, 0, 0]\n",
      "IF feature_59>=1.0 THEN y=No  [1, 0, 0]\n",
      "IF feature_33>=1.0 AND feature_3>=30.0 THEN y=No  [3, 0, 0]\n",
      "IF feature_29>=1.0 THEN y=Yes  [0, 0, 1]\n",
      "IF feature_3>=31.0 THEN y=Yes  [0, 0, 2]\n",
      "IF feature_1>=1.0 THEN y=Maybe  [0, 1, 0]\n",
      "IF feature_3>=29.0 THEN y=Maybe  [0, 2, 0]\n",
      "IF feature_2>=1.0 THEN y=No  [1, 0, 0]\n",
      "IF feature_3>=26.0 THEN y=No  [3, 0, 0]\n",
      "IF feature_1<=0.0 THEN y=Yes  [0, 0, 1]\n",
      "IF TRUE THEN y=Yes  [371, 225, 397]\n"
     ]
    }
   ],
   "source": [
    "#Rule_List\n",
    "for rule in classifier.rule_list:\n",
    "    print(rule, rule.curr_class_dist.tolist())"
   ]
  },
  {
   "cell_type": "code",
   "execution_count": 218,
   "metadata": {},
   "outputs": [
    {
     "data": {
      "text/plain": [
       "(426,)"
      ]
     },
     "execution_count": 218,
     "metadata": {},
     "output_type": "execute_result"
    }
   ],
   "source": [
    "y_pred_scores = classifier.predict(X_test)\n",
    "Y_pred_rules = np.argmax(y_pred_scores,axis=1)\n",
    "Y_pred_rules.shape"
   ]
  },
  {
   "cell_type": "code",
   "execution_count": 289,
   "metadata": {
    "scrolled": false
   },
   "outputs": [
    {
     "name": "stdout",
     "output_type": "stream",
     "text": [
      "              precision    recall  f1-score   support\n",
      "\n",
      "           0       0.66      0.69      0.67       159\n",
      "           1       0.32      0.30      0.31        96\n",
      "           2       0.69      0.68      0.69       171\n",
      "\n",
      "   micro avg       0.60      0.60      0.60       426\n",
      "   macro avg       0.56      0.56      0.56       426\n",
      "weighted avg       0.60      0.60      0.60       426\n",
      "\n"
     ]
    }
   ],
   "source": [
    "print(classification_report(y_test, Y_pred_rules))"
   ]
  },
  {
   "cell_type": "markdown",
   "metadata": {},
   "source": [
    "## 1.3. Classification - Results and Discussion "
   ]
  },
  {
   "cell_type": "markdown",
   "metadata": {},
   "source": [
    "Comparing the results of the implemented classifiers"
   ]
  },
  {
   "cell_type": "code",
   "execution_count": 290,
   "metadata": {},
   "outputs": [
    {
     "name": "stdout",
     "output_type": "stream",
     "text": [
      "SVM               precision    recall  f1-score   support\n",
      "\n",
      "           0       0.70      0.82      0.75       159\n",
      "           1       0.80      0.29      0.43        96\n",
      "           2       0.74      0.88      0.81       171\n",
      "\n",
      "   micro avg       0.73      0.73      0.73       426\n",
      "   macro avg       0.75      0.66      0.66       426\n",
      "weighted avg       0.74      0.73      0.70       426\n",
      "\n",
      "Log. Reg.               precision    recall  f1-score   support\n",
      "\n",
      "           0       0.75      0.79      0.77       159\n",
      "           1       0.58      0.42      0.48        96\n",
      "           2       0.76      0.85      0.80       171\n",
      "\n",
      "   micro avg       0.73      0.73      0.73       426\n",
      "   macro avg       0.70      0.69      0.69       426\n",
      "weighted avg       0.72      0.73      0.72       426\n",
      "\n",
      "Decision Tree               precision    recall  f1-score   support\n",
      "\n",
      "           0       0.85      0.72      0.78       159\n",
      "           1       0.66      0.50      0.57        96\n",
      "           2       0.72      0.92      0.81       171\n",
      "\n",
      "   micro avg       0.75      0.75      0.75       426\n",
      "   macro avg       0.74      0.71      0.72       426\n",
      "weighted avg       0.76      0.75      0.74       426\n",
      "\n",
      "K-NN               precision    recall  f1-score   support\n",
      "\n",
      "           0       0.69      0.79      0.74       159\n",
      "           1       0.51      0.22      0.31        96\n",
      "           2       0.73      0.87      0.79       171\n",
      "\n",
      "   micro avg       0.69      0.69      0.69       426\n",
      "   macro avg       0.64      0.63      0.61       426\n",
      "weighted avg       0.67      0.69      0.66       426\n",
      "\n",
      "Naive Bayes               precision    recall  f1-score   support\n",
      "\n",
      "           0       0.74      0.23      0.35       159\n",
      "           1       0.36      0.16      0.22        96\n",
      "           2       0.49      0.95      0.64       171\n",
      "\n",
      "   micro avg       0.50      0.50      0.50       426\n",
      "   macro avg       0.53      0.45      0.40       426\n",
      "weighted avg       0.55      0.50      0.44       426\n",
      "\n",
      "Rules               precision    recall  f1-score   support\n",
      "\n",
      "           0       0.66      0.69      0.67       159\n",
      "           1       0.32      0.30      0.31        96\n",
      "           2       0.69      0.68      0.69       171\n",
      "\n",
      "   micro avg       0.60      0.60      0.60       426\n",
      "   macro avg       0.56      0.56      0.56       426\n",
      "weighted avg       0.60      0.60      0.60       426\n",
      "\n"
     ]
    }
   ],
   "source": [
    "print(\"SVM\", classification_report(y_test, Y_pred_svm))\n",
    "print(\"Log. Reg.\", classification_report(y_test, Y_pred_logreg))\n",
    "print(\"Decision Tree\", classification_report(y_test, Y_pred_tree))\n",
    "print(\"K-NN\", classification_report(y_test, Y_pred_knn))\n",
    "print(\"Naive Bayes\", classification_report(y_test, Y_pred_nb))\n",
    "print('Rules', classification_report(y_test, Y_pred_rules))"
   ]
  },
  {
   "cell_type": "code",
   "execution_count": 292,
   "metadata": {},
   "outputs": [
    {
     "name": "stdout",
     "output_type": "stream",
     "text": [
      "SVM accuracy: 0.7253521126760564\n",
      "Log. Reg accuracy: 0.7300469483568075\n",
      "Decision Tree accuracy: 0.7511737089201878\n",
      "K-NN accuracy: 0.6924882629107981\n",
      "Naive Bayes accuracy: 0.5023474178403756\n",
      "Rules accuracy: 0.5985915492957746\n"
     ]
    }
   ],
   "source": [
    "from sklearn.metrics import accuracy_score\n",
    "\n",
    "print(\"SVM accuracy:\", accuracy_score(y_test, Y_pred_svm))\n",
    "print(\"Log. Reg accuracy:\", accuracy_score(y_test, Y_pred_logreg))\n",
    "print(\"Decision Tree accuracy:\", accuracy_score(y_test, Y_pred_tree))\n",
    "print(\"K-NN accuracy:\", accuracy_score(y_test, Y_pred_knn))\n",
    "print(\"Naive Bayes accuracy:\", accuracy_score(y_test, Y_pred_nb))\n",
    "print('Rules accuracy:', accuracy_score(y_test, Y_pred_rules))"
   ]
  },
  {
   "cell_type": "markdown",
   "metadata": {},
   "source": [
    "#### Inspecting Confusion matrices"
   ]
  },
  {
   "cell_type": "code",
   "execution_count": 158,
   "metadata": {},
   "outputs": [],
   "source": [
    "from sklearn.metrics import confusion_matrix\n",
    "import itertools\n",
    "\n",
    "class_names = [\"No\", \"Maybe\", \"Yes\"]\n",
    "\n",
    "def plot_confusion_matrix(cm, classes,\n",
    "                          normalize=False,\n",
    "                          title='Confusion matrix',\n",
    "                          cmap=plt.cm.Blues):\n",
    "    \"\"\"\n",
    "    This function prints and plots the confusion matrix.\n",
    "    Normalization can be applied by setting `normalize=True`.\n",
    "    \"\"\"\n",
    "    if normalize:\n",
    "        cm = cm.astype('float') / cm.sum(axis=1)[:, np.newaxis]\n",
    "        print(\"Normalized confusion matrix\")\n",
    "    else:\n",
    "        print('Confusion matrix, without normalization')\n",
    "\n",
    "    print(cm)\n",
    "\n",
    "    plt.imshow(cm, interpolation='nearest', cmap=cmap)\n",
    "    plt.title(title)\n",
    "    plt.colorbar()\n",
    "    tick_marks = np.arange(len(classes))\n",
    "    plt.xticks(tick_marks, classes, rotation=45)\n",
    "    plt.yticks(tick_marks, classes)\n",
    "\n",
    "    fmt = '.2f' if normalize else 'd'\n",
    "    thresh = cm.max() / 2.\n",
    "    for i, j in itertools.product(range(cm.shape[0]), range(cm.shape[1])):\n",
    "        plt.text(j, i, format(cm[i, j], fmt),\n",
    "                 horizontalalignment=\"center\",\n",
    "                 color=\"white\" if cm[i, j] > thresh else \"black\")\n",
    "\n",
    "    plt.ylabel('True label')\n",
    "    plt.xlabel('Predicted label')\n",
    "    plt.tight_layout()"
   ]
  },
  {
   "cell_type": "markdown",
   "metadata": {},
   "source": [
    "#### SVM Confusion Matrix"
   ]
  },
  {
   "cell_type": "code",
   "execution_count": 159,
   "metadata": {},
   "outputs": [
    {
     "name": "stdout",
     "output_type": "stream",
     "text": [
      "Confusion matrix, without normalization\n",
      "[[130   3  26]\n",
      " [ 41  28  27]\n",
      " [ 16   4 151]]\n"
     ]
    },
    {
     "data": {
      "image/png": "[encoded data removed]",
      "text/plain": [
       "<Figure size 432x288 with 2 Axes>"
      ]
     },
     "metadata": {},
     "output_type": "display_data"
    }
   ],
   "source": [
    "cnf_matrix = confusion_matrix(y_test, Y_pred_svm)\n",
    "np.set_printoptions(precision=2)\n",
    "\n",
    "plt.figure()\n",
    "plot_confusion_matrix(cnf_matrix, classes=class_names,\n",
    "                      title='SVM Confusion matrix')"
   ]
  },
  {
   "cell_type": "markdown",
   "metadata": {},
   "source": [
    "#### Logistic Regression Confusion Matrix"
   ]
  },
  {
   "cell_type": "code",
   "execution_count": 230,
   "metadata": {},
   "outputs": [
    {
     "name": "stdout",
     "output_type": "stream",
     "text": [
      "Confusion matrix, without normalization\n",
      "[[126  13  20]\n",
      " [ 31  40  25]\n",
      " [ 10  16 145]]\n"
     ]
    },
    {
     "data": {
      "image/png": "[encoded data removed]",
      "text/plain": [
       "<Figure size 432x288 with 2 Axes>"
      ]
     },
     "metadata": {},
     "output_type": "display_data"
    }
   ],
   "source": [
    "cnf_matrix = confusion_matrix(y_test, Y_pred_logreg)\n",
    "np.set_printoptions(precision=2)\n",
    "\n",
    "plt.figure()\n",
    "plot_confusion_matrix(cnf_matrix, classes=class_names,\n",
    "                      title='Log. Reg. Confusion matrix')"
   ]
  },
  {
   "cell_type": "markdown",
   "metadata": {},
   "source": [
    "#### Decision Tree Confusion Matrix"
   ]
  },
  {
   "cell_type": "code",
   "execution_count": 231,
   "metadata": {},
   "outputs": [
    {
     "name": "stdout",
     "output_type": "stream",
     "text": [
      "Confusion matrix, without normalization\n",
      "[[115  15  29]\n",
      " [ 16  48  32]\n",
      " [  4  10 157]]\n"
     ]
    },
    {
     "data": {
      "image/png": "[encoded data removed]",
      "text/plain": [
       "<Figure size 432x288 with 2 Axes>"
      ]
     },
     "metadata": {},
     "output_type": "display_data"
    }
   ],
   "source": [
    "cnf_matrix = confusion_matrix(y_test, Y_pred_tree)\n",
    "np.set_printoptions(precision=2)\n",
    "\n",
    "plt.figure()\n",
    "plot_confusion_matrix(cnf_matrix, classes=class_names,\n",
    "                      title='Decision Tree Confusion matrix')"
   ]
  },
  {
   "cell_type": "markdown",
   "metadata": {},
   "source": [
    "#### K-NN Confusion Matrix"
   ]
  },
  {
   "cell_type": "code",
   "execution_count": 232,
   "metadata": {},
   "outputs": [
    {
     "name": "stdout",
     "output_type": "stream",
     "text": [
      "Confusion matrix, without normalization\n",
      "[[126  11  22]\n",
      " [ 42  21  33]\n",
      " [ 14   9 148]]\n"
     ]
    },
    {
     "data": {
      "image/png": "[encoded data removed]",
      "text/plain": [
       "<Figure size 432x288 with 2 Axes>"
      ]
     },
     "metadata": {},
     "output_type": "display_data"
    }
   ],
   "source": [
    "cnf_matrix = confusion_matrix(y_test, Y_pred_knn)\n",
    "np.set_printoptions(precision=2)\n",
    "\n",
    "plt.figure()\n",
    "plot_confusion_matrix(cnf_matrix, classes=class_names,\n",
    "                      title='K-NN Confusion matrix')"
   ]
  },
  {
   "cell_type": "markdown",
   "metadata": {},
   "source": [
    "#### NB Confusion Matrix"
   ]
  },
  {
   "cell_type": "code",
   "execution_count": 236,
   "metadata": {},
   "outputs": [
    {
     "name": "stdout",
     "output_type": "stream",
     "text": [
      "Confusion matrix, without normalization\n",
      "[[ 37  21 101]\n",
      " [ 10  15  71]\n",
      " [  3   6 162]]\n"
     ]
    },
    {
     "data": {
      "image/png": "[encoded data removed]",
      "text/plain": [
       "<Figure size 432x288 with 2 Axes>"
      ]
     },
     "metadata": {},
     "output_type": "display_data"
    }
   ],
   "source": [
    "cnf_matrix = confusion_matrix(y_test, Y_pred_nb)\n",
    "np.set_printoptions(precision=2)\n",
    "\n",
    "plt.figure()\n",
    "plot_confusion_matrix(cnf_matrix, classes=class_names,\n",
    "                      title='Naive Bayes Confusion matrix')"
   ]
  },
  {
   "cell_type": "markdown",
   "metadata": {},
   "source": [
    "#### Final conclusions"
   ]
  },
  {
   "cell_type": "markdown",
   "metadata": {},
   "source": [
    "Comparing all classifiers we concluded that decision tree is the best classifier. "
   ]
  },
  {
   "cell_type": "markdown",
   "metadata": {},
   "source": [
    "## Task 2 (Unsupervised Learning) - Charactering people with mental health disorders"
   ]
  },
  {
   "cell_type": "markdown",
   "metadata": {},
   "source": [
    "In this task you should **use unsupervised learning algorithms and try to characterize people with mental health disorders**:\n",
    "* Use association rule mining to find **associations between features and mental health disorders**.\n",
    "* Use **clustering algorithms to find groups describing similar people**, for example, is it possible to find groups of people with the same/similar mental health disorders.\n",
    "* **Be creative and define your own unsupervised analysis!** What would it be interesting to find out ?"
   ]
  },
  {
   "cell_type": "markdown",
   "metadata": {},
   "source": [
    "## 2.1. Preprocessing Data for Association Rule Mining"
   ]
  },
  {
   "cell_type": "markdown",
   "metadata": {},
   "source": [
    "..."
   ]
  },
  {
   "cell_type": "markdown",
   "metadata": {},
   "source": [
    "## 2.2. Finding Associations"
   ]
  },
  {
   "cell_type": "markdown",
   "metadata": {},
   "source": [
    "..."
   ]
  },
  {
   "cell_type": "markdown",
   "metadata": {},
   "source": [
    "## 2.3 Association Rules - Results and Discussion "
   ]
  },
  {
   "cell_type": "markdown",
   "metadata": {},
   "source": [
    "..."
   ]
  },
  {
   "cell_type": "markdown",
   "metadata": {},
   "source": [
    "## 2.4. Preprocess Data for Clustering"
   ]
  },
  {
   "cell_type": "markdown",
   "metadata": {},
   "source": [
    "..."
   ]
  },
  {
   "cell_type": "markdown",
   "metadata": {
    "collapsed": true
   },
   "source": [
    "## 2.5. Finding Groups"
   ]
  },
  {
   "cell_type": "markdown",
   "metadata": {},
   "source": [
    "..."
   ]
  },
  {
   "cell_type": "markdown",
   "metadata": {},
   "source": [
    "## 2.6. Clustering - Results and Discussion "
   ]
  },
  {
   "cell_type": "markdown",
   "metadata": {},
   "source": [
    "..."
   ]
  },
  {
   "cell_type": "markdown",
   "metadata": {},
   "source": [
    "## 3. Final Comments and Conclusions"
   ]
  },
  {
   "cell_type": "markdown",
   "metadata": {},
   "source": [
    "..."
   ]
  }
 ],
 "metadata": {
  "kernelspec": {
   "display_name": "Python 3",
   "language": "python",
   "name": "python3"
  },
  "language_info": {
   "codemirror_mode": {
    "name": "ipython",
    "version": 3
   },
   "file_extension": ".py",
   "mimetype": "text/x-python",
   "name": "python",
   "nbconvert_exporter": "python",
   "pygments_lexer": "ipython3",
   "version": "3.7.0"
  }
 },
 "nbformat": 4,
 "nbformat_minor": 2
}
