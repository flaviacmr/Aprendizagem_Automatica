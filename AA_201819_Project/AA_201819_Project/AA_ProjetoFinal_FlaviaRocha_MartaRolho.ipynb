{
 "cells": [
  {
   "cell_type": "markdown",
   "metadata": {},
   "source": [
    "# Machine Learning / Aprendizagem Automática\n",
    "\n",
    "## Sara C. Madeira, 2018/19\n",
    "\n",
    "# ML Project  - Learning from Mental Health in Tech Surveys "
   ]
  },
  {
   "cell_type": "markdown",
   "metadata": {},
   "source": [
    "## Logistics\n",
    "\n",
    "**Students are encouraged to work in teams of 4 people**. \n",
    "\n",
    "Projects with smaller teams are allowed, but will not have better grades for this reason. \n",
    "\n",
    "The quality of the project will dictate its grade, not the number of people working.\n",
    "\n",
    "**The project's solution should be uploaded in Moodle before the end of January, 9th 2019 (last day before the exams season).** \n",
    "\n",
    "**Other deadline date might be considered provided the majority of the students agree with it.**\n",
    "\n",
    "Students should **upload a `.zip` file** containing all the files necessary for project evaluation. \n",
    "\n",
    "**It is mandatory to produce a Jupyter notebook containing code and text/images/tables/etc describing the solution and the results.**\n",
    "\n",
    "**Decisions should be fundamented and results should be critically discussed.**"
   ]
  },
  {
   "cell_type": "markdown",
   "metadata": {},
   "source": [
    "## Tools\n",
    "\n",
    "You should use [Python 3](https://www.python.org) and [Jupyter Notebook](http://jupyter.org), together with **[Scikit-learn](http://scikit-learn.org/stable/)**, **[Orange3](https://orange.biolab.si)**, or **both**.\n",
    "\n",
    "**[Orange3](https://orange.biolab.si)** can be used through its **[programmatic version](https://docs.orange.biolab.si/3/data-mining-library/)**, by importing and using its packages, or throught its **workflow version**. \n",
    "\n",
    "If you use workflows you have to deliver the workflow files and explain the options taken in each widget in your notebook."
   ]
  },
  {
   "cell_type": "markdown",
   "metadata": {},
   "source": [
    "## Dataset\n",
    "\n",
    "The dataset to be analysed is **`mental-heath-in-tech-2016.csv`**, made avaliable together with this project description. \n",
    "\n",
    "This dataset, downloaded from [Kaggle](https://www.kaggle.com), contains data from [OSMI Mental Health in Tech Survey](https://www.kaggle.com/osmi/mental-health-in-tech-survey), collected during a survey aiming at measuring **attitudes towards mental health and frequency of mental health disorders in the Tech workplace**, carried out in 2016.\n",
    "\n",
    "The **1433 surveys/instances** are described by **62 categorical/numerical features**, where the following questions were asked:\n",
    "\n",
    "* Q1 - \"Are you self-employed?\"\n",
    "* Q2 - \"How many employees does your company or organization have?\"\n",
    "* Q3 - \"Is your employer primarily a tech company/organization?\"\n",
    "* Q4 - \"Is your primary role within your company related to tech/IT?\"\n",
    "* Q5 - \"Does your employer provide mental health benefits as part of healthcare coverage?\"\n",
    "* Q6 - \"Do you know the options for mental health care available under your employer-provided coverage?\"\n",
    "* Q7 - \"Has your employer ever formally discussed mental health (for example, as part of a wellness campaign or other official communication)?\"\n",
    "* Q8 - \"Does your employer offer resources to learn more about mental health concerns and options for seeking help?\"\n",
    "* Q9 - \"Is your anonymity protected if you choose to take advantage of mental health or substance abuse treatment resources provided by your employer?\"\n",
    "* Q10 - \"If a mental health issue prompted you to request a medical leave from work, asking for that leave would be:...\"\n",
    "* Q11 - \"Do you think that discussing a mental health disorder with your employer would have negative consequences?\"\n",
    "* Q12 - \"Do you think that discussing a physical health issue with your employer would have negative consequences?\"\n",
    "* Q13 - \"Would you feel comfortable discussing a mental health disorder with your coworkers?\"\n",
    "* Q14 - \"Would you feel comfortable discussing a mental health disorder with your direct supervisor(s)?\"\n",
    "* Q15 - \"Do you feel that your employer takes mental health as seriously as physical health?\"\n",
    "* Q16 - \"Have you heard of or observed negative consequences for co-workers who have been open about mental health issues in your workplace?\"\n",
    "* Q17 - \"Do you have medical coverage (private insurance or state-provided) which includes treatment of  mental health issues?\"\n",
    "* Q18 - \"Do you know local or online resources to seek help for a mental health disorder?\"\n",
    "* Q19 - \"If you have been diagnosed or treated for a mental health disorder, do you ever reveal this to clients or business contacts?\"\n",
    "* Q20 - \"If you have revealed a mental health issue to a client or business contact, do you believe this has impacted you negatively?\"\n",
    "* Q21 - \"If you have been diagnosed or treated for a mental health disorder, do you ever reveal this to coworkers or employees?\"\n",
    "* Q22 - \"If you have revealed a mental health issue to a coworker or employee, do you believe this has impacted you negatively?\"\n",
    "* Q23 - \"Do you believe your productivity is ever affected by a mental health issue?\"\n",
    "* Q24 - \"If yes, what percentage of your work time (time performing primary or secondary job functions) is affected by a mental health issue?\",\"Do you have previous employers?\"\n",
    "* Q25 - \"Have your previous employers provided mental health benefits?\"\n",
    "* Q26 - \"Were you aware of the options for mental health care provided by your previous employers?\"\n",
    "* Q27 - \"Did your previous employers ever formally discuss mental health (as part of a wellness campaign or other offi8cial communication)?\"\n",
    "* Q29 - \"Did your previous employers provide resources to learn more about mental health issues and how to seek help?\"\n",
    "* Q30 - \"Was your anonymity protected if you chose to take advantage of mental health or substance abuse treatment resources with previous employers?\"\n",
    "* Q31 - \"Do you think that discussing a mental health disorder with previous employers would have negative consequences?\"\n",
    "* Q32 - \"Do you think that discussing a physical health issue with previous employers would have negative consequences?\"\n",
    "* Q33 - \"Would you have been willing to discuss a mental health issue with your previous co-workers?\"\n",
    "* Q34 - \"Would you have been willing to discuss a mental health issue with your direct supervisor(s)?\"\n",
    "* Q35 - \"Did you feel that your previous employers took mental health as seriously as physical health?\"\n",
    "* Q36 - \"Did you hear of or observe negative consequences for co-workers with mental health issues in your previous workplaces?\"\n",
    "* Q37 - \"Would you be willing to bring up a physical health issue with a potential employer in an interview?\"\n",
    "    * Q38 - \"Why or why not?\"\n",
    "* Q39 - \"Would you bring up a mental health issue with a potential employer in an interview?\" \n",
    "    * Q40 - \"Why or why not?\"\n",
    "* Q41 - \"Do you feel that being identified as a person with a mental health issue would hurt your career?\"\n",
    "* Q42 - \"Do you think that team members/co-workers would view you more negatively if they knew you suffered from a mental health issue?\"\n",
    "* Q43 - \"How willing would you be to share with friends and family that you have a mental illness?\"\n",
    "* Q44 - \"Have you observed or experienced an unsupportive or badly handled response to a mental health issue in your current or previous workplace?\"\n",
    "* Q45 - \"Have your observations of how another individual who discussed a mental health disorder made you less likely to reveal a mental health issue yourself in your current workplace?\"\n",
    "* Q46 - \"Do you have a family history of mental illness?\"\n",
    "* Q47 - \"Have you had a mental health disorder in the past?\"\n",
    "* **Q48 - \"Do you currently have a mental health disorder?\"**\n",
    "    * **Q49 - \"If yes, what condition(s) have you been diagnosed with?\"**\n",
    "    * **Q50 - \"If maybe, what condition(s) do you believe you have?\"**\n",
    "* Q51 - \"Have you been diagnosed with a mental health condition by a medical professional?\"\n",
    "    * Q52 - \"If so, what condition(s) were you diagnosed with?\"\n",
    "* Q53 - \"Have you ever sought treatment for a mental health issue from a mental health professional?\"\n",
    "* Q54 - \"If you have a mental health issue, do you feel that it interferes with your work when being treated effectively?\"\n",
    "* Q55 - \"If you have a mental health issue, do you feel that it interferes with your work when NOT being treated effectively?\"\n",
    "* Q56 - \"What is your age?\",\"What is your gender?\"\n",
    "* Q57 - \"What country do you live in?\"\n",
    "    * Q58 - \"What US state or territory do you live in?\"\n",
    "* Q59 - \"What country do you work in?\"\n",
    "    * Q60 - \"What US state or territory do you work in?\"\n",
    "* Q61 - \"Which of the following best describes your work position?\"\n",
    "* Q62 - \"Do you work remotely?\"\n",
    "\n",
    "**IMPORTANT NOTES:**\n",
    "\n",
    "   1. **Some questions might not be asked**. For example, Q49 and Q50 will only be asked if Q48 is \"yes\". \n",
    "   2. Data can contain **errors/typos**, whose correction might improve the analysis.\n",
    "   3. Data can contain **missing values**, that you might decide to fill.\n",
    "   4. **Not all features are necessarily important** for the analysis.\n",
    "   5. Depending on the analysis, **some features might have to be excluded**. An example is when we want to predict a certain feature and there are other features that only have values for certain values of the target."
   ]
  },
  {
   "cell_type": "markdown",
   "metadata": {},
   "source": [
    "# Task 0 (Know your Data) - Preliminary Data Analysis"
   ]
  },
  {
   "cell_type": "markdown",
   "metadata": {},
   "source": [
    "## Libraries"
   ]
  },
  {
   "cell_type": "code",
   "execution_count": 1,
   "metadata": {},
   "outputs": [
    {
     "data": {
      "text/html": [
       "<style>.container { width:80% !important; }</style>"
      ],
      "text/plain": [
       "<IPython.core.display.HTML object>"
      ]
     },
     "metadata": {},
     "output_type": "display_data"
    }
   ],
   "source": [
    "import pandas as pd\n",
    "import numpy as np\n",
    "import re\n",
    "\n",
    "##Plots\n",
    "import matplotlib.pyplot as plt\n",
    "import seaborn as sns\n",
    "from mpl_toolkits.mplot3d import Axes3D\n",
    "\n",
    "#Output\n",
    "pd.set_option('display.max_rows', 500)\n",
    "pd.set_option('display.max_columns', 500)\n",
    "\n",
    "from IPython.core.display import display, HTML\n",
    "display(HTML(\"<style>.container { width:80% !important; }</style>\"))\n",
    "\n",
    "#STATISTICAL TESTS\n",
    "# para cramer's V\n",
    "from   scipy.stats               import ttest_ind\n",
    "from   scipy.stats.distributions import chi2\n",
    "import scipy.stats               as ss\n",
    "import scipy.stats               as stats\n",
    "from sklearn.metrics import confusion_matrix\n",
    "\n",
    "#Encoding and Scaling - z-score\n",
    "from sklearn.preprocessing import StandardScaler, OneHotEncoder\n",
    "\n",
    "\n",
    "#REPRESENTAçÃO GRÀFICA 3 PCA do SET de Dados com base nos clusters identifcados\n",
    "from sklearn.decomposition import PCA\n",
    "from mpl_toolkits.mplot3d import Axes3D\n",
    "\n",
    "# docs: http://scikit-learn.org/stable/modules/generated/sklearn.metrics.classification_report.html#sklearn.metrics.classification_report\n",
    "\n",
    "from sklearn.metrics import classification_report,roc_curve, roc_auc_score, confusion_matrix, precision_score, recall_score, f1_score, cohen_kappa_score\n",
    "\n",
    "# Cross Validation\n",
    "from sklearn.model_selection import cross_val_score\n",
    "\n",
    "\n",
    "#Trains Test Split\n",
    "from sklearn.model_selection import train_test_split \n",
    "\n",
    "#Supervised Learning Models\n",
    "from sklearn.linear_model import LogisticRegression\n",
    "from sklearn import tree\n",
    "from sklearn.metrics import classification_report\n",
    "from sklearn.neighbors import NearestNeighbors\n",
    "from sklearn.naive_bayes import GaussianNB\n",
    "\n",
    "# Unsupervised Learning Models\n",
    "from sklearn.cluster import KMeans\n"
   ]
  },
  {
   "cell_type": "markdown",
   "metadata": {},
   "source": [
    "# 0.1. Loading Data"
   ]
  },
  {
   "cell_type": "code",
   "execution_count": 2,
   "metadata": {},
   "outputs": [],
   "source": [
    "df_mh = pd.read_csv('C:\\\\Users\\\\marta.s.rolho_sub\\\\Documents\\\\GitHub\\\\ProjectoAA\\\\AA_201819_Project\\\\AA_201819_Project\\\\mental-heath-in-tech-2016.csv')\n",
    "\n",
    "# df_mh = pd.read_csv('C:\\\\Users\\\\atvfcmr\\\\Desktop\\\\FCUL_Pos-grad DS\\\\AA\\\\ProjectoAA\\\\AA_201819_Project\\\\AA_201819_Project\\\\mental-heath-in-tech-2016.csv')\n",
    "df_mhU = df_mh.copy() #for Unsupervised LEarning chapter"
   ]
  },
  {
   "cell_type": "markdown",
   "metadata": {},
   "source": [
    "# 0.2. Understanding Data"
   ]
  },
  {
   "cell_type": "markdown",
   "metadata": {},
   "source": [
    "In this task you should understand better the features you have, the distribution of values, potential errors, etc and plan/describe what data preprocessing steps should be performed next."
   ]
  },
  {
   "cell_type": "markdown",
   "metadata": {},
   "source": [
    "## Understanding Data - Distribution Plots, Renaming, Missing Values, Cleaning and Re-shaping Data"
   ]
  },
  {
   "cell_type": "code",
   "execution_count": 3,
   "metadata": {},
   "outputs": [
    {
     "data": {
      "text/plain": [
       "(1433, 63)"
      ]
     },
     "execution_count": 3,
     "metadata": {},
     "output_type": "execute_result"
    }
   ],
   "source": [
    "df_mh.shape"
   ]
  },
  {
   "cell_type": "markdown",
   "metadata": {},
   "source": [
    "#### Dataframe has 1433 rows (answers) and 63 columns (questions)"
   ]
  },
  {
   "cell_type": "code",
   "execution_count": 4,
   "metadata": {
    "scrolled": true
   },
   "outputs": [
    {
     "data": {
      "text/html": [
       "<div>\n",
       "<style scoped>\n",
       "    .dataframe tbody tr th:only-of-type {\n",
       "        vertical-align: middle;\n",
       "    }\n",
       "\n",
       "    .dataframe tbody tr th {\n",
       "        vertical-align: top;\n",
       "    }\n",
       "\n",
       "    .dataframe thead th {\n",
       "        text-align: right;\n",
       "    }\n",
       "</style>\n",
       "<table border=\"1\" class=\"dataframe\">\n",
       "  <thead>\n",
       "    <tr style=\"text-align: right;\">\n",
       "      <th></th>\n",
       "      <th>Are you self-employed?</th>\n",
       "      <th>How many employees does your company or organization have?</th>\n",
       "      <th>Is your employer primarily a tech company/organization?</th>\n",
       "      <th>Is your primary role within your company related to tech/IT?</th>\n",
       "      <th>Does your employer provide mental health benefits as part of healthcare coverage?</th>\n",
       "      <th>Do you know the options for mental health care available under your employer-provided coverage?</th>\n",
       "      <th>Has your employer ever formally discussed mental health (for example, as part of a wellness campaign or other official communication)?</th>\n",
       "      <th>Does your employer offer resources to learn more about mental health concerns and options for seeking help?</th>\n",
       "      <th>Is your anonymity protected if you choose to take advantage of mental health or substance abuse treatment resources provided by your employer?</th>\n",
       "      <th>If a mental health issue prompted you to request a medical leave from work, asking for that leave would be:</th>\n",
       "      <th>Do you think that discussing a mental health disorder with your employer would have negative consequences?</th>\n",
       "      <th>Do you think that discussing a physical health issue with your employer would have negative consequences?</th>\n",
       "      <th>Would you feel comfortable discussing a mental health disorder with your coworkers?</th>\n",
       "      <th>Would you feel comfortable discussing a mental health disorder with your direct supervisor(s)?</th>\n",
       "      <th>Do you feel that your employer takes mental health as seriously as physical health?</th>\n",
       "      <th>Have you heard of or observed negative consequences for co-workers who have been open about mental health issues in your workplace?</th>\n",
       "      <th>Do you have medical coverage (private insurance or state-provided) which includes treatment of  mental health issues?</th>\n",
       "      <th>Do you know local or online resources to seek help for a mental health disorder?</th>\n",
       "      <th>If you have been diagnosed or treated for a mental health disorder, do you ever reveal this to clients or business contacts?</th>\n",
       "      <th>If you have revealed a mental health issue to a client or business contact, do you believe this has impacted you negatively?</th>\n",
       "      <th>If you have been diagnosed or treated for a mental health disorder, do you ever reveal this to coworkers or employees?</th>\n",
       "      <th>If you have revealed a mental health issue to a coworker or employee, do you believe this has impacted you negatively?</th>\n",
       "      <th>Do you believe your productivity is ever affected by a mental health issue?</th>\n",
       "      <th>If yes, what percentage of your work time (time performing primary or secondary job functions) is affected by a mental health issue?</th>\n",
       "      <th>Do you have previous employers?</th>\n",
       "      <th>Have your previous employers provided mental health benefits?</th>\n",
       "      <th>Were you aware of the options for mental health care provided by your previous employers?</th>\n",
       "      <th>Did your previous employers ever formally discuss mental health (as part of a wellness campaign or other official communication)?</th>\n",
       "      <th>Did your previous employers provide resources to learn more about mental health issues and how to seek help?</th>\n",
       "      <th>Was your anonymity protected if you chose to take advantage of mental health or substance abuse treatment resources with previous employers?</th>\n",
       "      <th>Do you think that discussing a mental health disorder with previous employers would have negative consequences?</th>\n",
       "      <th>Do you think that discussing a physical health issue with previous employers would have negative consequences?</th>\n",
       "      <th>Would you have been willing to discuss a mental health issue with your previous co-workers?</th>\n",
       "      <th>Would you have been willing to discuss a mental health issue with your direct supervisor(s)?</th>\n",
       "      <th>Did you feel that your previous employers took mental health as seriously as physical health?</th>\n",
       "      <th>Did you hear of or observe negative consequences for co-workers with mental health issues in your previous workplaces?</th>\n",
       "      <th>Would you be willing to bring up a physical health issue with a potential employer in an interview?</th>\n",
       "      <th>Why or why not?</th>\n",
       "      <th>Would you bring up a mental health issue with a potential employer in an interview?</th>\n",
       "      <th>Why or why not?.1</th>\n",
       "      <th>Do you feel that being identified as a person with a mental health issue would hurt your career?</th>\n",
       "      <th>Do you think that team members/co-workers would view you more negatively if they knew you suffered from a mental health issue?</th>\n",
       "      <th>How willing would you be to share with friends and family that you have a mental illness?</th>\n",
       "      <th>Have you observed or experienced an unsupportive or badly handled response to a mental health issue in your current or previous workplace?</th>\n",
       "      <th>Have your observations of how another individual who discussed a mental health disorder made you less likely to reveal a mental health issue yourself in your current workplace?</th>\n",
       "      <th>Do you have a family history of mental illness?</th>\n",
       "      <th>Have you had a mental health disorder in the past?</th>\n",
       "      <th>Do you currently have a mental health disorder?</th>\n",
       "      <th>If yes, what condition(s) have you been diagnosed with?</th>\n",
       "      <th>If maybe, what condition(s) do you believe you have?</th>\n",
       "      <th>Have you been diagnosed with a mental health condition by a medical professional?</th>\n",
       "      <th>If so, what condition(s) were you diagnosed with?</th>\n",
       "      <th>Have you ever sought treatment for a mental health issue from a mental health professional?</th>\n",
       "      <th>If you have a mental health issue, do you feel that it interferes with your work when being treated effectively?</th>\n",
       "      <th>If you have a mental health issue, do you feel that it interferes with your work when NOT being treated effectively?</th>\n",
       "      <th>What is your age?</th>\n",
       "      <th>What is your gender?</th>\n",
       "      <th>What country do you live in?</th>\n",
       "      <th>What US state or territory do you live in?</th>\n",
       "      <th>What country do you work in?</th>\n",
       "      <th>What US state or territory do you work in?</th>\n",
       "      <th>Which of the following best describes your work position?</th>\n",
       "      <th>Do you work remotely?</th>\n",
       "    </tr>\n",
       "  </thead>\n",
       "  <tbody>\n",
       "    <tr>\n",
       "      <th>0</th>\n",
       "      <td>0</td>\n",
       "      <td>26-100</td>\n",
       "      <td>1.0</td>\n",
       "      <td>NaN</td>\n",
       "      <td>Not eligible for coverage / N/A</td>\n",
       "      <td>NaN</td>\n",
       "      <td>No</td>\n",
       "      <td>No</td>\n",
       "      <td>I don't know</td>\n",
       "      <td>Very easy</td>\n",
       "      <td>No</td>\n",
       "      <td>No</td>\n",
       "      <td>Maybe</td>\n",
       "      <td>Yes</td>\n",
       "      <td>I don't know</td>\n",
       "      <td>No</td>\n",
       "      <td>NaN</td>\n",
       "      <td>NaN</td>\n",
       "      <td>NaN</td>\n",
       "      <td>NaN</td>\n",
       "      <td>NaN</td>\n",
       "      <td>NaN</td>\n",
       "      <td>NaN</td>\n",
       "      <td>NaN</td>\n",
       "      <td>1</td>\n",
       "      <td>No, none did</td>\n",
       "      <td>N/A (not currently aware)</td>\n",
       "      <td>I don't know</td>\n",
       "      <td>None did</td>\n",
       "      <td>I don't know</td>\n",
       "      <td>Some of them</td>\n",
       "      <td>None of them</td>\n",
       "      <td>Some of my previous employers</td>\n",
       "      <td>Some of my previous employers</td>\n",
       "      <td>I don't know</td>\n",
       "      <td>None of them</td>\n",
       "      <td>Maybe</td>\n",
       "      <td>NaN</td>\n",
       "      <td>Maybe</td>\n",
       "      <td>NaN</td>\n",
       "      <td>Maybe</td>\n",
       "      <td>No, I don't think they would</td>\n",
       "      <td>Somewhat open</td>\n",
       "      <td>No</td>\n",
       "      <td>NaN</td>\n",
       "      <td>No</td>\n",
       "      <td>Yes</td>\n",
       "      <td>No</td>\n",
       "      <td>NaN</td>\n",
       "      <td>NaN</td>\n",
       "      <td>Yes</td>\n",
       "      <td>Anxiety Disorder (Generalized, Social, Phobia,...</td>\n",
       "      <td>0</td>\n",
       "      <td>Not applicable to me</td>\n",
       "      <td>Not applicable to me</td>\n",
       "      <td>39</td>\n",
       "      <td>Male</td>\n",
       "      <td>United Kingdom</td>\n",
       "      <td>NaN</td>\n",
       "      <td>United Kingdom</td>\n",
       "      <td>NaN</td>\n",
       "      <td>Back-end Developer</td>\n",
       "      <td>Sometimes</td>\n",
       "    </tr>\n",
       "    <tr>\n",
       "      <th>1</th>\n",
       "      <td>0</td>\n",
       "      <td>6-25</td>\n",
       "      <td>1.0</td>\n",
       "      <td>NaN</td>\n",
       "      <td>No</td>\n",
       "      <td>Yes</td>\n",
       "      <td>Yes</td>\n",
       "      <td>Yes</td>\n",
       "      <td>Yes</td>\n",
       "      <td>Somewhat easy</td>\n",
       "      <td>No</td>\n",
       "      <td>No</td>\n",
       "      <td>Maybe</td>\n",
       "      <td>Yes</td>\n",
       "      <td>Yes</td>\n",
       "      <td>No</td>\n",
       "      <td>NaN</td>\n",
       "      <td>NaN</td>\n",
       "      <td>NaN</td>\n",
       "      <td>NaN</td>\n",
       "      <td>NaN</td>\n",
       "      <td>NaN</td>\n",
       "      <td>NaN</td>\n",
       "      <td>NaN</td>\n",
       "      <td>1</td>\n",
       "      <td>Yes, they all did</td>\n",
       "      <td>I was aware of some</td>\n",
       "      <td>None did</td>\n",
       "      <td>Some did</td>\n",
       "      <td>Yes, always</td>\n",
       "      <td>None of them</td>\n",
       "      <td>None of them</td>\n",
       "      <td>No, at none of my previous employers</td>\n",
       "      <td>Some of my previous employers</td>\n",
       "      <td>Some did</td>\n",
       "      <td>None of them</td>\n",
       "      <td>Maybe</td>\n",
       "      <td>It would depend on the health issue. If there ...</td>\n",
       "      <td>No</td>\n",
       "      <td>While mental health has become a more prominen...</td>\n",
       "      <td>No, I don't think it would</td>\n",
       "      <td>No, I don't think they would</td>\n",
       "      <td>Somewhat open</td>\n",
       "      <td>No</td>\n",
       "      <td>NaN</td>\n",
       "      <td>Yes</td>\n",
       "      <td>Yes</td>\n",
       "      <td>Yes</td>\n",
       "      <td>Anxiety Disorder (Generalized, Social, Phobia,...</td>\n",
       "      <td>NaN</td>\n",
       "      <td>Yes</td>\n",
       "      <td>Anxiety Disorder (Generalized, Social, Phobia,...</td>\n",
       "      <td>1</td>\n",
       "      <td>Rarely</td>\n",
       "      <td>Sometimes</td>\n",
       "      <td>29</td>\n",
       "      <td>male</td>\n",
       "      <td>United States of America</td>\n",
       "      <td>Illinois</td>\n",
       "      <td>United States of America</td>\n",
       "      <td>Illinois</td>\n",
       "      <td>Back-end Developer|Front-end Developer</td>\n",
       "      <td>Never</td>\n",
       "    </tr>\n",
       "  </tbody>\n",
       "</table>\n",
       "</div>"
      ],
      "text/plain": [
       "   Are you self-employed?  \\\n",
       "0                       0   \n",
       "1                       0   \n",
       "\n",
       "  How many employees does your company or organization have?  \\\n",
       "0                                             26-100           \n",
       "1                                               6-25           \n",
       "\n",
       "   Is your employer primarily a tech company/organization?  \\\n",
       "0                                                1.0         \n",
       "1                                                1.0         \n",
       "\n",
       "   Is your primary role within your company related to tech/IT?  \\\n",
       "0                                                NaN              \n",
       "1                                                NaN              \n",
       "\n",
       "  Does your employer provide mental health benefits as part of healthcare coverage?  \\\n",
       "0                    Not eligible for coverage / N/A                                  \n",
       "1                                                 No                                  \n",
       "\n",
       "  Do you know the options for mental health care available under your employer-provided coverage?  \\\n",
       "0                                                NaN                                                \n",
       "1                                                Yes                                                \n",
       "\n",
       "  Has your employer ever formally discussed mental health (for example, as part of a wellness campaign or other official communication)?  \\\n",
       "0                                                 No                                                                                       \n",
       "1                                                Yes                                                                                       \n",
       "\n",
       "  Does your employer offer resources to learn more about mental health concerns and options for seeking help?  \\\n",
       "0                                                 No                                                            \n",
       "1                                                Yes                                                            \n",
       "\n",
       "  Is your anonymity protected if you choose to take advantage of mental health or substance abuse treatment resources provided by your employer?  \\\n",
       "0                                       I don't know                                                                                               \n",
       "1                                                Yes                                                                                               \n",
       "\n",
       "  If a mental health issue prompted you to request a medical leave from work, asking for that leave would be:  \\\n",
       "0                                          Very easy                                                            \n",
       "1                                      Somewhat easy                                                            \n",
       "\n",
       "  Do you think that discussing a mental health disorder with your employer would have negative consequences?  \\\n",
       "0                                                 No                                                           \n",
       "1                                                 No                                                           \n",
       "\n",
       "  Do you think that discussing a physical health issue with your employer would have negative consequences?  \\\n",
       "0                                                 No                                                          \n",
       "1                                                 No                                                          \n",
       "\n",
       "  Would you feel comfortable discussing a mental health disorder with your coworkers?  \\\n",
       "0                                              Maybe                                    \n",
       "1                                              Maybe                                    \n",
       "\n",
       "  Would you feel comfortable discussing a mental health disorder with your direct supervisor(s)?  \\\n",
       "0                                                Yes                                               \n",
       "1                                                Yes                                               \n",
       "\n",
       "  Do you feel that your employer takes mental health as seriously as physical health?  \\\n",
       "0                                       I don't know                                    \n",
       "1                                                Yes                                    \n",
       "\n",
       "  Have you heard of or observed negative consequences for co-workers who have been open about mental health issues in your workplace?  \\\n",
       "0                                                 No                                                                                    \n",
       "1                                                 No                                                                                    \n",
       "\n",
       "   Do you have medical coverage (private insurance or state-provided) which includes treatment of  mental health issues?  \\\n",
       "0                                                NaN                                                                       \n",
       "1                                                NaN                                                                       \n",
       "\n",
       "  Do you know local or online resources to seek help for a mental health disorder?  \\\n",
       "0                                                NaN                                 \n",
       "1                                                NaN                                 \n",
       "\n",
       "  If you have been diagnosed or treated for a mental health disorder, do you ever reveal this to clients or business contacts?  \\\n",
       "0                                                NaN                                                                             \n",
       "1                                                NaN                                                                             \n",
       "\n",
       "  If you have revealed a mental health issue to a client or business contact, do you believe this has impacted you negatively?  \\\n",
       "0                                                NaN                                                                             \n",
       "1                                                NaN                                                                             \n",
       "\n",
       "  If you have been diagnosed or treated for a mental health disorder, do you ever reveal this to coworkers or employees?  \\\n",
       "0                                                NaN                                                                       \n",
       "1                                                NaN                                                                       \n",
       "\n",
       "  If you have revealed a mental health issue to a coworker or employee, do you believe this has impacted you negatively?  \\\n",
       "0                                                NaN                                                                       \n",
       "1                                                NaN                                                                       \n",
       "\n",
       "  Do you believe your productivity is ever affected by a mental health issue?  \\\n",
       "0                                                NaN                            \n",
       "1                                                NaN                            \n",
       "\n",
       "  If yes, what percentage of your work time (time performing primary or secondary job functions) is affected by a mental health issue?  \\\n",
       "0                                                NaN                                                                                     \n",
       "1                                                NaN                                                                                     \n",
       "\n",
       "   Do you have previous employers?  \\\n",
       "0                                1   \n",
       "1                                1   \n",
       "\n",
       "  Have your previous employers provided mental health benefits?  \\\n",
       "0                                       No, none did              \n",
       "1                                  Yes, they all did              \n",
       "\n",
       "  Were you aware of the options for mental health care provided by your previous employers?  \\\n",
       "0                          N/A (not currently aware)                                          \n",
       "1                                I was aware of some                                          \n",
       "\n",
       "  Did your previous employers ever formally discuss mental health (as part of a wellness campaign or other official communication)?  \\\n",
       "0                                       I don't know                                                                                  \n",
       "1                                           None did                                                                                  \n",
       "\n",
       "  Did your previous employers provide resources to learn more about mental health issues and how to seek help?  \\\n",
       "0                                           None did                                                             \n",
       "1                                           Some did                                                             \n",
       "\n",
       "  Was your anonymity protected if you chose to take advantage of mental health or substance abuse treatment resources with previous employers?  \\\n",
       "0                                       I don't know                                                                                             \n",
       "1                                        Yes, always                                                                                             \n",
       "\n",
       "  Do you think that discussing a mental health disorder with previous employers would have negative consequences?  \\\n",
       "0                                       Some of them                                                                \n",
       "1                                       None of them                                                                \n",
       "\n",
       "  Do you think that discussing a physical health issue with previous employers would have negative consequences?  \\\n",
       "0                                       None of them                                                               \n",
       "1                                       None of them                                                               \n",
       "\n",
       "  Would you have been willing to discuss a mental health issue with your previous co-workers?  \\\n",
       "0                      Some of my previous employers                                            \n",
       "1               No, at none of my previous employers                                            \n",
       "\n",
       "  Would you have been willing to discuss a mental health issue with your direct supervisor(s)?  \\\n",
       "0                      Some of my previous employers                                             \n",
       "1                      Some of my previous employers                                             \n",
       "\n",
       "  Did you feel that your previous employers took mental health as seriously as physical health?  \\\n",
       "0                                       I don't know                                              \n",
       "1                                           Some did                                              \n",
       "\n",
       "  Did you hear of or observe negative consequences for co-workers with mental health issues in your previous workplaces?  \\\n",
       "0                                       None of them                                                                       \n",
       "1                                       None of them                                                                       \n",
       "\n",
       "  Would you be willing to bring up a physical health issue with a potential employer in an interview?  \\\n",
       "0                                              Maybe                                                    \n",
       "1                                              Maybe                                                    \n",
       "\n",
       "                                     Why or why not?  \\\n",
       "0                                                NaN   \n",
       "1  It would depend on the health issue. If there ...   \n",
       "\n",
       "  Would you bring up a mental health issue with a potential employer in an interview?  \\\n",
       "0                                              Maybe                                    \n",
       "1                                                 No                                    \n",
       "\n",
       "                                   Why or why not?.1  \\\n",
       "0                                                NaN   \n",
       "1  While mental health has become a more prominen...   \n",
       "\n",
       "  Do you feel that being identified as a person with a mental health issue would hurt your career?  \\\n",
       "0                                              Maybe                                                 \n",
       "1                         No, I don't think it would                                                 \n",
       "\n",
       "  Do you think that team members/co-workers would view you more negatively if they knew you suffered from a mental health issue?  \\\n",
       "0                       No, I don't think they would                                                                               \n",
       "1                       No, I don't think they would                                                                               \n",
       "\n",
       "  How willing would you be to share with friends and family that you have a mental illness?  \\\n",
       "0                                      Somewhat open                                          \n",
       "1                                      Somewhat open                                          \n",
       "\n",
       "  Have you observed or experienced an unsupportive or badly handled response to a mental health issue in your current or previous workplace?  \\\n",
       "0                                                 No                                                                                           \n",
       "1                                                 No                                                                                           \n",
       "\n",
       "  Have your observations of how another individual who discussed a mental health disorder made you less likely to reveal a mental health issue yourself in your current workplace?  \\\n",
       "0                                                NaN                                                                                                                                 \n",
       "1                                                NaN                                                                                                                                 \n",
       "\n",
       "  Do you have a family history of mental illness?  \\\n",
       "0                                              No   \n",
       "1                                             Yes   \n",
       "\n",
       "  Have you had a mental health disorder in the past?  \\\n",
       "0                                                Yes   \n",
       "1                                                Yes   \n",
       "\n",
       "  Do you currently have a mental health disorder?  \\\n",
       "0                                              No   \n",
       "1                                             Yes   \n",
       "\n",
       "  If yes, what condition(s) have you been diagnosed with?  \\\n",
       "0                                                NaN        \n",
       "1  Anxiety Disorder (Generalized, Social, Phobia,...        \n",
       "\n",
       "  If maybe, what condition(s) do you believe you have?  \\\n",
       "0                                                NaN     \n",
       "1                                                NaN     \n",
       "\n",
       "  Have you been diagnosed with a mental health condition by a medical professional?  \\\n",
       "0                                                Yes                                  \n",
       "1                                                Yes                                  \n",
       "\n",
       "   If so, what condition(s) were you diagnosed with?  \\\n",
       "0  Anxiety Disorder (Generalized, Social, Phobia,...   \n",
       "1  Anxiety Disorder (Generalized, Social, Phobia,...   \n",
       "\n",
       "   Have you ever sought treatment for a mental health issue from a mental health professional?  \\\n",
       "0                                                  0                                             \n",
       "1                                                  1                                             \n",
       "\n",
       "  If you have a mental health issue, do you feel that it interferes with your work when being treated effectively?  \\\n",
       "0                               Not applicable to me                                                                 \n",
       "1                                             Rarely                                                                 \n",
       "\n",
       "  If you have a mental health issue, do you feel that it interferes with your work when NOT being treated effectively?  \\\n",
       "0                               Not applicable to me                                                                     \n",
       "1                                          Sometimes                                                                     \n",
       "\n",
       "   What is your age? What is your gender? What country do you live in?  \\\n",
       "0                 39                 Male               United Kingdom   \n",
       "1                 29                 male     United States of America   \n",
       "\n",
       "  What US state or territory do you live in? What country do you work in?  \\\n",
       "0                                        NaN               United Kingdom   \n",
       "1                                   Illinois     United States of America   \n",
       "\n",
       "  What US state or territory do you work in?  \\\n",
       "0                                        NaN   \n",
       "1                                   Illinois   \n",
       "\n",
       "  Which of the following best describes your work position?  \\\n",
       "0                                 Back-end Developer          \n",
       "1             Back-end Developer|Front-end Developer          \n",
       "\n",
       "  Do you work remotely?  \n",
       "0             Sometimes  \n",
       "1                 Never  "
      ]
     },
     "execution_count": 4,
     "metadata": {},
     "output_type": "execute_result"
    }
   ],
   "source": [
    "df_mh.head(2)"
   ]
  },
  {
   "cell_type": "markdown",
   "metadata": {},
   "source": [
    "#### Rename columns"
   ]
  },
  {
   "cell_type": "code",
   "execution_count": 5,
   "metadata": {},
   "outputs": [],
   "source": [
    "new_names =  {'Are you self-employed?': 'Self-Employed',\n",
    "'How many employees does your company or organization have?': 'Num_Employees',\n",
    "'Is your employer primarily a tech company/organization?': 'Type_Company',\n",
    "'Is your primary role within your company related to tech/IT?':'1stRole_IT',\n",
    "'Does your employer provide mental health benefits as part of healthcare coverage?': 'Health_Benefits',  \n",
    "'Do you know the options for mental health care available under your employer-provided coverage?': 'Health_Care_Options_MH', \n",
    "'Has your employer ever formally discussed mental health (for example, as part of a wellness campaign or other official communication)?': 'Employeer_Discuss_MH',\n",
    "'Does your employer offer resources to learn more about mental health concerns and options for seeking help?': 'MH_Resources_Seeking_Help',\n",
    "'Is your anonymity protected if you choose to take advantage of mental health or substance abuse treatment resources provided by your employer?': 'Q9',\n",
    "\"If a mental health issue prompted you to request a medical leave from work, asking for that leave would be:\":'Q10',\n",
    "\"Do you think that discussing a mental health disorder with your employer would have negative consequences?\": 'Q11',\n",
    "\"Do you think that discussing a physical health issue with your employer would have negative consequences?\": 'Q12',\n",
    "\"Would you feel comfortable discussing a mental health disorder with your coworkers?\": 'Q13',\n",
    "\"Would you feel comfortable discussing a mental health disorder with your direct supervisor(s)?\": 'Q14',\n",
    "\"Do you feel that your employer takes mental health as seriously as physical health?\": 'Employer_Considerated_MH_PH',\n",
    "\"Have you heard of or observed negative consequences for co-workers who have been open about mental health issues in your workplace?\": 'Consequence_in_Work_MH',\n",
    "\"Do you have medical coverage (private insurance or state-provided) which includes treatment of  mental health issues?\":'Q17',\n",
    "\"Do you know local or online resources to seek help for a mental health disorder?\":'Q18',\n",
    "\"If you have been diagnosed or treated for a mental health disorder, do you ever reveal this to clients or business contacts?\":'Reveal_MH_to_BusinessContacts',\n",
    "\"If you have revealed a mental health issue to a client or business contact, do you believe this has impacted you negatively?\":'Q20',\n",
    "\"If you have been diagnosed or treated for a mental health disorder, do you ever reveal this to coworkers or employees?\":'Q21',\n",
    "\"If you have revealed a mental health issue to a coworker or employee, do you believe this has impacted you negatively?\":'Q22',\n",
    "\"Do you believe your productivity is ever affected by a mental health issue?\":'Productivity_Affected_MH',\n",
    "\"If yes, what percentage of your work time (time performing primary or secondary job functions) is affected by a mental health issue?\": 'Q24',\n",
    "\"Do you have previous employers?\": 'Q25',\n",
    "\"Have your previous employers provided mental health benefits?\": 'Q26',\n",
    "\"Were you aware of the options for mental health care provided by your previous employers?\":'Q27',\n",
    "\"Did your previous employers ever formally discuss mental health (as part of a wellness campaign or other official communication)\": 'Q28',\n",
    "\"Did your previous employers provide resources to learn more about mental health issues and how to seek help?\": 'Q29',\n",
    "\"Was your anonymity protected if you chose to take advantage of mental health or substance abuse treatment resources with previous employers?\": 'Q30',\n",
    "\"Do you think that discussing a mental health disorder with previous employers would have negative consequences?\":'Q31',\n",
    "\"Do you think that discussing a physical health issue with previous employers would have negative consequences?\": 'Q32',\n",
    "\"Would you have been willing to discuss a mental health issue with your previous co-workers?\":'Q33',\n",
    "\"Would you have been willing to discuss a mental health issue with your direct supervisor(s)?\":'Q34',              \n",
    "\"Did you feel that your previous employers took mental health as seriously as physical health?\":'Q35',\n",
    "\"Did you hear of or observe negative consequences for co-workers with mental health issues in your previous workplaces?\":'Q36',\n",
    "\"Would you be willing to bring up a physical health issue with a potential employer in an interview?\":'Q37',\n",
    "\"Why or why not?\":'Q38',\n",
    "\"Would you bring up a mental health issue with a potential employer in an interview?\":'Q39',\n",
    "\"Why or why not?\": 'Q40',\n",
    "\"Do you feel that being identified as a person with a mental health issue would hurt your career?\":'MH_HurtCarrer',\n",
    "\"Do you think that team members/co-workers would view you more negatively if they knew you suffered from a mental health issue?\":'Team_ViewNegatively_MH',\n",
    "\"How willing would you be to share with friends and family that you have a mental illness?\":'Share_MH_FriendsAndFamily',\n",
    "\"Have you observed or experienced an unsupportive or badly handled response to a mental health issue in your current or previous workplace?\":'Q44',\n",
    "\"Have your observations of how another individual who discussed a mental health disorder made you less likely to reveal a mental health issue yourself in your current workplace?\":'Q45',\n",
    "\"Do you have a family history of mental illness?\":'Family_MentalIllness',\n",
    "\"Have you had a mental health disorder in the past?\":'MH_Past', \n",
    "\"Do you currently have a mental health disorder?\":'MH_Present',\n",
    "\"If yes, what condition(s) have you been diagnosed with?\":'MH_Present_Conditions',\n",
    "\"If maybe, what condition(s) do you believe you have?\":'MH_Maybe_Present_Conditions',\n",
    "\"Have you been diagnosed with a mental health condition by a medical professional?\":'MH_Diagnosed_MedicalProf',\n",
    "\"If so, what condition(s) were you diagnosed with?\":'MH_Conditions_MedicalProf',\n",
    "\"Have you ever sought treatment for a mental health issue from a mental health professional?\":'SoughTreatment_MH_Prof',\n",
    "\"If you have a mental health issue, do you feel that it interferes with your work when being treated effectively?\":'Q54',\n",
    "\"If you have a mental health issue, do you feel that it interferes with your work when NOT being treated effectively?\":'Q55',\n",
    "\"What is your age?\": 'Age',\n",
    "\"What is your gender?\":'Gender',\n",
    "\"What country do you live in?\":'Country_Live',\n",
    "\"What US state or territory do you live in?\":'State_Live',\n",
    "\"What country do you work in?\":'Country_Work',\n",
    "\"What US state or territory do you work in?\":'State_Work',\n",
    "\"Which of the following best describes your work position?\":'Work_Position',\n",
    "\"Do you work remotely?\":'Remote_Worker'\n",
    " }"
   ]
  },
  {
   "cell_type": "code",
   "execution_count": 6,
   "metadata": {},
   "outputs": [],
   "source": [
    "df_mh.columns = ['Self-Employed', 'Num_Employees', 'Type_Company', '1stRole_IT', 'Health_Benefits', 'Health_Care_Options_MH',\n",
    "                   'Employeer_Discuss_MH', 'MH_Resources_Seeking_Help', 'Q9', 'Q10', 'Q11', 'Q12', 'Q13', 'Q14',\n",
    "                   'Employer_Considered_MH_PH', 'Consequence_in_Work_MH', 'Q17', 'Q18', 'Reveal_MH_to_BusinessContacts',\n",
    "                   'Q20', 'Q21', 'Q22', 'Productivity_Affected_MH', 'Q24', 'Q25', 'Q26', 'Q27', 'Q28', 'Q29', 'Q30', 'Q31',\n",
    "                   'Q32', 'Q33', 'Q34', 'Q35', 'Q36', 'Q37', 'Q38', 'Q39', 'Q40', 'MH_HurtCarrer', 'Team_ViewNegatively_MH', \n",
    "                   'Share_MH_FriendsAndFamily', 'Q44', 'Q45', 'Family_MentalIllness', 'MH_Past', 'MH_Present', \n",
    "                   'MH_Present_Conditions', 'MH_Maybe_Present_Conditions', 'MH_Diagnosed_MedicalProf', \n",
    "                   'MH_Conditions_MedicalProf', 'SoughTreatment_MH_Prof', 'Q54', 'Q55', 'Age', 'Gender', \n",
    "                   'Country_Live', 'State_Live', 'Country_Work', 'State_Work', 'Work_Position', 'Remote_Worker']"
   ]
  },
  {
   "cell_type": "code",
   "execution_count": 7,
   "metadata": {},
   "outputs": [],
   "source": [
    "df_mh.rename(columns=new_names, inplace=True)"
   ]
  },
  {
   "cell_type": "code",
   "execution_count": 8,
   "metadata": {},
   "outputs": [],
   "source": [
    "df_mhU.rename(columns=new_names, inplace=True)"
   ]
  },
  {
   "cell_type": "code",
   "execution_count": 9,
   "metadata": {},
   "outputs": [],
   "source": [
    "df_mhU['MH_Diagnosed_MedicalProf'].replace(['Yes','No'],['0','1'],inplace =True)"
   ]
  },
  {
   "cell_type": "code",
   "execution_count": null,
   "metadata": {},
   "outputs": [],
   "source": []
  },
  {
   "cell_type": "markdown",
   "metadata": {},
   "source": [
    "#### Analysis of Missing Values"
   ]
  },
  {
   "cell_type": "code",
   "execution_count": 10,
   "metadata": {},
   "outputs": [],
   "source": [
    "def missing_values_table(df):\n",
    "        mis_val = df.isnull().sum()\n",
    "        mis_val_percent = 100 * df.isnull().sum() / len(df)\n",
    "        mis_val_table = pd.concat([mis_val, mis_val_percent], axis=1)\n",
    "        mis_val_table_ren_columns = mis_val_table.rename(columns = {0 : 'Missing Values', 1 : '% of Total Values'})\n",
    "        mis_val_table_ren_columns = mis_val_table_ren_columns.sort_values(\n",
    "        '% of Total Values', ascending=False).round(1)\n",
    "        print (\"Dataframe has \" + str(df.shape[1]) + \" columns.\\n\"      \n",
    "            \"There are \" + str(mis_val_table_ren_columns[mis_val_table_ren_columns['Missing Values'] > 0].shape[0]) + \n",
    "               \" columns that have missing values.\")\n",
    "        return mis_val_table_ren_columns"
   ]
  },
  {
   "cell_type": "code",
   "execution_count": 11,
   "metadata": {},
   "outputs": [
    {
     "name": "stdout",
     "output_type": "stream",
     "text": [
      "Dataframe has 63 columns.\n",
      "There are 44 columns that have missing values.\n"
     ]
    },
    {
     "data": {
      "text/html": [
       "<div>\n",
       "<style scoped>\n",
       "    .dataframe tbody tr th:only-of-type {\n",
       "        vertical-align: middle;\n",
       "    }\n",
       "\n",
       "    .dataframe tbody tr th {\n",
       "        vertical-align: top;\n",
       "    }\n",
       "\n",
       "    .dataframe thead th {\n",
       "        text-align: right;\n",
       "    }\n",
       "</style>\n",
       "<table border=\"1\" class=\"dataframe\">\n",
       "  <thead>\n",
       "    <tr style=\"text-align: right;\">\n",
       "      <th></th>\n",
       "      <th>Missing Values</th>\n",
       "      <th>% of Total Values</th>\n",
       "    </tr>\n",
       "  </thead>\n",
       "  <tbody>\n",
       "    <tr>\n",
       "      <th>Q20</th>\n",
       "      <td>1289</td>\n",
       "      <td>90.0</td>\n",
       "    </tr>\n",
       "    <tr>\n",
       "      <th>Q24</th>\n",
       "      <td>1229</td>\n",
       "      <td>85.8</td>\n",
       "    </tr>\n",
       "    <tr>\n",
       "      <th>1stRole_IT</th>\n",
       "      <td>1170</td>\n",
       "      <td>81.6</td>\n",
       "    </tr>\n",
       "    <tr>\n",
       "      <th>Q18</th>\n",
       "      <td>1146</td>\n",
       "      <td>80.0</td>\n",
       "    </tr>\n",
       "    <tr>\n",
       "      <th>Q17</th>\n",
       "      <td>1146</td>\n",
       "      <td>80.0</td>\n",
       "    </tr>\n",
       "    <tr>\n",
       "      <th>Productivity_Affected_MH</th>\n",
       "      <td>1146</td>\n",
       "      <td>80.0</td>\n",
       "    </tr>\n",
       "    <tr>\n",
       "      <th>Q22</th>\n",
       "      <td>1146</td>\n",
       "      <td>80.0</td>\n",
       "    </tr>\n",
       "    <tr>\n",
       "      <th>Q21</th>\n",
       "      <td>1146</td>\n",
       "      <td>80.0</td>\n",
       "    </tr>\n",
       "    <tr>\n",
       "      <th>Reveal_MH_to_BusinessContacts</th>\n",
       "      <td>1146</td>\n",
       "      <td>80.0</td>\n",
       "    </tr>\n",
       "    <tr>\n",
       "      <th>MH_Maybe_Present_Conditions</th>\n",
       "      <td>1111</td>\n",
       "      <td>77.5</td>\n",
       "    </tr>\n",
       "    <tr>\n",
       "      <th>MH_Present_Conditions</th>\n",
       "      <td>865</td>\n",
       "      <td>60.4</td>\n",
       "    </tr>\n",
       "    <tr>\n",
       "      <th>Q45</th>\n",
       "      <td>776</td>\n",
       "      <td>54.2</td>\n",
       "    </tr>\n",
       "    <tr>\n",
       "      <th>MH_Conditions_MedicalProf</th>\n",
       "      <td>722</td>\n",
       "      <td>50.4</td>\n",
       "    </tr>\n",
       "    <tr>\n",
       "      <th>State_Live</th>\n",
       "      <td>593</td>\n",
       "      <td>41.4</td>\n",
       "    </tr>\n",
       "    <tr>\n",
       "      <th>State_Work</th>\n",
       "      <td>582</td>\n",
       "      <td>40.6</td>\n",
       "    </tr>\n",
       "    <tr>\n",
       "      <th>Health_Care_Options_MH</th>\n",
       "      <td>420</td>\n",
       "      <td>29.3</td>\n",
       "    </tr>\n",
       "    <tr>\n",
       "      <th>Q38</th>\n",
       "      <td>338</td>\n",
       "      <td>23.6</td>\n",
       "    </tr>\n",
       "    <tr>\n",
       "      <th>Q40</th>\n",
       "      <td>307</td>\n",
       "      <td>21.4</td>\n",
       "    </tr>\n",
       "    <tr>\n",
       "      <th>Num_Employees</th>\n",
       "      <td>287</td>\n",
       "      <td>20.0</td>\n",
       "    </tr>\n",
       "    <tr>\n",
       "      <th>Employer_Considered_MH_PH</th>\n",
       "      <td>287</td>\n",
       "      <td>20.0</td>\n",
       "    </tr>\n",
       "    <tr>\n",
       "      <th>Q14</th>\n",
       "      <td>287</td>\n",
       "      <td>20.0</td>\n",
       "    </tr>\n",
       "    <tr>\n",
       "      <th>Q13</th>\n",
       "      <td>287</td>\n",
       "      <td>20.0</td>\n",
       "    </tr>\n",
       "    <tr>\n",
       "      <th>Q12</th>\n",
       "      <td>287</td>\n",
       "      <td>20.0</td>\n",
       "    </tr>\n",
       "    <tr>\n",
       "      <th>Q11</th>\n",
       "      <td>287</td>\n",
       "      <td>20.0</td>\n",
       "    </tr>\n",
       "    <tr>\n",
       "      <th>Q10</th>\n",
       "      <td>287</td>\n",
       "      <td>20.0</td>\n",
       "    </tr>\n",
       "    <tr>\n",
       "      <th>Q9</th>\n",
       "      <td>287</td>\n",
       "      <td>20.0</td>\n",
       "    </tr>\n",
       "    <tr>\n",
       "      <th>MH_Resources_Seeking_Help</th>\n",
       "      <td>287</td>\n",
       "      <td>20.0</td>\n",
       "    </tr>\n",
       "    <tr>\n",
       "      <th>Employeer_Discuss_MH</th>\n",
       "      <td>287</td>\n",
       "      <td>20.0</td>\n",
       "    </tr>\n",
       "    <tr>\n",
       "      <th>Health_Benefits</th>\n",
       "      <td>287</td>\n",
       "      <td>20.0</td>\n",
       "    </tr>\n",
       "    <tr>\n",
       "      <th>Type_Company</th>\n",
       "      <td>287</td>\n",
       "      <td>20.0</td>\n",
       "    </tr>\n",
       "    <tr>\n",
       "      <th>Consequence_in_Work_MH</th>\n",
       "      <td>287</td>\n",
       "      <td>20.0</td>\n",
       "    </tr>\n",
       "    <tr>\n",
       "      <th>Q32</th>\n",
       "      <td>169</td>\n",
       "      <td>11.8</td>\n",
       "    </tr>\n",
       "    <tr>\n",
       "      <th>Q35</th>\n",
       "      <td>169</td>\n",
       "      <td>11.8</td>\n",
       "    </tr>\n",
       "    <tr>\n",
       "      <th>Q36</th>\n",
       "      <td>169</td>\n",
       "      <td>11.8</td>\n",
       "    </tr>\n",
       "    <tr>\n",
       "      <th>Q26</th>\n",
       "      <td>169</td>\n",
       "      <td>11.8</td>\n",
       "    </tr>\n",
       "    <tr>\n",
       "      <th>Q34</th>\n",
       "      <td>169</td>\n",
       "      <td>11.8</td>\n",
       "    </tr>\n",
       "    <tr>\n",
       "      <th>Q33</th>\n",
       "      <td>169</td>\n",
       "      <td>11.8</td>\n",
       "    </tr>\n",
       "    <tr>\n",
       "      <th>Q31</th>\n",
       "      <td>169</td>\n",
       "      <td>11.8</td>\n",
       "    </tr>\n",
       "    <tr>\n",
       "      <th>Q30</th>\n",
       "      <td>169</td>\n",
       "      <td>11.8</td>\n",
       "    </tr>\n",
       "    <tr>\n",
       "      <th>Q29</th>\n",
       "      <td>169</td>\n",
       "      <td>11.8</td>\n",
       "    </tr>\n",
       "    <tr>\n",
       "      <th>Q28</th>\n",
       "      <td>169</td>\n",
       "      <td>11.8</td>\n",
       "    </tr>\n",
       "    <tr>\n",
       "      <th>Q27</th>\n",
       "      <td>169</td>\n",
       "      <td>11.8</td>\n",
       "    </tr>\n",
       "    <tr>\n",
       "      <th>Q44</th>\n",
       "      <td>89</td>\n",
       "      <td>6.2</td>\n",
       "    </tr>\n",
       "    <tr>\n",
       "      <th>Gender</th>\n",
       "      <td>3</td>\n",
       "      <td>0.2</td>\n",
       "    </tr>\n",
       "    <tr>\n",
       "      <th>Country_Work</th>\n",
       "      <td>0</td>\n",
       "      <td>0.0</td>\n",
       "    </tr>\n",
       "    <tr>\n",
       "      <th>Country_Live</th>\n",
       "      <td>0</td>\n",
       "      <td>0.0</td>\n",
       "    </tr>\n",
       "    <tr>\n",
       "      <th>Age</th>\n",
       "      <td>0</td>\n",
       "      <td>0.0</td>\n",
       "    </tr>\n",
       "    <tr>\n",
       "      <th>Q55</th>\n",
       "      <td>0</td>\n",
       "      <td>0.0</td>\n",
       "    </tr>\n",
       "    <tr>\n",
       "      <th>Q54</th>\n",
       "      <td>0</td>\n",
       "      <td>0.0</td>\n",
       "    </tr>\n",
       "    <tr>\n",
       "      <th>Work_Position</th>\n",
       "      <td>0</td>\n",
       "      <td>0.0</td>\n",
       "    </tr>\n",
       "    <tr>\n",
       "      <th>SoughTreatment_MH_Prof</th>\n",
       "      <td>0</td>\n",
       "      <td>0.0</td>\n",
       "    </tr>\n",
       "    <tr>\n",
       "      <th>Self-Employed</th>\n",
       "      <td>0</td>\n",
       "      <td>0.0</td>\n",
       "    </tr>\n",
       "    <tr>\n",
       "      <th>MH_Diagnosed_MedicalProf</th>\n",
       "      <td>0</td>\n",
       "      <td>0.0</td>\n",
       "    </tr>\n",
       "    <tr>\n",
       "      <th>MH_Present</th>\n",
       "      <td>0</td>\n",
       "      <td>0.0</td>\n",
       "    </tr>\n",
       "    <tr>\n",
       "      <th>MH_Past</th>\n",
       "      <td>0</td>\n",
       "      <td>0.0</td>\n",
       "    </tr>\n",
       "    <tr>\n",
       "      <th>Family_MentalIllness</th>\n",
       "      <td>0</td>\n",
       "      <td>0.0</td>\n",
       "    </tr>\n",
       "    <tr>\n",
       "      <th>Share_MH_FriendsAndFamily</th>\n",
       "      <td>0</td>\n",
       "      <td>0.0</td>\n",
       "    </tr>\n",
       "    <tr>\n",
       "      <th>Team_ViewNegatively_MH</th>\n",
       "      <td>0</td>\n",
       "      <td>0.0</td>\n",
       "    </tr>\n",
       "    <tr>\n",
       "      <th>MH_HurtCarrer</th>\n",
       "      <td>0</td>\n",
       "      <td>0.0</td>\n",
       "    </tr>\n",
       "    <tr>\n",
       "      <th>Q39</th>\n",
       "      <td>0</td>\n",
       "      <td>0.0</td>\n",
       "    </tr>\n",
       "    <tr>\n",
       "      <th>Q37</th>\n",
       "      <td>0</td>\n",
       "      <td>0.0</td>\n",
       "    </tr>\n",
       "    <tr>\n",
       "      <th>Q25</th>\n",
       "      <td>0</td>\n",
       "      <td>0.0</td>\n",
       "    </tr>\n",
       "    <tr>\n",
       "      <th>Remote_Worker</th>\n",
       "      <td>0</td>\n",
       "      <td>0.0</td>\n",
       "    </tr>\n",
       "  </tbody>\n",
       "</table>\n",
       "</div>"
      ],
      "text/plain": [
       "                               Missing Values  % of Total Values\n",
       "Q20                                      1289               90.0\n",
       "Q24                                      1229               85.8\n",
       "1stRole_IT                               1170               81.6\n",
       "Q18                                      1146               80.0\n",
       "Q17                                      1146               80.0\n",
       "Productivity_Affected_MH                 1146               80.0\n",
       "Q22                                      1146               80.0\n",
       "Q21                                      1146               80.0\n",
       "Reveal_MH_to_BusinessContacts            1146               80.0\n",
       "MH_Maybe_Present_Conditions              1111               77.5\n",
       "MH_Present_Conditions                     865               60.4\n",
       "Q45                                       776               54.2\n",
       "MH_Conditions_MedicalProf                 722               50.4\n",
       "State_Live                                593               41.4\n",
       "State_Work                                582               40.6\n",
       "Health_Care_Options_MH                    420               29.3\n",
       "Q38                                       338               23.6\n",
       "Q40                                       307               21.4\n",
       "Num_Employees                             287               20.0\n",
       "Employer_Considered_MH_PH                 287               20.0\n",
       "Q14                                       287               20.0\n",
       "Q13                                       287               20.0\n",
       "Q12                                       287               20.0\n",
       "Q11                                       287               20.0\n",
       "Q10                                       287               20.0\n",
       "Q9                                        287               20.0\n",
       "MH_Resources_Seeking_Help                 287               20.0\n",
       "Employeer_Discuss_MH                      287               20.0\n",
       "Health_Benefits                           287               20.0\n",
       "Type_Company                              287               20.0\n",
       "Consequence_in_Work_MH                    287               20.0\n",
       "Q32                                       169               11.8\n",
       "Q35                                       169               11.8\n",
       "Q36                                       169               11.8\n",
       "Q26                                       169               11.8\n",
       "Q34                                       169               11.8\n",
       "Q33                                       169               11.8\n",
       "Q31                                       169               11.8\n",
       "Q30                                       169               11.8\n",
       "Q29                                       169               11.8\n",
       "Q28                                       169               11.8\n",
       "Q27                                       169               11.8\n",
       "Q44                                        89                6.2\n",
       "Gender                                      3                0.2\n",
       "Country_Work                                0                0.0\n",
       "Country_Live                                0                0.0\n",
       "Age                                         0                0.0\n",
       "Q55                                         0                0.0\n",
       "Q54                                         0                0.0\n",
       "Work_Position                               0                0.0\n",
       "SoughTreatment_MH_Prof                      0                0.0\n",
       "Self-Employed                               0                0.0\n",
       "MH_Diagnosed_MedicalProf                    0                0.0\n",
       "MH_Present                                  0                0.0\n",
       "MH_Past                                     0                0.0\n",
       "Family_MentalIllness                        0                0.0\n",
       "Share_MH_FriendsAndFamily                   0                0.0\n",
       "Team_ViewNegatively_MH                      0                0.0\n",
       "MH_HurtCarrer                               0                0.0\n",
       "Q39                                         0                0.0\n",
       "Q37                                         0                0.0\n",
       "Q25                                         0                0.0\n",
       "Remote_Worker                               0                0.0"
      ]
     },
     "execution_count": 11,
     "metadata": {},
     "output_type": "execute_result"
    }
   ],
   "source": [
    "missing_values_table(df_mh)"
   ]
  },
  {
   "cell_type": "code",
   "execution_count": null,
   "metadata": {},
   "outputs": [],
   "source": []
  },
  {
   "cell_type": "markdown",
   "metadata": {},
   "source": [
    "In the previous output, we can observe that our data has 13 variables with more than 50% of null values, and so they might not be useful\n",
    "to the analysis.\n"
   ]
  },
  {
   "cell_type": "markdown",
   "metadata": {},
   "source": [
    "#### Analyzing Variables to Predicted"
   ]
  },
  {
   "cell_type": "code",
   "execution_count": 12,
   "metadata": {},
   "outputs": [
    {
     "data": {
      "text/plain": [
       "No     717\n",
       "Yes    716\n",
       "Name: MH_Diagnosed_MedicalProf, dtype: int64"
      ]
     },
     "execution_count": 12,
     "metadata": {},
     "output_type": "execute_result"
    }
   ],
   "source": [
    "df_mh['MH_Diagnosed_MedicalProf'].value_counts()"
   ]
  },
  {
   "cell_type": "code",
   "execution_count": 13,
   "metadata": {},
   "outputs": [
    {
     "data": {
      "text/plain": [
       "<matplotlib.axes._subplots.AxesSubplot at 0x1f66a3363c8>"
      ]
     },
     "execution_count": 13,
     "metadata": {},
     "output_type": "execute_result"
    },
    {
     "data": {
      "image/png": "[encoded data removed]",
      "text/plain": [
       "<Figure size 432x288 with 1 Axes>"
      ]
     },
     "metadata": {},
     "output_type": "display_data"
    }
   ],
   "source": [
    "to_plot = df_mh['MH_Diagnosed_MedicalProf'].value_counts()/len(df_mh['MH_Diagnosed_MedicalProf'])*100\n",
    "to_plot.plot(kind='bar', title='Do you currently have a mental health disorder Diagnose by doctor?')"
   ]
  },
  {
   "cell_type": "markdown",
   "metadata": {},
   "source": [
    "Esta variável, parace ser um boa variável para utilizar como classificador uma vez que apresenta dois valores\n",
    "distintas de Sim e Não e nenhuma classe intermédia (Talvez).\n",
    "Além disso, não apresenta nenhum valor a null."
   ]
  },
  {
   "cell_type": "code",
   "execution_count": 14,
   "metadata": {},
   "outputs": [
    {
     "data": {
      "text/plain": [
       "Yes      40.125611\n",
       "No       37.055129\n",
       "Maybe    22.819260\n",
       "Name: MH_Present, dtype: float64"
      ]
     },
     "execution_count": 14,
     "metadata": {},
     "output_type": "execute_result"
    }
   ],
   "source": [
    "df_mh['MH_Present'].value_counts()/len(df_mh['MH_Present'])*100"
   ]
  },
  {
   "cell_type": "code",
   "execution_count": 15,
   "metadata": {},
   "outputs": [
    {
     "data": {
      "text/plain": [
       "Yes      575\n",
       "No       531\n",
       "Maybe    327\n",
       "Name: MH_Present, dtype: int64"
      ]
     },
     "execution_count": 15,
     "metadata": {},
     "output_type": "execute_result"
    }
   ],
   "source": [
    "df_mh['MH_Present'].value_counts()"
   ]
  },
  {
   "cell_type": "code",
   "execution_count": 16,
   "metadata": {},
   "outputs": [
    {
     "data": {
      "text/plain": [
       "<matplotlib.axes._subplots.AxesSubplot at 0x1f66a63b128>"
      ]
     },
     "execution_count": 16,
     "metadata": {},
     "output_type": "execute_result"
    },
    {
     "data": {
      "image/png": "[encoded data removed]",
      "text/plain": [
       "<Figure size 432x288 with 1 Axes>"
      ]
     },
     "metadata": {},
     "output_type": "display_data"
    }
   ],
   "source": [
    "to_plot = df_mh['MH_Present'].value_counts()/len(df_mh['MH_Present'])*100\n",
    "to_plot.plot(kind='bar', title='Do you currently have a mental health disorder?')\n"
   ]
  },
  {
   "cell_type": "markdown",
   "metadata": {},
   "source": [
    "Pelo que podemos observar no gráfico acima, onde é representada a distribuição de respostas na pergunta 'Do you currently have a mental health disorder?', é que cerca de 77% dos inquiridos responderam concretamente ao inquérito e que aproximadamente 23% responderam 'maybe'. Existem duas estratégias que podemos aplicar nesta situação, incluir o maybe como sendo um caso positivo, sendo que pessoas com este tipo de doenças podem ser mais relutantes a responder, ou então criar um classificador com 3 categorias, em que aos Maybe é também atribuída uma probabilidade ter doença mental."
   ]
  },
  {
   "cell_type": "code",
   "execution_count": 17,
   "metadata": {},
   "outputs": [],
   "source": [
    "groupbyPlot = df_mhU.groupby(['MH_Diagnosed_MedicalProf','MH_Present'])[['MH_Diagnosed_MedicalProf']].count()\n",
    "\n"
   ]
  },
  {
   "cell_type": "code",
   "execution_count": 18,
   "metadata": {},
   "outputs": [
    {
     "data": {
      "text/html": [
       "<div>\n",
       "<style scoped>\n",
       "    .dataframe tbody tr th:only-of-type {\n",
       "        vertical-align: middle;\n",
       "    }\n",
       "\n",
       "    .dataframe tbody tr th {\n",
       "        vertical-align: top;\n",
       "    }\n",
       "\n",
       "    .dataframe thead th {\n",
       "        text-align: right;\n",
       "    }\n",
       "</style>\n",
       "<table border=\"1\" class=\"dataframe\">\n",
       "  <thead>\n",
       "    <tr style=\"text-align: right;\">\n",
       "      <th></th>\n",
       "      <th></th>\n",
       "      <th>MH_Diagnosed_MedicalProf</th>\n",
       "    </tr>\n",
       "    <tr>\n",
       "      <th>MH_Diagnosed_MedicalProf</th>\n",
       "      <th>MH_Present</th>\n",
       "      <th></th>\n",
       "    </tr>\n",
       "  </thead>\n",
       "  <tbody>\n",
       "    <tr>\n",
       "      <th rowspan=\"3\" valign=\"top\">0</th>\n",
       "      <th>Maybe</th>\n",
       "      <td>124</td>\n",
       "    </tr>\n",
       "    <tr>\n",
       "      <th>No</th>\n",
       "      <td>81</td>\n",
       "    </tr>\n",
       "    <tr>\n",
       "      <th>Yes</th>\n",
       "      <td>511</td>\n",
       "    </tr>\n",
       "    <tr>\n",
       "      <th rowspan=\"3\" valign=\"top\">1</th>\n",
       "      <th>Maybe</th>\n",
       "      <td>203</td>\n",
       "    </tr>\n",
       "    <tr>\n",
       "      <th>No</th>\n",
       "      <td>450</td>\n",
       "    </tr>\n",
       "    <tr>\n",
       "      <th>Yes</th>\n",
       "      <td>64</td>\n",
       "    </tr>\n",
       "  </tbody>\n",
       "</table>\n",
       "</div>"
      ],
      "text/plain": [
       "                                     MH_Diagnosed_MedicalProf\n",
       "MH_Diagnosed_MedicalProf MH_Present                          \n",
       "0                        Maybe                            124\n",
       "                         No                                81\n",
       "                         Yes                              511\n",
       "1                        Maybe                            203\n",
       "                         No                               450\n",
       "                         Yes                               64"
      ]
     },
     "execution_count": 18,
     "metadata": {},
     "output_type": "execute_result"
    }
   ],
   "source": [
    "groupbyPlot"
   ]
  },
  {
   "cell_type": "markdown",
   "metadata": {},
   "source": [
    "Uma análise interessante que pode ser realizada, de modo a entendermos um pouco o modo de atuação e de resposta \n",
    "dos inquiridos, é verificar a ocorrência das respostas em simultâneo.\n",
    "Na variável groupbyPlot é possivel observar que 124 das pessoas que responderam ter sido diagnosticadas com algum problema de saúde\n",
    "mental, ainda consideram a possibilidade ter no presente (maybe), 81 dizem já não ter e 511 as MH continuam a prevalecer.\n",
    "64 das pessoas que disseram não ter sido diagnosticadas com doenças mentais por profissionais afirmam ter doenças mentais no presente.\n",
    "e 203 estão em dúvida. Ou seja, existe uma incerteza associada ao auto-diagnóstico, que representa 28% dos não-diagnosticados.\n",
    "Ambas as escolhas como variáveis de output nos parecem viáveis.\n",
    "\n"
   ]
  },
  {
   "cell_type": "markdown",
   "metadata": {},
   "source": [
    "#### Analyze Variables - Distribution Plots, Value_Counts - Understanding Data"
   ]
  },
  {
   "cell_type": "code",
   "execution_count": 19,
   "metadata": {},
   "outputs": [],
   "source": [
    "def plot_count(column, name):\n",
    "    fig = plt.figure(figsize=(10, 10))\n",
    "    act_mf_disorder_count = df_mh[column].value_counts()\n",
    "    sns.set(style=\"darkgrid\")\n",
    "    sns.barplot(act_mf_disorder_count.index, act_mf_disorder_count.values, alpha=0.9)\n",
    "    plt.title('Frequency Distribution of ' + name)\n",
    "    plt.ylabel('Number of Occurrences', fontsize=12)\n",
    "    plt.xlabel(name, fontsize=12)\n",
    "    plt.xticks(rotation=90)\n",
    "    plt.show()"
   ]
  },
  {
   "cell_type": "markdown",
   "metadata": {},
   "source": [
    "#### Role"
   ]
  },
  {
   "cell_type": "code",
   "execution_count": 20,
   "metadata": {},
   "outputs": [
    {
     "data": {
      "image/png": "[encoded data removed]",
      "text/plain": [
       "<Figure size 720x720 with 1 Axes>"
      ]
     },
     "metadata": {},
     "output_type": "display_data"
    }
   ],
   "source": [
    "plot_count('Work_Position', 'Frequency')"
   ]
  },
  {
   "cell_type": "code",
   "execution_count": 21,
   "metadata": {},
   "outputs": [],
   "source": [
    "def findRoleType(workString):\n",
    "    #helper that finds the role type of an individual based on the string of\n",
    "    #job descriptions provided\n",
    "    roleDict = {\"technical\":[\"Front-end Developer\",\"Back-end Developer\",\n",
    "                            \"DevOps/SysAdmin\",\"Designer\", \"Support\", \"Supervisor/Team Lead|Back-end Developer\", \n",
    "                            \"Front-end Developer|Designer\", \"DevOps/SysAdmin|Back-end Developer|Front-end Developer\", \n",
    "                            \"DevOps/SysAdmin|Back-end Developer|Front-end Developer\",\n",
    "                            \"Front-end Developer|Back-end Developer|DevOps/SysAdmin\",\n",
    "                            \"Supervisor/Team Lead|DevOps/SysAdmin|Back-end Developer\",                                                                                       \n",
    "                            \"Supervisor/Team Lead|DevOps/SysAdmin|Back-end Developer|Front-end Developer\",                                                                  \n",
    "                            \"DevOps/SysAdmin|Support|Back-end Developer|Front-end Developer\",                                                                              \n",
    "                            \"Back-end Developer|One-person shop\",                                                                                                           \n",
    "                            \"Support|Back-end Developer\",                                                                                                                    \n",
    "                            \"Supervisor/Team Lead|Front-end Developer\",                                                                                                      \n",
    "                            \"Front-end Developer|Back-end Developer|Supervisor/Team Lead\",                                                                                  \n",
    "                            \"DevOps/SysAdmin|Support\",                                                                                                                  \n",
    "                            \"Front-end Developer|Back-end Developer|DevOps/SysAdmin|Supervisor/Team Lead\",                                                                \n",
    "                            \"One-person shop|Front-end Developer|Back-end Developer\",                                                                                        \n",
    "                            \"DevOps/SysAdmin|Back-end Developer|Front-end Developer|Designer\", \"Front-end Developer|Back-end Developer|Support|DevOps/SysAdmin\"],\n",
    "            \"non-technical\":[\"HR\",\"Support\",\"Sales\",\"Dev Evangelist/Advocate\",\n",
    "                             \"Other\",\"Excecutive Leadership\",\n",
    "                             \"Supervisor/Team Lead\",\"One-person shop\", \n",
    "                             \"Supervisor/Team Lead\", \"One-person shop|Designer|Sales|Support|Supervisor/Team Lead\"]}\n",
    "    #run through role dictionary\n",
    "    for technicalRole in roleDict[\"technical\"]:\n",
    "        #search to find it in job descriptions\n",
    "        if (technicalRole in workString):\n",
    "            #now see if they take on an additional non-technical role\n",
    "            for nonTechnicalRole in roleDict[\"non-technical\"]:\n",
    "                if (nonTechnicalRole in workString): #they do both\n",
    "                    return \"both\"\n",
    "            #if we got to this point, they are just technical\n",
    "            return \"technical\"\n",
    "    #if we got here, they are non-technical\n",
    "    return \"non-technical\""
   ]
  },
  {
   "cell_type": "code",
   "execution_count": 22,
   "metadata": {},
   "outputs": [
    {
     "ename": "NameError",
     "evalue": "name 'buildRoleType' is not defined",
     "output_type": "error",
     "traceback": [
      "\u001b[1;31m---------------------------------------------------------------------------\u001b[0m",
      "\u001b[1;31mNameError\u001b[0m                                 Traceback (most recent call last)",
      "\u001b[1;32m<ipython-input-22-65c483386359>\u001b[0m in \u001b[0;36m<module>\u001b[1;34m()\u001b[0m\n\u001b[1;32m----> 1\u001b[1;33m \u001b[0mbuildRoleType\u001b[0m\u001b[1;33m(\u001b[0m\u001b[0mdf_mh\u001b[0m\u001b[1;33m,\u001b[0m \u001b[0mcolumn\u001b[0m\u001b[1;33m=\u001b[0m\u001b[1;34m'Work_Position'\u001b[0m\u001b[1;33m)\u001b[0m\u001b[1;33m\u001b[0m\u001b[0m\n\u001b[0m\u001b[0;32m      2\u001b[0m \u001b[0mdf_mh\u001b[0m \u001b[1;33m=\u001b[0m \u001b[0mdf_mh\u001b[0m\u001b[1;33m.\u001b[0m\u001b[0mdrop\u001b[0m\u001b[1;33m(\u001b[0m\u001b[0mcolumns\u001b[0m\u001b[1;33m=\u001b[0m\u001b[1;33m[\u001b[0m\u001b[1;34m'Work_Position'\u001b[0m\u001b[1;33m]\u001b[0m\u001b[1;33m)\u001b[0m\u001b[1;33m\u001b[0m\u001b[0m\n",
      "\u001b[1;31mNameError\u001b[0m: name 'buildRoleType' is not defined"
     ]
    }
   ],
   "source": [
    "buildRoleType(df_mh, column='Work_Position')\n",
    "df_mh = df_mh.drop(columns=['Work_Position'])"
   ]
  },
  {
   "cell_type": "code",
   "execution_count": null,
   "metadata": {},
   "outputs": [],
   "source": [
    "buildRoleType(df_mh, column='Work_Position')\n",
    "df_mh = df_mh.drop(columns=['Work_Position'])"
   ]
  },
  {
   "cell_type": "markdown",
   "metadata": {},
   "source": [
    "###### Another Approach to Role"
   ]
  },
  {
   "cell_type": "code",
   "execution_count": null,
   "metadata": {},
   "outputs": [],
   "source": [
    "def findRoleType2(workString):\n",
    "    #helper that finds the role type of an individual based on the string of\n",
    "    #job descriptions provided\n",
    "    roleDict = {\"technical\":[\"Front-end Developer\",\"Back-end Developer\",\n",
    "                            \"DevOps/SysAdmin\",\"Designer\", \"Support\",  \n",
    "                            \"Front-end Developer|Designer\", \"DevOps/SysAdmin|Back-end Developer|Front-end Developer\", \n",
    "                            \"DevOps/SysAdmin|Back-end Developer|Front-end Developer\",\n",
    "                            \"Front-end Developer|Back-end Developer|DevOps/SysAdmin\",                                                                  \n",
    "                            \"DevOps/SysAdmin|Support|Back-end Developer|Front-end Developer\",                                                                              \n",
    "                            \"Back-end Developer|One-person shop\",                                                                                                           \n",
    "                            \"Support|Back-end Developer\",                                                                                                                                                                                                                                                                                                                                       \n",
    "                            \"DevOps/SysAdmin|Support\",                                                                                                                                                                                                             \n",
    "                            \"One-person shop|Front-end Developer|Back-end Developer\",                                                                                        \n",
    "                            \"DevOps/SysAdmin|Back-end Developer|Front-end Developer|Designer\", \n",
    "                             \"Front-end Developer|Back-end Developer|Support|DevOps/SysAdmin\"\n",
    "                            \"HR\",\"Support\",\"Sales\",\"Dev Evangelist/Advocate\",\"Other\",\"One-person shop\"],\n",
    "            \"Supervisors_Leaders\": [\"Supervisor/Team Lead|Back-end Developer\",\n",
    "                                     \"Front-end Developer|Back-end Developer|DevOps/SysAdmin|Supervisor/Team Lead\",\n",
    "                            \"Supervisor/Team Lead\", \n",
    "                            \"One-person shop|Designer|Sales|Support|Supervisor/Team Lead\",\n",
    "                            \"Front-end Developer|Back-end Developer|Supervisor/Team Lead\",\n",
    "                            \"Supervisor/Team Lead|DevOps/SysAdmin|Back-end Developer\",                                                                                       \n",
    "                            \"Supervisor/Team Lead|DevOps/SysAdmin|Back-end Developer|Front-end Developer\",\n",
    "                              \"Supervisor/Team Lead|Front-end Developer\"\"Excecutive Leadership\",]               \n",
    "               }\n",
    "    #run through role dictionary\n",
    "    for technicalRole in roleDict[\"technical\"]:\n",
    "        #search to find it in job descriptions\n",
    "        if (technicalRole in workString):\n",
    "            #now see if they take on an additional non-technical role\n",
    "            for nonTechnicalRole in roleDict[\"Supervisors_Leaders\"]:\n",
    "                if (nonTechnicalRole in workString): #they do both\n",
    "                    return \"Leaders&Supervisors\"\n",
    "            #if we got to this point, they are just technical\n",
    "            return \"technical\"\n",
    "    #if we got here, they are non-technical\n",
    "    return \"Leaders\""
   ]
  },
  {
   "cell_type": "code",
   "execution_count": null,
   "metadata": {},
   "outputs": [],
   "source": [
    "def buildRoleType2(dataFrame, column):\n",
    "    #helper to build the role type variable\n",
    "    dataFrame[\"Work_Role_Position\"] = dataFrame[\n",
    "        column].apply(findRoleType2)\n",
    "    return dataFrame"
   ]
  },
  {
   "cell_type": "code",
   "execution_count": null,
   "metadata": {},
   "outputs": [],
   "source": [
    "buildRoleType2(df_mhU, column='Work_Position')\n",
    "df_mhU = df_mhU.drop(columns=['Work_Position'])"
   ]
  },
  {
   "cell_type": "code",
   "execution_count": null,
   "metadata": {},
   "outputs": [],
   "source": [
    "plot_count('Work_Role_Position', 'Frequency')"
   ]
  },
  {
   "cell_type": "markdown",
   "metadata": {},
   "source": [
    "#### MH_Conditions_MedicalProf"
   ]
  },
  {
   "cell_type": "code",
   "execution_count": null,
   "metadata": {},
   "outputs": [],
   "source": [
    "# Code to obtain list of others:\n",
    "# df_mh_conditions_MedicalProf_binarized = df_mh['MH_Conditions_MedicalProf'].str.join(sep='*').str.get_dummies(sep='*')\n",
    "# df_count = df_mh_conditions_MedicalProf_binarized.sum(axis=0)\n",
    "# [df_count.index[v] for v in  range(len(df_mh_conditions_MedicalProf_binarized.sum(axis=0))) if df_count.values[v] > 3]\n",
    "\n",
    "list_of_others= ['Anxiety Disorder (Generalized, Social, Phobia, etc)','Attention Deficit', 'Autism', 'Dissociative Disorder',\n",
    " 'Eating Disorder (Anorexia, Bulimia, etc)', 'Mood Disorder (Depression, Bipolar Disorder, etc)',\n",
    " 'Obsessive-Compulsive Disorder', 'Personality Disorder (Borderline, Antisocial, Paranoid, etc)',\n",
    " 'Post-traumatic Stress Disorder', 'Psychotic Disorder (Schizophrenia, Schizoaffective, etc)',\n",
    " 'Stress Response Syndromes', 'Substance Use Disorder', 'nan']\n",
    "\n",
    "def merge_conditions_fn(prefix):\n",
    "    def merge_conditions(row):\n",
    "        new_list = []\n",
    "        for c in row:\n",
    "            target_disease = c\n",
    "            if \"asperger\" in c.lower():\n",
    "                target_disease = \"Asperger Syndrome\"\n",
    "            elif \"autism\" in c.lower():\n",
    "                target_disease = \"Autism\"\n",
    "            elif \"attention deficit\" in c.lower() or \"add\" in c.lower():\n",
    "                target_disease = \"Attention Deficit\"\n",
    "            elif \"Post-traumatic Stress Disorder\" in c.lower() or \"posttraumatic stress disourder\" in c.lower():\n",
    "                target_disease = \"Post-traumatic Stress Disorder\"\n",
    "            elif \"pdd-nos\" in c.lower(): # Will never fall on this branch.\n",
    "                target_disease = \"PPD-NOS\"\n",
    "\n",
    "            if target_disease not in list_of_others:\n",
    "                new_list.append(prefix + \"_\" + \"Others\")\n",
    "            else:\n",
    "                new_list.append(prefix + \"_\" + target_disease)\n",
    "        return new_list\n",
    "    \n",
    "    return merge_conditions"
   ]
  },
  {
   "cell_type": "code",
   "execution_count": null,
   "metadata": {},
   "outputs": [],
   "source": [
    "def separate_medical_conditions(df, column):\n",
    "    df_mh[column] = df[column].apply(lambda x: str(x).split('|'))\n",
    "    df_mh[column] = df_mh[column].apply(merge_conditions_fn(prefix=column))\n",
    "    df_mh_conditions_binarized = df_mh[column].str.join(sep='*').str.get_dummies(sep='*')\n",
    "    \n",
    "    return df_mh_conditions_binarized "
   ]
  },
  {
   "cell_type": "code",
   "execution_count": null,
   "metadata": {},
   "outputs": [],
   "source": [
    "def separate_medical_conditionsU(df, column):\n",
    "    df_mhU[column] = df[column].apply(lambda x: str(x).split('|'))\n",
    "    df_mhU[column] = df_mhU[column].apply(merge_conditions_fn(prefix=column))\n",
    "    df_mh_conditions_binarizedU = df_mhU[column].str.join(sep='*').str.get_dummies(sep='*')\n",
    "    \n",
    "    return df_mh_conditions_binarizedU "
   ]
  },
  {
   "cell_type": "code",
   "execution_count": null,
   "metadata": {},
   "outputs": [],
   "source": [
    "df_mh_conditions_MedicalProf_binarized = separate_medical_conditionsU(df_mh, column=\"MH_Conditions_MedicalProf\")\n",
    "df_mh_conditions_MH_Present_Conditions_binarized = separate_medical_conditions(df_mh, column=\"MH_Present_Conditions\")\n",
    "df_mh_conditions_MH_Maybe_Present_Conditions_binarized = separate_medical_conditions(df_mh, column=\"MH_Maybe_Present_Conditions\")"
   ]
  },
  {
   "cell_type": "code",
   "execution_count": null,
   "metadata": {},
   "outputs": [],
   "source": [
    "MH_CondProf_bin = separate_medical_conditionsU(df_mhU, column=\"MH_Conditions_MedicalProf\")\n",
    "MH_CondPres_bin = separate_medical_conditionsU(df_mhU, column=\"MH_Present_Conditions\")\n",
    "MH_CondMaybePres_bin = separate_medical_conditionsU(df_mhU, column=\"MH_Maybe_Present_Conditions\")"
   ]
  },
  {
   "cell_type": "markdown",
   "metadata": {},
   "source": [
    "                                #missing_Values       %missing values\n",
    "    MH_Maybe_Present_Conditions \t  1111\t                 77.5\n",
    "\n",
    "          MH_Present_Conditions\t    865 \t               60.4\n",
    "      \n",
    "      MH_Conditions_MedicalProf\t    722 \t               50.4\n",
    "  \n",
    "  \n",
    "As we can see in the missing_values_table output, for the description of medical conditions, the are a lot of missig values, because they are only answered depending if they said that they have a mental illness or if maybe they have.\n",
    "So our medical conditions will be built uppon the different origins of discription.\n",
    "The leats frequent occurences will be aggregated in other categorie.\n"
   ]
  },
  {
   "cell_type": "markdown",
   "metadata": {},
   "source": [
    "#### Cleaning"
   ]
  },
  {
   "cell_type": "code",
   "execution_count": null,
   "metadata": {},
   "outputs": [],
   "source": [
    "def clean_NaN(df):\n",
    "    for col in df.columns:\n",
    "        df[col]=df[col].fillna('Null')"
   ]
  },
  {
   "cell_type": "code",
   "execution_count": null,
   "metadata": {},
   "outputs": [],
   "source": [
    "# Convert np.nan to string \"Null\"\n",
    "clean_NaN(df_mh)"
   ]
  },
  {
   "cell_type": "code",
   "execution_count": null,
   "metadata": {},
   "outputs": [],
   "source": [
    "# Convert np.nan to string \"Null\"\n",
    "clean_NaN(df_mhU)"
   ]
  },
  {
   "cell_type": "markdown",
   "metadata": {},
   "source": [
    "###### Cleaning Gender"
   ]
  },
  {
   "cell_type": "code",
   "execution_count": null,
   "metadata": {},
   "outputs": [],
   "source": [
    "#Clean function: Delete non-alphabetic characters"
   ]
  },
  {
   "cell_type": "code",
   "execution_count": null,
   "metadata": {},
   "outputs": [],
   "source": [
    "def clean(x):    \n",
    "    result = re.sub(r'[^a-zA-Z]', \"\", str(x))\n",
    "    return str(result).lower().strip()"
   ]
  },
  {
   "cell_type": "code",
   "execution_count": null,
   "metadata": {},
   "outputs": [],
   "source": [
    "df_mh['Gender']=df_mh['Gender'].apply(clean).replace(['male'], 'Male')"
   ]
  },
  {
   "cell_type": "code",
   "execution_count": null,
   "metadata": {},
   "outputs": [],
   "source": [
    "df_mh['Gender']=df_mh['Gender'].apply(clean).replace(['m','male','man', 'cis male', 'cis man', 'nan', 'male cis', 'male (cis)', 'cismale', 'malecis','malr', 'cisdude', 'dude', 'cisman', 'imamanwhydidntyoumakethisadropdownquestionyoushouldofaskedsexandiwouldofansweredyespleaseseriouslyhowmuchtextcanthistake', 'sexismale'], 'Male')\n",
    "df_mh['Gender']=df_mh['Gender'].replace(['f', 'female', 'I identify as female.','woman', 'Woman', 'cisfemale', 'fem', 'ciswoman', 'iidentifyasfemale', 'cisgenderfemale', 'femalewoman', 'fm', 'femaleassignedatbirth', 'genderfluidbornfemale', 'femalebodiednofeelingsaboutgender', 'femalepropsformakingthisafreeformfieldthough' ], 'Female')\n",
    "df_mh['Gender']=df_mh['Gender'].replace(['genderqueer','non-binary', 'agender', 'nonbinary', 'transitionedmf', 'genderqueerwoman', 'other', 'genderfluxdemigirl', 'malegenderqueer', 'queer', 'transgenderwoman', 'fluid', 'androgynous', 'genderfluid', 'femaleormultigenderfemme','mail', 'enby','mtf','afab','unicorn','bigender','noneofyourbusiness','nbmasculine','maletransftm','human','malefemaleroughly','othertransfeminine',], 'Non-Binary')"
   ]
  },
  {
   "cell_type": "code",
   "execution_count": null,
   "metadata": {},
   "outputs": [],
   "source": [
    "df_mhU['Gender']=df_mhU['Gender'].apply(clean).replace(['male'], 'Male')\n",
    "df_mhU['Gender']=df_mhU['Gender'].apply(clean).replace(['m','male','man', 'cis male', 'cis man', 'nan', 'male cis', 'male (cis)', 'cismale', 'malecis','malr', 'cisdude', 'dude', 'cisman', 'imamanwhydidntyoumakethisadropdownquestionyoushouldofaskedsexandiwouldofansweredyespleaseseriouslyhowmuchtextcanthistake', 'sexismale'], 'Male')\n",
    "df_mhU['Gender']=df_mhU['Gender'].replace(['f', 'female', 'I identify as female.','woman', 'Woman', 'cisfemale', 'fem', 'ciswoman', 'iidentifyasfemale', 'cisgenderfemale', 'femalewoman', 'fm', 'femaleassignedatbirth', 'genderfluidbornfemale', 'femalebodiednofeelingsaboutgender', 'femalepropsformakingthisafreeformfieldthough' ], 'Female')\n",
    "df_mhU['Gender']=df_mhU['Gender'].replace(['genderqueer','non-binary', 'agender', 'nonbinary', 'transitionedmf', 'genderqueerwoman', 'other', 'genderfluxdemigirl', 'malegenderqueer', 'queer', 'transgenderwoman', 'fluid', 'androgynous', 'genderfluid', 'femaleormultigenderfemme','mail', 'enby','mtf','afab','unicorn','bigender','noneofyourbusiness','nbmasculine','maletransftm','human','malefemaleroughly','othertransfeminine',], 'Non-Binary')"
   ]
  },
  {
   "cell_type": "code",
   "execution_count": null,
   "metadata": {},
   "outputs": [],
   "source": [
    "fig = plt.figure(figsize=(10, 8))\n",
    "act_mf_disorder_count = df_mh['Gender'].value_counts()\n",
    "sns.set(style=\"darkgrid\")\n",
    "sns.barplot(act_mf_disorder_count.index, act_mf_disorder_count.values, alpha=0.9)\n",
    "plt.title('Frequency Distribution of Genders')\n",
    "plt.ylabel('Number of Occurrences', fontsize=12)\n",
    "plt.xlabel('Genders', fontsize=12)\n",
    "plt.xticks(rotation=90)\n",
    "plt.show()"
   ]
  },
  {
   "cell_type": "code",
   "execution_count": null,
   "metadata": {},
   "outputs": [],
   "source": [
    "df_mh = df_mh[df_mh.Gender.isin(['Male','Female','Non-Binary'])]"
   ]
  },
  {
   "cell_type": "code",
   "execution_count": null,
   "metadata": {},
   "outputs": [],
   "source": [
    "df_mhU = df_mhU[df_mhU.Gender.isin(['Male','Female','Non-Binary'])]"
   ]
  },
  {
   "cell_type": "code",
   "execution_count": null,
   "metadata": {},
   "outputs": [],
   "source": [
    "plot_count(column='Gender', name='Genders')"
   ]
  },
  {
   "cell_type": "markdown",
   "metadata": {},
   "source": [
    "#### Cleaning age"
   ]
  },
  {
   "cell_type": "markdown",
   "metadata": {},
   "source": [
    "##### Treating Age  - The Most Frequent Age is 30 Years so to the values that are stranhe -3, 323, 99 we convert them to the average "
   ]
  },
  {
   "cell_type": "code",
   "execution_count": null,
   "metadata": {},
   "outputs": [],
   "source": [
    "plot_count('Age', 'Age Dstribution')"
   ]
  },
  {
   "cell_type": "code",
   "execution_count": null,
   "metadata": {},
   "outputs": [],
   "source": [
    "df_mh['Age'].replace([3,323,99],30, inplace=True)"
   ]
  },
  {
   "cell_type": "code",
   "execution_count": null,
   "metadata": {},
   "outputs": [],
   "source": [
    "df_mhU['Age'].replace([3,323,99],30, inplace=True)"
   ]
  },
  {
   "cell_type": "code",
   "execution_count": null,
   "metadata": {},
   "outputs": [],
   "source": [
    "plot_count('Age', 'Age Dstribution')"
   ]
  },
  {
   "cell_type": "code",
   "execution_count": null,
   "metadata": {},
   "outputs": [],
   "source": [
    "bins = [14, 20, 25,30,35,40,45,50,55,60,65,101]\n",
    "df_mhU['Age_Bined'] = pd.cut(df_mhU['Age'], bins)"
   ]
  },
  {
   "cell_type": "code",
   "execution_count": null,
   "metadata": {},
   "outputs": [],
   "source": [
    "plot_count('Age_Bined', 'Age Dstribution')"
   ]
  },
  {
   "cell_type": "markdown",
   "metadata": {},
   "source": [
    "#### Group Countries with lower frequencies in 'Others' Category"
   ]
  },
  {
   "cell_type": "code",
   "execution_count": null,
   "metadata": {},
   "outputs": [],
   "source": [
    "plot_count('Country_Live', 'Frequency')"
   ]
  },
  {
   "cell_type": "markdown",
   "metadata": {},
   "source": [
    "###### Function defined to group variables with lower frequencies "
   ]
  },
  {
   "cell_type": "code",
   "execution_count": null,
   "metadata": {},
   "outputs": [],
   "source": [
    "def clean_by_freq(df,frequency_threshold,column):\n",
    "         count_column = df[column].value_counts()\n",
    "         count_column = count_column[count_column < frequency_threshold].index\n",
    "         df[column] = df[column].replace({x:'other' for x in count_column})"
   ]
  },
  {
   "cell_type": "code",
   "execution_count": null,
   "metadata": {},
   "outputs": [],
   "source": [
    "clean_by_freq(df_mhU,50,column=\"Country_Live\")"
   ]
  },
  {
   "cell_type": "code",
   "execution_count": null,
   "metadata": {},
   "outputs": [],
   "source": [
    "plot_count('Country_Live', 'Frequency')"
   ]
  },
  {
   "cell_type": "markdown",
   "metadata": {},
   "source": [
    "#### Group States with lower frequencies in 'Others' Category"
   ]
  },
  {
   "cell_type": "code",
   "execution_count": null,
   "metadata": {},
   "outputs": [],
   "source": [
    "plot_count('State_Work', 'Frequency')"
   ]
  },
  {
   "cell_type": "code",
   "execution_count": null,
   "metadata": {},
   "outputs": [],
   "source": [
    "clean_by_freq(df_mhU,45,column=\"State_Work\")"
   ]
  },
  {
   "cell_type": "code",
   "execution_count": null,
   "metadata": {},
   "outputs": [],
   "source": [
    "plot_count('State_Work', 'Frequency')"
   ]
  },
  {
   "cell_type": "code",
   "execution_count": null,
   "metadata": {},
   "outputs": [],
   "source": [
    "plot_count('Country_Work', 'Distribution')"
   ]
  },
  {
   "cell_type": "code",
   "execution_count": null,
   "metadata": {},
   "outputs": [],
   "source": [
    "clean_by_freq(df_mhU,45,column=\"Country_Work\")"
   ]
  },
  {
   "cell_type": "code",
   "execution_count": null,
   "metadata": {},
   "outputs": [],
   "source": [
    "plot_count('Country_Work', 'Distribution')"
   ]
  },
  {
   "cell_type": "markdown",
   "metadata": {},
   "source": [
    "### Statistical Analysis"
   ]
  },
  {
   "cell_type": "code",
   "execution_count": null,
   "metadata": {},
   "outputs": [],
   "source": [
    "df_mh.dtypes # columns Self-Employed, Type_Company, 1stRole, Q17, Q25, SoughTreatment_MH_Prof should also be categorical"
   ]
  },
  {
   "cell_type": "code",
   "execution_count": null,
   "metadata": {},
   "outputs": [],
   "source": [
    "df_mh['Self-Employed']=df_mh['Self-Employed'].astype('category') \n",
    "df_mh['Q25']=df_mh['Q25'].astype('category') \n",
    "df_mh['SoughTreatment_MH_Prof']=df_mh['SoughTreatment_MH_Prof'].astype('category') "
   ]
  },
  {
   "cell_type": "code",
   "execution_count": null,
   "metadata": {},
   "outputs": [],
   "source": [
    "df_mhU['Self-Employed']=df_mhU['Self-Employed'].astype('category') \n",
    "df_mhU['Q25']=df_mhU['Q25'].astype('category') \n",
    "df_mhU['SoughTreatment_MH_Prof']=df_mhU['SoughTreatment_MH_Prof'].astype('category') "
   ]
  },
  {
   "cell_type": "code",
   "execution_count": null,
   "metadata": {},
   "outputs": [],
   "source": [
    "columns_to_encode = [\"1stRole_IT\", \"Consequence_in_Work_MH\", \"Country_Live\", \"Country_Work\",\n",
    "       \"Employeer_Discuss_MH\", \"Employer_Considered_MH_PH\",\n",
    "       \"Family_MentalIllness\", \"Gender\", \"Health_Benefits\",\n",
    "       \"Health_Care_Options_MH\", \"MH_Conditions_MedicalProf\",\n",
    "       \"MH_Diagnosed_MedicalProf\", \"MH_HurtCarrer\",\n",
    "       \"MH_Maybe_Present_Conditions\", \"MH_Past\", \"MH_Present\",\n",
    "       \"MH_Present_Conditions\", \"MH_Resources_Seeking_Help\", \"Num_Employees\",\n",
    "       \"Productivity_Affected_MH\", \"Q10\", \"Q11\", \"Q12\", \"Q13\", \"Q14\", \"Q17\",\n",
    "       \"Q18\", \"Q20\", \"Q21\", \"Q22\", \"Q24\", \"Q25\", \"Q26\", \"Q27\", \"Q28\", \"Q29\",\n",
    "       \"Q30\", \"Q31\", \"Q32\", \"Q33\", \"Q34\", \"Q35\", \"Q36\", \"Q37\", \"Q38\", \"Q39\",\n",
    "       \"Q40\", \"Q44\", \"Q45\", \"Q54\", \"Q55\", \"Q9\", \"Remote_Worker\",\n",
    "       \"Reveal_MH_to_BusinessContacts\", \"Self-Employed\",\n",
    "       \"Share_MH_FriendsAndFamily\", \"SoughTreatment_MH_Prof\", \"State_Live\",\n",
    "       \"State_Work\", \"Team_ViewNegatively_MH\", \"Type_Company\",\"Work_Role_Position\"]\n"
   ]
  },
  {
   "cell_type": "code",
   "execution_count": null,
   "metadata": {},
   "outputs": [],
   "source": [
    "### Análise a Variáveis Que Vão Alimentar Modelo\n",
    "\n",
    "#Função que cálcula Chi2\n",
    "\n",
    "class ChiSquare:\n",
    "    def __init__(self, dataframe):\n",
    "        self.df = dataframe\n",
    "        self.p = None #P-Value\n",
    "        self.chi2 = None #Chi Test Statistic\n",
    "        self.dof = None\n",
    "        self.dfObserved = None\n",
    "        self.dfExpected = None\n",
    "\n",
    "    def _print_chisquare_result(self, colX, alpha):\n",
    "        result = \"\"\n",
    "        if self.p<alpha:\n",
    "            result=\"{0} is IMPORTANT for Prediction\".format(colX)\n",
    "        else:\n",
    "            result=\"{0} is NOT an important predictor. (Discard {0} from model)\".format(colX)\n",
    "\n",
    "        print(result)\n",
    "\n",
    "    def TestIndependence(self,colX,colY, alpha=0.05):\n",
    "        X = self.df[colX].astype(str)\n",
    "        Y = self.df[colY].astype(str)\n",
    "        self.dfObserved = pd.crosstab(Y,X)\n",
    "        chi2, p, dof, expected = stats.chi2_contingency(self.dfObserved.values)\n",
    "        self.p = p\n",
    "        self.chi2 = chi2\n",
    "        self.dof = dof\n",
    "        self.dfExpected = pd.DataFrame(expected, columns=self.dfObserved.columns, index = self.dfObserved.index)\n",
    "        self._print_chisquare_result(colX,alpha)\n",
    "        print(chi2)\n"
   ]
  },
  {
   "cell_type": "code",
   "execution_count": null,
   "metadata": {},
   "outputs": [],
   "source": [
    "cT = ChiSquare(df_mh)\n",
    "for var in df_mh.columns:\n",
    "    cT.TestIndependence(colX=var,colY=\"MH_Diagnosed_MedicalProf\")"
   ]
  },
  {
   "cell_type": "code",
   "execution_count": null,
   "metadata": {},
   "outputs": [],
   "source": [
    "pd.crosstab(df_mh['MH_Diagnosed_MedicalProf'],df_mh['Age_Bined']) "
   ]
  },
  {
   "cell_type": "code",
   "execution_count": null,
   "metadata": {},
   "outputs": [],
   "source": [
    "pd.crosstab(df_mh['MH_Diagnosed_MedicalProf'],df_mh['Country_Live'])"
   ]
  },
  {
   "cell_type": "code",
   "execution_count": null,
   "metadata": {},
   "outputs": [],
   "source": [
    "pd.crosstab(df_mh['MH_Diagnosed_MedicalProf'],df_mh['Gender'])"
   ]
  },
  {
   "cell_type": "code",
   "execution_count": null,
   "metadata": {},
   "outputs": [],
   "source": [
    "pd.crosstab(df_mh['MH_Present'],df_mh['Gender'])"
   ]
  },
  {
   "cell_type": "code",
   "execution_count": null,
   "metadata": {},
   "outputs": [],
   "source": [
    "pd.crosstab(df_mh['MH_Past'],df_mh['Gender'])"
   ]
  },
  {
   "cell_type": "markdown",
   "metadata": {},
   "source": [
    "## Task 1 (Supervised Learning) - Predicting if a person has a mental health disorder "
   ]
  },
  {
   "cell_type": "markdown",
   "metadata": {},
   "source": [
    "In this task you should **learn classifiers to predict if a person currently has a mental health disorder**:\n",
    "\n",
    "* Choose one classifier in each category: Tree models, Rule models, Linear models, Distance-based models, and Probabilistic models.\n",
    "* Use a train/test scheme or cross-valiation.\n",
    "* Describe the parameters used.\n",
    "* Evaluate the results using an evaluation measure and confusion matrices.\n",
    "* Choose the best classifier and fundament you choice."
   ]
  },
  {
   "cell_type": "markdown",
   "metadata": {},
   "source": [
    "## Parameters"
   ]
  },
  {
   "cell_type": "code",
   "execution_count": null,
   "metadata": {},
   "outputs": [],
   "source": [
    "age_minimum_threshold = 14\n",
    "age_maximum_threshold = 100\n",
    "\n",
    "# Percentage of data used for testing\n",
    "test_size = 0.30\n",
    "\n",
    "#Columns to drop for first test\n",
    "#'Self-Employed', 'Num_Employees', 'Type_Company', '1stRole_IT', 'Employees_Discuss_MH', 'MH_Resources_Seeking_Help', 'Q9',\n",
    "#'Q10', 'Q11', 'Q12', 'Q13', 'Q17', 'Q18', 'Q20', 'Q21', 'Q22', 'Q24', 'Q25', 'Q26', 'Q27', 'Q28', 'Q29', 'Q30', 'Q31', 'Q32',\n",
    "#'Q33', 'Q34', 'Q35', 'Q36', 'Q37', 'Q38', 'Q39', 'Q40', 'Q44', 'Q45', 'Q54', 'Q55',\n"
   ]
  },
  {
   "cell_type": "markdown",
   "metadata": {},
   "source": [
    "## 1.1. Preprocessing Data for Classification"
   ]
  },
  {
   "cell_type": "code",
   "execution_count": null,
   "metadata": {},
   "outputs": [],
   "source": [
    "##Drop some features of dataframe\n",
    "df_mh = df_mh.drop(columns = ['Self-Employed', 'Num_Employees', 'Type_Company', '1stRole_IT', 'Employeer_Discuss_MH', \n",
    "                      'MH_Resources_Seeking_Help', 'Q9', 'Q10','Q11', 'Q12', 'Q13', 'Q17', 'Q18', 'Q20', 'Q21', 'Q22', \n",
    "                      'Q24', 'Q25', 'Q26', 'Q27', 'Q28', 'Q29', 'Q30', 'Q31', 'Q32', 'Q33', 'Q34', 'Q35', 'Q36', 'Q37', \n",
    "                      'Q38', 'Q39', 'Q40', 'Q44', 'Q45', 'Q54', 'Q55', 'State_Work', 'Productivity_Affected_MH', \n",
    "                      'State_Live'])\n",
    "\n",
    "\n",
    "#\"Q10\"\n"
   ]
  },
  {
   "cell_type": "markdown",
   "metadata": {},
   "source": [
    "#### Binarize Categorical Columns"
   ]
  },
  {
   "cell_type": "code",
   "execution_count": null,
   "metadata": {},
   "outputs": [],
   "source": [
    "def binarize_column(df, column_name):\n",
    "    df_binarized=pd.get_dummies(df[column_name], prefix=column_name)\n",
    "    df_binarized=pd.concat([df, df_binarized], sort=False, axis=1)\n",
    "    return df_binarized.drop(columns=[column_name])"
   ]
  },
  {
   "cell_type": "code",
   "execution_count": null,
   "metadata": {},
   "outputs": [],
   "source": [
    "df_mh_binarized = binarize_column(df_mh, column_name='Gender')\n",
    "df_mh_binarized = binarize_column(df_mh_binarized, column_name='Share_MH_FriendsAndFamily')\n",
    "df_mh_binarized = binarize_column(df_mh_binarized, column_name='Team_ViewNegatively_MH')\n",
    "df_mh_binarized = binarize_column(df_mh_binarized, column_name='Consequence_in_Work_MH')\n",
    "df_mh_binarized = binarize_column(df_mh_binarized, column_name='Health_Care_Options_MH')\n",
    "df_mh_binarized = binarize_column(df_mh_binarized, column_name='Health_Benefits')\n",
    "df_mh_binarized = binarize_column(df_mh_binarized, column_name='Q14')\n",
    "df_mh_binarized = binarize_column(df_mh_binarized, column_name='Employer_Considered_MH_PH')\n",
    "df_mh_binarized = binarize_column(df_mh_binarized, column_name='Reveal_MH_to_BusinessContacts')\n",
    "df_mh_binarized = binarize_column(df_mh_binarized, column_name='Family_MentalIllness')\n",
    "df_mh_binarized = binarize_column(df_mh_binarized, column_name='MH_Past')\n",
    "df_mh_binarized = binarize_column(df_mh_binarized, column_name='MH_HurtCarrer')\n",
    "df_mh_binarized = binarize_column(df_mh_binarized, column_name='Work_Role_Position')\n",
    "df_mh_binarized = binarize_column(df_mh_binarized, column_name='Remote_Worker')\n",
    "\n",
    "\n",
    "df_mh_binarized[\"MH_Diagnosed_MedicalProf\"] = df_mh_binarized[\"MH_Diagnosed_MedicalProf\"].apply(lambda x: 1 if x == \"Yes\" else 0)\n",
    "\n",
    "\n",
    "# Binarize Conditions of column MH_Conditions_MedicalProf\n",
    "df_mh_binarized = pd.concat([df_mh_binarized, df_mh_conditions_MedicalProf_binarized], sort=False, axis=1)\n",
    "df_mh_binarized = df_mh_binarized.drop(columns=[\"MH_Conditions_MedicalProf\"])\n",
    "\n",
    "\n",
    "## Ground-truth columns\n",
    "# df_mh_binarized = binarize_column(df_mh_binarized, column_name='MH_Present')\n",
    "\n",
    "# # Binarize Conditions of column MH_Present_Conditions\n",
    "# df_mh_binarized = pd.concat([df_mh_binarized, df_mh_conditions_MH_Present_Conditions_binarized], sort=False, axis=1)\n",
    "# df_mh_binarized = df_mh_binarized.drop(columns=[\"MH_Present_Conditions\"])\n",
    "\n",
    "# # Binarize Conditions of column MH_Maybe_Present_Conditions\n",
    "# df_mh_binarized = pd.concat([df_mh_binarized, df_mh_conditions_MH_Maybe_Present_Conditions_binarized], sort=False, axis=1)\n",
    "# df_mh_binarized = df_mh_binarized.drop(columns=[\"MH_Maybe_Present_Conditions\"])\n",
    "\n",
    "\n",
    "\n"
   ]
  },
  {
   "cell_type": "code",
   "execution_count": null,
   "metadata": {},
   "outputs": [],
   "source": [
    "# Convert Country columns to category type\n",
    "country_codes = {country: code for code, country in enumerate(set(list(df_mh_binarized.Country_Live.unique()) \n",
    "                                                                  + list(df_mh_binarized.Country_Work.unique())))}\n",
    "df_mh_binarized.Country_Live = df_mh_binarized.Country_Live.apply(lambda x: country_codes[x])\n",
    "df_mh_binarized.Country_Work = df_mh_binarized.Country_Work.apply(lambda x: country_codes[x])\n",
    "\n",
    "#Create \n",
    "class_codes = {\"No\": 0, 'Maybe':1, 'Yes': 2}\n",
    "df_mh_binarized.MH_Present = df_mh_binarized.MH_Present.apply(lambda x: class_codes[x])"
   ]
  },
  {
   "cell_type": "code",
   "execution_count": null,
   "metadata": {},
   "outputs": [],
   "source": [
    "print(df_mh_binarized.dtypes.values[0:76])"
   ]
  },
  {
   "cell_type": "markdown",
   "metadata": {},
   "source": [
    "#### Separate Groundtruth dataframes"
   ]
  },
  {
   "cell_type": "code",
   "execution_count": null,
   "metadata": {},
   "outputs": [],
   "source": [
    "# Remove groundtruth columns from dataset\n",
    "df_full = df_mh_binarized\n",
    "df_train = df_full.drop(columns=[\"MH_Present\", \"MH_Present_Conditions\", \"MH_Maybe_Present_Conditions\"])"
   ]
  },
  {
   "cell_type": "code",
   "execution_count": null,
   "metadata": {},
   "outputs": [],
   "source": [
    "print(df_train.dtypes.values[0:76])"
   ]
  },
  {
   "cell_type": "code",
   "execution_count": null,
   "metadata": {},
   "outputs": [],
   "source": []
  },
  {
   "cell_type": "markdown",
   "metadata": {},
   "source": [
    "Pearson Correlation Analysis"
   ]
  },
  {
   "cell_type": "code",
   "execution_count": null,
   "metadata": {},
   "outputs": [],
   "source": [
    "corr_matrix = df_mh_binarized.corr()\n",
    "\n",
    "upper = corr_matrix.abs().where(np.triu(np.ones(corr_matrix.shape), k=1).astype(np.bool))\n",
    "\n",
    "# Find index of feature columns with correlation greater than 0.95\n",
    "to_drop = [column for column in upper.columns if any(upper[column] > 0.95)]\n",
    "to_drop"
   ]
  },
  {
   "cell_type": "code",
   "execution_count": null,
   "metadata": {},
   "outputs": [],
   "source": [
    "fig = plt.figure(figsize=(12,12))\n",
    "ax = fig.add_subplot(111)\n",
    "cax = ax.matshow(corr_matrix,cmap='coolwarm', vmin=-1, vmax=1)\n",
    "fig.colorbar(cax)\n",
    "ticks = np.arange(0,len(df_mh_binarized.columns),1)\n",
    "ax.set_xticks(ticks)\n",
    "plt.xticks(rotation=90)\n",
    "ax.set_yticks(ticks)\n",
    "ax.set_xticklabels(df_mh_binarized.columns)\n",
    "ax.set_yticklabels(df_mh_binarized.columns)\n",
    "plt.show()"
   ]
  },
  {
   "cell_type": "markdown",
   "metadata": {},
   "source": [
    "### Create dataset splits for prediction"
   ]
  },
  {
   "cell_type": "code",
   "execution_count": null,
   "metadata": {},
   "outputs": [],
   "source": [
    "Y = df_mh_binarized[\"MH_Present\"].values\n",
    "\n",
    "X = df_train.values\n",
    "\n",
    "X.shape, Y.shape"
   ]
  },
  {
   "cell_type": "code",
   "execution_count": null,
   "metadata": {},
   "outputs": [],
   "source": [
    "X_train, X_test, y_train, y_test = train_test_split(X, Y, test_size=test_size, random_state=42, stratify=Y)"
   ]
  },
  {
   "cell_type": "markdown",
   "metadata": {},
   "source": [
    "## 1.2. Learning Classifiers"
   ]
  },
  {
   "cell_type": "markdown",
   "metadata": {},
   "source": [
    "### Auxiliary functions"
   ]
  },
  {
   "cell_type": "code",
   "execution_count": null,
   "metadata": {},
   "outputs": [],
   "source": [
    "def get_parameters_of_best_model(test_scores, models_params):\n",
    "    best_model_idx = np.argmax(test_scores)\n",
    "    return models_params[best_model_idx]"
   ]
  },
  {
   "cell_type": "code",
   "execution_count": null,
   "metadata": {},
   "outputs": [],
   "source": [
    "##Drop some features of dataframe\n",
    "df_mh = df_mh.drop(columns = ['Self-Employed', 'Num_Employees', 'Type_Company', '1stRole_IT', 'Employeer_Discuss_MH', \n",
    "                      'MH_Resources_Seeking_Help', 'Q9', 'Q10','Q11', 'Q12', 'Q13', 'Q17', 'Q18', 'Q20', 'Q21', 'Q22', \n",
    "                      'Q24', 'Q25', 'Q26', 'Q27', 'Q28', 'Q29', 'Q30', 'Q31', 'Q32', 'Q33', 'Q34', 'Q35', 'Q36', 'Q37', 'Q38', 'Q39', 'Q40', 'Q44', 'Q45', 'Q54', 'Q55', 'State_Work', 'Productivity_Affected_MH', 'State_Live'])\n",
    "\n",
    "\n",
    "#\"Q10\"\n"
   ]
  },
  {
   "cell_type": "markdown",
   "metadata": {},
   "source": [
    "### Create Feature Vectors"
   ]
  },
  {
   "cell_type": "code",
   "execution_count": null,
   "metadata": {},
   "outputs": [],
   "source": [
    "##Drop some features of dataframe\n",
    "df_mh = df_mh.drop(columns = ['Self-Employed', 'Num_Employees', 'Type_Company', '1stRole_IT', 'Employeer_Discuss_MH', \n",
    "                      'MH_Resources_Seeking_Help', 'Q9', 'Q10','Q11', 'Q12', 'Q13', 'Q17', 'Q18', 'Q20', 'Q21', 'Q22', \n",
    "                      'Q24', 'Q25', 'Q26', 'Q27', 'Q28', 'Q29', 'Q30', 'Q31', 'Q32', 'Q33', 'Q34', 'Q35', 'Q36', 'Q37', 'Q38', 'Q39', 'Q40', 'Q44', 'Q45', 'Q54', 'Q55', 'State_Work', 'Productivity_Affected_MH', 'State_Live'])\n",
    "\n",
    "\n",
    "#\"Q10\"\n"
   ]
  },
  {
   "cell_type": "markdown",
   "metadata": {},
   "source": [
    "### Linear Model"
   ]
  },
  {
   "cell_type": "markdown",
   "metadata": {},
   "source": [
    "SVM - Selecting classifier parameters using K-fold Cross Validation\n",
    "For the SVM classifier, we will experiment with the following parameters: type of kernel, C, tolerance. The kernel is .., the C is the .., the tolerance is the ..\n",
    "\n",
    "For the kernel parameter we consider a linear kernel and a Radial Basis Function kernel. For the C parameter ... For the tolerance parameter ..."
   ]
  },
  {
   "cell_type": "code",
   "execution_count": null,
   "metadata": {},
   "outputs": [],
   "source": [
    "from sklearn.model_selection import GridSearchCV\n",
    "parameters = {'kernel':('linear', 'rbf'), 'C':[1, 10, 100], \"tol\": [1e-3, 1e-4]}\n",
    "svm = svm.SVC(decision_function_shape='ova')\n",
    "clf_1 = GridSearchCV(svm, parameters, cv=5, n_jobs=4, scoring=\"precision_macro\")\n",
    "clf_1.fit(X_train, y_train)\n",
    "                             \n",
    "#sorted(clf_1.cv_results_.keys())"
   ]
  },
  {
   "cell_type": "code",
   "execution_count": null,
   "metadata": {},
   "outputs": [],
   "source": [
    "list(zip(clf_1.cv_results_['params'], clf_1.cv_results_['mean_test_score'], clf_1.cv_results_['rank_test_score']))"
   ]
  },
  {
   "cell_type": "code",
   "execution_count": null,
   "metadata": {},
   "outputs": [],
   "source": [
    "clf_1_best_params = get_parameters_of_best_model(clf_1.cv_results_['mean_test_score'], clf_1.cv_results_['params'])\n",
    "print(clf_1_best_params)"
   ]
  },
  {
   "cell_type": "markdown",
   "metadata": {},
   "source": [
    "Conclusion: After this cross-validation we concluded that classifier with parameters Kernel: linear and tol;0.0001 has higher score. Because of that we choose this classifier with these parameters to compare with other type of classifiers."
   ]
  },
  {
   "cell_type": "markdown",
   "metadata": {},
   "source": [
    " Training the SVM classifier with the best parameters obtained with Cross-validation"
   ]
  },
  {
   "cell_type": "code",
   "execution_count": null,
   "metadata": {},
   "outputs": [],
   "source": [
    "# SVM Multi Class Classification>>> X = [[0], [1], [2], [3]]\n",
    "from sklearn import svm\n",
    "clf_svm_cv = svm.SVC(decision_function_shape='ova', **clf_1_best_params)\n",
    "clf_svm_cv.fit(X_train, y_train)\n",
    "\n",
    "Y_pred_svm_cv=clf_svm_cv.predict(X_test)\n"
   ]
  },
  {
   "cell_type": "code",
   "execution_count": null,
   "metadata": {},
   "outputs": [],
   "source": [
    "# docs: http://scikit-learn.org/stable/modules/generated/sklearn.metrics.classification_report.html#sklearn.metrics.classification_report\n",
    "from sklearn.metrics import classification_report\n",
    "\n",
    "print(classification_report(y_test, Y_pred_svm_cv))"
   ]
  },
  {
   "cell_type": "markdown",
   "metadata": {},
   "source": [
    "Training the SVM classifier with default parameters"
   ]
  },
  {
   "cell_type": "code",
   "execution_count": null,
   "metadata": {},
   "outputs": [],
   "source": [
    "from sklearn import svm\n",
    "clf_svm = svm.SVC(decision_function_shape='ova')\n",
    "clf_svm.fit(X_train, y_train)\n",
    "\n",
    "Y_pred_svm=clf_svm.predict(X_test)"
   ]
  },
  {
   "cell_type": "code",
   "execution_count": null,
   "metadata": {},
   "outputs": [],
   "source": [
    "# docs: http://scikit-learn.org/stable/modules/generated/sklearn.metrics.classification_report.html#sklearn.metrics.classification_report\n",
    "from sklearn.metrics import classification_report\n",
    "\n",
    "print(classification_report(y_test, Y_pred_svm))"
   ]
  },
  {
   "cell_type": "markdown",
   "metadata": {},
   "source": [
    "#### SVM One vs All"
   ]
  },
  {
   "cell_type": "code",
   "execution_count": null,
   "metadata": {},
   "outputs": [],
   "source": [
    "# SVM Multi Class Classification>>> X = [[0], [1], [2], [3]]\n",
    "from sklearn import svm\n",
    "clf = svm.SVC(decision_function_shape='ova')\n",
    "clf.fit(X_train, y_train)\n",
    "\n",
    "Y_pred=clf.predict(X_test)"
   ]
  },
  {
   "cell_type": "code",
   "execution_count": null,
   "metadata": {},
   "outputs": [],
   "source": [
    "# docs: http://scikit-learn.org/stable/modules/generated/sklearn.metrics.classification_report.html#sklearn.metrics.classification_report\n",
    "from sklearn.metrics import classification_report\n",
    "\n",
    "print(classification_report(y_test, Y_pred))"
   ]
  },
  {
   "cell_type": "markdown",
   "metadata": {},
   "source": [
    "### Training the Logistic Regression classifier with the best parameters obtained with Cross-validation"
   ]
  },
  {
   "cell_type": "markdown",
   "metadata": {},
   "source": [
    "LogisticRegression - Selecting classifier parameters using K-fold Cross Validation"
   ]
  },
  {
   "cell_type": "code",
   "execution_count": null,
   "metadata": {},
   "outputs": [],
   "source": [
    "parameters = {'C': [1, 2, 0.5], 'class_weight': [None,'balanced'], 'max_iter': [100, 250, 500]}\n",
    "\n",
    "LR = LogisticRegression(random_state=0, solver='lbfgs', multi_class=\"auto\")\n",
    "clf_2 = GridSearchCV(LR, parameters, cv=5, n_jobs=4, scoring=\"precision_macro\")\n",
    "clf_2.fit(X_train, y_train)"
   ]
  },
  {
   "cell_type": "code",
   "execution_count": null,
   "metadata": {},
   "outputs": [],
   "source": [
    "list(zip(clf_2.cv_results_['params'], clf_2.cv_results_['mean_test_score'], clf_2.cv_results_['rank_test_score']))"
   ]
  },
  {
   "cell_type": "code",
   "execution_count": null,
   "metadata": {},
   "outputs": [],
   "source": [
    "clf_2_best_params = get_parameters_of_best_model(clf_2.cv_results_['mean_test_score'], clf_2.cv_results_['params'])\n",
    "print(clf_2_best_params)"
   ]
  },
  {
   "cell_type": "code",
   "execution_count": null,
   "metadata": {},
   "outputs": [],
   "source": [
    "Conclusion: After this cross-validation we concluded that classifier with parameters C=2 and class_weigh: None has higher score.\n",
    "            Because of that we choose this classifier with these parameters to compare with other type of classifiers."
   ]
  },
  {
   "cell_type": "code",
   "execution_count": null,
   "metadata": {},
   "outputs": [],
   "source": [
    "from sklearn.linear_model import LogisticRegression\n",
    "clf_logreg = LogisticRegression(random_state=0, solver='lbfgs', multi_class=\"auto\", **clf_2_best_params)\n",
    "clf_logreg.fit(X_train, y_train)\n",
    "Y_pred_logreg=clf_logreg.predict(X_test)"
   ]
  },
  {
   "cell_type": "code",
   "execution_count": null,
   "metadata": {},
   "outputs": [],
   "source": [
    "# docs: http://scikit-learn.org/stable/modules/generated/sklearn.metrics.classification_report.html#sklearn.metrics.classification_report\n",
    "print(classification_report(y_test, Y_pred_logreg))"
   ]
  },
  {
   "cell_type": "markdown",
   "metadata": {},
   "source": [
    "#### LogisticRegression One vs All"
   ]
  },
  {
   "cell_type": "code",
   "execution_count": null,
   "metadata": {},
   "outputs": [],
   "source": [
    "clf = LogisticRegression(random_state=0, solver='lbfgs', multi_class='multinomial')\n",
    "clf.fit(X_train, y_train)\n",
    "Y_pred=clf.predict(X_test)"
   ]
  },
  {
   "cell_type": "code",
   "execution_count": null,
   "metadata": {},
   "outputs": [],
   "source": [
    "print(classification_report(y_test, Y_pred))"
   ]
  },
  {
   "cell_type": "markdown",
   "metadata": {},
   "source": [
    "### Tree Model - DecisionTreeClassifier"
   ]
  },
  {
   "cell_type": "markdown",
   "metadata": {},
   "source": [
    "Decision Tree - Selecting classifier parameters using K-fold Cross Validation"
   ]
  },
  {
   "cell_type": "code",
   "execution_count": null,
   "metadata": {},
   "outputs": [],
   "source": [
    "parameters = {'max_leaf_nodes':[2,3,5,10,15, None], 'class_weight': [None,'balanced']}\n",
    "clf_tree= tree.DecisionTreeClassifier(multi_class=\"auto\")\n",
    "clf_3 = GridSearchCV(clf_tree, parameters, cv=5, n_jobs=4, scoring=\"precision_macro\")\n",
    "clf_3.fit(X_train, y_train)"
   ]
  },
  {
   "cell_type": "code",
   "execution_count": null,
   "metadata": {},
   "outputs": [],
   "source": [
    "list(zip(clf_3.cv_results_['params'], clf_3.cv_results_['mean_test_score'], clf_3.cv_results_['rank_test_score']))"
   ]
  },
  {
   "cell_type": "code",
   "execution_count": null,
   "metadata": {},
   "outputs": [],
   "source": [
    "clf_3_best_params = get_parameters_of_best_model(clf_3.cv_results_['mean_test_score'], clf_3.cv_results_['params'])\n",
    "print(clf_3_best_params)"
   ]
  },
  {
   "cell_type": "markdown",
   "metadata": {},
   "source": [
    "Conclusion: After this cross-validation we concluded that classifier with parameters class_weight: None and max_leaf_nodes:5 has higher score. Because of that we choose this classifier with this parameter to compare with other type of classifiers."
   ]
  },
  {
   "cell_type": "code",
   "execution_count": null,
   "metadata": {},
   "outputs": [],
   "source": [
    "Training the Decision Tree classifier with the best parameters obtained with Cross-validation"
   ]
  },
  {
   "cell_type": "code",
   "execution_count": null,
   "metadata": {},
   "outputs": [],
   "source": [
    "from sklearn import tree\n",
    "\n",
    "clf_tree = tree.DecisionTreeClassifier(**clf_3_best_params)\n",
    "clf_tree = clf_tree.fit(X_train, y_train)\n",
    "\n",
    "Y_pred_tree=clf_tree.predict(X_test)"
   ]
  },
  {
   "cell_type": "code",
   "execution_count": null,
   "metadata": {},
   "outputs": [],
   "source": [
    "print(classification_report(y_test, Y_pred_tree))"
   ]
  },
  {
   "cell_type": "code",
   "execution_count": null,
   "metadata": {},
   "outputs": [],
   "source": []
  },
  {
   "cell_type": "code",
   "execution_count": null,
   "metadata": {},
   "outputs": [],
   "source": []
  },
  {
   "cell_type": "markdown",
   "metadata": {},
   "source": [
    "antigo....."
   ]
  },
  {
   "cell_type": "code",
   "execution_count": null,
   "metadata": {},
   "outputs": [],
   "source": [
    "clf = tree.DecisionTreeClassifier()\n",
    "clf = clf.fit(X_train, y_train)\n",
    "\n",
    "Y_pred=clf.predict(X_test)"
   ]
  },
  {
   "cell_type": "code",
   "execution_count": null,
   "metadata": {},
   "outputs": [],
   "source": [
    "print(classification_report(y_test, Y_pred))"
   ]
  },
  {
   "cell_type": "code",
   "execution_count": null,
   "metadata": {},
   "outputs": [],
   "source": [
    "print(dict(zip(X_Test.columns, clf.feature_importances_)))"
   ]
  },
  {
   "cell_type": "markdown",
   "metadata": {},
   "source": [
    "### Distance-based models - Nearest Neighbor methods"
   ]
  },
  {
   "cell_type": "code",
   "execution_count": null,
   "metadata": {},
   "outputs": [],
   "source": [
    "Cross- Validation Decision Nearest Neighbor"
   ]
  },
  {
   "cell_type": "code",
   "execution_count": null,
   "metadata": {},
   "outputs": [],
   "source": [
    "parameters = {'algorithm':['auto'], 'leaf_size':[30, 5, 40], 'weights': ['uniform', 'distance'], 'n_neighbors':[1,3,5,10]}\n",
    "knn = KNeighborsClassifier()\n",
    "clf_4 = GridSearchCV(knn, parameters, cv=5, n_jobs=4, scoring=\"precision_macro\")\n",
    "clf_4.fit(X_train, y_train)"
   ]
  },
  {
   "cell_type": "code",
   "execution_count": null,
   "metadata": {},
   "outputs": [],
   "source": [
    "list(zip(clf_4.cv_results_['params'], clf_4.cv_results_['mean_test_score'], clf_4.cv_results_['rank_test_score']))"
   ]
  },
  {
   "cell_type": "code",
   "execution_count": null,
   "metadata": {},
   "outputs": [],
   "source": [
    "clf_4_best_params = get_parameters_of_best_model(clf_4.cv_results_['mean_test_score'], clf_4.cv_results_['params'])\n",
    "print(clf_4_best_params)"
   ]
  },
  {
   "cell_type": "code",
   "execution_count": null,
   "metadata": {},
   "outputs": [],
   "source": []
  },
  {
   "cell_type": "code",
   "execution_count": null,
   "metadata": {},
   "outputs": [],
   "source": []
  },
  {
   "cell_type": "code",
   "execution_count": null,
   "metadata": {},
   "outputs": [],
   "source": []
  },
  {
   "cell_type": "code",
   "execution_count": null,
   "metadata": {},
   "outputs": [],
   "source": [
    "antigo"
   ]
  },
  {
   "cell_type": "code",
   "execution_count": null,
   "metadata": {},
   "outputs": [],
   "source": [
    "neigh = NearestNeighbors(n_neighbors=1)\n",
    "neigh.fit(X_train) \n",
    "NearestNeighbors(algorithm='auto', leaf_size=30)\n",
    "A = neigh.kneighbors_graph(X)\n",
    "\n",
    "Y_pred=clf.predict(X_test)"
   ]
  },
  {
   "cell_type": "code",
   "execution_count": null,
   "metadata": {},
   "outputs": [],
   "source": [
    "print(classification_report(y_test, Y_pred))"
   ]
  },
  {
   "cell_type": "code",
   "execution_count": null,
   "metadata": {},
   "outputs": [],
   "source": [
    "Training the K-NN classifier with the best parameters obtained with Cross-validation"
   ]
  },
  {
   "cell_type": "code",
   "execution_count": null,
   "metadata": {},
   "outputs": [],
   "source": [
    "from sklearn.neighbors import KNeighborsClassifier\n",
    "knn = KNeighborsClassifier(**clf_4_best_params)\n",
    "\n",
    "clf_knn = knn.fit(X_train, y_train) \n",
    "#A = neigh.kneighbors_graph(X)\n",
    "\n",
    "Y_pred_knn=clf_knn.predict(X_test)"
   ]
  },
  {
   "cell_type": "code",
   "execution_count": null,
   "metadata": {},
   "outputs": [],
   "source": [
    "print(classification_report(y_test, Y_pred_knn))"
   ]
  },
  {
   "cell_type": "code",
   "execution_count": null,
   "metadata": {},
   "outputs": [],
   "source": []
  },
  {
   "cell_type": "code",
   "execution_count": null,
   "metadata": {},
   "outputs": [],
   "source": []
  },
  {
   "cell_type": "code",
   "execution_count": null,
   "metadata": {},
   "outputs": [],
   "source": []
  },
  {
   "cell_type": "code",
   "execution_count": null,
   "metadata": {},
   "outputs": [],
   "source": []
  },
  {
   "cell_type": "code",
   "execution_count": null,
   "metadata": {},
   "outputs": [],
   "source": []
  },
  {
   "cell_type": "markdown",
   "metadata": {},
   "source": [
    "### Probabilistic Model - Naive Bayes "
   ]
  },
  {
   "cell_type": "markdown",
   "metadata": {},
   "source": [
    "Naive Bayes learners and classifiers can be extremely fast compared to more sophisticated methods. The decoupling of the class conditional feature distributions means that each distribution can be independently estimated as a one dimensional distribution. This in turn helps to alleviate problems stemming from the curse of dimensionality."
   ]
  },
  {
   "cell_type": "code",
   "execution_count": null,
   "metadata": {},
   "outputs": [],
   "source": [
    "from sklearn.naive_bayes import GaussianNB\n",
    "gnb = GaussianNB()\n",
    "gnb.fit(X_train, y_train)\n",
    "Y_pred_nb = gnb.predict(X_test)"
   ]
  },
  {
   "cell_type": "code",
   "execution_count": null,
   "metadata": {},
   "outputs": [],
   "source": [
    "from sklearn.metrics import classification_report"
   ]
  },
  {
   "cell_type": "code",
   "execution_count": null,
   "metadata": {},
   "outputs": [],
   "source": [
    "print(classification_report(y_test, Y_pred_nb))"
   ]
  },
  {
   "cell_type": "code",
   "execution_count": null,
   "metadata": {},
   "outputs": [],
   "source": [
    "Without information of prior probability, it does not make sense to perform Cross-validation in order to find the best parameters."
   ]
  },
  {
   "cell_type": "code",
   "execution_count": null,
   "metadata": {},
   "outputs": [],
   "source": []
  },
  {
   "cell_type": "code",
   "execution_count": null,
   "metadata": {},
   "outputs": [],
   "source": [
    "antigo"
   ]
  },
  {
   "cell_type": "code",
   "execution_count": null,
   "metadata": {},
   "outputs": [],
   "source": [
    "gnb = GaussianNB()\n",
    "gnb.fit(X_train, y_train)\n",
    "Y_pred = gnb.predict(X_test)"
   ]
  },
  {
   "cell_type": "code",
   "execution_count": null,
   "metadata": {},
   "outputs": [],
   "source": [
    "print(classification_report(y_test, Y_pred))"
   ]
  },
  {
   "cell_type": "code",
   "execution_count": null,
   "metadata": {},
   "outputs": [],
   "source": [
    "Rules Model"
   ]
  },
  {
   "cell_type": "code",
   "execution_count": null,
   "metadata": {},
   "outputs": [],
   "source": [
    "import Orange\n",
    "from Orange.data import Domain, StringVariable, ContinuousVariable\n",
    "\n",
    "## In this model groundthruth should be classified just with values 1 and 0.\n",
    "\n",
    "indices_train_yes_no = np.where(y_train != 1)[0]\n",
    "indices_test_yes_no = np.where(y_test != 1)[0]\n",
    "print(indices_train_yes_no.shape, indices_test_yes_no.shape)\n",
    "\n",
    "X_train_yes_no = X_train[indices_train_yes_no]\n",
    "y_train_yes_no = y_train[indices_train_yes_no] / 2\n",
    "X_test_yes_no = X_test[indices_test_yes_no]\n",
    "y_test_yes_no = y_test[indices_test_yes_no] / 2\n",
    "\n",
    "domain_train = Domain.from_numpy(X_train_yes_no, Y=y_train_yes_no)\n",
    "data_train = Orange.data.Table(domain_train, X_train_yes_no, Y=y_train_yes_no)\n",
    "\n",
    "domain_test = Domain.from_numpy(X_test_yes_no, Y=y_test_yes_no)\n",
    "data_test = Orange.data.Table(domain_test, X_test_yes_no, Y=y_test_yes_no)\n",
    "\n",
    "domain_train.class_var"
   ]
  },
  {
   "cell_type": "code",
   "execution_count": null,
   "metadata": {},
   "outputs": [],
   "source": [
    "learner = Orange.classification.CN2Learner()\n",
    "\n",
    "classifier = learner(data_train)"
   ]
  },
  {
   "cell_type": "code",
   "execution_count": null,
   "metadata": {},
   "outputs": [],
   "source": [
    "for rule in classifier.rule_list:\n",
    "    print(rule, rule.curr_class_dist.tolist())"
   ]
  },
  {
   "cell_type": "code",
   "execution_count": null,
   "metadata": {},
   "outputs": [],
   "source": [
    "#https://docs.orange.biolab.si/3/data-mining-library/_modules/Orange/classification/rules.html#CN2Learner\n",
    "y_pred_scores = classifier.predict(X_test_yes_no)\n",
    "Y_pred_rules = np.argmax(y_pred_scores,axis=1)\n",
    "Y_pred_rules.shape"
   ]
  },
  {
   "cell_type": "code",
   "execution_count": null,
   "metadata": {},
   "outputs": [],
   "source": [
    "from sklearn.metrics import classification_report\n",
    "print(classification_report(y_test_yes_no, Y_pred_rules))"
   ]
  },
  {
   "cell_type": "markdown",
   "metadata": {},
   "source": [
    "## 1.3. Classification - Results and Discussion "
   ]
  },
  {
   "cell_type": "markdown",
   "metadata": {},
   "source": [
    "..."
   ]
  },
  {
   "cell_type": "code",
   "execution_count": null,
   "metadata": {},
   "outputs": [],
   "source": [
    "Comparing the results of the implemented classifiers"
   ]
  },
  {
   "cell_type": "code",
   "execution_count": null,
   "metadata": {},
   "outputs": [],
   "source": [
    "print(\"SVM\", classification_report(y_test, Y_pred_svm))\n",
    "print(\"Log. Reg.\", classification_report(y_test, Y_pred_logreg))\n",
    "print(\"Decision Tree\", classification_report(y_test, Y_pred_tree))\n",
    "print(\"K-NN\", classification_report(y_test, Y_pred_knn))\n",
    "print(\"NB\", classification_report(y_test, Y_pred_nb))"
   ]
  },
  {
   "cell_type": "code",
   "execution_count": null,
   "metadata": {},
   "outputs": [],
   "source": [
    "Inspecting Confusion matrices"
   ]
  },
  {
   "cell_type": "code",
   "execution_count": null,
   "metadata": {},
   "outputs": [],
   "source": [
    "from sklearn.metrics import confusion_matrix\n",
    "import itertools\n",
    "\n",
    "class_names = [\"No\", \"Maybe\", \"Yes\"]\n",
    "\n",
    "def plot_confusion_matrix(cm, classes,\n",
    "                          normalize=False,\n",
    "                          title='Confusion matrix',\n",
    "                          cmap=plt.cm.Blues):\n",
    "    \"\"\"\n",
    "    This function prints and plots the confusion matrix.\n",
    "    Normalization can be applied by setting `normalize=True`.\n",
    "    \"\"\"\n",
    "    if normalize:\n",
    "        cm = cm.astype('float') / cm.sum(axis=1)[:, np.newaxis]\n",
    "        print(\"Normalized confusion matrix\")\n",
    "    else:\n",
    "        print('Confusion matrix, without normalization')\n",
    "\n",
    "    print(cm)\n",
    "\n",
    "    plt.imshow(cm, interpolation='nearest', cmap=cmap)\n",
    "    plt.title(title)\n",
    "    plt.colorbar()\n",
    "    tick_marks = np.arange(len(classes))\n",
    "    plt.xticks(tick_marks, classes, rotation=45)\n",
    "    plt.yticks(tick_marks, classes)\n",
    "\n",
    "    fmt = '.2f' if normalize else 'd'\n",
    "    thresh = cm.max() / 2.\n",
    "    for i, j in itertools.product(range(cm.shape[0]), range(cm.shape[1])):\n",
    "        plt.text(j, i, format(cm[i, j], fmt),\n",
    "                 horizontalalignment=\"center\",\n",
    "                 color=\"white\" if cm[i, j] > thresh else \"black\")\n",
    "\n",
    "    plt.ylabel('True label')\n",
    "    plt.xlabel('Predicted label')\n",
    "    plt.tight_layout()"
   ]
  },
  {
   "cell_type": "code",
   "execution_count": null,
   "metadata": {},
   "outputs": [],
   "source": [
    "SVM Confusion Matrix"
   ]
  },
  {
   "cell_type": "code",
   "execution_count": null,
   "metadata": {},
   "outputs": [],
   "source": [
    "cnf_matrix = confusion_matrix(y_test, Y_pred_svm)\n",
    "np.set_printoptions(precision=2)\n",
    "\n",
    "plt.figure()\n",
    "plot_confusion_matrix(cnf_matrix, classes=class_names,\n",
    "                      title='SVM Confusion matrix')"
   ]
  },
  {
   "cell_type": "code",
   "execution_count": null,
   "metadata": {},
   "outputs": [],
   "source": [
    "print(\"Log. Reg.\", classification_report(y_test, Y_pred_logreg))\n",
    "print(\"Decision Tree\", classification_report(y_test, Y_pred_tree))\n",
    "print(\"K-NN\", classification_report(y_test, Y_pred_knn))\n",
    "print(\"NB\", classification_report(y_test, Y_pred_nb))"
   ]
  },
  {
   "cell_type": "markdown",
   "metadata": {},
   "source": [
    "## Task 2 (Unsupervised Learning) - Characterizinng people with mental health disorders"
   ]
  },
  {
   "cell_type": "markdown",
   "metadata": {},
   "source": [
    "In this task you should **use unsupervised learning algorithms and try to characterize people with mental health disorders**:\n",
    "* Use association rule mining to find **associations between features and mental health disorders**.\n",
    "* Use **clustering algorithms to find groups describing similar people**, for example, is it possible to find groups of people with the same/similar mental health disorders.\n",
    "* **Be creative and define your own unsupervised analysis!** What would it be interesting to find out ?"
   ]
  },
  {
   "cell_type": "markdown",
   "metadata": {},
   "source": [
    "## 2.1. Preprocessing Data for Association Rule Mining"
   ]
  },
  {
   "cell_type": "markdown",
   "metadata": {},
   "source": [
    "Q: Use association rule mining to find associations between features and mental health disorders."
   ]
  },
  {
   "cell_type": "markdown",
   "metadata": {},
   "source": [
    "Association Rule will be made using the MLxtend library funtion Apriori.\n",
    "Apriori receives a dataframe of binary data.\n",
    "\n",
    "The approach followed is presented in the following lines and data is treated accordingly.\n",
    "\n",
    "For the first features that were are associating with Binarized Medical Conditions(processe made in Chapter Understanding Data)\n",
    "we procede to do a first encoding, since they are all categorical variables, with the get_dummies function.\n",
    "\n",
    "We then build a final dataframe that contains the binarized features, binarized medical conditions \n",
    "and the strongest classifier of having medical condition - if it was diagnosed by a doctor -MH_Diagnosed_MedicalProf.\n",
    "The combination between these variables will allow to understand what are the most tipical cases that are in \n",
    "the underlines of the dataset.\n"
   ]
  },
  {
   "cell_type": "code",
   "execution_count": null,
   "metadata": {},
   "outputs": [],
   "source": [
    "import mlxtend\n",
    "from mlxtend.preprocessing import OnehotTransactions,TransactionEncoder\n",
    "from mlxtend.frequent_patterns import apriori\n",
    "from mlxtend.frequent_patterns import association_rules"
   ]
  },
  {
   "cell_type": "markdown",
   "metadata": {},
   "source": [
    "1st Set Of Variables - Choosing Variables With More Frequency \n",
    "'Self-Employed','Work_Role_Position','Remote_Worker','Age_Bined','Gender','Country_Work','Family_MentalIllness'"
   ]
  },
  {
   "cell_type": "code",
   "execution_count": null,
   "metadata": {},
   "outputs": [],
   "source": [
    "df_to_rule4 = df_mhU[['Self-Employed','Work_Role_Position','Remote_Worker','Age_Bined','Gender','Country_Work','Family_MentalIllness']]\n",
    "df_medical_out = df_mhU['MH_Diagnosed_MedicalProf'].replace(['Yes','No'],['0','1'],inplace=True)\n",
    "df_to_rule_BIN4 = pd.get_dummies(df_to_rule4)\n",
    "df_medical = pd.concat([MH_CondProf_bin, MH_CondPres_bin, MH_CondMaybePres_bin], axis=1)\n",
    "df_to_ssoc5 = pd.concat([df_to_rule_BIN4,df_medical,df_medical_out], axis=1)\n",
    "df_to_ssoc5.fillna(value=0, inplace=True) \n"
   ]
  },
  {
   "cell_type": "markdown",
   "metadata": {},
   "source": [
    "In the following steps we will analyze what is the correlation in the dataset that will be used to create the association rules.\n",
    "Since we are going to associate medical health disorders, and our categories of medical health disorder are quite a few, we will \n",
    "try to understand firts some insights about the data seperatly and the follow to the creation of the rules.   "
   ]
  },
  {
   "cell_type": "code",
   "execution_count": null,
   "metadata": {},
   "outputs": [],
   "source": [
    "#plot to correlate mental health disorders\n",
    "plt.subplots(figsize=(15, 15))\n",
    "corr_rules1 = df_medical.corr()\n",
    "sns.heatmap(corr_rules1, vmin=-1, vmax=1, cmap = \"PiYG\",\n",
    "            square=True,linewidths=0.1, annot=True, annot_kws={\"size\":8})"
   ]
  },
  {
   "cell_type": "code",
   "execution_count": null,
   "metadata": {
    "scrolled": false
   },
   "outputs": [],
   "source": [
    "#order the highest correlated features (positive) and discarding repeteaded values\n",
    "sol = (corr_rules1.where(np.triu(np.ones(corr_rules1.shape), k=1).astype(np.bool)).stack().sort_values(ascending=False))\n",
    "sol.head(5)"
   ]
  },
  {
   "cell_type": "code",
   "execution_count": null,
   "metadata": {},
   "outputs": [],
   "source": [
    "#plot to correlate mental health disorders\n",
    "plt.subplots(figsize=(15, 15))\n",
    "corr_rules2 = df_to_rule_BIN4.corr()\n",
    "sns.heatmap(corr_rules2, vmin=-1, vmax=1, cmap = \"PiYG\",\n",
    "            square=True,linewidths=0.1, annot=True, annot_kws={\"size\":8})"
   ]
  },
  {
   "cell_type": "code",
   "execution_count": null,
   "metadata": {},
   "outputs": [],
   "source": [
    "#order the highest correlated features (positive) and discarding repeteaded values\n",
    "sol = (corr_rules2.where(np.triu(np.ones(corr_rules2.shape), k=1).astype(np.bool)).stack().sort_values(ascending=False))\n",
    "sol.head(10)"
   ]
  },
  {
   "cell_type": "markdown",
   "metadata": {},
   "source": [
    "Let's create the list to feed the Apriori Algorithm"
   ]
  },
  {
   "cell_type": "code",
   "execution_count": null,
   "metadata": {},
   "outputs": [],
   "source": [
    "#Starting with Support = 0.6\n",
    "frequent_itemsets = apriori(df_to_ssoc5, min_support=0.60, use_colnames=True)\n",
    "frequent_itemsets.sort_values(\"support\", ascending=False)\n",
    "\n",
    "from IPython.display import HTML, display\n",
    "import tabulate\n",
    "\n",
    "display(HTML(tabulate.tabulate(frequent_itemsets.sort_values(\"support\", ascending=False), tablefmt='html')))"
   ]
  },
  {
   "cell_type": "markdown",
   "metadata": {},
   "source": [
    "As we can observe in the previous output the most recurrent medical consditions are when people respond fall on the others category:\n",
    "\n",
    "    0.944871\t(MH_Maybe_Present_Conditions_Others)\n",
    " \t0.893231\t(MH_Conditions_MedicalProf_Others)\n",
    " \t0.892533\t(MH_Present_Conditions_Others)\n",
    "    \n",
    "Also many people who were diagnosed with a medical condition in the past, report they still have it.\n",
    "In terms of associated features with medical contidions we can see that we can observe that the most freqeunt association is betweem {'Self-Employed_0', 'MH_Maybe_Present_Conditions_Others'}, i.e, people who works for others reported that they may have \n",
    "one of the conditions that we grouped with others:\n",
    "\n",
    " 'Anxiety Disorder (Generalized, Social, Phobia, etc)','Attention Deficit', 'Autism', 'Dissociative Disorder',\n",
    " 'Eating Disorder (Anorexia, Bulimia, etc)', 'Mood Disorder (Depression, Bipolar Disorder, etc)',\n",
    " 'Obsessive-Compulsive Disorder', 'Personality Disorder (Borderline, Antisocial, Paranoid, etc)',\n",
    " 'Post-traumatic Stress Disorder', 'Psychotic Disorder (Schizophrenia, Schizoaffective, etc)',\n",
    " 'Stress Response Syndromes', 'Substance Use Disorder', 'nan'.\n",
    " \n",
    " Also, the gender that has more associations with medical conditions is Male, varying from having MH_Present_Conditions_Others, \n",
    " MH_Conditions_MedicalProf_Others and MH_Maybe_Present_Conditions_Others.\n",
    " Work_Role_Positionn_Technical are also the professional class with moore recurrency of mental health conditions, as the same as observed for Males.\n",
    " \n",
    " "
   ]
  },
  {
   "cell_type": "markdown",
   "metadata": {},
   "source": [
    "Next we will create a new column that corresponds with the number of items that were associated and analyzed when calculating support."
   ]
  },
  {
   "cell_type": "code",
   "execution_count": null,
   "metadata": {},
   "outputs": [],
   "source": [
    "pd.set_option('display.width', 5000)\n",
    "# Add new column length\n",
    "frequent_itemsets['length'] = frequent_itemsets['itemsets'].apply(lambda x: len(x))\n",
    "frequent_itemsets.sort_values(\"support\", ascending=False)\n"
   ]
  },
  {
   "cell_type": "code",
   "execution_count": null,
   "metadata": {},
   "outputs": [],
   "source": [
    "#this display allows to see column's values\n",
    "display(HTML(tabulate.tabulate(frequent_itemsets.sort_values(\"support\", ascending=False), tablefmt='html')))"
   ]
  },
  {
   "cell_type": "markdown",
   "metadata": {},
   "source": [
    "When looking for the outputed result one can see that we have one-value events being in the top of the table,\n",
    "since they are the most frequent variables,\n",
    "but also that some of combinations are proving to be more frequent than some one-value variables, like:\n",
    "\n",
    "frozenset({'MH_Conditions_MedicalProf_Others', 'MH_Maybe_Present_Conditions_Others'})    "
   ]
  },
  {
   "cell_type": "markdown",
   "metadata": {},
   "source": [
    "When wanting to analyze associations one would then filter the prefered metric for analysis (say support)\n",
    "and that can be done by using the next piece of code:"
   ]
  },
  {
   "cell_type": "code",
   "execution_count": null,
   "metadata": {},
   "outputs": [],
   "source": [
    "# filter using support and pattern length\n",
    "frequent_itemsets = frequent_itemsets[ (frequent_itemsets['support'] >= 0.60) &\n",
    "                                     ( (frequent_itemsets['length'] >= 2))]\n",
    "frequent_itemsets.sort_values(\"support\", ascending=False)\n",
    "display(HTML(tabulate.tabulate(frequent_itemsets.sort_values(\"support\", ascending=False), tablefmt='html')))"
   ]
  },
  {
   "cell_type": "markdown",
   "metadata": {},
   "source": [
    "In the previous step we are able to filter the columns by having at least two association between variables of the dataset, since\n",
    "we are trying to analyze what variables occurr more between themselves.\n",
    "\n",
    "However when we try to compute the association rules that are going to be shown in the following chapter, \n",
    "the code was not able to compute antecendents since many of them either had length = 1 or  lower support values, and so\n",
    "due to our sparce dataset we need to keep all lengths and lower the support threshold.\n"
   ]
  },
  {
   "cell_type": "markdown",
   "metadata": {},
   "source": [
    "## 2.2. Finding Associations"
   ]
  },
  {
   "cell_type": "markdown",
   "metadata": {},
   "source": [
    "We can now generate association rules from the frequent itemsets first discovered using Apriori.\n",
    "\n",
    "The generate_rules function allows you to: 1) specify your metric of interest and (2) - specify the according threshold. "
   ]
  },
  {
   "cell_type": "markdown",
   "metadata": {},
   "source": [
    "Apriori Algorithms are applied to transactional data, were there is a tendency of values to repeat between themselves.\n",
    "The major components of Apriori algorithm are:\n",
    "\n",
    "    Support    - number of transactions containing a particular item divided by total number of transactions\n",
    "    Confidence - likelihood that an item B happens if item A also happens. \n",
    "                 It can be calculated by finding the number of transactions where A and B \n",
    "                 are together, divided by total number of transactions where A has occured.\n",
    "    Lift       - can be calculated by dividing Confidence(A -> B) divided by Support(B)\n",
    "    Leverage   - computes the difference between the observed frequency of A and C appearing together and the frequency that would be expected if A                  and C were independent. An leverage value of 0 indicates independence (null hypothisis test).    \n",
    "    Conviction - value means that the consequent is highly depending on the antecedent. For instance, in the case of a perfect confidence score, the                  denominator becomes 0 (due to 1 - 1) for which the conviction score is defined as 'inf'. \n",
    "                 Similar to lift, if items are independent, the conviction is 1.\n"
   ]
  },
  {
   "cell_type": "code",
   "execution_count": null,
   "metadata": {},
   "outputs": [],
   "source": [
    "# filter using support and pattern length\n",
    "frequent_itemsets = frequent_itemsets[ (frequent_itemsets['support'] >= 0.1) &\n",
    "                                     ( (frequent_itemsets['length'] >= 1))]\n",
    "frequent_itemsets.sort_values(\"support\", ascending=False)\n",
    "display(HTML(tabulate.tabulate(frequent_itemsets.sort_values(\"support\", ascending=False), tablefmt='html')))"
   ]
  },
  {
   "cell_type": "code",
   "execution_count": null,
   "metadata": {},
   "outputs": [],
   "source": [
    "frequent_itemsets = apriori(df_to_ssoc5, min_support=0.60, use_colnames=True)\n",
    "frequent_itemsets.sort_values(\"support\", ascending=False)\n",
    "frequent_itemsets['length'] = frequent_itemsets['itemsets'].apply(lambda x: len(x))\n",
    "\n",
    "rules = association_rules(frequent_itemsets, metric=\"support\", min_threshold=0.1, support_only=False)\n",
    "rules.sort_values(\"support\", ascending=False)"
   ]
  },
  {
   "cell_type": "markdown",
   "metadata": {},
   "source": [
    "We had to keep all the lenghts of the frequent_itemsets because otherwise \n",
    "it was not computing antecendent and consequent since they had diferent support thresholds defined."
   ]
  },
  {
   "cell_type": "markdown",
   "metadata": {},
   "source": [
    "Let's filter with confidence this time."
   ]
  },
  {
   "cell_type": "code",
   "execution_count": null,
   "metadata": {},
   "outputs": [],
   "source": [
    "rules = association_rules(frequent_itemsets, metric=\"confidence\", min_threshold=0.01, support_only=False)\n",
    "rules.sort_values(\"confidence\", ascending=False)\n"
   ]
  },
  {
   "cell_type": "markdown",
   "metadata": {},
   "source": [
    "Let's filter with lift - confidence (A->B) / support(B) \n",
    "If lift = 1 it means that the B only occurs when A occurs. And if lift is greater that 1\n",
    "it means that A increases the occurences of B."
   ]
  },
  {
   "cell_type": "code",
   "execution_count": null,
   "metadata": {},
   "outputs": [],
   "source": [
    "# Generate association rules with lift >= 1.0\n",
    "rules = association_rules(frequent_itemsets, metric=\"lift\", min_threshold=1.0)\n",
    "rules.sort_values(\"lift\", ascending=False)\n"
   ]
  },
  {
   "cell_type": "code",
   "execution_count": null,
   "metadata": {},
   "outputs": [],
   "source": [
    "# Generate association rules with conviction\n",
    "rules = association_rules(frequent_itemsets, metric=\"leverage\", min_threshold=0.03)\n",
    "rules.sort_values(\"leverage\", ascending=False)"
   ]
  },
  {
   "cell_type": "code",
   "execution_count": null,
   "metadata": {},
   "outputs": [],
   "source": [
    "# Generate association rules with conviction\n",
    "rules = association_rules(frequent_itemsets, metric=\"conviction\", min_threshold=0.0)\n",
    "rules.sort_values(\"support\", ascending=False)"
   ]
  },
  {
   "cell_type": "markdown",
   "metadata": {},
   "source": [
    "## 2.3 Association Rules - Results and Discussion "
   ]
  },
  {
   "cell_type": "markdown",
   "metadata": {},
   "source": [
    "#### Data Analysis Conclusion:"
   ]
  },
  {
   "cell_type": "markdown",
   "metadata": {},
   "source": [
    "\n",
    "\n",
    "We can observe in the correlation plot between mental disorders, that between the medical conditions that typically the higher associations will\n",
    "be mainly between Conditions predicted by the doctors and the current Conditions reported by the inquired person. \n",
    "\n",
    "\n",
    "MH_Conditions_MedicalProf_Autism,MH_Present_Conditions_Autism                                                      0.799300\n",
    "\n",
    "MH_Conditions_MedicalProf_Obsessive-Compulsive Disorder,MH_Present_Conditions_Obsessive-Compulsive Disorder        0.746790\n",
    "\n",
    "MH_Conditions_MedicalProf_Attention Deficit,MH_Present_Conditions_Attention Deficit                                0.742357\n",
    "\n",
    " MH_Conditions_MedicalProf_Anxiety Disorder (Generalized, Social, Phobia, etc),MH_Present_Conditions_Anxiety Disorder (Generalized, Social, Phobia, etc)                                                                                               0.729813\n",
    " \n",
    "MH_Conditions_MedicalProf_Psychotic Disorder (Schizophrenia, Schizoaffective, etc),MH_Present_Conditions_Psychotic Disorder (Schizophrenia, Schizoaffective, etc)                                                                              0.720372\n",
    "\n",
    "MH_Conditions_MedicalProf_Mood Disorder (Depression, Bipolar Disorder, etc),MH_Present_Conditions_Mood Disorder (Depression, Bipolar Disorder, etc)                                                                                             0.690208\n",
    "\n",
    "MH_Conditions_MedicalProf_Post-traumatic Stress Disorder,MH_Present_Conditions_Post-traumatic Stress Disorder      0.669652\n",
    "\n",
    "MH_Conditions_MedicalProf_nan ,MH_Present_Conditions_nan                                                           0.636819\n",
    "\n",
    "MH_Conditions_MedicalProf_Others ,MH_Present_Conditions_Others                                                     0.620766\n",
    "\n",
    "MH_Conditions_MedicalProf_Eating Disorder (Anorexia, Bulimia, etc) ,MH_Present_Conditions_Eating Disorder (Anorexia, Bulimia, etc)                                                                                                                    0.572593\n",
    "\n",
    "\n",
    "\n",
    "\n",
    "When trying to understand other correlation between different diagnosis we have to look for lower correlation coeficients (we are restricted to a 1444 row example for many variables, which will provide variables with lower frequency). One such examples are:\n",
    "\n",
    "MH_Present_Conditions_Anxiety Disorder (Generalized, Social, Phobia, etc),MH_Present_Conditions_Mood Disorder (Depression, Bipolar Disorder, etc)                                                                                                     0.554682\n",
    "\n",
    "MH_Maybe_Present_Conditions_Mood Disorder (Depression, Bipolar Disorder, etc)           MH_Maybe_Present_Conditions_Personality Disorder (Borderline, Antisocial, Paranoid, etc)                                                                   0.305635\n",
    "\n",
    "MH_Maybe_Present_Conditions_Anxiety Disorder (Generalized, Social, Phobia, etc)         MH_Maybe_Present_Conditions_Attention Deficit                                                                                                            0.302953\n",
    "\n",
    "MH_Conditions_MedicalProf_Dissociative Disorder , MH_Present_Conditions_Autism                                     0.279371\n",
    "\n",
    "MH_Maybe_Present_Conditions_Anxiety Disorder (Generalized, Social, Phobia, etc)         MH_Maybe_Present_Conditions_Post-traumatic Stress Disorder                                                                                                    0.253508\n",
    "\n",
    "In conclusion, we can understand from our data that when people answer Maybe they are more likely to report more combination between patologies, than people who were diagnosed by a doctor.\n",
    "\n",
    "This evaluation will help understand that:\n",
    "\n",
    "1) when looking for combination between patologies, they will occur with lower frequecy and so lower support (explained when finding frequent_itemsets\n",
    "\n",
    "2) the frequent_itemsets will have high influence from the MH condition proved by the doctor."
   ]
  },
  {
   "cell_type": "markdown",
   "metadata": {},
   "source": [
    "We also perfomed a correlation plot for the features with higher frequency (lower missing values) that we are going to associate \n",
    "with the medical problems.\n",
    "\n",
    "The features used were 'Self-Employed','Work_Role_Position','Remote_Worker','Age_Bined','Gender','Country_Work','Family_MentalIllness'\n",
    "\n",
    "\n",
    "Self-Employed_1                        Remote_Worker_Always                     0.233724\n",
    "\n",
    "Self-Employed_0                        Remote_Worker_Never                      0.212906\n",
    "\n",
    "Gender_Male                            Family_MentalIllness_No                  0.169921\n",
    "\n",
    "Country_Work_United States of America  Family_MentalIllness_Yes                 0.168386\n",
    "\n",
    "Gender_Female                          Country_Work_United States of America    0.164352\n",
    "\n",
    "Family_MentalIllness_Yes                                                        0.159410\n",
    "                                       \n",
    "Gender_Male                            Country_Work_other                       0.134683\n",
    "\n",
    "Self-Employed_0                        Country_Work_United States of America    0.125822\n",
    "\n",
    "Remote_Worker_Never                    Country_Work_United Kingdom              0.103839\n",
    "\n",
    "Country_Work_Netherlands                                                        0.103420\n",
    "                                       \n",
    "We can observe that there is a low positive correlation between variables and sice this is calculated for binary variables with pearson correlation, it can be understanded as being low frequency associations in the overall dataset, and once again like it happens for the medical conditions, we will have to use low support in order to create rules.                                       "
   ]
  },
  {
   "cell_type": "markdown",
   "metadata": {},
   "source": [
    "#### Frequent Items results Analyzed"
   ]
  },
  {
   "cell_type": "markdown",
   "metadata": {},
   "source": [
    "The results that were obtained using the apriori to dataframe df_to_ssoc5 and applying min_support=0.60, returned what was expected \n",
    "by the previous analysis in the correlations. "
   ]
  },
  {
   "cell_type": "code",
   "execution_count": null,
   "metadata": {},
   "outputs": [],
   "source": [
    "frequent_itemsets.sort_values(\"support\", ascending=False)"
   ]
  },
  {
   "cell_type": "markdown",
   "metadata": {},
   "source": [
    "In order to get more information about the dataset we needed to decresse the threshold of the frequency of each variable \n",
    "(support),so more associations are catched. "
   ]
  },
  {
   "cell_type": "markdown",
   "metadata": {},
   "source": [
    "WE then defined the support threshold to be 0.01 (1%) and  kept the all the lenghts in order to antecedents and consequents \n",
    "to be computed in the rules = association_rules(frequent_itemsets, metric=\"support\", min_threshold=0.2, support_only=True) code."
   ]
  },
  {
   "cell_type": "markdown",
   "metadata": {},
   "source": [
    "antecedents\tconsequents\tantecedent support\tconsequent support\tsupport\tconfidence\tlift\tleverage\tconviction\n",
    "\n",
    "(Self-Employed_0)\t(MH_Maybe_Present_Conditions_nan)\t\n",
    "0.797627\t0.775297\t0.623168\t0.781277\t1.007714\t0.004770\t1.027344\n",
    "\n",
    "102\t(MH_Maybe_Present_Conditions_nan)\t(Self-Employed_0)\t\n",
    "0.775297\t0.797627\t0.623168\t0.803780\t1.007714\t0.004770\t1.031358\n",
    "\n",
    "4\t(Work_Role_Position_technical)\t(Self-Employed_0)\t\n",
    "0.769016\t0.797627\t0.614794\t0.799456\t1.002292\t0.001406\t1.009116\n",
    "\n",
    "5\t(Self-Employed_0)\t(Work_Role_Position_technical)\t\n",
    "0.797627\t0.769016\t0.614794\t0.770779\t1.002292\t0.001406\t1.007690\n",
    "\n",
    "28\t(Gender_Male)\t(Self-Employed_0)\t\n",
    "0.736916\t0.797627\t0.589672\t0.800189\t1.003212\t0.001888\t1.012822\n",
    "\n",
    "29\t(Self-Employed_0)\t(Gender_Male)\t\n",
    "0.797627\t0.736916\t0.589672\t0.739283\t1.003212\t0.001888\t1.009079\n",
    "\n",
    "368\t(Work_Role_Position_technical)\t(MH_Maybe_Present_Conditions_nan)\t\n",
    "0.769016\t0.775297\t0.586881\t0.763158\t0.984343\t-0.009335\t0.948748\n",
    "\n",
    "369\t(MH_Maybe_Present_Conditions_nan)\t(Work_Role_Position_technical)\t\n",
    "0.775297\t0.769016\t0.586881\t0.756976\t0.984343\t-0.009335\t0.950456"
   ]
  },
  {
   "cell_type": "markdown",
   "metadata": {},
   "source": [
    "#### Associated Rules  Analyzed"
   ]
  },
  {
   "cell_type": "markdown",
   "metadata": {},
   "source": [
    "Here we are going to analyze the outputs for association rules using diferent filters ( diferent metrics)."
   ]
  },
  {
   "cell_type": "markdown",
   "metadata": {},
   "source": [
    "The first association rules presented correspond to support."
   ]
  },
  {
   "cell_type": "code",
   "execution_count": null,
   "metadata": {
    "scrolled": true
   },
   "outputs": [],
   "source": [
    "#just to see better the column's values, moore detail on heading of the table is the previous chapter\n",
    "display(HTML(tabulate.tabulate(rules.sort_values(\"support\", ascending=False), tablefmt='html')))"
   ]
  },
  {
   "cell_type": "markdown",
   "metadata": {},
   "source": [
    "When we display the rules outputed by the support metric filter, we can see that \n",
    "the most associated field are ansewrs 'MH_Conditions_MedicalProf_Others' when had also been answered 'MH_Present_Conditions_Others'."
   ]
  },
  {
   "cell_type": "markdown",
   "metadata": {},
   "source": [
    "Then we analyze the Confidence output and compare with Support outputed rules."
   ]
  },
  {
   "cell_type": "code",
   "execution_count": null,
   "metadata": {},
   "outputs": [],
   "source": [
    "display(HTML(tabulate.tabulate(rules.sort_values(\"confidence\", ascending=False), tablefmt='html')))"
   ]
  },
  {
   "cell_type": "markdown",
   "metadata": {},
   "source": [
    "When analyzing association between values using confidence, that is the metric that quantifies the probability of a value to occur given that other has occur as well, we see that:\n",
    "\n",
    "Having been diagnosed with Mental Health Disorders by a doctor with 'Others' patologies are highly associated with \n",
    "'MH_Present_Conditions_Others', 'MH_Maybe_Present_Conditions_Others', 'Work_Role_Position_technical'. This means that it was calculated the number of times a person respondend having a others patology in the present moment (consequent), diagnosed by a doctor, given that he had responded that he has still Others patologies in the present, or that Maybe he still has them, and that he is a Thecnical worker.\n",
    "\n",
    "So the first rule that confidence outputs is different from the one given by support, and it dependes on the type of analysis\n",
    "that one wants to perform on the data that will be used either to create rules or be fead into another algorithms."
   ]
  },
  {
   "cell_type": "markdown",
   "metadata": {},
   "source": [
    "Here we are goin to analyze Lift next. Is an important measure because it indicates the probability of an\n",
    "consequent to occur given it's probability to occur with a antecedent."
   ]
  },
  {
   "cell_type": "code",
   "execution_count": null,
   "metadata": {},
   "outputs": [],
   "source": [
    "display(HTML(tabulate.tabulate(rules.sort_values(\"lift\", ascending=False), tablefmt='html')))"
   ]
  },
  {
   "cell_type": "markdown",
   "metadata": {},
   "source": [
    "The lift output allows us to see if actualy the probability observed by confidence and support\n",
    "are in line with the probability of the consequent to happen.\n",
    "\n",
    "The probability of having ('MH_Present_Conditions_Others','MH_Maybe_Present_Conditions_Others') given that it was also  \n",
    "('Self-Employed_0', 'MH_Conditions_MedicalProf_Others') is given by the confidence of this case which is 93%.\n",
    "Howver what is the probability of acctualy ('MH_Present_Conditions_Others','MH_Maybe_Present_Conditions_Others') to occur?\n",
    "This is given by the support, and we can see that is 72%.\n",
    "This means that in fact, ('Self-Employed_0', 'MH_Conditions_MedicalProf_Others') occuring translates in an increase of\n",
    "around 20% for ('MH_Present_Conditions_Others','MH_Maybe_Present_Conditions_Others') to occur.\n",
    "\n",
    "This measure is what lift indicates when has values greater than 1. \n"
   ]
  },
  {
   "cell_type": "markdown",
   "metadata": {},
   "source": [
    "When analyzing the three different metrics (suport, confidence and lift) we also are able to see that the leverage is low. \n",
    "What this means is that while lift calculates de racio (support(A→C)/(coverage(A)*coverage(C))) \n",
    "leverage calculates its difference (support(A→C)-(coverage(A)*coverage(C))). \n",
    "\n",
    "We can see that lift is less sensible to the size of the sample, and so it classifies less frequent items,\n",
    "where coverage is more sensible to more frequent items. \n",
    "\n",
    "In our sample, leverage is always very low, since we do have very low statistics in our combination of items.\n",
    "\n",
    "A graphical representation is provided by the scatter plot about this conclusion."
   ]
  },
  {
   "cell_type": "code",
   "execution_count": null,
   "metadata": {},
   "outputs": [],
   "source": [
    "support=rules.as_matrix(columns=['lift'])\n",
    "confidence=rules.as_matrix(columns=['leverage'])\n",
    "\n",
    "plt.scatter(support, confidence,  alpha=0.5, marker=\"*\")\n",
    "plt.xlabel('lift')\n",
    "plt.ylabel('leverage') \n",
    "plt.show()"
   ]
  },
  {
   "cell_type": "markdown",
   "metadata": {},
   "source": [
    "When we analyze conviction (that measure the independece of the variables) \n",
    "setting the threshold to 0 in  order to create a scatter plot with lift,\n",
    "we see that in the cases that we studied\n",
    "there is dependece between the data, given by high convition values(higher then 1 for most cases) \n",
    "and so we are able to confide in this set of rules thet were outputed.\n"
   ]
  },
  {
   "cell_type": "code",
   "execution_count": null,
   "metadata": {},
   "outputs": [],
   "source": [
    "support=rules.as_matrix(columns=['conviction'])\n",
    "confidence=rules.as_matrix(columns=['lift'])\n",
    "\n",
    "plt.scatter(support, confidence,  alpha=0.5, marker=\"*\")\n",
    "plt.xlabel('conviction')\n",
    "plt.ylabel('lift') \n",
    "plt.show()"
   ]
  },
  {
   "cell_type": "markdown",
   "metadata": {},
   "source": [
    "This scatter plot allow us to see that for the majority of the data that has a high lift, \n",
    "there is dependence between the data."
   ]
  },
  {
   "cell_type": "markdown",
   "metadata": {},
   "source": [
    "## 2.4. Preprocess Data for Clustering"
   ]
  },
  {
   "cell_type": "markdown",
   "metadata": {},
   "source": [
    "First Cluster Data Set to be tested consists of some feature variables and if they were combined with having mental illness or not."
   ]
  },
  {
   "cell_type": "code",
   "execution_count": null,
   "metadata": {},
   "outputs": [],
   "source": [
    "df_to_rule4 = df_mhU[['Self-Employed','Work_Role_Position','Age_Bined','Gender','Country_Work']]\n",
    "df_medical_out = df_mhU[['MH_Diagnosed_MedicalProf']]\n",
    "df_to_rule_BIN4 = pd.get_dummies(df_to_rule4)\n",
    "df_medical = pd.concat([MH_CondProf_bin, MH_CondPres_bin, MH_CondMaybePres_bin], axis=1)\n",
    "df_to_ssoc7 = pd.concat([df_to_rule_BIN4,df_medical], axis=1)\n",
    "df_to_ssoc5 = pd.concat([df_to_ssoc7,df_medical_out], axis=1)\n",
    "\n"
   ]
  },
  {
   "cell_type": "code",
   "execution_count": null,
   "metadata": {},
   "outputs": [],
   "source": [
    "df_to_ssoc5 = df_to_ssoc5.dropna()\n"
   ]
  },
  {
   "cell_type": "code",
   "execution_count": null,
   "metadata": {},
   "outputs": [],
   "source": [
    "# first of data\n",
    "\n",
    "df_clusters_bin1 = df_to_ssoc5\n",
    "\n",
    "X_bin1 = df_clusters_bin1[df_clusters_bin1.columns.difference(['MH_Diagnosed_MedicalProf'])]\n",
    "Y_bin1 = df_clusters_bin1['MH_Diagnosed_MedicalProf']\n",
    "\n",
    "#second set of data\n",
    "df_clusters  = df_to_ssoc5[df_to_ssoc5.columns.difference(['Age_Bined_(14, 20]', 'Age_Bined_(20, 25]', 'Age_Bined_(25, 30]', 'Age_Bined_(30, 35]', \n",
    "                                                           'Age_Bined_(35, 40]', 'Age_Bined_(40, 45]', 'Age_Bined_(45, 50]', \n",
    "                                                           'Age_Bined_(50, 55]', 'Age_Bined_(55, 60]', 'Age_Bined_(60, 65]', 'Age_Bined_(65, 101]'])]\n",
    "df_clusters1 = pd.concat([df_clusters,df_mh[['Age']]], axis=1)\n",
    "\n",
    "col_clusters = df_clusters1.columns\n",
    "\n",
    "df_clusters1 = df_clusters1.dropna()\n",
    "X = df_clusters1[df_clusters1.columns.difference(['MH_Diagnosed_MedicalProf'])]\n",
    "Y = df_clusters1['MH_Diagnosed_MedicalProf']\n",
    "\n"
   ]
  },
  {
   "cell_type": "markdown",
   "metadata": {},
   "source": [
    "### Elbow Method"
   ]
  },
  {
   "cell_type": "markdown",
   "metadata": {},
   "source": [
    "The Elbow method represents the total intra-cluster variance,\n",
    "and varying the number of clusters added, it's calculated the total variance again.\n",
    "The goal is to see in the plot that altough adding more clusters,\n",
    "not much variance is changed (lowered).\n",
    "\n"
   ]
  },
  {
   "cell_type": "markdown",
   "metadata": {},
   "source": [
    "For Bined Age"
   ]
  },
  {
   "cell_type": "code",
   "execution_count": null,
   "metadata": {},
   "outputs": [],
   "source": [
    "from sklearn import metrics\n",
    "from scipy.spatial.distance import cdist, pdist"
   ]
  },
  {
   "cell_type": "code",
   "execution_count": null,
   "metadata": {},
   "outputs": [],
   "source": [
    "K = range(1,21)\n",
    "KM = [KMeans(n_clusters=k).fit(X_bin1) for k in K]\n",
    "centroids = [k.cluster_centers_ for k in KM]\n",
    "\n",
    "D_k = [cdist(X_bin1, cent, 'euclidean') for cent in centroids]\n",
    "cIdx = [np.argmin(D,axis=1) for D in D_k]\n",
    "dist = [np.min(D,axis=1) for D in D_k]\n",
    "avgWithinSS = [sum(d)/X_bin1.shape[0] for d in dist]"
   ]
  },
  {
   "cell_type": "code",
   "execution_count": null,
   "metadata": {},
   "outputs": [],
   "source": [
    "# Total with-in sum of square\n",
    "wcss = [sum(d**2) for d in dist]\n",
    "tss = sum(pdist(X_bin1)**2)/X_bin1.shape[0]\n",
    "bss = tss-wcss\n",
    "\n",
    "fig = plt.figure()\n",
    "ax = fig.add_subplot(111)\n",
    "axes = plt.gca()\n",
    "axes.set_xlim([0,20])\n",
    "axes.set_ylim([0,100])\n",
    "ax.plot(K, bss/tss*100, 'b*-')\n",
    "plt.grid(True)\n",
    "plt.xlabel('Number of clusters')\n",
    "plt.ylabel('Percentage of variance explained')\n",
    "plt.title('Elbow for KMeans clustering')\n",
    "plt.show()"
   ]
  },
  {
   "cell_type": "markdown",
   "metadata": {},
   "source": [
    "We can see here that the features we are trying to aggregate using k-means as the\n",
    "cluster algorithm (Euclidean distance) are not very explicative of the data\n",
    "since we are having an explained variance lower than 50% until the limit of cluster we set (20)."
   ]
  },
  {
   "cell_type": "markdown",
   "metadata": {},
   "source": [
    "Let's try the same approach for the set of features that don't have age in bins."
   ]
  },
  {
   "cell_type": "code",
   "execution_count": null,
   "metadata": {},
   "outputs": [],
   "source": [
    "K = range(1,21)\n",
    "KM = [KMeans(n_clusters=k).fit(X) for k in K]\n",
    "centroids = [k.cluster_centers_ for k in KM]\n",
    "\n",
    "D_k = [cdist(X, cent, 'euclidean') for cent in centroids]\n",
    "cIdx = [np.argmin(D,axis=1) for D in D_k]\n",
    "dist = [np.min(D,axis=1) for D in D_k]\n",
    "avgWithinSS = [sum(d)/X.shape[0] for d in dist]\n",
    "\n",
    "\n"
   ]
  },
  {
   "cell_type": "code",
   "execution_count": null,
   "metadata": {},
   "outputs": [],
   "source": [
    "# Total with-in sum of square\n",
    "wcss = [sum(d**2) for d in dist]\n",
    "tss = sum(pdist(X)**2)/X.shape[0]\n",
    "bss = tss-wcss\n",
    "\n",
    "fig = plt.figure()\n",
    "ax = fig.add_subplot(111)\n",
    "axes = plt.gca()\n",
    "axes.set_xlim([0,20])\n",
    "axes.set_ylim([0,100])\n",
    "ax.plot(K, bss/tss*100, 'b*-')\n",
    "plt.grid(True)\n",
    "plt.xlabel('Number of clusters')\n",
    "plt.ylabel('Percentage of variance explained')\n",
    "plt.title('Elbow for KMeans clustering')\n",
    "plt.show()"
   ]
  },
  {
   "cell_type": "markdown",
   "metadata": {},
   "source": [
    "This is a much better result.\n",
    "It seems that Age as it is (an int) helps to seggregate the data in better ways.\n"
   ]
  },
  {
   "cell_type": "markdown",
   "metadata": {},
   "source": [
    "#### Silhoutte Score"
   ]
  },
  {
   "cell_type": "markdown",
   "metadata": {},
   "source": [
    "Silouette determines how well each object lies within its cluster. \n",
    "A high average silhouette width indicates a good clustering, because it means the object\n",
    "being measured is closer to the cluster he was labeled uppon than all the other clusters around it.\n"
   ]
  },
  {
   "cell_type": "code",
   "execution_count": null,
   "metadata": {},
   "outputs": [],
   "source": [
    "from sklearn.metrics import silhouette_samples, silhouette_score\n"
   ]
  },
  {
   "cell_type": "code",
   "execution_count": null,
   "metadata": {},
   "outputs": [],
   "source": [
    "range_n_clusters = list(range(2,21))\n",
    "\n",
    "\n",
    "for n_clusters in range_n_clusters: \n",
    "    clusterer = KMeans(n_clusters=n_clusters).fit(X_bin1)\n",
    "    preds = clusterer.predict(X_bin1)\n",
    "    centers = clusterer.cluster_centers_\n",
    "\n",
    "    score = silhouette_score(X_bin1, preds, metric='euclidean')\n",
    "    print(\"For n_clusters = {}, silhouette score is : {})\".format(n_clusters, score))"
   ]
  },
  {
   "cell_type": "markdown",
   "metadata": {},
   "source": [
    "Once again, silhouette also showes that the data choosen does not explain well our data,\n",
    "when having Age in bins."
   ]
  },
  {
   "cell_type": "code",
   "execution_count": null,
   "metadata": {},
   "outputs": [],
   "source": [
    "range_n_clusters = list(range(2,21))\n",
    "\n",
    "\n",
    "for n_clusters in range_n_clusters: \n",
    "    clusterer = KMeans(n_clusters=n_clusters).fit(X)\n",
    "    preds = clusterer.predict(X)\n",
    "    centers = clusterer.cluster_centers_\n",
    "\n",
    "    score = silhouette_score(X, preds, metric='euclidean')\n",
    "    print(\"For n_clusters = {}, silhouette score is : {})\".format(n_clusters, score))"
   ]
  },
  {
   "cell_type": "markdown",
   "metadata": {},
   "source": [
    "However, like the results presented by elbow, when we consider Age as it is, the \n",
    "data seems to be better explained.\n",
    "Two is the number of clusters that etter explain our dataset, but since our dataset \n",
    "has more than 2 mental disorders we will increase the number of clusters and understand what they say."
   ]
  },
  {
   "cell_type": "markdown",
   "metadata": {},
   "source": [
    "## 2.6. Clustering - Results and Discussion "
   ]
  },
  {
   "cell_type": "markdown",
   "metadata": {},
   "source": [
    "#### K- Means"
   ]
  },
  {
   "cell_type": "markdown",
   "metadata": {},
   "source": [
    "When analyzing the dataset select for feeding the clusters with statistical techniques like elbow and silhouette\n",
    "it was possible to see that the idea of binning Age did not go well, and the cluster explain very few of the data."
   ]
  },
  {
   "cell_type": "markdown",
   "metadata": {},
   "source": [
    "In this analysis we will try to  understand if the features fead into k-means will \n",
    "be able to separate the cases identified as having mental health issues by a professional from the others."
   ]
  },
  {
   "cell_type": "code",
   "execution_count": null,
   "metadata": {},
   "outputs": [],
   "source": [
    "df_clusters1 = pd.concat([df_clusters,df_mh[['Age']]], axis=1)\n",
    "\n",
    "df_clusters1 = df_clusters1.dropna()\n",
    "X = df_clusters1[df_clusters1.columns.difference(['MH_Diagnosed_MedicalProf'])]\n",
    "Y = df_clusters1['MH_Diagnosed_MedicalProf']\n"
   ]
  },
  {
   "cell_type": "code",
   "execution_count": null,
   "metadata": {},
   "outputs": [],
   "source": [
    "n_clusters = 3\n",
    "\n",
    "kmeans = KMeans(n_clusters=n_clusters).fit(X)"
   ]
  },
  {
   "cell_type": "code",
   "execution_count": null,
   "metadata": {},
   "outputs": [],
   "source": [
    "df_clusters1['clusters'] = clusterer.labels_"
   ]
  },
  {
   "cell_type": "code",
   "execution_count": null,
   "metadata": {},
   "outputs": [],
   "source": [
    "df_clusters1['clusters'].value_counts()"
   ]
  },
  {
   "cell_type": "code",
   "execution_count": null,
   "metadata": {},
   "outputs": [],
   "source": [
    "from matplotlib import cm as cm\n",
    "series = df_clusters1['clusters'].value_counts()\n",
    "colors = cm.viridis(np.linspace(0, 1, 9))\n",
    "series.plot(kind='bar', title='Numero de Cluster', color = colors)"
   ]
  },
  {
   "cell_type": "markdown",
   "metadata": {},
   "source": [
    "Here we can see that when we were selecting only two clusters the algorithm gave preference to \n",
    "put 1 and 0 together and 2 as being the outlier. \n",
    "And so in order to identify if the person has mential illness \n",
    "we run k-means with 3 clusters."
   ]
  },
  {
   "cell_type": "code",
   "execution_count": null,
   "metadata": {},
   "outputs": [],
   "source": [
    "df_clusters1.groupby(['MH_Diagnosed_MedicalProf','clusters'])[['MH_Diagnosed_MedicalProf']].count()"
   ]
  },
  {
   "cell_type": "markdown",
   "metadata": {},
   "source": [
    "Here we can see that cluster number 1 was able to identify two times more cases of mental illness than \n",
    "cluster 0."
   ]
  },
  {
   "cell_type": "markdown",
   "metadata": {},
   "source": [
    "In order to have a spacial visualization about the clusters we will represent them\n",
    "in their principal components in 2 Dimensions and 3 Dimensions."
   ]
  },
  {
   "cell_type": "code",
   "execution_count": null,
   "metadata": {},
   "outputs": [],
   "source": [
    "################################################### Para representar clusters\n",
    "\n",
    "from sklearn.decomposition import PCA\n",
    "\n",
    "pca = PCA(n_components=2).fit(X)\n",
    "ver_pca = pca.components_\n",
    "\n",
    "\n",
    "pca_d = pd.DataFrame(pca.transform(X), columns=['PCA%i' % i for i in range(2)], index=X.index)\n",
    "scat= plt.scatter(pca_d['PCA0'],pca_d['PCA1'], c = kmeans.labels_ )\n",
    "bounds = np.linspace(0,9,9+1)\n",
    "cb = plt.colorbar(scat, spacing='proportional',ticks=bounds)\n",
    "cb.set_label('Custom cbar')\n",
    "plt.show()\n",
    "\n",
    "############################################################################\n",
    "\n"
   ]
  },
  {
   "cell_type": "markdown",
   "metadata": {},
   "source": [
    "Here is exposed the point belonging to cluster number 2 as being very far away from the other points."
   ]
  },
  {
   "cell_type": "code",
   "execution_count": null,
   "metadata": {},
   "outputs": [],
   "source": [
    "\n",
    "#REPRESENTAçÃO GRÀFICA 3 PCA do SET de Dados com base nos clusters identifcados\n",
    "\n",
    "from sklearn.decomposition import PCA\n",
    "from mpl_toolkits.mplot3d import Axes3D\n",
    "\n",
    "pca = PCA(n_components=3).fit(X)\n",
    "ver_pca = pca.components_\n",
    "\n",
    "fig = plt.figure()\n",
    "ax = Axes3D(fig)\n",
    "\n",
    "\n",
    "pca_d = pd.DataFrame(pca.transform(X), columns=['PCA%i' % i for i in range(3)], index=X.index)\n",
    "ax.scatter(pca_d['PCA0'],pca_d['PCA1'],pca_d['PCA2'], c = kmeans.labels_  )\n",
    "bounds = np.linspace(-10,100,110+1)\n",
    "cb = plt.colorbar(scat, spacing='proportional',ticks=bounds,shrink=0.8 )\n",
    "cb.set_label('Clusters')\n",
    "plt.show()\n",
    "\n",
    "############################################################################"
   ]
  },
  {
   "cell_type": "markdown",
   "metadata": {},
   "source": [
    "We are also able to see that cluster 1 and 2 are to close to each other. This being said, even thought one cluster \n",
    "was explaining mental illness better than the other, it's not quite\n",
    "suficient to explain this data with the variables being used , that were choosen\n",
    "with help from the correlation plot used for association rules ( in the data analysis chapter)."
   ]
  },
  {
   "cell_type": "code",
   "execution_count": null,
   "metadata": {
    "scrolled": false
   },
   "outputs": [],
   "source": [
    "df_clusters1.groupby('clusters').hist(figsize=(18,18))"
   ]
  },
  {
   "cell_type": "markdown",
   "metadata": {},
   "source": [
    "We represented the histograms of the data belonging to each three clusters, in order to understand \n",
    "what were the distinct values between the clusters.\n",
    "\n",
    "Cluster number 2 is being far away from the other 2 mainly due to belonging to gender - nonbinary,\n",
    "not being country_work_canada,since the other values are mainly set to be in the average. \n",
    "\n",
    "The Cluster 1 , the one who identifies best mental illness, identifies age as shifting to younger side of the distibution, having a peak at around 35.\n",
    "\n",
    "The Cluster 0, that identifies half of mental illness cases then cluster 1, has more cases of of older people, shifting to a peak ate around 40 years old.\n",
    "\n",
    "The mental illnesses are equally distributed in terms of occurences and fractions of occurences between the two main clusters.\n"
   ]
  },
  {
   "cell_type": "markdown",
   "metadata": {},
   "source": [
    "####  Agglomerative Clustering."
   ]
  },
  {
   "cell_type": "markdown",
   "metadata": {},
   "source": [
    "Agglomerative does not require the user to specify the number of clusters. \n",
    "\n",
    "Initially, each point is considered as a separate cluster, then it recursively clusters the points together depending upon the distance between them. \n",
    "\n",
    "The points are clustered in such a way that the distance between points within a cluster is minimum and distance between the cluster is maximum. \n",
    "\n",
    "Unlike k-means clustering, it is \"bottom-up\" approach."
   ]
  },
  {
   "cell_type": "code",
   "execution_count": null,
   "metadata": {},
   "outputs": [],
   "source": [
    "from sklearn.cluster import AgglomerativeClustering\n",
    "\n",
    "hca = AgglomerativeClustering(linkage =\"average\", n_clusters=3)\n",
    "hca"
   ]
  },
  {
   "cell_type": "markdown",
   "metadata": {},
   "source": [
    "We had to iniciate the cluster with 3 because it happened the same as in k-means and it \n",
    "identified 2 clusters one being the outlier (cluster 2)."
   ]
  },
  {
   "cell_type": "code",
   "execution_count": null,
   "metadata": {},
   "outputs": [],
   "source": [
    "df_cluster_A = pd.concat([df_clusters,df_mh[['Age']]], axis=1)\n",
    "df_cluster_A = df_cluster_A.dropna()\n"
   ]
  },
  {
   "cell_type": "code",
   "execution_count": null,
   "metadata": {},
   "outputs": [],
   "source": [
    "X_A = df_cluster_A[df_cluster_A.columns.difference(['MH_Diagnosed_MedicalProf'])]\n",
    "Y_A = df_cluster_A['MH_Diagnosed_MedicalProf']"
   ]
  },
  {
   "cell_type": "code",
   "execution_count": null,
   "metadata": {},
   "outputs": [],
   "source": [
    "X_A.columns"
   ]
  },
  {
   "cell_type": "code",
   "execution_count": null,
   "metadata": {},
   "outputs": [],
   "source": [
    "hca_A = hca.fit(X_A)"
   ]
  },
  {
   "cell_type": "code",
   "execution_count": null,
   "metadata": {},
   "outputs": [],
   "source": [
    "df_cluster_A['clusters'] = hca_A.labels_"
   ]
  },
  {
   "cell_type": "code",
   "execution_count": null,
   "metadata": {},
   "outputs": [],
   "source": [
    "df_cluster_A.groupby(['MH_Diagnosed_MedicalProf','clusters'])[['MH_Diagnosed_MedicalProf']].count()"
   ]
  },
  {
   "cell_type": "markdown",
   "metadata": {},
   "source": [
    "We can see that Agglomerative Clustering found the data more homogeneous than k-means, maybe because it's not to sensible about \n",
    "age and features that cause the shift of clusters like in k-means."
   ]
  },
  {
   "cell_type": "code",
   "execution_count": null,
   "metadata": {},
   "outputs": [],
   "source": [
    "################################################### Para representar clusters\n",
    "\n",
    "from sklearn.decomposition import PCA\n",
    "\n",
    "pca = PCA(n_components=2).fit(X_binA)\n",
    "ver_pca = pca.components_\n",
    "\n",
    "\n",
    "pca_d = pd.DataFrame(pca.transform(X_binA), columns=['PCA%i' % i for i in range(2)], index=X_binA.index)\n",
    "scat= plt.scatter(pca_d['PCA0'],pca_d['PCA1'], c = kmeans.labels_ )\n",
    "bounds = np.linspace(0,9,9+1)\n",
    "cb = plt.colorbar(scat, spacing='proportional',ticks=bounds)\n",
    "cb.set_label('Custom cbar')\n",
    "plt.show()\n",
    "\n",
    "############################################################################"
   ]
  },
  {
   "cell_type": "code",
   "execution_count": null,
   "metadata": {},
   "outputs": [],
   "source": [
    "#REPRESENTAçÃO GRÀFICA 3 PCA do SET de Dados com base nos clusters identifcados\n",
    "\n",
    "from sklearn.decomposition import PCA\n",
    "from mpl_toolkits.mplot3d import Axes3D\n",
    "\n",
    "pca = PCA(n_components=3).fit(X_binA)\n",
    "ver_pca = pca.components_\n",
    "\n",
    "fig = plt.figure()\n",
    "ax = Axes3D(fig)\n",
    "\n",
    "pca_d = pd.DataFrame(pca.transform(X_binA), columns=['PCA%i' % i for i in range(3)], index=X_binA.index)\n",
    "ax.scatter(pca_d['PCA0'],pca_d['PCA1'],pca_d['PCA2'], c = kmeans.labels_  )\n",
    "bounds = np.linspace(-10,100,110+1)\n",
    "cb = plt.colorbar(scat, spacing='proportional',ticks=bounds,shrink=0.8 )\n",
    "cb.set_label('Clusters')\n",
    "plt.show()\n",
    "\n",
    "############################################################################"
   ]
  },
  {
   "cell_type": "code",
   "execution_count": null,
   "metadata": {},
   "outputs": [],
   "source": []
  },
  {
   "cell_type": "markdown",
   "metadata": {},
   "source": [
    "We can conclude that k-means is more sensible to knowing data apriori, since if we didn't \n",
    "analyze data thru descriptive techiniques, we would be induced by only two clusters \n",
    "when we wanted to understand information regarding mental illness.\n",
    "\n",
    "In the other hand, hierarquical clustering has moore freedom understanding the data (not so sensible to centroids as k-means)\n",
    "not needing the initial number of clusters to be defined.\n",
    "However it needs data that is represented by dense regions in space and not sparse data like we have.\n",
    "\n",
    "\n",
    " "
   ]
  },
  {
   "cell_type": "markdown",
   "metadata": {},
   "source": [
    "## Analyzing only Medical Conditions Features"
   ]
  },
  {
   "cell_type": "code",
   "execution_count": null,
   "metadata": {},
   "outputs": [],
   "source": [
    "K = range(1,21)\n",
    "KM = [KMeans(n_clusters=k).fit(df_medical) for k in K]\n",
    "centroids = [k.cluster_centers_ for k in KM]\n",
    "\n",
    "D_k = [cdist(df_medical, cent, 'euclidean') for cent in centroids]\n",
    "cIdx = [np.argmin(D,axis=1) for D in D_k]\n",
    "dist = [np.min(D,axis=1) for D in D_k]\n",
    "avgWithinSS = [sum(d)/X.shape[0] for d in dist]\n"
   ]
  },
  {
   "cell_type": "code",
   "execution_count": null,
   "metadata": {},
   "outputs": [],
   "source": [
    "# Total with-in sum of square\n",
    "wcss = [sum(d**2) for d in dist]\n",
    "tss = sum(pdist(df_medical)**2)/df_medical.shape[0]\n",
    "bss = tss-wcss\n",
    "\n",
    "fig = plt.figure()\n",
    "ax = fig.add_subplot(111)\n",
    "axes = plt.gca()\n",
    "axes.set_xlim([0,20])\n",
    "axes.set_ylim([0,100])\n",
    "ax.plot(K, bss/tss*100, 'b*-')\n",
    "plt.grid(True)\n",
    "plt.xlabel('Number of clusters')\n",
    "plt.ylabel('Percentage of variance explained')\n",
    "plt.title('Elbow for KMeans clustering')\n",
    "plt.show()\n"
   ]
  },
  {
   "cell_type": "markdown",
   "metadata": {},
   "source": [
    "So 5 are the number of clusters that are able to explain all the medical conditions reported by the indiciduals."
   ]
  },
  {
   "cell_type": "code",
   "execution_count": null,
   "metadata": {},
   "outputs": [],
   "source": [
    "range_n_clusters = list(range(2,21))\n",
    "\n",
    "\n",
    "for n_clusters in range_n_clusters: \n",
    "    clusterer = KMeans(n_clusters=n_clusters).fit(df_medical)\n",
    "    preds = clusterer.predict(df_medical)\n",
    "    centers = clusterer.cluster_centers_\n",
    "\n",
    "    score = silhouette_score(df_medical, preds, metric='euclidean')\n",
    "    print(\"For n_clusters = {}, silhouette score is : {})\".format(n_clusters, score))"
   ]
  },
  {
   "cell_type": "markdown",
   "metadata": {},
   "source": [
    "The same result as in elbow."
   ]
  },
  {
   "cell_type": "code",
   "execution_count": null,
   "metadata": {},
   "outputs": [],
   "source": [
    "################################################### Para representar clusters\n",
    "\n",
    "from sklearn.decomposition import PCA\n",
    "\n",
    "pca = PCA(n_components=2).fit(df_medical)\n",
    "ver_pca = pca.components_\n",
    "\n",
    "\n",
    "pca_d = pd.DataFrame(pca.transform(df_medical), columns=['PCA%i' % i for i in range(2)], index=df_medical.index)\n",
    "scat= plt.scatter(pca_d['PCA0'],pca_d['PCA1'], c = kmeans.labels_ )\n",
    "bounds = np.linspace(0,9,9+1)\n",
    "cb = plt.colorbar(scat, spacing='proportional',ticks=bounds)\n",
    "cb.set_label('Custom cbar')\n",
    "plt.show()\n",
    "\n",
    "############################################################################"
   ]
  },
  {
   "cell_type": "code",
   "execution_count": null,
   "metadata": {},
   "outputs": [],
   "source": [
    "#REPRESENTAçÃO GRÀFICA 3 PCA do SET de Dados com base nos clusters identifcados\n",
    "\n",
    "from sklearn.decomposition import PCA\n",
    "from mpl_toolkits.mplot3d import Axes3D\n",
    "\n",
    "pca = PCA(n_components=3).fit(df_medical)\n",
    "ver_pca = pca.components_\n",
    "\n",
    "fig = plt.figure()\n",
    "ax = Axes3D(fig)\n",
    "\n",
    "pca_d = pd.DataFrame(pca.transform(df_medical), columns=['PCA%i' % i for i in range(3)], index=df_medical.index)\n",
    "ax.scatter(pca_d['PCA0'],pca_d['PCA1'],pca_d['PCA2'], c = kmeans.labels_  )\n",
    "bounds = np.linspace(-10,100,110+1)\n",
    "cb = plt.colorbar(scat, spacing='proportional',ticks=bounds,shrink=0.8 )\n",
    "cb.set_label('Clusters')\n",
    "plt.show()\n",
    "\n",
    "############################################################################"
   ]
  },
  {
   "cell_type": "code",
   "execution_count": null,
   "metadata": {},
   "outputs": [],
   "source": [
    "kmeans = KMeans(n_clusters=5).fit(df_medical)\n",
    "df_medical['clusters'] =kmeans.labels_\n",
    "\n"
   ]
  },
  {
   "cell_type": "code",
   "execution_count": null,
   "metadata": {},
   "outputs": [],
   "source": [
    "for i in df_medical.columns:\n",
    "    print(df_medical.groupby(['clusters'])[[i]].count())"
   ]
  },
  {
   "cell_type": "markdown",
   "metadata": {},
   "source": [
    "We can observe that 5 clusters seem to segregate well the occurence of mental illness problems on our dataset because it is doing so by their frequency."
   ]
  },
  {
   "cell_type": "markdown",
   "metadata": {},
   "source": [
    "## 3. Final Comments and Conclusions"
   ]
  },
  {
   "cell_type": "markdown",
   "metadata": {},
   "source": [
    "The studies made in this report are limited in part by the many features we had to analyze mental illness problems:\n",
    "\n",
    "- many individual's have non-binary gender, and many discriptions were aggregated into this one;\n",
    "- There is also, we believe, biased sample that was performing this inquiries, since the majority of the individual's had some \n",
    "mental illness, or has had in the past, and it was a very well balanced data;\n",
    "- The amount of mental health desciption in termos of descriptive sample was a low ratio that would allow us\n",
    "to fully understand patterns in the sample population between different patologies;\n",
    "- The distribution of ages that responded belonged to people between 25 to 35 years old, so analysis by age would be always \n",
    "biased;\n",
    "- The population in analysis was mainly from the USA so discriptive analysis by country also proved to be biased.\n",
    "\n",
    "Some of the statistics that allow us to make this inference are presented by the crosstabs bellow."
   ]
  },
  {
   "cell_type": "code",
   "execution_count": null,
   "metadata": {},
   "outputs": [],
   "source": [
    "pd.crosstab(df_mhU['MH_Diagnosed_MedicalProf'],df_mhU['Country_Live'])\n"
   ]
  },
  {
   "cell_type": "code",
   "execution_count": null,
   "metadata": {},
   "outputs": [],
   "source": [
    "pd.crosstab(df_mhU['MH_Diagnosed_MedicalProf'],df_mhU['Age_Bined']) \n"
   ]
  },
  {
   "cell_type": "code",
   "execution_count": null,
   "metadata": {},
   "outputs": [],
   "source": [
    "pd.crosstab(df_mhU['MH_Diagnosed_MedicalProf'],df_mhU['Gender'])"
   ]
  },
  {
   "cell_type": "markdown",
   "metadata": {},
   "source": [
    "Because of the amount of data and few discriptive characteristics about individuals, in terms of Unsupervised LEarning approaches,\n",
    "we find that Assocition Rules are more appropriate in order to understand the data easily and in a clearer way than clusters."
   ]
  }
 ],
 "metadata": {
  "kernelspec": {
   "display_name": "Python 3",
   "language": "python",
   "name": "python3"
  },
  "language_info": {
   "codemirror_mode": {
    "name": "ipython",
    "version": 3
   },
   "file_extension": ".py",
   "mimetype": "text/x-python",
   "name": "python",
   "nbconvert_exporter": "python",
   "pygments_lexer": "ipython3",
   "version": "3.6.5"
  }
 },
 "nbformat": 4,
 "nbformat_minor": 2
}
